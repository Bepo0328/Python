{
 "cells": [
  {
   "cell_type": "markdown",
   "id": "dcf32a12",
   "metadata": {},
   "source": [
    "## 대표적인 정렬 5: 퀵 정렬 (Quick Sort)"
   ]
  },
  {
   "cell_type": "markdown",
   "id": "c467ab5e",
   "metadata": {},
   "source": [
    "### 1. 퀵 정렬 (Quick Sort) 란?\n",
    "- <font color=\"#BF360C\">정렬 알고리즘의 꽃</font>\n",
    "- 기준점(pviot  이라고 부름)을 정해서, 기준점보다 작은 데이터는 왼쪽(left), 큰 데이터는 오른쪽(right) 으로 모으는 함수를 작성함\n",
    "- 각 왼쪽(left), 오른쪽(right)는 재귀용법을 사용해서 다시 동일 함수를 호출하여 위 작업을 반복함\n",
    "- 함수는 왼쪽(left) + 기준점(pivot) + 오른쪽(right) 을 리턴함"
   ]
  },
  {
   "cell_type": "markdown",
   "id": "e7048dc8",
   "metadata": {},
   "source": [
    "### 2. 어떻게 코드로 만들까?\n",
    "\n",
    "> 퀵소트 알고리즘에 대해서는 위에서 언급이 되었으므로, 이를 구현하기 위한 세부 코드에 대해 연습을 통해 이해합니다."
   ]
  },
  {
   "cell_type": "markdown",
   "id": "d2a3fff1",
   "metadata": {},
   "source": [
    "<div class=\"alert alert-block alert-warning\">\n",
    "  <strong><font color=\"blue\" size=\"5em\">프로그래밍 연습</font></strong><br><br>\n",
    "    \n",
    "  다음 리스트를 리스트 슬라이싱(예 [:2])을 이용해서 세 개로 짤라서 각 리스트 변수에 넣고 출력해보기\n",
    "</div>\n",
    "<pre>\n",
    "data_list = [1, 2, 3, 4, 5]\n",
    "출력:\n",
    "print(data1)\n",
    "print(data2)\n",
    "print(data3)\n",
    "[1, 2]\n",
    "3\n",
    "[4, 5]\n",
    "</pre>"
   ]
  },
  {
   "cell_type": "markdown",
   "id": "9864dc38",
   "metadata": {},
   "source": [
    "#### 나의 풀이"
   ]
  },
  {
   "cell_type": "code",
   "execution_count": 3,
   "id": "13da8ec9",
   "metadata": {},
   "outputs": [
    {
     "name": "stdout",
     "output_type": "stream",
     "text": [
      "[1, 2]\n",
      "3\n",
      "[4, 5]\n"
     ]
    }
   ],
   "source": [
    "data_list = [1, 2, 3, 4, 5]\n",
    "print(data_list[:2])\n",
    "print(data_list[2])\n",
    "print(data_list[3:])"
   ]
  },
  {
   "cell_type": "markdown",
   "id": "2b931a91",
   "metadata": {},
   "source": [
    "<div class=\"alert alert-block alert-warning\">\n",
    "  <strong><font color=\"blue\" size=\"5em\">프로그래밍 연습</font></strong><br><br>\n",
    "    \n",
    "  다음 리스를 맨 앞에 데이터를 기준으로 작은 데이터는 left 변수에, 그렇지 않은 데이터는 right 변수에 넣기\n",
    "</div>\n",
    "<pre>\n",
    "data_list = [4, 1, 2, 5, 7]\n",
    "</pre>"
   ]
  },
  {
   "cell_type": "markdown",
   "id": "b8113756",
   "metadata": {},
   "source": [
    "#### 나의 풀이"
   ]
  },
  {
   "cell_type": "code",
   "execution_count": 11,
   "id": "4ba68ab3",
   "metadata": {},
   "outputs": [],
   "source": [
    "data_list = [4, 1, 2, 5, 7]\n",
    "left = list()\n",
    "right = list()\n",
    "def quick_sort(data):\n",
    "    for index in range(1, len(data)):\n",
    "        if data[index] < data[0]:\n",
    "            left.append(data[index])\n",
    "        else:\n",
    "            right.append(data[index])"
   ]
  },
  {
   "cell_type": "code",
   "execution_count": 12,
   "id": "0d251184",
   "metadata": {},
   "outputs": [
    {
     "name": "stdout",
     "output_type": "stream",
     "text": [
      "[4, 1, 2, 5, 7]\n",
      "[1, 2]\n",
      "[5, 7]\n"
     ]
    }
   ],
   "source": [
    "quick_sort(data_list)\n",
    "print(data_list)\n",
    "print(left)\n",
    "print(right)"
   ]
  },
  {
   "cell_type": "markdown",
   "id": "43914a78",
   "metadata": {},
   "source": [
    "<div class=\"alert alert-block alert-warning\">\n",
    "  <strong><font color=\"blue\" size=\"5em\">프로그래밍 연습</font></strong><br><br>\n",
    "    \n",
    "  다음 리스트를 맨 앞에 데이터를 pivot 변수에 넣고, pivot 변수 값을 기준으로 작은 데이터는 left 변수에, 그렇지 않은 데이터는 right 변수에 넣기\n",
    "</div>"
   ]
  },
  {
   "cell_type": "markdown",
   "id": "8adc8a7f",
   "metadata": {},
   "source": [
    "<div class=\"alert alert-block alert-warning\">\n",
    "  <strong><font color=\"blue\" size=\"5em\">프로그래밍 연습</font></strong><br><br>\n",
    "    \n",
    "  data_list가 임의 길이일 때 리스트를 맨 앞에서 데이터를 기준으로 작은 데이터는 left 변수에, 그렇지 않은 데이터는 right 변수에 넣기\n",
    "</div>\n",
    "<pre>\n",
    "import random\n",
    "\n",
    "data_list = random.sample(range(100), 10)\n",
    "left = list()\n",
    "right = list()\n",
    "pivot = data_list[0]\n",
    "\n",
    "for index in range(1, ----------):\n",
    "  if data_list[index] < pivot:\n",
    "    left.append(data_list[index])\n",
    "  else:\n",
    "    right.append(data_list[index])\n",
    "</pre>"
   ]
  },
  {
   "cell_type": "markdown",
   "id": "f318e81a",
   "metadata": {},
   "source": [
    "#### 나의 풀이"
   ]
  },
  {
   "cell_type": "code",
   "execution_count": 25,
   "id": "cbe24f9b",
   "metadata": {},
   "outputs": [],
   "source": [
    "import random\n",
    "\n",
    "data_list = random.sample(range(100), 10)\n",
    "left = list()\n",
    "right = list()\n",
    "pivot = data_list[0]"
   ]
  },
  {
   "cell_type": "code",
   "execution_count": 26,
   "id": "8bae6865",
   "metadata": {},
   "outputs": [],
   "source": [
    "def quick_sort(data):\n",
    "    for index in range(1, len(data)):\n",
    "        if data[index] < pivot:\n",
    "            left.append(data[index])\n",
    "        else:\n",
    "            right.append(data[index])"
   ]
  },
  {
   "cell_type": "code",
   "execution_count": 27,
   "id": "d2d3c406",
   "metadata": {},
   "outputs": [
    {
     "name": "stdout",
     "output_type": "stream",
     "text": [
      "[48, 99, 93, 31, 80, 40, 87, 73, 20, 18]\n",
      "[31, 40, 20, 18]\n",
      "[99, 93, 80, 87, 73]\n",
      "48\n"
     ]
    }
   ],
   "source": [
    "quick_sort(data_list)\n",
    "print(data_list)\n",
    "print(left)\n",
    "print(right)\n",
    "print(pivot)"
   ]
  },
  {
   "cell_type": "markdown",
   "id": "4f7eadff",
   "metadata": {},
   "source": [
    "<div class=\"alert alert-block alert-warning\">\n",
    "  <strong><font color=\"blue\" size=\"5em\">프로그래밍 연습</font></strong><br><br>\n",
    "    \n",
    "  data_list가 다음 세 데이터를 가지고 있을 때 리스트를 맨 앞에 데이터를 기준으로 작은 데이터는 left 변수에, 그렇지 않은 데이터는 right 변수에 넣고 left, right, pivot 변수 값을 사용해서 정렬된 데이터 출력해보기\n",
    "</div>\n",
    "<pre>\n",
    "data_list = [4, 3, 2]\n",
    "</pre>"
   ]
  },
  {
   "cell_type": "markdown",
   "id": "9da45f45",
   "metadata": {},
   "source": [
    "#### 나의 풀이"
   ]
  },
  {
   "cell_type": "code",
   "execution_count": 32,
   "id": "bf625f25",
   "metadata": {},
   "outputs": [],
   "source": [
    "data_list = [4, 3, 2]\n",
    "pivot = data_list[0]\n",
    "left = list()\n",
    "right = list()\n",
    "\n",
    "for index in range(1, len(data_list)):\n",
    "    if data_list[index] < pivot:\n",
    "        left.append(data_list[index])\n",
    "    else:\n",
    "        right.append(data_list[index])"
   ]
  },
  {
   "cell_type": "code",
   "execution_count": 33,
   "id": "8e04ab3a",
   "metadata": {},
   "outputs": [
    {
     "data": {
      "text/plain": [
       "[3, 2, 4]"
      ]
     },
     "execution_count": 33,
     "metadata": {},
     "output_type": "execute_result"
    }
   ],
   "source": [
    "left + [pivot] + right"
   ]
  },
  {
   "cell_type": "markdown",
   "id": "78b721ed",
   "metadata": {},
   "source": [
    "### 3. 알고리즘 구현\n",
    "- quicksort 함수 만들기\n",
    "  - 만약 리스트 갯수가 한개이면 해당 리스트 리턴\n",
    "  - 그렇지 않으면, 리스트 맨 앞의 데이터를 기준점(pivot)으로놓기\n",
    "  - left, right 리스트 변수를 만들고,\n",
    "  - 맨 앞의 데이터를 뺀 나머지 데이터를 기준점과 비교(pivot)\n",
    "    - 기준점보다 작으면 left.append(해당 데이터)\n",
    "    - 기준점보다 크면 right.append(해당 데이터)\n",
    "  - return quicksort(left) + pivot + quicksort(right)로 재귀 호출\n",
    "\n",
    "> 리스트로 만들어서 리턴하기: return quick_sort(left) + [pivot] + quick_sort(right)"
   ]
  },
  {
   "cell_type": "markdown",
   "id": "8cb9c7d3",
   "metadata": {},
   "source": [
    "#### 나의 풀이"
   ]
  },
  {
   "cell_type": "code",
   "execution_count": 40,
   "id": "e1a16cfd",
   "metadata": {},
   "outputs": [],
   "source": [
    "def quick_sort(data):\n",
    "    if len(data) <= 1:\n",
    "        return data\n",
    "    else:\n",
    "        pivot = data[0]\n",
    "        left = list()\n",
    "        right = list()\n",
    "        for index in range(1, len(data)):\n",
    "            if data[index] < pivot:\n",
    "                left.append(data[index])\n",
    "            else:\n",
    "                right.append(data[index])\n",
    "        return quick_sort(left) + [pivot] + quick_sort(right)"
   ]
  },
  {
   "cell_type": "code",
   "execution_count": 44,
   "id": "e17ef281",
   "metadata": {},
   "outputs": [
    {
     "name": "stdout",
     "output_type": "stream",
     "text": [
      "[3, 5, 7, 15, 18, 26, 39, 43, 49, 54, 59, 61, 66, 67, 75, 77, 91, 92, 96, 97]\n"
     ]
    }
   ],
   "source": [
    "import random\n",
    "\n",
    "data_list = random.sample(range(100), 20)\n",
    "print(quick_sort(data_list))"
   ]
  },
  {
   "cell_type": "markdown",
   "id": "d0bf3e4f",
   "metadata": {},
   "source": [
    "#### 풀이"
   ]
  },
  {
   "cell_type": "code",
   "execution_count": 47,
   "id": "9a755fcd",
   "metadata": {},
   "outputs": [],
   "source": [
    "def qsort(data):\n",
    "    if len(data) <= 1:\n",
    "        return data\n",
    "    \n",
    "    left, right = list(), list()\n",
    "    pivot = data[0]\n",
    "    \n",
    "    for index in range(1, len(data)):\n",
    "        if pivot > data[index]:\n",
    "            left.append(data[index])\n",
    "        else:\n",
    "            right.append(data[index])\n",
    "            \n",
    "    return qsort(left) + [pivot] + qsort(right)\n",
    "    "
   ]
  },
  {
   "cell_type": "code",
   "execution_count": 48,
   "id": "37915906",
   "metadata": {},
   "outputs": [
    {
     "data": {
      "text/plain": [
       "[12, 19, 21, 23, 25, 26, 42, 70, 75, 96]"
      ]
     },
     "execution_count": 48,
     "metadata": {},
     "output_type": "execute_result"
    }
   ],
   "source": [
    "import random\n",
    "\n",
    "data_list = random.sample(range(100), 10)\n",
    "\n",
    "qsort(data_list)"
   ]
  },
  {
   "cell_type": "markdown",
   "id": "34fa260c",
   "metadata": {},
   "source": [
    "<div class=\"alert alert-block alert-warning\">\n",
    "  <strong><font color=\"blue\" size=\"5em\">프로그래밍 연습</font></strong><br><br>\n",
    "    \n",
    "  위 퀵정렬 코드를 파이썬 list comprehension을 사용해서 더 깔끔하게 작성해보기\n",
    "</div>"
   ]
  },
  {
   "cell_type": "markdown",
   "id": "f286cf3d",
   "metadata": {},
   "source": [
    "#### 풀이"
   ]
  },
  {
   "cell_type": "code",
   "execution_count": 49,
   "id": "376df9b4",
   "metadata": {},
   "outputs": [],
   "source": [
    "def qsort(data):\n",
    "    if len(data) <= 1:\n",
    "        return data\n",
    "\n",
    "    pivot = data[0]\n",
    "    \n",
    "    left = [ item for item in data[1:] if pivot > item ]\n",
    "    right = [ item for item in data[1:] if pivot <= item ]\n",
    "    \n",
    "    return qsort(left) + [pivot] + qsort(right)"
   ]
  },
  {
   "cell_type": "code",
   "execution_count": 50,
   "id": "ea98b01e",
   "metadata": {},
   "outputs": [
    {
     "data": {
      "text/plain": [
       "[12, 23, 25, 31, 39, 56, 59, 61, 77, 91]"
      ]
     },
     "execution_count": 50,
     "metadata": {},
     "output_type": "execute_result"
    }
   ],
   "source": [
    "import random\n",
    "\n",
    "data_list = random.sample(range(100), 10)\n",
    "\n",
    "qsort(data_list)"
   ]
  },
  {
   "cell_type": "markdown",
   "id": "231553b6",
   "metadata": {},
   "source": [
    "### 4. 알고리즘 분석\n",
    "- <font color=\"#BF360C\">병합정렬과 유사, 시간복잡도는 $O(n log n)$</font>\n",
    "  - 단, 최악의 경우\n",
    "    - 맨 처음 pivot이 가장 크거나, 가장 작으면\n",
    "    - 모든 데이터를 비교하는 상황이 나옴\n",
    "    - $O(n^2)$"
   ]
  },
  {
   "cell_type": "markdown",
   "id": "31a0f2fd",
   "metadata": {},
   "source": [
    "<img src=\"https://www.fun-coding.org/00_Images/quicksortworks.jpg\" />"
   ]
  },
  {
   "cell_type": "markdown",
   "id": "2ab3a5f0",
   "metadata": {},
   "source": [
    "<div class=\"alert alert-block alert-warning\">\n",
    "  <strong><font color=\"blue\" size=\"5em\">프로그래밍 연습</font></strong><br><br>\n",
    "    \n",
    "  지금 설명한 퀵 정렬을 지금 다시 스스로 작성해 보세요\n",
    "</div>"
   ]
  },
  {
   "cell_type": "markdown",
   "id": "7eee6bcf",
   "metadata": {},
   "source": [
    "#### 나의 풀이"
   ]
  },
  {
   "cell_type": "code",
   "execution_count": 51,
   "id": "5eb6833a",
   "metadata": {},
   "outputs": [],
   "source": [
    "def qsort(data):\n",
    "    if len(data) <= 1:\n",
    "        return data\n",
    "    \n",
    "    pivot = data[0]\n",
    "    \n",
    "    left = [ item for item in data[1:] if pivot > item ]\n",
    "    right = [ item for item in data[1:] if pivot <= item ]\n",
    "    \n",
    "    return qsort(left) + [pivot] + qsort(right)"
   ]
  },
  {
   "cell_type": "code",
   "execution_count": 52,
   "id": "415afa4f",
   "metadata": {},
   "outputs": [
    {
     "data": {
      "text/plain": [
       "[0, 3, 14, 28, 43, 49, 58, 74, 85, 87]"
      ]
     },
     "execution_count": 52,
     "metadata": {},
     "output_type": "execute_result"
    }
   ],
   "source": [
    "import random\n",
    "\n",
    "data_list = random.sample(range(100),  10)\n",
    "qsort(data_list)"
   ]
  }
 ],
 "metadata": {
  "kernelspec": {
   "display_name": "Python 3",
   "language": "python",
   "name": "python3"
  },
  "language_info": {
   "codemirror_mode": {
    "name": "ipython",
    "version": 3
   },
   "file_extension": ".py",
   "mimetype": "text/x-python",
   "name": "python",
   "nbconvert_exporter": "python",
   "pygments_lexer": "ipython3",
   "version": "3.8.8"
  }
 },
 "nbformat": 4,
 "nbformat_minor": 5
}
