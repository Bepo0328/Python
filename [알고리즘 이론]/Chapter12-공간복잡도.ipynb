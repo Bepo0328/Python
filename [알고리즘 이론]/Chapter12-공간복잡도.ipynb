{
 "cells": [
  {
   "cell_type": "markdown",
   "id": "8681a47a",
   "metadata": {},
   "source": [
    "## 참고: 공간 복잡도"
   ]
  },
  {
   "cell_type": "markdown",
   "id": "5bdbaaa5",
   "metadata": {},
   "source": [
    "- 알고리즘 계산 복잡도는 다음 두 가지 척도로 표현될 수 있음\n",
    "  - 시간 복잡도: 얼마나 빠르게 실행되는지\n",
    "  - 공간 복잡도: 얼마나 많은 저장 공간이 필요한지\n",
    "\n",
    "> 좋은 알고리즘은 실행 시간도 짧고, 저장 공간도 적게 쓰는 알고리즘"
   ]
  },
  {
   "cell_type": "markdown",
   "id": "8dc42a15",
   "metadata": {},
   "source": [
    "- 통산 둘 다를 만족시키기는 어려움\n",
    "  - 시간 공간은 반비례적 경향이 있음\n",
    "  - 최근 대용량 시스템이 보편화되면서, 공간 복잡도 보다는 시간 복잡도가 우선\n",
    "  - 그래서! 알고리즘 시간 복잡도가 중심"
   ]
  },
  {
   "cell_type": "markdown",
   "id": "567948bb",
   "metadata": {},
   "source": [
    "### 공간 복잡도 대략적인 계산은 필요함\n",
    "- 기존 알고리즘 문제는 예전에 공간 복잡도도 고려되어야 할 때 만들어진 경우가 많음\n",
    "- 그래서 기존 알고리즘 문제에 시간 복잡도뿐만 아니라, 공간 복잡도 제약 사항이 있은 경우도 있음\n",
    "- 또한, 기존 알고리즘 문제에 영향을 받아서, 면접시에도 공간 복잡도를 묻는 경우도 있음"
   ]
  },
  {
   "cell_type": "markdown",
   "id": "0bc65b07",
   "metadata": {},
   "source": [
    "#### Complexity:\n",
    "- expected worst-case time complexity: $O(N)$\n",
    "- expected worst-case space complexity: $O(N)$\n",
    "\n",
    "> 현업에서 최근 빅 데이터를 다룰 때는 저장 공간을 고려해서 구현을 하는 경우도 있음"
   ]
  },
  {
   "cell_type": "markdown",
   "id": "f7f8ae90",
   "metadata": {},
   "source": [
    "### 1. 공간 복잡도 (Space Complexity)\n",
    "- 프로그램을 실행 및 완료하는데 필요한 저장공간의 양을 뜻함\n",
    "- 총 필요 저장 공간\n",
    "  - 고정 공간(알고리즘과 무관한 공간): 코드 저장 공간, 단순 변수 및 상수\n",
    "  - 가변 공간(알고리즘 실행과 관련있는 공간): 실행 중 동적으로 필요한 공간\n",
    "    - $S(P) = c + S_p(n)$ \n",
    "      - $c$: 고정 공간\n",
    "      - $S_p(n)$: 가변 공간\n",
    "      \n",
    "> 빅 오 표기법을 생각해볼 때, 고정 공간은 상수 이므로 공간 복잡도는 가변 공간에 좌우됨"
   ]
  },
  {
   "cell_type": "markdown",
   "id": "54293751",
   "metadata": {},
   "source": [
    "### 2. 공간 복잡도 계산\n",
    "- 공간 복잡도 계산은 알고리즘에서 실제 사용되는 저장 공간을 계산하면 됨\n",
    "  - 이를 빅 오 표기법으로 표현할 수 있으면 됨"
   ]
  },
  {
   "cell_type": "markdown",
   "id": "6b366af0",
   "metadata": {},
   "source": [
    "### 공간 복잡도 예제1\n",
    "- n! 팩토리얼 구하기\n",
    "  - n! = 1 x 2 x ... x n\n",
    "- n의 값에 상관없이 변수 n, 변수 fac, 변수 index 만 필요함\n",
    "- 공간 복잡도는 $O(1)$\n",
    "\n",
    "> 공간 복잡도 계산은 실제 알고리즘 실행시 사용되는 저장공간을 계산하면 됨"
   ]
  },
  {
   "cell_type": "code",
   "execution_count": 30,
   "id": "2ffe48c8",
   "metadata": {},
   "outputs": [],
   "source": [
    "def factorial(n):\n",
    "    fac = 1\n",
    "    for index in range(2, n + 1):\n",
    "        fac *= index\n",
    "    return fac"
   ]
  },
  {
   "cell_type": "code",
   "execution_count": 31,
   "id": "2ab0bae1",
   "metadata": {},
   "outputs": [
    {
     "data": {
      "text/plain": [
       "24"
      ]
     },
     "execution_count": 31,
     "metadata": {},
     "output_type": "execute_result"
    }
   ],
   "source": [
    "factorial(4)"
   ]
  },
  {
   "cell_type": "markdown",
   "id": "c20c9d77",
   "metadata": {},
   "source": [
    "### 공간 복잡도 예제2\n",
    "- n! 팩토리얼 구하기\n",
    "  - n! = n x ... x 2 x 1\n",
    "- 재귀함수를 사용하였으므로, n에 따라, 변수 n이 n개가 만들어지게 됨\n",
    "  - factorial 함수를 재귀 함수로 1까지 호출 하였을 경우, n부터 1까지 스택에 쌓이게 됨\n",
    "- 공간 복잡도 $O(n)$"
   ]
  },
  {
   "cell_type": "markdown",
   "id": "174651f0",
   "metadata": {},
   "source": [
    "#### 나의 풀이"
   ]
  },
  {
   "cell_type": "code",
   "execution_count": 32,
   "id": "d536ed4d",
   "metadata": {},
   "outputs": [],
   "source": [
    "def factorial(n):\n",
    "    if n == 1:\n",
    "        return n\n",
    "    return n * factorial(n - 1)"
   ]
  },
  {
   "cell_type": "code",
   "execution_count": 33,
   "id": "bf8cff89",
   "metadata": {},
   "outputs": [
    {
     "data": {
      "text/plain": [
       "24"
      ]
     },
     "execution_count": 33,
     "metadata": {},
     "output_type": "execute_result"
    }
   ],
   "source": [
    "factorial(4)"
   ]
  },
  {
   "cell_type": "markdown",
   "id": "635378cc",
   "metadata": {},
   "source": [
    "#### 풀이"
   ]
  },
  {
   "cell_type": "code",
   "execution_count": 34,
   "id": "31bfc76b",
   "metadata": {},
   "outputs": [],
   "source": [
    "def factorial(n):\n",
    "    if n > 1:\n",
    "        return n * factorial(n - 1)\n",
    "    else:\n",
    "        return 1"
   ]
  },
  {
   "cell_type": "code",
   "execution_count": 35,
   "id": "40a0ca3f",
   "metadata": {},
   "outputs": [
    {
     "data": {
      "text/plain": [
       "24"
      ]
     },
     "execution_count": 35,
     "metadata": {},
     "output_type": "execute_result"
    }
   ],
   "source": [
    "factorial(4)"
   ]
  }
 ],
 "metadata": {
  "kernelspec": {
   "display_name": "Python 3",
   "language": "python",
   "name": "python3"
  },
  "language_info": {
   "codemirror_mode": {
    "name": "ipython",
    "version": 3
   },
   "file_extension": ".py",
   "mimetype": "text/x-python",
   "name": "python",
   "nbconvert_exporter": "python",
   "pygments_lexer": "ipython3",
   "version": "3.8.8"
  }
 },
 "nbformat": 4,
 "nbformat_minor": 5
}
