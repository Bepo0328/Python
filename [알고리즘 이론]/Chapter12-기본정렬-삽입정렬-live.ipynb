{
 "cells": [
  {
   "cell_type": "markdown",
   "id": "4f334df2",
   "metadata": {},
   "source": [
    "## 대표적인 정렬2: 삽입 정렬(Insertion Sort)"
   ]
  },
  {
   "cell_type": "markdown",
   "id": "a52bcb6c",
   "metadata": {},
   "source": [
    "### 1. 삽입 정렬 (insertion sort) 란?\n",
    "- 삽입 정렬은 두 번째 인덱스부터 시작\n",
    "- 해당 인덱스(key 값) 앞에 있는 데이터(B)부터 비교해서 key 값이 더 작으면, B값을 뒤 인덱스로 복사\n",
    "- 이를 key 값이 더 큰 데이터를 만날때까지 반복, 그리고 큰 데이터를 만난 위치 바로 뒤에 key 값을 이동"
   ]
  },
  {
   "cell_type": "markdown",
   "id": "480648f9",
   "metadata": {},
   "source": [
    "#### 직접 눈으로 보면 더 이해가 쉽다: https://visualgo.net/en/sorting"
   ]
  },
  {
   "cell_type": "markdown",
   "id": "b82f93d2",
   "metadata": {},
   "source": [
    "<img src=\"https://upload.wikimedia.org/wikipedia/commons/9/9c/Insertion-sort-example.gif\" />\n",
    "\n",
    "> 출처: https://commons.wikimedia.org/wiki/File:Insertion-sort-example.gif"
   ]
  },
  {
   "cell_type": "code",
   "execution_count": 1,
   "id": "0ef454f7",
   "metadata": {},
   "outputs": [
    {
     "name": "stdout",
     "output_type": "stream",
     "text": [
      "10\n",
      "9\n",
      "8\n",
      "7\n",
      "6\n",
      "5\n",
      "4\n",
      "3\n",
      "2\n"
     ]
    }
   ],
   "source": [
    "for index in range(10, 1, -1):\n",
    "    print (index)"
   ]
  },
  {
   "cell_type": "markdown",
   "id": "20355449",
   "metadata": {},
   "source": [
    "### 2. 어떻게 코드로 만들까? (결국 프로그래밍으로 일반화할 수 있도록 만드는 것)\n",
    "\n",
    "> 알고리즘 연습 방법에 기반해서 단계별로 생각해봅니다."
   ]
  },
  {
   "cell_type": "markdown",
   "id": "9670e9ef",
   "metadata": {},
   "source": [
    "<div class=\"alert alert-block alert-warning\">\n",
    "  <strong><font color=\"blue\" size=\"4em\">프로그래밍 연습</font></strong><br><br>\n",
    "  데이터가 두개 일때 동작하는 삽입 정렬 알고리즘을 함수로 만들어보세요<br>\n",
    "  프로그래밍 근육을 키우는 방법\n",
    "</div>"
   ]
  },
  {
   "cell_type": "markdown",
   "id": "5f45f910",
   "metadata": {},
   "source": [
    "<div class=\"alert alert-block alert-warning\">\n",
    "  <strong><font color=\"blue\" size=\"4em\">프로그래밍 연습</font></strong><br><br>\n",
    "  데이터가 세개 일때 동작하는 선택 정렬 알고리즘을 함수로 만들어보세요<br>\n",
    "  프로그래밍 근육을 키우는 방법\n",
    "</div>"
   ]
  },
  {
   "cell_type": "markdown",
   "id": "e0020899",
   "metadata": {},
   "source": [
    "<div class=\"alert alert-block alert-warning\">\n",
    "<strong><font color=\"blue\" size=\"4em\">프로그래밍 연습</font></strong><br><br>\n",
    "  데이터가 네개 일때 동작하는 선택 정렬 알고리즘을 함수로 만들어보세요<br>\n",
    "  프로그래밍 근육을 키우는 방법\n",
    "</div>"
   ]
  },
  {
   "cell_type": "markdown",
   "id": "48318d75",
   "metadata": {},
   "source": [
    "- 데이터가 네 개 일때 (데이터 갯수에 따라 복잡도가 떨어지는 것은 아니므로, 네 개로 바로 로직을 이해해보자.)\n",
    "  - 예: data_list = [9, 3, 2, 5]\n",
    "    - 처음 한번 실행하면, key값은 9, 인덱스(0) - 1 은 0보다 작으므로 끝: [9, 3, 2, 5]\n",
    "    - 두 번째 실행하면, key값은 3, 9보다 3이 작으므로 자리 바꾸고, 끝: [3, 9, 2, 5]\n",
    "    - 세 번째 실행하면, key값은 2, 9보다 2가 작으므로 자리 바꾸고, 다시 3보다 2가 작으므로 끝: [2, 3, 9, 5]\n",
    "    - 네 번째 실행하면, key값은 5, 9보다 5이 작으므로 자리 바꾸고, 3보다는 5가 크므로 끝: [2, 3, 5, 9]    "
   ]
  },
  {
   "cell_type": "markdown",
   "id": "8fe77c92",
   "metadata": {},
   "source": [
    "### 3. 알고리즘 구현\n",
    "1. for stand in range(len(data_list)) 로 반복\n",
    "2. key = data_list[stand]\n",
    "3. for num in range(stand, 0, -1) 반복\n",
    "   - 내부 반복문 안에서 data_list[stand] < data_list[num - 1] 이면, \n",
    "     - data_list[num - 1], data_list[num] = data_list[num], data_list[num - 1]   "
   ]
  },
  {
   "cell_type": "code",
   "execution_count": 2,
   "id": "1235fa53",
   "metadata": {},
   "outputs": [],
   "source": [
    "def insertion_sort(data):\n",
    "    for index in range(len(data) - 1):\n",
    "        for index2 in range(index + 1, 0, -1):\n",
    "            if data[index2] < data[index2 - 1]:\n",
    "                data[index2], data[index2 - 1] = data[index2 - 1], data[index2]\n",
    "            else:\n",
    "                break\n",
    "    return data"
   ]
  },
  {
   "cell_type": "code",
   "execution_count": 3,
   "id": "4ec2eb05",
   "metadata": {},
   "outputs": [
    {
     "name": "stdout",
     "output_type": "stream",
     "text": [
      "[4, 5, 9, 11, 15, 16, 20, 21, 22, 24, 26, 27, 28, 29, 30, 32, 33, 34, 36, 37, 38, 39, 41, 42, 45, 47, 48, 49, 51, 55, 56, 57, 61, 65, 67, 68, 71, 74, 78, 80, 83, 86, 87, 88, 89, 90, 92, 93, 96, 99]\n"
     ]
    }
   ],
   "source": [
    "import random\n",
    "\n",
    "data_list = random.sample(range(100), 50)\n",
    "print (insertion_sort(data_list))"
   ]
  },
  {
   "cell_type": "markdown",
   "id": "f225454b",
   "metadata": {},
   "source": [
    "### 4. 알고리즘 분석\n",
    "- 반복문이 두 개 $O(n^2)$\n",
    "  - 최악의 경우, <font size=\"5em\">$\\frac { n * (n - 1)}{ 2 }$</font>\n",
    "- 완전 정렬이 되어 있는 상태라면 최선은 O(n)"
   ]
  },
  {
   "cell_type": "markdown",
   "id": "9924de3c",
   "metadata": {},
   "source": [
    "<div class=\"alert alert-block alert-info\">\n",
    "<strong><font color=\"blue\" size=\"4em\">프로그래밍 연습</font></strong><br>\n",
    "지금 설명한 삽입 정렬을 지금 다시 스스로 작성해보세요<br>\n",
    "</div>\n",
    "\n",
    "> 이해가 안가면, 이 코드를 보면서 이해하기: https://goo.gl/XKBXuk"
   ]
  },
  {
   "cell_type": "code",
   "execution_count": 4,
   "id": "696ec830",
   "metadata": {},
   "outputs": [],
   "source": [
    "def insertion_sort(data):\n",
    "    for index1 in range(len(data) - 1):\n",
    "        for index2 in range(index1 + 1, 0, -1):\n",
    "            if data[index2] < data[index2 - 1]:\n",
    "                data[index2], data[index2 - 1] = data[index2 - 1], data[index2]\n",
    "            else:\n",
    "                break\n",
    "    return data"
   ]
  },
  {
   "cell_type": "code",
   "execution_count": 5,
   "id": "eb5393cc",
   "metadata": {},
   "outputs": [
    {
     "name": "stdout",
     "output_type": "stream",
     "text": [
      "[2, 4, 9, 11, 14, 15, 16, 17, 19, 20, 23, 24, 28, 31, 34, 38, 41, 42, 46, 47, 51, 52, 53, 56, 57, 58, 60, 68, 69, 72, 73, 74, 75, 76, 77, 78, 80, 81, 82, 84, 85, 86, 88, 89, 90, 93, 94, 95, 96, 99]\n"
     ]
    }
   ],
   "source": [
    "import random\n",
    "\n",
    "data_list = random.sample(range(100), 50)\n",
    "print (insertion_sort(data_list))"
   ]
  }
 ],
 "metadata": {
  "kernelspec": {
   "display_name": "Python 3",
   "language": "python",
   "name": "python3"
  },
  "language_info": {
   "codemirror_mode": {
    "name": "ipython",
    "version": 3
   },
   "file_extension": ".py",
   "mimetype": "text/x-python",
   "name": "python",
   "nbconvert_exporter": "python",
   "pygments_lexer": "ipython3",
   "version": "3.8.8"
  }
 },
 "nbformat": 4,
 "nbformat_minor": 5
}
