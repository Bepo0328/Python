{
 "cells": [
  {
   "cell_type": "markdown",
   "id": "adf1ee26",
   "metadata": {},
   "source": [
    "## 재귀 용법 (Recursive Call, 재귀 함수)\n",
    "\n",
    "> 고급 정렬 알고리즘에서 재귀 용법을 사용하므로, 고급 정렬 알고리즘을 익히기 전에 재귀 용법을 먼저 익히기로 합니다."
   ]
  },
  {
   "cell_type": "markdown",
   "id": "06847134",
   "metadata": {},
   "source": [
    "### 1. 재귀 용법 (Recursive Call, 재귀 호출)\n",
    "- 함수 안에서 동일한 함수를 호출하는 형태\n",
    "- 여러 알고리즘 작성시 사용되므로, 익숙해져야 함"
   ]
  },
  {
   "cell_type": "markdown",
   "id": "c8556bdd",
   "metadata": {},
   "source": [
    "### 2. 재귀 용법 이해\n",
    "- 예제를 풀어보며, 재귀 용법을 이해해 보기"
   ]
  },
  {
   "cell_type": "markdown",
   "id": "ef3cce87",
   "metadata": {},
   "source": [
    "### 예제\n",
    "- 팩토리얼을 구하는 알고리즘 Recusive Call을 활용해서 알고리즘 작성하기"
   ]
  },
  {
   "cell_type": "markdown",
   "id": "ce885fb8",
   "metadata": {},
   "source": [
    "### 예제 - 분석하기\n",
    "- 간단한 경우부터 생각해보기\n",
    "  - 2! = 1 x 2\n",
    "  - 3! = 1 x 2 x 3\n",
    "  - 4! = 1 x 2 x 3 x 4 = 4 x 3!\n",
    "- 규칙이 보임: n! = n x (n - 1)!\n",
    "  1. 함수를 하나 만든다\n",
    "  2. 함수(n)은 n > 1이면 return n x 함수(n - 1)\n",
    "  3. 함수(n)은 n = 1이면 return n\n",
    "- 검증 (코드로 검증하지 않고, 직접 간단한 경우부터 대입해서 검증해야 함)\n",
    "  1. 먼저 2! 부터\n",
    "    - 함수(2) 이면, 2 > 1 이므로 2 x 함수(1)\n",
    "      - 함수(1)은 1 이므로, return 2 x 1 = 2 맞다!\n",
    "  2. 먼저 3! 부터\n",
    "    - 함수(3) 이면, 3 > 1 이므로 3 x 함수(2)\n",
    "      - 함수(2)은 결국 1번에 의해 2! 이므로, return 2 x 1 = 2\n",
    "      - 3 x 함수(2) = 3 x 2 = 3 x 2 x 1 = 6 맞다!\n",
    "  3. 먼저 4! 부터\n",
    "    - 함수(4) 이면, 4 > 1 이므로 4 x 함수(3)\n",
    "      - 함수(3)은 결국 2번에 의해 3! 이므로, return 3 x 2 x 1 = 6\n",
    "      - 4 x 함수(3) = 4 x 6 = 4 x 3 x 2 x 1 = 24 맞다!"
   ]
  },
  {
   "cell_type": "markdown",
   "id": "65b9b6a4",
   "metadata": {},
   "source": [
    "### 예제 - 코드 레벨로 적어보기"
   ]
  },
  {
   "cell_type": "code",
   "execution_count": 1,
   "id": "743824d9",
   "metadata": {},
   "outputs": [],
   "source": [
    "def factorial(num):\n",
    "    if num > 1:\n",
    "        return num * factorial(num - 1)\n",
    "    else:\n",
    "        return num"
   ]
  },
  {
   "cell_type": "code",
   "execution_count": 2,
   "id": "298040ad",
   "metadata": {},
   "outputs": [
    {
     "name": "stdout",
     "output_type": "stream",
     "text": [
      "0\n",
      "1\n",
      "2\n",
      "6\n",
      "24\n",
      "120\n",
      "720\n",
      "5040\n",
      "40320\n",
      "362880\n"
     ]
    }
   ],
   "source": [
    "for num in range(10):\n",
    "    print (factorial(num))"
   ]
  },
  {
   "cell_type": "markdown",
   "id": "66a8e491",
   "metadata": {},
   "source": [
    "### 예제 - 시간 복잡도와 공간 복잡도\n",
    "- factorial(n)은 n - 1번의 factorial() 함수를 호출해서, 곱셈을 함\n",
    "  - 일종의 n - 1번 반복문을 호출한 것과 동일\n",
    "  - factorial() 함수를 호출할 때 마다, 지역변수 n이 생성됨\n",
    "- 시간 복잡도/공간 복잡도는 $O(n-1)$ 이므로 결국, 둘다 $O(n)$"
   ]
  },
  {
   "cell_type": "markdown",
   "id": "2f43538d",
   "metadata": {},
   "source": [
    "### 3. 재귀 호출의 일반적인 형태"
   ]
  },
  {
   "cell_type": "code",
   "execution_count": null,
   "id": "3372ce01",
   "metadata": {},
   "outputs": [],
   "source": [
    "# 일반적인 형태 1\n",
    "def function(입력):\n",
    "    if 입력 <= 일정값: # 입력이 일정 값 이상이면\n",
    "        return function(입력 - 1) # 입력보다 작은 값\n",
    "    else:\n",
    "        return 일정값, 입력값, 또는 특정값 # 재귀 호출 종료"
   ]
  },
  {
   "cell_type": "code",
   "execution_count": null,
   "id": "b72573f2",
   "metadata": {},
   "outputs": [],
   "source": [
    "# 일반적인 형태 2\n",
    "def function(입력):\n",
    "    if 입력 <= 일정값: # 입력이 일정 값보다 작으면\n",
    "        return 일정값, 입력값 또는 특정값 #재귀 호출\n",
    "    function(입력 보다 작은 값)\n",
    "    return 결과값"
   ]
  },
  {
   "cell_type": "code",
   "execution_count": 3,
   "id": "212bf1bb",
   "metadata": {},
   "outputs": [],
   "source": [
    "def factorial(num):\n",
    "    if num <= 1:\n",
    "        return num\n",
    "    return num * factorial(num - 1)"
   ]
  },
  {
   "cell_type": "code",
   "execution_count": 4,
   "id": "d51720ce",
   "metadata": {},
   "outputs": [
    {
     "name": "stdout",
     "output_type": "stream",
     "text": [
      "0\n",
      "1\n",
      "2\n",
      "6\n",
      "24\n",
      "120\n",
      "720\n",
      "5040\n",
      "40320\n",
      "362880\n"
     ]
    }
   ],
   "source": [
    "for num in range(10):\n",
    "    print (factorial(num))"
   ]
  },
  {
   "cell_type": "markdown",
   "id": "62567459",
   "metadata": {},
   "source": [
    "### 재휘 호출은 스택의 전형적인 예\n",
    "- 함수는 내부적으로 스택처럼 관리된다."
   ]
  },
  {
   "cell_type": "markdown",
   "id": "ed21c077",
   "metadata": {},
   "source": [
    "<img src=\"https://www.fun-coding.org/00_Images/recursivecall.png\" />"
   ]
  },
  {
   "cell_type": "markdown",
   "id": "3df53f53",
   "metadata": {},
   "source": [
    "- 재귀 호출이 이해가 가지 않는다면? -  [코드분석]( http://pythontutor.com/live.html#code=%23%20factorial%20%ED%95%A8%EC%88%98%20%EC%95%88%EC%97%90%EC%84%9C%20factorial%20%ED%95%A8%EC%88%98%EB%A5%BC%20%ED%98%B8%EC%B6%9C%0Adef%20factorial%28num%29%3A%0A%20%20%20%20if%20num%20%3E%201%3A%0A%20%20%20%20%20%20%20%20return%20num%20*%20factorial%28num%20-%201%29%0A%20%20%20%20else%3A%0A%20%20%20%20%20%20%20%20return%20num%0A%0Afactorial%285%29&cumulative=false&curInstr=22&heapPrimitives=false&mode=display&origin=opt-live.js&py=3&rawInputLstJSON=%5B%5D&textReferences=false)\n",
    "\n",
    "> 참고: 파이썬에서 재귀 함수는 깊이가 (한번에 호출되는...) 1,000회 이하가 되어야 함"
   ]
  },
  {
   "cell_type": "markdown",
   "id": "f3080d32",
   "metadata": {},
   "source": [
    "### 4. 재귀 용법을 활용한 프로그래밍 연습"
   ]
  },
  {
   "cell_type": "markdown",
   "id": "0d5a0542",
   "metadata": {},
   "source": [
    "<div class=\"alert alert-block alert-warning\">\n",
    "  <strong><font color=\"blue\" size=\"5em\">프로그래밍 연습</font></strong><br><br>\n",
    "    \n",
    "  다음 함수를 재귀 함수를 활용해서 완성해서 1부터 num까지의 곱이 출력되게 만드세요\n",
    "</div>\n",
    "<pre>\n",
    "def muliple(data):\n",
    "    if data <= 1:\n",
    "        return data\n",
    "return --------------------\n",
    "multiple(10)\n",
    "</pre>"
   ]
  },
  {
   "cell_type": "markdown",
   "id": "b9e18cda",
   "metadata": {},
   "source": [
    "#### 나의 풀이"
   ]
  },
  {
   "cell_type": "code",
   "execution_count": 15,
   "id": "266e647c",
   "metadata": {},
   "outputs": [],
   "source": [
    "def mulitple(data):\n",
    "    if data <= 1:\n",
    "        return data\n",
    "    return data * mulitple(data - 1)"
   ]
  },
  {
   "cell_type": "code",
   "execution_count": 16,
   "id": "549be545",
   "metadata": {},
   "outputs": [
    {
     "data": {
      "text/plain": [
       "3628800"
      ]
     },
     "execution_count": 16,
     "metadata": {},
     "output_type": "execute_result"
    }
   ],
   "source": [
    "mulitple(10)"
   ]
  },
  {
   "cell_type": "markdown",
   "id": "badd7c5c",
   "metadata": {},
   "source": [
    "#### 풀이"
   ]
  },
  {
   "cell_type": "code",
   "execution_count": 32,
   "id": "86741851",
   "metadata": {},
   "outputs": [],
   "source": [
    "def multiple(num):\n",
    "    return_value = 1\n",
    "    for index in range(1 , num + 1):\n",
    "        return_value = return_value * index\n",
    "    return return_value"
   ]
  },
  {
   "cell_type": "code",
   "execution_count": 33,
   "id": "86ad9489",
   "metadata": {},
   "outputs": [],
   "source": [
    "def mulitple(num):\n",
    "    if num <= 1:\n",
    "        return num\n",
    "    return num * mulitple(num - 1)"
   ]
  },
  {
   "cell_type": "code",
   "execution_count": 34,
   "id": "cbfd9ffc",
   "metadata": {},
   "outputs": [
    {
     "data": {
      "text/plain": [
       "3628800"
      ]
     },
     "execution_count": 34,
     "metadata": {},
     "output_type": "execute_result"
    }
   ],
   "source": [
    "mulitple(10)"
   ]
  },
  {
   "cell_type": "markdown",
   "id": "98010cdc",
   "metadata": {},
   "source": [
    "<div class=\"alert alert-block alert-warning\">\n",
    "  <strong><font color=\"blue\" size=\"5em\">프로그래밍 연습</font></strong><br><br>\n",
    "    \n",
    "  숫자가 들어 있는 리스트가 주어졌을 때, 리스트의 합을 리턴하는 함수를 만드세요\n",
    "</div>\n",
    "<pre>\n",
    "import random\n",
    "data = random.sample(range(100), 10)\n",
    "</pre>"
   ]
  },
  {
   "cell_type": "markdown",
   "id": "13c696aa",
   "metadata": {},
   "source": [
    "#### 나의 풀이"
   ]
  },
  {
   "cell_type": "code",
   "execution_count": 35,
   "id": "45a3a783",
   "metadata": {},
   "outputs": [
    {
     "data": {
      "text/plain": [
       "[19, 70, 57, 17, 60, 41, 15, 83, 33, 86]"
      ]
     },
     "execution_count": 35,
     "metadata": {},
     "output_type": "execute_result"
    }
   ],
   "source": [
    "import random\n",
    "data = random.sample(range(100), 10)\n",
    "data"
   ]
  },
  {
   "cell_type": "code",
   "execution_count": 36,
   "id": "10c90529",
   "metadata": {},
   "outputs": [],
   "source": [
    "def list_plus(data):\n",
    "    return_value = 0\n",
    "    for index in data:\n",
    "        return_value += index\n",
    "    return return_value"
   ]
  },
  {
   "cell_type": "code",
   "execution_count": 37,
   "id": "97555301",
   "metadata": {},
   "outputs": [
    {
     "data": {
      "text/plain": [
       "481"
      ]
     },
     "execution_count": 37,
     "metadata": {},
     "output_type": "execute_result"
    }
   ],
   "source": [
    "list_plus(data)"
   ]
  },
  {
   "cell_type": "markdown",
   "id": "d7738c2c",
   "metadata": {},
   "source": [
    "<div class=\"alert alert-block alert-warning\">\n",
    "  <strong><font color=\"blue\" size=\"5em\">프로그래밍 연습</font></strong><br><br>\n",
    "    \n",
    "  숫자가 들어 있는 리스트가 주어졌을 때, 리스트의 합을 리턴하는 함수를 만드세요(재귀 함수를 써보세요)\n",
    "</div>\n",
    "<pre>\n",
    "def sum_list(data):\n",
    "    if len(data) == 1:\n",
    "        return data[0]\n",
    "return --------------------\n",
    "import random\n",
    "data = random.sample(range(100), 10)\n",
    "print(sum_list(data))\n",
    "</pre>"
   ]
  },
  {
   "cell_type": "markdown",
   "id": "399d23d4",
   "metadata": {},
   "source": [
    "#### 나의 풀이"
   ]
  },
  {
   "cell_type": "code",
   "execution_count": 27,
   "id": "aa530799",
   "metadata": {},
   "outputs": [],
   "source": [
    "def sum_list(data):\n",
    "    data_len = len(data)\n",
    "    if data_len == 1:\n",
    "        return data[0]\n",
    "    return data[data_len - 1] + sum_list(data[:-1])"
   ]
  },
  {
   "cell_type": "code",
   "execution_count": 29,
   "id": "d919c4f7",
   "metadata": {},
   "outputs": [
    {
     "data": {
      "text/plain": [
       "[68, 74, 46, 41, 5, 17, 55, 25, 70, 95]"
      ]
     },
     "execution_count": 29,
     "metadata": {},
     "output_type": "execute_result"
    }
   ],
   "source": [
    "import random\n",
    "\n",
    "data = random.sample(range(100), 10)\n",
    "data"
   ]
  },
  {
   "cell_type": "code",
   "execution_count": 30,
   "id": "ed66c5f1",
   "metadata": {},
   "outputs": [
    {
     "name": "stdout",
     "output_type": "stream",
     "text": [
      "496\n"
     ]
    }
   ],
   "source": [
    "print(sum_list(data))"
   ]
  },
  {
   "cell_type": "markdown",
   "id": "63c14de0",
   "metadata": {},
   "source": [
    "#### 풀이"
   ]
  },
  {
   "cell_type": "code",
   "execution_count": 43,
   "id": "a8f35d70",
   "metadata": {},
   "outputs": [],
   "source": [
    "def sum_list(data):\n",
    "    if len(data) <= 1:\n",
    "        return data[0]\n",
    "    return data[0] + sum_list(data[1:])"
   ]
  },
  {
   "cell_type": "code",
   "execution_count": 44,
   "id": "dadfd734",
   "metadata": {},
   "outputs": [
    {
     "data": {
      "text/plain": [
       "[82, 47, 24, 20, 90, 52, 35, 11, 41, 81]"
      ]
     },
     "execution_count": 44,
     "metadata": {},
     "output_type": "execute_result"
    }
   ],
   "source": [
    "import random\n",
    "\n",
    "data = random.sample(range(100), 10)\n",
    "data"
   ]
  },
  {
   "cell_type": "code",
   "execution_count": 45,
   "id": "295187b7",
   "metadata": {},
   "outputs": [
    {
     "name": "stdout",
     "output_type": "stream",
     "text": [
      "483\n"
     ]
    }
   ],
   "source": [
    "print(sum_list(data))"
   ]
  },
  {
   "cell_type": "markdown",
   "id": "7d7186ee",
   "metadata": {},
   "source": [
    "<div class=\"alert alert-block alert-warning\">\n",
    "  <strong><font color=\"blue\" size=\"5em\">프로그래밍 연습</font></strong><br><br>\n",
    "    \n",
    "  회문(palindrome)은 순서를 거꾸로 읽어도 재대로 읽은 것과 같은 단어와 문장을 의미함<br>\n",
    "  회문을 판별할 수 있는 함수를 리스트 슬라이싱을 활용해서 만드세요<br><br>\n",
    "    \n",
    "  <img src=\"https://www.fun-coding.org/00_Images/palindrome.png\" width=200/>\n",
    "</div>\n",
    "<pre>\n",
    "참고 - 리스트 슬라이싱\n",
    "string = \"Dave\"\n",
    "string[-1] --> e\n",
    "string[0] -> D\n",
    "string[1:-1] -> av\n",
    "string[:-1] -> Dav \n",
    "</pre>"
   ]
  },
  {
   "cell_type": "markdown",
   "id": "5d6e60e8",
   "metadata": {},
   "source": [
    "#### 나의 풀이"
   ]
  },
  {
   "cell_type": "code",
   "execution_count": 47,
   "id": "86fb8e46",
   "metadata": {},
   "outputs": [],
   "source": [
    "# 문제를 잘못 이해함\n",
    "# 문자열 순서를 바꿔주는 함수가 되버림\n",
    "def revserse(data):\n",
    "    for index in range(int(len(data) / 2) - 1):\n",
    "        data[index], data[len(data) - 1 - index] = data[len(data) - 1 - index], data[index]\n",
    "    return data"
   ]
  },
  {
   "cell_type": "code",
   "execution_count": 55,
   "id": "ca277f97",
   "metadata": {},
   "outputs": [],
   "source": [
    "string1 = \"MOTOR\"\n",
    "string2 = \"Dave\"\n",
    "string3 = \"Daveda\""
   ]
  },
  {
   "cell_type": "code",
   "execution_count": 56,
   "id": "76290c6f",
   "metadata": {},
   "outputs": [
    {
     "name": "stdout",
     "output_type": "stream",
     "text": [
      "['R', 'O', 'T', 'O', 'M']\n",
      "['e', 'a', 'v', 'D']\n",
      "['a', 'd', 'v', 'e', 'a', 'D']\n"
     ]
    }
   ],
   "source": [
    "print(revserse(list(string1)))\n",
    "print(revserse(list(string2)))\n",
    "print(revserse(list(string3)))"
   ]
  },
  {
   "cell_type": "code",
   "execution_count": 81,
   "id": "933c4ede",
   "metadata": {},
   "outputs": [],
   "source": [
    "# 재귀 함수\n",
    "def revserse(data):\n",
    "    if len(data) <= 1:\n",
    "        return data\n",
    "    else:\n",
    "        data[0], data[-1] = data[-1], data[0]\n",
    "        data[1:-1] = revserse(data[1:-1])\n",
    "    return data"
   ]
  },
  {
   "cell_type": "code",
   "execution_count": 82,
   "id": "67b0d4eb",
   "metadata": {},
   "outputs": [],
   "source": [
    "string1 = \"MOTOR\"\n",
    "string2 = \"Dave\"\n",
    "string3 = \"Daveda\""
   ]
  },
  {
   "cell_type": "code",
   "execution_count": 83,
   "id": "15e7d272",
   "metadata": {},
   "outputs": [
    {
     "name": "stdout",
     "output_type": "stream",
     "text": [
      "['R', 'O', 'T', 'O', 'M']\n",
      "['e', 'v', 'a', 'D']\n",
      "['a', 'd', 'e', 'v', 'a', 'D']\n"
     ]
    }
   ],
   "source": [
    "print(revserse(list(string1)))\n",
    "print(revserse(list(string2)))\n",
    "print(revserse(list(string3)))"
   ]
  },
  {
   "cell_type": "markdown",
   "id": "b9e0060c",
   "metadata": {},
   "source": [
    "#### 풀이"
   ]
  },
  {
   "cell_type": "code",
   "execution_count": 84,
   "id": "0f77e3db",
   "metadata": {},
   "outputs": [],
   "source": [
    "def palindrome(string):\n",
    "    if len(string) <= 1:\n",
    "        return True\n",
    "    \n",
    "    if string[0] == string[-1]:\n",
    "        return palindrome(string[1:-1])\n",
    "    else:\n",
    "        return False"
   ]
  },
  {
   "cell_type": "code",
   "execution_count": 87,
   "id": "77fcc536",
   "metadata": {},
   "outputs": [
    {
     "name": "stdout",
     "output_type": "stream",
     "text": [
      "True\n",
      "False\n",
      "True\n",
      "True\n"
     ]
    }
   ],
   "source": [
    "print(palindrome(\"DAVAD\"))\n",
    "print(palindrome(\"DAVE\"))\n",
    "print(palindrome(\"OVO\"))\n",
    "print(palindrome(\"AA\"))"
   ]
  },
  {
   "cell_type": "markdown",
   "id": "4e9b17fc",
   "metadata": {},
   "source": [
    "<div class=\"alert alert-block alert-warning\">\n",
    "  <strong><font color=\"blue\" size=\"5em\">프로그래밍 연습</font></strong><br><br>\n",
    "    \n",
    "  1. 정수 n에 대해<br>\n",
    "  2. n이 홀수이면 3 X n + 1 을 하고,<br>\n",
    "  3. n이 짝수이면 n 을 2로 나눕니다.<br>\n",
    "  4. 이렇게 계속 진행해서 n 이 결국 1이 될 때까지 2와 3의 과정을 반복합니다.<br>\n",
    "</div>\n",
    "<pre>\n",
    "예를 들어 n에 3을 넣으면,\n",
    "3\n",
    "10\n",
    "5\n",
    "16\n",
    "8\n",
    "4\n",
    "2\n",
    "1\n",
    "이 됩니다.\n",
    "이렇게 정수 n을 입력받아, 위 알고리즘에 의해 1이 되는 과정을 모두 출력하는 함수를 작성하세요.\n",
    "</pre>"
   ]
  },
  {
   "cell_type": "markdown",
   "id": "2e3eff57",
   "metadata": {},
   "source": [
    "#### 나의 풀이"
   ]
  },
  {
   "cell_type": "code",
   "execution_count": 123,
   "id": "8ecfdebd",
   "metadata": {},
   "outputs": [],
   "source": [
    "def function(num):\n",
    "    print(num)\n",
    "    if num == 1:\n",
    "        return num\n",
    "    elif num % 2 == 0:\n",
    "        num = num / 2\n",
    "        return function(num)\n",
    "    else:\n",
    "        num = num * 3 + 1\n",
    "        return function(num)"
   ]
  },
  {
   "cell_type": "code",
   "execution_count": 124,
   "id": "796585ca",
   "metadata": {},
   "outputs": [
    {
     "name": "stdout",
     "output_type": "stream",
     "text": [
      "3\n",
      "10\n",
      "5.0\n",
      "16.0\n",
      "8.0\n",
      "4.0\n",
      "2.0\n",
      "1.0\n"
     ]
    },
    {
     "data": {
      "text/plain": [
       "1.0"
      ]
     },
     "execution_count": 124,
     "metadata": {},
     "output_type": "execute_result"
    }
   ],
   "source": [
    "function(3)"
   ]
  },
  {
   "cell_type": "code",
   "execution_count": 125,
   "id": "0cd8a786",
   "metadata": {},
   "outputs": [
    {
     "name": "stdout",
     "output_type": "stream",
     "text": [
      "5\n",
      "16\n",
      "8.0\n",
      "4.0\n",
      "2.0\n",
      "1.0\n"
     ]
    },
    {
     "data": {
      "text/plain": [
       "1.0"
      ]
     },
     "execution_count": 125,
     "metadata": {},
     "output_type": "execute_result"
    }
   ],
   "source": [
    "function(5)"
   ]
  },
  {
   "cell_type": "markdown",
   "id": "816edd6b",
   "metadata": {},
   "source": [
    "#### 풀이"
   ]
  },
  {
   "cell_type": "code",
   "execution_count": 108,
   "id": "621022c2",
   "metadata": {},
   "outputs": [],
   "source": [
    "def func(n):\n",
    "    print(n)\n",
    "    if n == 1:\n",
    "        return n\n",
    "    \n",
    "    if n % 2 == 1:\n",
    "        return (func((3 * n) + 1))\n",
    "    else:\n",
    "        return (func(n / 2))"
   ]
  },
  {
   "cell_type": "code",
   "execution_count": 109,
   "id": "40592e45",
   "metadata": {},
   "outputs": [
    {
     "name": "stdout",
     "output_type": "stream",
     "text": [
      "3\n",
      "10\n",
      "5.0\n",
      "16.0\n",
      "8.0\n",
      "4.0\n",
      "2.0\n",
      "1.0\n"
     ]
    },
    {
     "data": {
      "text/plain": [
       "1.0"
      ]
     },
     "execution_count": 109,
     "metadata": {},
     "output_type": "execute_result"
    }
   ],
   "source": [
    "func(3)"
   ]
  },
  {
   "cell_type": "code",
   "execution_count": 110,
   "id": "bee9492f",
   "metadata": {},
   "outputs": [
    {
     "name": "stdout",
     "output_type": "stream",
     "text": [
      "5\n",
      "16\n",
      "8.0\n",
      "4.0\n",
      "2.0\n",
      "1.0\n"
     ]
    },
    {
     "data": {
      "text/plain": [
       "1.0"
      ]
     },
     "execution_count": 110,
     "metadata": {},
     "output_type": "execute_result"
    }
   ],
   "source": [
    "func(5)"
   ]
  },
  {
   "cell_type": "markdown",
   "id": "d1b135fb",
   "metadata": {},
   "source": [
    "<div class=\"alert alert-block alert-warning\">\n",
    "  <strong><font color=\"blue\" size=\"5em\">프로그래밍 연습</font></strong><br><br>\n",
    "    \n",
    "문제: 정수 4를 1, 2, 3의 조합으로 나타내는 방법은 다음과 같이 총 7가지가 있음<br>\n",
    "1+1+1+1<br>\n",
    "1+1+2<br>\n",
    "1+2+1<br>\n",
    "2+1+1<br>\n",
    "2+2<br>\n",
    "1+3<br>\n",
    "3+1<br>\n",
    "정수 n이 입력으로 주어졌을 때, n을 1, 2, 3의 합으로 나타낼 수 있는 방법의 수를 구하시오\n",
    "</div>\n",
    "<pre>\n",
    "힌트: 정수 n을 만들 수 있는 경우의 수를 리턴하는 함수를 f(n) 이라고 하면,\n",
    "f(n)은 f(n-1) + f(n-2) + f(n-3) 과 동일하다는 패턴 찾기\n",
    "출처: ACM-ICPC > Regionals > Asia > Korea > Asia Regional - Taejon 2001 \n",
    "</pre>"
   ]
  },
  {
   "cell_type": "markdown",
   "id": "defbc225",
   "metadata": {},
   "source": [
    "#### 나의 풀이"
   ]
  },
  {
   "cell_type": "code",
   "execution_count": 177,
   "id": "692a6a20",
   "metadata": {},
   "outputs": [],
   "source": [
    "def function(num):\n",
    "    if num == 1:\n",
    "        return 1\n",
    "    elif num == 2:\n",
    "        return 2\n",
    "    elif num == 3:\n",
    "        return 4\n",
    "    else:\n",
    "        return function(num - 1) + function(num - 2) + function(num - 3)"
   ]
  },
  {
   "cell_type": "code",
   "execution_count": 178,
   "id": "f713194c",
   "metadata": {},
   "outputs": [
    {
     "name": "stdout",
     "output_type": "stream",
     "text": [
      "1\n",
      "2\n",
      "4\n",
      "7\n",
      "13\n",
      "24\n",
      "44\n",
      "81\n"
     ]
    }
   ],
   "source": [
    "print(function(1))\n",
    "print(function(2))\n",
    "print(function(3))\n",
    "print(function(4))\n",
    "print(function(5))\n",
    "print(function(6))\n",
    "print(function(7))\n",
    "print(function(8))"
   ]
  },
  {
   "cell_type": "markdown",
   "id": "38cd7b3d",
   "metadata": {},
   "source": [
    "#### 풀이"
   ]
  },
  {
   "cell_type": "code",
   "execution_count": 181,
   "id": "dd16fdc7",
   "metadata": {},
   "outputs": [],
   "source": [
    "def func(data):\n",
    "    if data == 1:\n",
    "        return 1\n",
    "    elif data == 2:\n",
    "        return 2\n",
    "    elif data == 3:\n",
    "        return 4\n",
    "    \n",
    "    return func(data-1) + func(data-2) + func(data-3)"
   ]
  },
  {
   "cell_type": "code",
   "execution_count": 182,
   "id": "06a07302",
   "metadata": {},
   "outputs": [
    {
     "data": {
      "text/plain": [
       "24"
      ]
     },
     "execution_count": 182,
     "metadata": {},
     "output_type": "execute_result"
    }
   ],
   "source": [
    "func(6)"
   ]
  }
 ],
 "metadata": {
  "kernelspec": {
   "display_name": "Python 3",
   "language": "python",
   "name": "python3"
  },
  "language_info": {
   "codemirror_mode": {
    "name": "ipython",
    "version": 3
   },
   "file_extension": ".py",
   "mimetype": "text/x-python",
   "name": "python",
   "nbconvert_exporter": "python",
   "pygments_lexer": "ipython3",
   "version": "3.8.8"
  }
 },
 "nbformat": 4,
 "nbformat_minor": 5
}
