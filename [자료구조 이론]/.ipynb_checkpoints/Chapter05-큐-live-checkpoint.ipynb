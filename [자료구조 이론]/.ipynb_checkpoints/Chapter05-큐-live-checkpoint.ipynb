{
 "cells": [
  {
   "cell_type": "markdown",
   "id": "893994c1",
   "metadata": {},
   "source": [
    "## 대표적인 데이터 구조4: 큐 (Queue)\n",
    "\n",
    "### 1. 큐 구조\n",
    "* 줄을 서는 행위와 유사\n",
    "* 가장 먼저 넣은 데이터를 가장 먼저 꺼낼 수 있는 구조\n",
    "  - 음식점에서 가장 먼저 줄을 선 사람이 제일 먼저 음식점에 입장하는 것과 동일\n",
    "  - FIFO(First-In, First-Out) 또는 LILO(Last-In, Last-Out) 방식으로 스택과 꺼내는 순서가 반대\n",
    "  \n",
    "<img src=\"https://www.fun-coding.org/00_Images/queue.png\" />\n",
    "* 출처: http://www.stoimen.com/blog/2012/06/05/computer-algorithms-stack-and-queue-data-structure/\n",
    "\n",
    "> 엑셀로 이해해보기"
   ]
  },
  {
   "cell_type": "markdown",
   "id": "a40d0605",
   "metadata": {},
   "source": [
    "### 2. 알아둘 용어\n",
    "* Enqueue: 큐에 데이터를 넣는 기능\n",
    "* Dequeue: 큐에서 데이터를 꺼내는 기능\n",
    "* <font color='#BF360C'>Visualgo 사이트에서 시연해보며 이해하기 (enqueue/dequeue 만 클릭해보며): https://visualgo.net/en/list"
   ]
  },
  {
   "cell_type": "markdown",
   "id": "7b3badc5",
   "metadata": {},
   "source": [
    "### 3. 파이썬 queue 라이브러리 활용해서 큐 자료 구조 사용하기\n",
    "* **queue 라이브러리에는 다양한 큐 구조로 Queue(), LifoQueue(), PriorityQueue() 제공\n",
    "* <font color=\"#BF360C\">프로그램을 작성할 때 프로그램에 따라 적합한 자료 구조를 사용</font>\n",
    " - Queue(): 가장 일반적인 큐 자료 구조\n",
    " - LifoQueue(): 나중에 입력된 데이터가 먼저 출력되는 구조 (스택 구조라고 보면 됨)\n",
    " - PriorityQueue(): 데이터마다 우선순위를 넣어서, 우선순위가 높은 순으로 데이터 출력\n",
    " \n",
    " > 일반적인 큐 외에 다양한 정책이 적용된 큐들이 있음"
   ]
  },
  {
   "cell_type": "markdown",
   "id": "a83acbc3",
   "metadata": {},
   "source": [
    "#### 3.1. Queue()로 큐 만들기 (가장 일반적인 큐, FIFO(First-In, First-Out)"
   ]
  },
  {
   "cell_type": "code",
   "execution_count": 2,
   "id": "06802aa1",
   "metadata": {},
   "outputs": [],
   "source": [
    "import queue\n",
    "\n",
    "data_queue = queue.Queue()"
   ]
  },
  {
   "cell_type": "code",
   "execution_count": 3,
   "id": "c66f4498",
   "metadata": {},
   "outputs": [],
   "source": [
    "data_queue.put(\"funcoding\")\n",
    "data_queue.put(1)"
   ]
  },
  {
   "cell_type": "code",
   "execution_count": 5,
   "id": "5f3ef255",
   "metadata": {},
   "outputs": [
    {
     "data": {
      "text/plain": [
       "2"
      ]
     },
     "execution_count": 5,
     "metadata": {},
     "output_type": "execute_result"
    }
   ],
   "source": [
    "data_queue.qsize()"
   ]
  },
  {
   "cell_type": "code",
   "execution_count": 6,
   "id": "f356b200",
   "metadata": {},
   "outputs": [
    {
     "data": {
      "text/plain": [
       "'funcoding'"
      ]
     },
     "execution_count": 6,
     "metadata": {},
     "output_type": "execute_result"
    }
   ],
   "source": [
    "data_queue.get()"
   ]
  },
  {
   "cell_type": "code",
   "execution_count": 8,
   "id": "fb693ea6",
   "metadata": {},
   "outputs": [
    {
     "data": {
      "text/plain": [
       "1"
      ]
     },
     "execution_count": 8,
     "metadata": {},
     "output_type": "execute_result"
    }
   ],
   "source": [
    "data_queue.qsize()"
   ]
  },
  {
   "cell_type": "code",
   "execution_count": 9,
   "id": "c03d9151",
   "metadata": {},
   "outputs": [
    {
     "data": {
      "text/plain": [
       "1"
      ]
     },
     "execution_count": 9,
     "metadata": {},
     "output_type": "execute_result"
    }
   ],
   "source": [
    "data_queue.get()"
   ]
  },
  {
   "cell_type": "code",
   "execution_count": 10,
   "id": "21a77064",
   "metadata": {},
   "outputs": [
    {
     "data": {
      "text/plain": [
       "0"
      ]
     },
     "execution_count": 10,
     "metadata": {},
     "output_type": "execute_result"
    }
   ],
   "source": [
    "data_queue.qsize()"
   ]
  },
  {
   "cell_type": "markdown",
   "id": "86386998",
   "metadata": {},
   "source": [
    "#### 3.2. LifoQueue()로 큐 만들기 (LIFO(Last-In, First-Out))"
   ]
  },
  {
   "cell_type": "code",
   "execution_count": 19,
   "id": "60a839d9",
   "metadata": {},
   "outputs": [],
   "source": [
    "import queue\n",
    "data_queue = queue.LifoQueue()"
   ]
  },
  {
   "cell_type": "code",
   "execution_count": 20,
   "id": "05ddb54a",
   "metadata": {},
   "outputs": [],
   "source": [
    "data_queue.put(\"funcoding\")\n",
    "data_queue.put(1)"
   ]
  },
  {
   "cell_type": "code",
   "execution_count": 21,
   "id": "9a971bce",
   "metadata": {},
   "outputs": [
    {
     "data": {
      "text/plain": [
       "2"
      ]
     },
     "execution_count": 21,
     "metadata": {},
     "output_type": "execute_result"
    }
   ],
   "source": [
    "data_queue.qsize()"
   ]
  },
  {
   "cell_type": "code",
   "execution_count": 23,
   "id": "9986ff46",
   "metadata": {},
   "outputs": [
    {
     "data": {
      "text/plain": [
       "1"
      ]
     },
     "execution_count": 23,
     "metadata": {},
     "output_type": "execute_result"
    }
   ],
   "source": [
    "data_queue.get()"
   ]
  },
  {
   "cell_type": "markdown",
   "id": "24722366",
   "metadata": {},
   "source": [
    "#### 3.3. PriorityQueue()로 큐 만들기"
   ]
  },
  {
   "cell_type": "code",
   "execution_count": 1,
   "id": "b6b53da8",
   "metadata": {},
   "outputs": [],
   "source": [
    "import queue\n",
    "data_queue = queue.PriorityQueue()"
   ]
  },
  {
   "cell_type": "code",
   "execution_count": 2,
   "id": "d30411ad",
   "metadata": {},
   "outputs": [],
   "source": [
    "data_queue.put((10,\"korea\"))\n",
    "data_queue.put((5,1))\n",
    "data_queue.put((15,\"china\"))"
   ]
  },
  {
   "cell_type": "code",
   "execution_count": 3,
   "id": "785adfaf",
   "metadata": {
    "scrolled": true
   },
   "outputs": [
    {
     "data": {
      "text/plain": [
       "3"
      ]
     },
     "execution_count": 3,
     "metadata": {},
     "output_type": "execute_result"
    }
   ],
   "source": [
    "data_queue.qsize()"
   ]
  },
  {
   "cell_type": "code",
   "execution_count": 4,
   "id": "7b70d816",
   "metadata": {},
   "outputs": [
    {
     "data": {
      "text/plain": [
       "(5, 1)"
      ]
     },
     "execution_count": 4,
     "metadata": {},
     "output_type": "execute_result"
    }
   ],
   "source": [
    "data_queue.get()"
   ]
  },
  {
   "cell_type": "code",
   "execution_count": 5,
   "id": "1708dc26",
   "metadata": {},
   "outputs": [
    {
     "data": {
      "text/plain": [
       "(10, 'korea')"
      ]
     },
     "execution_count": 5,
     "metadata": {},
     "output_type": "execute_result"
    }
   ],
   "source": [
    "data_queue.get()"
   ]
  },
  {
   "cell_type": "code",
   "execution_count": 6,
   "id": "a1354ef6",
   "metadata": {},
   "outputs": [
    {
     "data": {
      "text/plain": [
       "1"
      ]
     },
     "execution_count": 6,
     "metadata": {},
     "output_type": "execute_result"
    }
   ],
   "source": [
    "data_queue.qsize()"
   ]
  },
  {
   "cell_type": "markdown",
   "id": "b234c503",
   "metadata": {},
   "source": [
    "### 참고: 어디에 큐가 많이 쓰일까?\n",
    "- 멀티 태스킹을 위한 프로세스 스케쥴링 방식을 구현하기 위해 많이 사용됨 (운영체제 참조)\n",
    "\n",
    "> 큐의 경우에는 장단점 보다는 (특별히 언급되는 장단점이 없음), 큐의 활용 예로 프로세스 스케쥴링 방식을 함께 이해해두는 것이 좋음"
   ]
  },
  {
   "cell_type": "markdown",
   "id": "9aeff804",
   "metadata": {},
   "source": [
    "### 4. 프로그래밍 연습"
   ]
  },
  {
   "cell_type": "markdown",
   "id": "17b53ca4",
   "metadata": {},
   "source": [
    "<div class=\"alert alert-block alert-warning\">\n",
    "<strong><font color=\"blue\" size=\"3em\">연습1: 리스트 변수로 큐를 다루는 enqueue, dequeue 기능 구현해 보기</font></strong>\n",
    "</div>"
   ]
  },
  {
   "cell_type": "markdown",
   "id": "2546c4c6",
   "metadata": {},
   "source": [
    "#### 나의 풀이"
   ]
  },
  {
   "cell_type": "code",
   "execution_count": 1,
   "id": "cd974484",
   "metadata": {},
   "outputs": [],
   "source": [
    "data_queue = list()"
   ]
  },
  {
   "cell_type": "code",
   "execution_count": 2,
   "id": "1c36f8ec",
   "metadata": {},
   "outputs": [],
   "source": [
    "def enqueue(str):\n",
    "    data_queue.append(str)\n",
    "    \n",
    "def dequeue():\n",
    "    print(data_queue[0])\n",
    "    data_queue.remove(data_queue[0])\n",
    "    \n",
    "def qsize():\n",
    "    print(len(data_queue))"
   ]
  },
  {
   "cell_type": "code",
   "execution_count": 3,
   "id": "4e05f5c4",
   "metadata": {},
   "outputs": [],
   "source": [
    "enqueue(\"funcoding\")\n",
    "enqueue(1)"
   ]
  },
  {
   "cell_type": "code",
   "execution_count": 4,
   "id": "736a8d66",
   "metadata": {
    "scrolled": true
   },
   "outputs": [
    {
     "name": "stdout",
     "output_type": "stream",
     "text": [
      "2\n"
     ]
    }
   ],
   "source": [
    "qsize()"
   ]
  },
  {
   "cell_type": "code",
   "execution_count": 5,
   "id": "e344ecb7",
   "metadata": {
    "scrolled": true
   },
   "outputs": [
    {
     "name": "stdout",
     "output_type": "stream",
     "text": [
      "funcoding\n"
     ]
    }
   ],
   "source": [
    "dequeue()"
   ]
  },
  {
   "cell_type": "code",
   "execution_count": 6,
   "id": "06bf2a82",
   "metadata": {},
   "outputs": [
    {
     "name": "stdout",
     "output_type": "stream",
     "text": [
      "1\n"
     ]
    }
   ],
   "source": [
    "qsize()"
   ]
  },
  {
   "cell_type": "code",
   "execution_count": 7,
   "id": "05fbce6d",
   "metadata": {},
   "outputs": [
    {
     "name": "stdout",
     "output_type": "stream",
     "text": [
      "1\n"
     ]
    }
   ],
   "source": [
    "dequeue()"
   ]
  },
  {
   "cell_type": "code",
   "execution_count": 8,
   "id": "1e3ccd9d",
   "metadata": {},
   "outputs": [
    {
     "name": "stdout",
     "output_type": "stream",
     "text": [
      "0\n"
     ]
    }
   ],
   "source": [
    "qsize()"
   ]
  },
  {
   "cell_type": "markdown",
   "id": "f339e88a",
   "metadata": {},
   "source": [
    "#### 풀이"
   ]
  },
  {
   "cell_type": "code",
   "execution_count": 10,
   "id": "e83660c2",
   "metadata": {},
   "outputs": [],
   "source": [
    "queue_list = list()\n",
    "\n",
    "def enqueue(data):\n",
    "    queue_list.append(data)\n",
    "\n",
    "def dequeue():\n",
    "    data = queue_list[0]\n",
    "    del queue_list[0]\n",
    "    return data\n",
    "    "
   ]
  },
  {
   "cell_type": "code",
   "execution_count": 11,
   "id": "0e66226f",
   "metadata": {},
   "outputs": [],
   "source": [
    "for index in range(10):\n",
    "    enqueue(index)"
   ]
  },
  {
   "cell_type": "code",
   "execution_count": 12,
   "id": "1825c992",
   "metadata": {},
   "outputs": [
    {
     "data": {
      "text/plain": [
       "10"
      ]
     },
     "execution_count": 12,
     "metadata": {},
     "output_type": "execute_result"
    }
   ],
   "source": [
    "len(queue_list)"
   ]
  },
  {
   "cell_type": "code",
   "execution_count": 18,
   "id": "437ebd7c",
   "metadata": {},
   "outputs": [
    {
     "data": {
      "text/plain": [
       "5"
      ]
     },
     "execution_count": 18,
     "metadata": {},
     "output_type": "execute_result"
    }
   ],
   "source": [
    "dequeue()"
   ]
  },
  {
   "cell_type": "markdown",
   "id": "b5c615bc",
   "metadata": {},
   "source": [
    "### 쉬어가기: https://youtu.be/u6RoU-SDpYE"
   ]
  }
 ],
 "metadata": {
  "kernelspec": {
   "display_name": "Python 3",
   "language": "python",
   "name": "python3"
  },
  "language_info": {
   "codemirror_mode": {
    "name": "ipython",
    "version": 3
   },
   "file_extension": ".py",
   "mimetype": "text/x-python",
   "name": "python",
   "nbconvert_exporter": "python",
   "pygments_lexer": "ipython3",
   "version": "3.8.8"
  }
 },
 "nbformat": 4,
 "nbformat_minor": 5
}
