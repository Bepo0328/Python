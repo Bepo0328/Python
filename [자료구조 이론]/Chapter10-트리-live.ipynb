{
 "cells": [
  {
   "cell_type": "markdown",
   "id": "63cfd9b6",
   "metadata": {},
   "source": [
    "## 대표적인 데이터 구조7: 트리"
   ]
  },
  {
   "cell_type": "markdown",
   "id": "8a3a068d",
   "metadata": {},
   "source": [
    "### 1. 트리 (Tree) 구조\n",
    "- 트리: Node와 Branch를 이용하여, 사이클을 이루지 않도록 구성한 데이터 구조\n",
    "- 실제로 어디에 많이 상용되나?\n",
    "  - 트리 중 이진 트리(Binary Tree) 형태의 구조로, 탐색(검색) 알고리즘 구현을 위해 많이 사용됨"
   ]
  },
  {
   "cell_type": "markdown",
   "id": "2f0d578e",
   "metadata": {},
   "source": [
    "### 2. 알아둘 용어\n",
    "- Node: 트리에서 데이터를 저장하는 기본 요소(데이터와 다른 연결된 노드에 대한 Branch 정보 포함)\n",
    "- Root Node: 트리 맨 위에 있는 노드\n",
    "- Level: 최상위 노드를 Level 0으로 하였을 때, 하위 Branch로 연결된 노드의 깊이를 나타냄\n",
    "- Parent Node: 어떤 노드의 다음 레벨에 연결된 노드\n",
    "- Child Node: 어떤 노드의 상위 레벨에 연결된 노드\n",
    "- Leaf Node (Terminal Node): Child Node가 하나도 없는 노드\n",
    "- Sibling (Brother Node): 동일한 Parent Node를 가진 노드\n",
    "- Depth: 트리에서 Node가 가질 수 있는 최대 Level"
   ]
  },
  {
   "cell_type": "markdown",
   "id": "ba3dec91",
   "metadata": {},
   "source": [
    "<img src=\"http://www.fun-coding.org/00_Images/tree.png\" width=\"600\" />"
   ]
  },
  {
   "cell_type": "markdown",
   "id": "8beaeda2",
   "metadata": {},
   "source": [
    "### 3. 이진 트리와 이진 탐색 트리 (Binary Search Tree)\n",
    "- 이진 트리: 노드의 최대 Branch가 2인 트리\n",
    "- 이진 탐색 트리 (Binary Search Tree, BST): 이진 트리에 다음과 같은 추가적인 조건이 있는 트리\n",
    "  - 왼쪽 노드는 해당 노드보다 작은 값, 오른쪽 노드는 해당 노드보다 큰 값을 가지고 있음!"
   ]
  },
  {
   "cell_type": "markdown",
   "id": "8f33fd1b",
   "metadata": {},
   "source": [
    "<img src=\"https://www.mathwarehouse.com/programming/images/binary-search-tree/binary-search-tree-insertion-animation.gif\" />\n",
    "\n",
    "(출처: https://www.mathwarehouse.com/programming/gifs/binary-search-tree.php#binary-search-tree-insertion-node) "
   ]
  },
  {
   "cell_type": "markdown",
   "id": "f5f98f0d",
   "metadata": {},
   "source": [
    "### 4. 자료 구조 이진 탐색 트리의 장점과 주요 용도\n",
    "- 주요 용도: 데이터 검색(탐색)\n",
    "- 장점: 탐색 속도를 개선 할 수 있음\n",
    "> 단점은 이진 탐색 트리 알고리즘 이해 후에 살펴보기로 함"
   ]
  },
  {
   "cell_type": "markdown",
   "id": "8b6ffe92",
   "metadata": {},
   "source": [
    "### 이진트리와 정렬된 배열간의 탐색 비교\n",
    "\n",
    "<img src=\"https://www.mathwarehouse.com/programming/images/binary-search-tree/binary-search-tree-sorted-array-animation.gif\" />\n",
    "\n",
    "(출처: https://www.mathwarehouse.com/programming/gifs/binary-search-tree.php#binary-search-tree-insertion-node)"
   ]
  },
  {
   "cell_type": "markdown",
   "id": "7cc1b4fe",
   "metadata": {},
   "source": [
    "### 5. 파이썬 객체 지향 프로그래밍으로 링크드 리스트 구현하기"
   ]
  },
  {
   "cell_type": "markdown",
   "id": "d5c7ae9d",
   "metadata": {},
   "source": [
    "#### 5.1. 노드 클래스 만들기"
   ]
  },
  {
   "cell_type": "code",
   "execution_count": 1,
   "id": "1a5a4c8d",
   "metadata": {},
   "outputs": [],
   "source": [
    "class Node:\n",
    "    def __init__(self, value):\n",
    "        self.value = value\n",
    "        self.left = None\n",
    "        self.right = None"
   ]
  },
  {
   "cell_type": "markdown",
   "id": "afe1deab",
   "metadata": {},
   "source": [
    "#### 5.2. 이진 탐색 트리에 데이터 넣기\n",
    "- 이진 탐색 트리 조건에 부합하게 데이터를 넣어야 함"
   ]
  },
  {
   "cell_type": "code",
   "execution_count": 3,
   "id": "c27954b0",
   "metadata": {},
   "outputs": [],
   "source": [
    "class NodeMgmt:\n",
    "    def __init__(self, head):\n",
    "        self.head = head\n",
    "        \n",
    "    def insert(self, value):\n",
    "        self.current_node = self.head\n",
    "        while True:\n",
    "            if value < self.current_node.value:\n",
    "                if self.current_node.left != None:\n",
    "                    self.current_node = self.current_node.left\n",
    "                else:\n",
    "                    self.current_node.left = Node(value)\n",
    "                    break\n",
    "            else:\n",
    "                if self.current_node.right != None:\n",
    "                    self.current_node = self.current_node.right\n",
    "                else:\n",
    "                    self.current_node.right = Node(value)\n",
    "                    break"
   ]
  },
  {
   "cell_type": "code",
   "execution_count": 4,
   "id": "ab507b55",
   "metadata": {},
   "outputs": [],
   "source": [
    "head = Node(1)\n",
    "BST = NodeMgmt(head)\n",
    "BST.insert(2)"
   ]
  },
  {
   "cell_type": "markdown",
   "id": "2f80372c",
   "metadata": {},
   "source": [
    "#### 5.3. 이진 탐색 트리 탐색"
   ]
  },
  {
   "cell_type": "code",
   "execution_count": 40,
   "id": "197166b4",
   "metadata": {},
   "outputs": [],
   "source": [
    "class NodeMgmt:\n",
    "    def __init__(self, head):\n",
    "        self.head = head\n",
    "        \n",
    "    def insert(self, value):\n",
    "        self.current_node = self.head\n",
    "        while True:\n",
    "            if value < self.current_node.value:\n",
    "                if self.current_node.left != None:\n",
    "                    self.current_node = self.current_node.left\n",
    "                else:\n",
    "                    self.current_node.left = Node(value)\n",
    "                    break\n",
    "            else:\n",
    "                if self.current_node.right != None:\n",
    "                    self.current_node = self.current_node.right\n",
    "                else:\n",
    "                    self.current_node.right = Node(value)\n",
    "                    break\n",
    "    def search(self, value):\n",
    "        self.current_node = self.head\n",
    "        while self.current_node:\n",
    "            if self.current_node.value == value:\n",
    "                return True\n",
    "            elif value < self.current_node.value:\n",
    "                self.current_node = self.current_node.left\n",
    "            else:\n",
    "                self.current_node = self.current_node.right\n",
    "        return False"
   ]
  },
  {
   "cell_type": "code",
   "execution_count": 41,
   "id": "b623dcda",
   "metadata": {},
   "outputs": [],
   "source": [
    "head = Node(1)\n",
    "BST = NodeMgmt(head)\n",
    "BST.insert(2)\n",
    "BST.insert(3)\n",
    "BST.insert(0)\n",
    "BST.insert(4)\n",
    "BST.insert(8)"
   ]
  },
  {
   "cell_type": "code",
   "execution_count": 44,
   "id": "83271865",
   "metadata": {},
   "outputs": [
    {
     "data": {
      "text/plain": [
       "False"
      ]
     },
     "execution_count": 44,
     "metadata": {},
     "output_type": "execute_result"
    }
   ],
   "source": [
    "BST.search(-1)"
   ]
  },
  {
   "cell_type": "markdown",
   "id": "06a4f8b9",
   "metadata": {},
   "source": [
    "#### 5.4. 이진 탐색 트리 삭제\n",
    "- 매우 복잡함. **경우를 나누어서 이해하는 것이 좋음**"
   ]
  },
  {
   "cell_type": "markdown",
   "id": "b83ed352",
   "metadata": {},
   "source": [
    "#### 5.4.1. Leaf Node 삭제\n",
    "- Leaf Node: Child Node가 없는 Node\n",
    "- 삭제할 Node의 Parent Node가 삭제할 Node를 가리키지 않도록 한다."
   ]
  },
  {
   "cell_type": "markdown",
   "id": "b62b27da",
   "metadata": {},
   "source": [
    "<img src=\"http://www.fun-coding.org/00_Images/tree_remove_leaf.png\" width=\"800\" />"
   ]
  },
  {
   "cell_type": "markdown",
   "id": "91dee202",
   "metadata": {},
   "source": [
    "#### 5.4.2. Child Node 가 하나면 Node 삭제\n",
    "- 삭제할 Node의 Parent Node가 삭제할 Node의 Child Node를 가리키도록 한다."
   ]
  },
  {
   "cell_type": "markdown",
   "id": "be14618f",
   "metadata": {},
   "source": [
    "<img src=\"http://www.fun-coding.org/00_Images/tree_remove_1child.png\" width=\"800\" />"
   ]
  },
  {
   "cell_type": "markdown",
   "id": "83c8a9bf",
   "metadata": {},
   "source": [
    "#### 5.4.3. Child Node가 두개인 Node 삭제\n",
    "1. **삭제할 Node의 오른쪽 자식중, 가장 작은 값을 삭제할 Node의 Parent Node가 가리키도록 한다.**\n",
    "2. 삭제할 Node의 왼쪽 자식 중, 가장 큰 값을 삭제할 Node의 Parent Node가 가리키도록 한다."
   ]
  },
  {
   "cell_type": "markdown",
   "id": "16955af9",
   "metadata": {},
   "source": [
    "<img src=\"http://www.fun-coding.org/00_Images/tree_remove_2child.png\" width=\"800\" />"
   ]
  },
  {
   "cell_type": "markdown",
   "id": "babeb3ed",
   "metadata": {},
   "source": [
    "##### 5.4.3.1. 삭제할 Node의 오른쪽 자식중, 가장 작은 값을 삭제할 Node의 Parent Node가 가리키게 할 경우\n",
    "- 삭제할 Node의 오른쪽 자식 선택\n",
    "- 오른쪽 자식의 가장 왼쪽에 있는 Node를 선택\n",
    "- 해당 Node를 삭제할 Node의 Parent Node의 왼쪽 Branch가 가리키게 함\n",
    "- 해당 Node의 왼쪽 Branch가 삭제할 Node의 왼쪽 Child Node를 가리키게 함\n",
    "- 해당 Node의 오른쪽 Branch가 삭제할 Node의 오른쪽 Child Node를 가리키게 함\n",
    "- 만약 해당 Node가 오른쪽 Child Node를 가지고 있었을 경우에는, 해당 Node의 본래 Parent Node의 왼쪽 Branch가 해당 오른쪽 Child Node를 가리키게 함"
   ]
  },
  {
   "cell_type": "markdown",
   "id": "33fec8d4",
   "metadata": {},
   "source": [
    "### 5.5. 이진 탐색 트리 삭제 코드 구현과 분석"
   ]
  },
  {
   "cell_type": "markdown",
   "id": "251a0828",
   "metadata": {},
   "source": [
    "#### 5.5.1. 삭제할 Node 탐색\n",
    "- 삭제할 Node가 없는 경우도 처리해야 함\n",
    "  - 이를 위해 삭제할 Node가 없는 경우는 False를 리턴하고, 함수를 종료 시킴"
   ]
  },
  {
   "cell_type": "code",
   "execution_count": null,
   "id": "4c4b3155",
   "metadata": {},
   "outputs": [],
   "source": [
    "def delete(self, value):\n",
    "    searched = False\n",
    "    self.current_node = self.head\n",
    "    self.parent = self.head\n",
    "    while self.current_node:\n",
    "        if self.current_node.value == value:\n",
    "            searched = True\n",
    "            break\n",
    "        elif value < self.current_node.value:\n",
    "            self.parent = self.current_node\n",
    "            self.current_node = self.current_node.left\n",
    "        else:\n",
    "            self.parent = self.current_node\n",
    "            self.current_node = self.current_node.right\n",
    "            \n",
    "    if searched == False:\n",
    "        return False\n",
    "    \n",
    "    ### 이후 부터 Case들을 분리해서, 코드 작성"
   ]
  },
  {
   "cell_type": "markdown",
   "id": "498587c2",
   "metadata": {},
   "source": [
    "#### 5.5.2. Case:1 삭제할 Node가 Leaf Node 인 경우\n",
    "\n",
    "<img src=\"http://www.fun-coding.org/00_Images/tree_remove_leaf_code.png\" width=\"600\" />"
   ]
  },
  {
   "cell_type": "code",
   "execution_count": null,
   "id": "cbee9cce",
   "metadata": {},
   "outputs": [],
   "source": [
    "# self.current_node 가 삭제할 Node, self.parnt는 삭제할 Node의 parent Node인 상태\n",
    "    if self.current_node.left == None and self.current_node.right == None:\n",
    "        if value < self.parent.value:\n",
    "            self.parent.left = None\n",
    "        else:\n",
    "            self.parent.right = None\n",
    "        del self.current_node"
   ]
  },
  {
   "cell_type": "markdown",
   "id": "450e7576",
   "metadata": {},
   "source": [
    "#### 5.5.3. Case2: 삭제할 Node가 Child Node를 한 개 가지고 있을 경우\n",
    "\n",
    "<img src=\"http://www.fun-coding.org/00_Images/tree_remove_1child_code.png\" width=\"400\" />"
   ]
  },
  {
   "cell_type": "code",
   "execution_count": null,
   "id": "2afd80dd",
   "metadata": {},
   "outputs": [],
   "source": [
    "    # Case2-1번 Child Node가 왼쪽일때\n",
    "    if self.current_node.left != None and self.current_node.right == None:\n",
    "        if value < self.current_node.value:\n",
    "            self.parent.left = self.current_node.left\n",
    "        else:\n",
    "            self.parent.right = self.current_node.left\n",
    "    # Case 2-2번 Child Node가 오른쪽일때\n",
    "    elif self.current_node.left == None and self.current_node.right != None:\n",
    "        if value < self.current_node.value:\n",
    "            self.parent.left = self.current_node.right\n",
    "        else:\n",
    "            self.parent.right = self.current_node.right"
   ]
  },
  {
   "cell_type": "markdown",
   "id": "ba4125de",
   "metadata": {},
   "source": [
    "#### 5.5.4. Case3-1: 삭제할 Node가 Child Node를 두 개 가지고 있을 경우 (삭제할 Node가 Parent Node 왼쪽에 있을 때)\n",
    "- 기본 사용 가능 전략\n",
    "  1. **삭제할 Node의 오른쪽 자식 중, 가장 작은 값을 삭제할 Node의 Parent Node가 가리키도록 한다.**\n",
    "  2. 삭제할 Node의 왼쪽 자식 중, 가장 큰 값을 삭제할 Node의 Parent Node가 가리키도록 한다.\n",
    "- 기본 사용 가능 전략 중, 1번 전략을 사용하여 코드를 구현하기로 함\n",
    "  - 경우의 수가 또 다시 두가지가 있음\n",
    "    - **Case3-1-1:** 삭제할 Node가 Parent Node의 왼쪽에 있고, 삭제할 Node의 오른쪽 자식 중, 가장 작은 값을 가진 Node의 Child Node가 없을 때\n",
    "    - **Case3-1-2:** 삭제할 Node가 Parent Node의 왼쪽에 있고, 삭제할 Node의 오른쪽 자식 중, 가장 작은 값을 가진 Node의 오른쪽에 Child Node가 있을 때\n",
    "      - 가장 작은 값을 가진 Node의 Child Node가 왼쪽에 있을 경우는 없음, 왜나하면 왼쪽 Node가 있다는 것은 해당 Node보다 더 작은 값을 가진 Node가 있다는 뜻 이기 때문임\n",
    "\n",
    "<img src=\"http://www.fun-coding.org/00_Images/tree_remove_2child_code_left.png\" width=\"600\" />"
   ]
  },
  {
   "cell_type": "code",
   "execution_count": null,
   "id": "5b09c796",
   "metadata": {},
   "outputs": [],
   "source": []
  },
  {
   "cell_type": "code",
   "execution_count": null,
   "id": "97480270",
   "metadata": {},
   "outputs": [],
   "source": [
    "    # Case 3\n",
    "    if self.current_node.left != None and self.current_node.right != None:\n",
    "        # Case 3-1\n",
    "        if value < self.parent.value: \n",
    "            self.change_node = self.current_node.right\n",
    "            self.change_node_parent = self.current_node.right\n",
    "            while self.change_node.left != None:\n",
    "                self.change_node_parent = self.change_node\n",
    "                self.change_node = self.change_node.left\n",
    "                \n",
    "            # Case 3-1-1, 3-1-2\n",
    "            if self.change_node.right != None:\n",
    "                self.change_node_parent.left = self.change_node.right\n",
    "            else:\n",
    "                 self.change_node_parent.left = None\n",
    "                \n",
    "            # 마지막으로 값을 변경\n",
    "            self.parent.left = self.change_node\n",
    "            self.change_node.right = self.current_node.right\n",
    "            self.change_node.left = self.current_node.left"
   ]
  },
  {
   "cell_type": "markdown",
   "id": "47d92207",
   "metadata": {},
   "source": [
    "#### 5.5.5. Case3-2: 삭제할 Node가 Child Node를 두 개 가지고 있을 경우 (삭제할 Node가 Parent Node 오른쪽에 있을 때)\n",
    "- 기본 사용 가능 전략\n",
    "  1. **삭제할 Node의 오른쪽 자식 중, 가장 작은 값을 삭제할 Node의 Parent Node가 가리키도록 한다.**\n",
    "  2. 삭제할 Node의 왼쪽 자식 중, 가장 큰 값을 삭제할 Node의 Parent Node가 가리키도록 한다.\n",
    "- 기본 사용 가능 전략 중, 1번 전략을 사용하여 코드를 구현하기로 함\n",
    "  - 경우의 수가 또다시 두가지가 있음\n",
    "    - **Case3-2-1:** 삭제할 Node가 Parent Node의 오른쪽에 있고, 삭제할 Node의 오른쪽 자식 중, 가장 작은 값을 가진 Node의 Child Node가 없을 때\n",
    "    - **Case3-2-2:** 삭제할 Node가 Parent Node의 오른쪽에 있고, 삭제할 Node의 오른쪽 자식 중, 가장 작은 값을 가진 Node의 오른쪽에 Child Node가 있을 때\n",
    "       - 가장 작은 값을 가진 Node의 Child Node가 왼쪽에 있을 경우는 없음, 왜냐하면 왼쪽 Node가 있다는 것은 해당 Node보다 더 작은 값을 가진 Node가 있다는 뜻이기 때문임\n",
    "       \n",
    "<img src=\"http://www.fun-coding.org/00_Images/tree_remove_2child_code_right.png\" width=\"600\" />"
   ]
  },
  {
   "cell_type": "code",
   "execution_count": null,
   "id": "b0760f32",
   "metadata": {},
   "outputs": [],
   "source": [
    "        # Case 3-2\n",
    "        else:\n",
    "            self.change_node = self.current_node.right\n",
    "            self.change_node_parent = self.current_node.right\n",
    "            while self.change_node.left != None:\n",
    "                self.change_node_parent = self.change_node\n",
    "                self.change_node = self.change_node.left\n",
    "                \n",
    "            # Case 3-2-1, 3-2-2\n",
    "            if self.change_node.right != None:\n",
    "                self.change_node_parent.left = self.change_node.right\n",
    "            else:\n",
    "                self.change_node_parent.left = None\n",
    "                \n",
    "            # 마지막으로 값을 변경\n",
    "            self.parent.right = self.change_node\n",
    "            self.change_node.right = self.current_node.right\n",
    "            self.change_node.left = self.current_node.left"
   ]
  },
  {
   "cell_type": "markdown",
   "id": "60787596",
   "metadata": {},
   "source": [
    "#### 5.5.6. 파이썬 전체 코드 구현"
   ]
  },
  {
   "cell_type": "code",
   "execution_count": 6,
   "id": "379c4b2a",
   "metadata": {},
   "outputs": [],
   "source": [
    "class Node:\n",
    "    def __init__(self, value):\n",
    "        self.value = value\n",
    "        self.left = None\n",
    "        self.right = None\n",
    "        \n",
    "class NodeMgmt:\n",
    "    def __init__(self, head):\n",
    "        self.head = head\n",
    "        \n",
    "    def insert(self, value):\n",
    "        self.current_node = self.head\n",
    "        while True:\n",
    "            if value < self.current_node.value:\n",
    "                if self.current_node.left != None:\n",
    "                    self.current_node = self.current_node.left\n",
    "                else:\n",
    "                    self.current_node.left = Node(value)\n",
    "                    break\n",
    "            else:\n",
    "                if self.current_node.right != None:\n",
    "                    self.current_node = self.current_node.right\n",
    "                else:\n",
    "                    self.current_node.right = Node(value)\n",
    "                    break\n",
    "                    \n",
    "    def search(self, value):\n",
    "        self.current_node = self.head\n",
    "        while self.current_node:\n",
    "            if self.current_node.value == value:\n",
    "                return True\n",
    "            elif value < self.current_node.value:\n",
    "                self.current_node = self.current_node.left\n",
    "            else:\n",
    "                self.current_node = self.current_node.right\n",
    "        return False\n",
    "    \n",
    "    def delete(self, value):\n",
    "        # 삭제할 노드 탐색\n",
    "        searched = False\n",
    "        self.current_node = self.head\n",
    "        self.parent = self.head\n",
    "        while self.current_node:\n",
    "            if self.current_node.value == value:\n",
    "                searched = True\n",
    "                break\n",
    "            elif value < self.current_node.value:\n",
    "                self.parent = self.current_node\n",
    "                self.current_node = self.current_node.left\n",
    "            else:\n",
    "                self.parent = self.current_node\n",
    "                self.current_node = self.current_node.right\n",
    "                \n",
    "        if searched == False:\n",
    "            return False\n",
    "            \n",
    "        # Case 1\n",
    "        if self.current_node.left == None and self.current_node.right == None:\n",
    "            if value < self.parent.value:\n",
    "                self.parent.left = None\n",
    "            else:\n",
    "                self.parent.right = None\n",
    "                \n",
    "        # Case 2\n",
    "        if self.current_node.left != None and self.current_node.right == None:\n",
    "            if value < self.parent.value:\n",
    "                self.parent.left = self.current_node.left\n",
    "            else:\n",
    "                self.parent.right = self.current_node.left\n",
    "        elif self.current_node.left == None and self.current_node.right != None:\n",
    "            if value < self.parent.value:\n",
    "                self.parent.left = self.current_node.right\n",
    "            else:\n",
    "                self.parent.right = self.current_node.right\n",
    "                \n",
    "        # Case 3\n",
    "        if self.current_node.left != None and self.current_node.right != None:\n",
    "            \n",
    "            # Case 3-1\n",
    "            if value < self.parent.value:\n",
    "                self.change_node = self.current_node.right\n",
    "                self.change_node_parent = self.current_node.right\n",
    "                \n",
    "                while self.change_node.left != None:\n",
    "                    self.change_node_parent = self.chagne_node\n",
    "                    self.change_node = self.change_node.left\n",
    "                    \n",
    "                if self.change_node.right != None:\n",
    "                    self.change_node_parent.left = self.change_node.right\n",
    "                else:\n",
    "                    self.change_node_parent.left = None\n",
    "                    \n",
    "                self.parent.left = self.change_node\n",
    "                self.change_node.right = self.current_node.right\n",
    "                self.change_node.left = self.current_node.left\n",
    "           \n",
    "            # Case 3-2\n",
    "            else:\n",
    "                self.change_node = self.current_node.right\n",
    "                self.change_node_parent = self.current_node.right\n",
    "                \n",
    "                while self.change_node.left != None:\n",
    "                    self.change_node_parent = self.chagne_node\n",
    "                    self.change_node = self.change_node.left\n",
    "                    \n",
    "                if self.change_node.right != None:\n",
    "                    self.change_node_parent.left = self.change_node.right\n",
    "                else:\n",
    "                    self.change_node_parent.left = None\n",
    "                    \n",
    "                self.parent.right = self.change_node\n",
    "                self.change_node.right = self.current_node.right\n",
    "                self.change_node.left = self.current_node.left\n",
    "                \n",
    "        return True"
   ]
  },
  {
   "cell_type": "markdown",
   "id": "b6b7720e",
   "metadata": {},
   "source": [
    "참고: http://ejklike.github.io/2018/01/09/traversing-a-binary-tree-1.html"
   ]
  },
  {
   "cell_type": "markdown",
   "id": "f0c02c19",
   "metadata": {},
   "source": [
    "#### 5.5.7. 파이썬 전체 코드 테스트\n",
    "- random 라이브러리 활용\n",
    "  - random.randint(첫번째 숫자, 마지막 숫자): 첫번째 숫자부터 마지막 숫자 사이에 있는 숫자를 랜덤하게 선택해서 리턴\n",
    "    - 예: random.rnadint(0, 99): 0에서 99까지 숫자중 특정 숫자를 랜덤하게 선택해서 리턴해줌"
   ]
  },
  {
   "cell_type": "code",
   "execution_count": 7,
   "id": "59a82542",
   "metadata": {},
   "outputs": [
    {
     "name": "stdout",
     "output_type": "stream",
     "text": [
      "{515, 4, 5, 518, 10, 15, 19, 537, 539, 27, 557, 76, 601, 90, 606, 97, 612, 622, 623, 624, 113, 632, 123, 130, 132, 647, 140, 147, 154, 158, 160, 165, 172, 173, 695, 701, 707, 708, 199, 203, 735, 225, 738, 227, 743, 746, 748, 752, 754, 245, 759, 776, 268, 784, 809, 812, 301, 816, 304, 308, 820, 310, 823, 824, 311, 833, 836, 837, 841, 852, 861, 864, 866, 867, 367, 369, 376, 385, 386, 905, 393, 419, 931, 935, 436, 441, 961, 962, 967, 459, 463, 977, 466, 979, 469, 472, 984, 483, 999, 505}\n"
     ]
    }
   ],
   "source": [
    "# 0 ~ 999 숫자 중에서 임의로 100개를 추출해서, 이진 탐색 트리에 입력, 검색, 삭제\n",
    "import random\n",
    "\n",
    "# 0 ~ 999 중, 100 개의 숫자 랜덤 선택\n",
    "bst_nums = set()\n",
    "while len(bst_nums) != 100:\n",
    "    bst_nums.add(random.randint(0, 999))\n",
    "print (bst_nums)"
   ]
  },
  {
   "cell_type": "code",
   "execution_count": 8,
   "id": "6b6e10bf",
   "metadata": {},
   "outputs": [],
   "source": [
    "# 선택된 100개의 숫자를 이진 탐색 트리에 입력, 임의로 루트노드는 500을 넣기로 함\n",
    "head = Node(500)\n",
    "binary_tree = NodeMgmt(head)\n",
    "for num in bst_nums:\n",
    "    binary_tree.insert(num)"
   ]
  },
  {
   "cell_type": "code",
   "execution_count": 12,
   "id": "1938cf9b",
   "metadata": {},
   "outputs": [
    {
     "name": "stdout",
     "output_type": "stream",
     "text": [
      "search failed 4\n",
      "search failed 632\n",
      "search failed 227\n",
      "search failed 752\n",
      "search failed 304\n",
      "search failed 820\n",
      "search failed 905\n",
      "search failed 935\n",
      "search failed 961\n",
      "search failed 977\n"
     ]
    }
   ],
   "source": [
    "# 입력한 100개의 숫자 검색 (검색 기능 확인)\n",
    "for num in bst_nums:\n",
    "    if binary_tree.search(num) == False:\n",
    "        print ('search failed', num)"
   ]
  },
  {
   "cell_type": "code",
   "execution_count": 10,
   "id": "17b213ce",
   "metadata": {},
   "outputs": [],
   "source": [
    "# 입력한 100개의 숫자 중 10개의 숫자를 랜덤 선택\n",
    "delete_nums = set()\n",
    "bst_nums = list(bst_nums)\n",
    "while len(delete_nums) != 10:\n",
    "    delete_nums.add(bst_nums[random.randint(0, 99)])"
   ]
  },
  {
   "cell_type": "code",
   "execution_count": 16,
   "id": "03d61e0e",
   "metadata": {},
   "outputs": [
    {
     "name": "stdout",
     "output_type": "stream",
     "text": [
      "delete failed 961\n",
      "delete failed 227\n",
      "delete failed 4\n",
      "delete failed 935\n",
      "delete failed 905\n",
      "delete failed 304\n",
      "delete failed 977\n",
      "delete failed 752\n",
      "delete failed 820\n",
      "delete failed 632\n"
     ]
    }
   ],
   "source": [
    "# 선택한 10개의 숫자를 삭제 (삭제 기능 확인)\n",
    "for del_num in delete_nums:\n",
    "    if binary_tree.delete(del_num) == False:\n",
    "        print('delete failed', del_num)"
   ]
  },
  {
   "cell_type": "markdown",
   "id": "10ee9d0f",
   "metadata": {},
   "source": [
    "### 6. 이진 탐색 트리의 시간 복잡도와 단점"
   ]
  },
  {
   "cell_type": "markdown",
   "id": "a015cc44",
   "metadata": {},
   "source": [
    "#### 6.1. 시간 복잡도 (탐색시)\n",
    "- depth(트리의 높이)를 h라고 표기한다면, $O(h)$\n",
    "- n개의 노드를 가진다면, $h=log_2n$에 가까우므로, 시간 복잡도는 $O(logn)$\n",
    "  - 참고: 빅 오 표기법에서 $logn$에서의 $log$의 밑은 10이 아니라, 2입니다.\n",
    "    - 한번 실행시마다, 50%의 실행할 수 있는 명령을 제거한다는 의미, 즉 50%의 실행시간을 단축시킬수 있다는 것을 의미함"
   ]
  },
  {
   "cell_type": "markdown",
   "id": "8a0de691",
   "metadata": {},
   "source": [
    "<img src=\"https://www.mathwarehouse.com/programming/images/binary-search-tree/binary-search-tree-sorted-array-animation.gif\" />\n",
    "\n",
    "(출처: https://www.mathwarehouse.com/programming/gifs/binary-search-tree.php#binary-search-tree-insertion-node)"
   ]
  },
  {
   "cell_type": "markdown",
   "id": "640ae5f2",
   "metadata": {},
   "source": [
    "#### 6.2. 이진 탐색 트리 단점\n",
    "- 평균 시간 복잡도는 $O(logn)$ 이지만,\n",
    "  - 이는 트리가 균형잡혀 있을 때의 평균 시간 복잡도 이며,\n",
    "- 다음 예와 같이 구성되어 있을 경우, 최악의 경우는 링크드 리스트등과 동일한 성능을 보여줌($O(n)$)"
   ]
  },
  {
   "cell_type": "markdown",
   "id": "c6df154d",
   "metadata": {},
   "source": [
    "<img src=\"http://www.fun-coding.org/00_Images/worstcase_bst.png\" width=\"300\" />"
   ]
  }
 ],
 "metadata": {
  "kernelspec": {
   "display_name": "Python 3",
   "language": "python",
   "name": "python3"
  },
  "language_info": {
   "codemirror_mode": {
    "name": "ipython",
    "version": 3
   },
   "file_extension": ".py",
   "mimetype": "text/x-python",
   "name": "python",
   "nbconvert_exporter": "python",
   "pygments_lexer": "ipython3",
   "version": "3.8.8"
  }
 },
 "nbformat": 4,
 "nbformat_minor": 5
}
