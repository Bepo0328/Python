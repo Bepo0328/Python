{
 "cells": [
  {
   "cell_type": "markdown",
   "id": "cc885b31",
   "metadata": {},
   "source": [
    "## 구현이란?\n",
    "\n",
    "\n",
    "### 프로그래밍의 기초 : <span style=\"color:yellow\">구현</span>\n",
    "- <span style=\"color:yellow\">구현</span>: 어떤 내용이 구체적인 사실로 나타나게 함\n",
    "\n",
    "\n",
    "- <span style=\"color:red\">어떤 내용</span>이 <span style=\"color:green\">구체적인 사실로 나타나게</span> 함\n",
    "- <span style=\"color:red\">문제 조건</span>을 <span style=\"color:green\">코드로 작성하여 돌아가게</span> 함\n",
    "\n",
    "\n",
    "- <span style=\"color:red\">모든 프로그래밍 = 구현문제</span>\n",
    "\n",
    "### Python <span style=\"color:yellow\">내장함수</span>를 사용한 <span style=\"color:blue\">시뮬레이션(simuldation)</span>\n",
    "- <span style=\"color:yellow\">내장함수</span>: 외부모듈이 필요없이 사용 가능한 함수\n",
    "\n",
    "\n",
    "### <span style=\"color:blue\">시뮬레이션(simulation)</span>\n",
    "- 실제와 비슷한 모형을 만들어 모의적으로 실험하여 그 특성을 파악하는 일\n",
    "\n",
    "\n",
    "### <span style=\"color:blue\">코테에서 시뮬레이션이란?</span>\n",
    "1. 문제 상황과 일대일 매칭\n",
    "2. 보다 효율적으로 짜는 것이 목표\n",
    "3. 최적화와 알고리즘 등 복잡한 코드까지\n",
    "\n",
    "\n",
    "### 테크닉과 <span style=\"color:red\">연습</span>"
   ]
  },
  {
   "cell_type": "markdown",
   "id": "d7d27f10",
   "metadata": {},
   "source": [
    "## 자료형의 기본 활용과 Tip\n",
    "\n",
    "\n",
    "### Python의 기본 자료형\n",
    "- Single: Integer, Float, String, Boolean\n",
    "- Container: List, Tuple, Dictionary, Set\n",
    "\n",
    "\n",
    "- 물론 다 알겠지만.. 좀 더 효율적으로 사용하자!\n",
    "\n",
    "\n",
    "#### Integer\n",
    "- 정수 자료형\n",
    "- 수의 크기 제한이 딱히 없음 => overflow 걱정을 줄일 수 있음\n",
    "- str()로 쉬운 형변환\n",
    "- 연산/함수 사용 시, Float로 변환되는 경우를 잘 살펴보자\n",
    "  - 나눗셈은 / 가 아닌 //로 안전하게 나누자 (또는 divmod 사용)\n",
    "\n",
    "\n",
    "#### Float\n",
    "- 실수 자료형\n",
    "- 일단 연산에서는 쓰지말자\n",
    "  - 0.1 * 3 == 0.3 # False\n",
    "  - Decimal을 사용 또는 실수 오차를 해결할 자신이 있는 사람만\n",
    "- 유리수 연산은?\n",
    "  - 될수 있다면 Tuple 등으로 분자/분모를 따로 처리하자\n",
    "\n",
    "\n",
    "#### String\n",
    "- 문자열 자료형\n",
    "- Immutable 변수\n",
    "  - List로 변환하여 사용하기\n",
    "- +연산과 *연산 조심하기\n",
    "  - join() method 활용하기\n",
    "- .split() .replace() 등 다양한 method 활용이 초점\n",
    "- Slicing을 자유롭게 할 수 있다는 것\n",
    "- Char를 ord와 chr로 다루기\n",
    "\n",
    "\n",
    "##### Boolean\n",
    "- 부울(불) 자료형\n",
    "- 논리 연산과 활용\n",
    "- Short Circuit\n",
    "  - or 연산에 앞 항이 참\n",
    "  - and 연산에 앞 항이 거짓\n",
    "- 모든 문제의 기본 : 참/거짓"
   ]
  },
  {
   "cell_type": "code",
   "execution_count": 1,
   "id": "0e0869fa",
   "metadata": {},
   "outputs": [
    {
     "name": "stdout",
     "output_type": "stream",
     "text": [
      "1\n"
     ]
    }
   ],
   "source": [
    "a = 1\n",
    "print(a)"
   ]
  },
  {
   "cell_type": "code",
   "execution_count": 2,
   "id": "cc473662",
   "metadata": {},
   "outputs": [
    {
     "data": {
      "text/plain": [
       "1.0"
      ]
     },
     "execution_count": 2,
     "metadata": {},
     "output_type": "execute_result"
    }
   ],
   "source": [
    "3 / 3"
   ]
  },
  {
   "cell_type": "code",
   "execution_count": 3,
   "id": "8480e1de",
   "metadata": {},
   "outputs": [
    {
     "data": {
      "text/plain": [
       "int"
      ]
     },
     "execution_count": 3,
     "metadata": {},
     "output_type": "execute_result"
    }
   ],
   "source": [
    "type(3 // 3)"
   ]
  },
  {
   "cell_type": "code",
   "execution_count": 4,
   "id": "aaedb12f",
   "metadata": {},
   "outputs": [
    {
     "data": {
      "text/plain": [
       "(2, 1)"
      ]
     },
     "execution_count": 4,
     "metadata": {},
     "output_type": "execute_result"
    }
   ],
   "source": [
    "divmod(7, 3)"
   ]
  },
  {
   "cell_type": "code",
   "execution_count": 5,
   "id": "6e6d23f2",
   "metadata": {},
   "outputs": [
    {
     "data": {
      "text/plain": [
       "False"
      ]
     },
     "execution_count": 5,
     "metadata": {},
     "output_type": "execute_result"
    }
   ],
   "source": [
    "0.1 * 3 == 0.3"
   ]
  },
  {
   "cell_type": "code",
   "execution_count": 7,
   "id": "f2f698c8",
   "metadata": {},
   "outputs": [
    {
     "ename": "TypeError",
     "evalue": "'int' object is not iterable",
     "output_type": "error",
     "traceback": [
      "\u001b[1;31m---------------------------------------------------------------------------\u001b[0m",
      "\u001b[1;31mTypeError\u001b[0m                                 Traceback (most recent call last)",
      "\u001b[1;32m<ipython-input-7-9b6753a36531>\u001b[0m in \u001b[0;36m<module>\u001b[1;34m\u001b[0m\n\u001b[0;32m      1\u001b[0m \u001b[0ms\u001b[0m \u001b[1;33m=\u001b[0m \u001b[1;34m\"an subin\"\u001b[0m\u001b[1;33m\u001b[0m\u001b[1;33m\u001b[0m\u001b[0m\n\u001b[0;32m      2\u001b[0m \u001b[1;33m\u001b[0m\u001b[0m\n\u001b[1;32m----> 3\u001b[1;33m \u001b[1;32mfor\u001b[0m \u001b[0mi\u001b[0m \u001b[1;32min\u001b[0m \u001b[0mlen\u001b[0m\u001b[1;33m(\u001b[0m\u001b[0ms\u001b[0m\u001b[1;33m)\u001b[0m\u001b[1;33m:\u001b[0m\u001b[1;33m\u001b[0m\u001b[1;33m\u001b[0m\u001b[0m\n\u001b[0m\u001b[0;32m      4\u001b[0m     \u001b[0ms\u001b[0m\u001b[1;33m[\u001b[0m\u001b[0mi\u001b[0m\u001b[1;33m]\u001b[0m \u001b[1;33m=\u001b[0m \u001b[1;34m'1'\u001b[0m\u001b[1;33m\u001b[0m\u001b[1;33m\u001b[0m\u001b[0m\n\u001b[0;32m      5\u001b[0m \u001b[0mprint\u001b[0m\u001b[1;33m(\u001b[0m\u001b[0ms\u001b[0m\u001b[1;33m)\u001b[0m\u001b[1;33m\u001b[0m\u001b[1;33m\u001b[0m\u001b[0m\n",
      "\u001b[1;31mTypeError\u001b[0m: 'int' object is not iterable"
     ]
    }
   ],
   "source": [
    "s = \"an subin\"\n",
    "\n",
    "for i in len(s):\n",
    "    s[i] = '1'\n",
    "print(s)"
   ]
  },
  {
   "cell_type": "code",
   "execution_count": 9,
   "id": "2f2f14cf",
   "metadata": {},
   "outputs": [
    {
     "data": {
      "text/plain": [
       "'abcabcabc'"
      ]
     },
     "execution_count": 9,
     "metadata": {},
     "output_type": "execute_result"
    }
   ],
   "source": [
    "s = 'abc'\n",
    "b = 'edf'\n",
    "\n",
    "s * 3"
   ]
  },
  {
   "cell_type": "code",
   "execution_count": 22,
   "id": "05ce1302",
   "metadata": {},
   "outputs": [
    {
     "name": "stdout",
     "output_type": "stream",
     "text": [
      "Wall time: 6 ms\n"
     ]
    }
   ],
   "source": [
    "%%time\n",
    "s = ''\n",
    "\n",
    "for i in range(10000):\n",
    "    s = s + str(i)"
   ]
  },
  {
   "cell_type": "code",
   "execution_count": 23,
   "id": "a65d53be",
   "metadata": {},
   "outputs": [
    {
     "name": "stdout",
     "output_type": "stream",
     "text": [
      "Wall time: 2.5 ms\n"
     ]
    }
   ],
   "source": [
    "%%time\n",
    "\n",
    "s = ''\n",
    "\n",
    "s = s.join([str(i) for i in range(10000)])"
   ]
  },
  {
   "cell_type": "code",
   "execution_count": 24,
   "id": "a511c32d",
   "metadata": {},
   "outputs": [
    {
     "data": {
      "text/plain": [
       "'a'"
      ]
     },
     "execution_count": 24,
     "metadata": {},
     "output_type": "execute_result"
    }
   ],
   "source": [
    "s = 'abcd'"
   ]
  },
  {
   "cell_type": "code",
   "execution_count": 27,
   "id": "8439e844",
   "metadata": {},
   "outputs": [
    {
     "data": {
      "text/plain": [
       "65"
      ]
     },
     "execution_count": 27,
     "metadata": {},
     "output_type": "execute_result"
    }
   ],
   "source": [
    "chr(65)\n",
    "ord('A')"
   ]
  },
  {
   "cell_type": "code",
   "execution_count": 30,
   "id": "726169cf",
   "metadata": {},
   "outputs": [
    {
     "name": "stdout",
     "output_type": "stream",
     "text": [
      "hello\n"
     ]
    }
   ],
   "source": [
    "if 0 and 1//0:\n",
    "    print('hello')\n",
    "    \n",
    "if 1 or 1//0:\n",
    "    print('hello')"
   ]
  },
  {
   "cell_type": "markdown",
   "id": "d82c5bdb",
   "metadata": {},
   "source": [
    "#### List\n",
    "- 리스트 자료형\n",
    "- List Comprehension 사용하기\n",
    "- sort와 sorted 구분하기\n",
    "- len, sum, max, min 등 활용하기\n",
    "- Slicing, [-1] 등 음수 인덱스 활용\n",
    "- reduce, filter도 활용하면 좋음\n",
    "\n",
    "\n",
    "#### Tuple\n",
    "- 튜플 자료형\n",
    "- 초기 상태 표현시 코드가 길어지는 것 방지\n",
    "  - Ex) a, b, c = 0, 0, 0\n",
    "- Map과 함께 사용하여 입력 받기\n",
    "  - Ex) a, b = map(int, input().split())\n",
    "- 동시에 변해야하는 객체에 효율적 표현 가능\n",
    "  - Ex) a, b = b, a (swap)\n",
    "\n",
    "\n",
    "#### Dictionary\n",
    "- 딕셔너리 자료형\n",
    "- keys나 values를 사용하여 효율적인 사용 추천\n",
    "- 반복문 돌리기\n",
    "  - Ex) for a, b in dict_exam:~\n",
    "- 개인적으로는 문자열 자체를 index로 사용하고 싶은 경우\n",
    "  - 단어나 알파벳 counting\n",
    "\n",
    "#### Set\n",
    "- 셋 자료형\n",
    "- 중복 체크\n",
    "  - set(list) 사용\n",
    "- 합집합, 여집합, 차집합 등 집합 연산\n",
    "  - 시간복잡도가 크니 주의해서 사용"
   ]
  },
  {
   "cell_type": "code",
   "execution_count": 39,
   "id": "b38387d7",
   "metadata": {},
   "outputs": [
    {
     "name": "stdout",
     "output_type": "stream",
     "text": [
      "Wall time: 112 ms\n"
     ]
    }
   ],
   "source": [
    "%%time\n",
    "\n",
    "list_arr = [i for i in range(1000000) if i % 2 == 0]"
   ]
  },
  {
   "cell_type": "code",
   "execution_count": 37,
   "id": "40919afd",
   "metadata": {},
   "outputs": [
    {
     "name": "stdout",
     "output_type": "stream",
     "text": [
      "Wall time: 184 ms\n"
     ]
    }
   ],
   "source": [
    "%%time\n",
    "\n",
    "list_arr2 = []\n",
    "for i in range(1000000): list_arr2.append(i)"
   ]
  },
  {
   "cell_type": "code",
   "execution_count": 40,
   "id": "caa08bdb",
   "metadata": {},
   "outputs": [],
   "source": [
    "lst = [3, 5, 6, 9, 2]"
   ]
  },
  {
   "cell_type": "code",
   "execution_count": 41,
   "id": "6a608066",
   "metadata": {},
   "outputs": [
    {
     "name": "stdout",
     "output_type": "stream",
     "text": [
      "[2, 3, 5, 6, 9]\n",
      "[3, 5, 6, 9, 2]\n"
     ]
    }
   ],
   "source": [
    "print(sorted(lst))\n",
    "print(lst)"
   ]
  },
  {
   "cell_type": "code",
   "execution_count": 43,
   "id": "21407004",
   "metadata": {},
   "outputs": [
    {
     "name": "stdout",
     "output_type": "stream",
     "text": [
      "[2, 3, 5, 6, 9]\n"
     ]
    }
   ],
   "source": [
    "lst.sort()\n",
    "print(lst)"
   ]
  },
  {
   "cell_type": "code",
   "execution_count": 44,
   "id": "d9c234e4",
   "metadata": {},
   "outputs": [
    {
     "data": {
      "text/plain": [
       "3"
      ]
     },
     "execution_count": 44,
     "metadata": {},
     "output_type": "execute_result"
    }
   ],
   "source": [
    "s = 'abs'\n",
    "\n",
    "len(s)"
   ]
  },
  {
   "cell_type": "code",
   "execution_count": 45,
   "id": "a5a505de",
   "metadata": {},
   "outputs": [
    {
     "data": {
      "text/plain": [
       "5"
      ]
     },
     "execution_count": 45,
     "metadata": {},
     "output_type": "execute_result"
    }
   ],
   "source": [
    "len(lst)"
   ]
  },
  {
   "cell_type": "code",
   "execution_count": 46,
   "id": "9d2818e7",
   "metadata": {},
   "outputs": [
    {
     "data": {
      "text/plain": [
       "25"
      ]
     },
     "execution_count": 46,
     "metadata": {},
     "output_type": "execute_result"
    }
   ],
   "source": [
    "sum(lst)"
   ]
  },
  {
   "cell_type": "code",
   "execution_count": 47,
   "id": "7103e2fb",
   "metadata": {},
   "outputs": [
    {
     "data": {
      "text/plain": [
       "9"
      ]
     },
     "execution_count": 47,
     "metadata": {},
     "output_type": "execute_result"
    }
   ],
   "source": [
    "max(lst)"
   ]
  },
  {
   "cell_type": "code",
   "execution_count": 48,
   "id": "d5eaf888",
   "metadata": {},
   "outputs": [
    {
     "data": {
      "text/plain": [
       "2"
      ]
     },
     "execution_count": 48,
     "metadata": {},
     "output_type": "execute_result"
    }
   ],
   "source": [
    "min(lst)"
   ]
  },
  {
   "cell_type": "code",
   "execution_count": 49,
   "id": "6a38e96c",
   "metadata": {},
   "outputs": [
    {
     "data": {
      "text/plain": [
       "[2, 3, 5, 6, 9]"
      ]
     },
     "execution_count": 49,
     "metadata": {},
     "output_type": "execute_result"
    }
   ],
   "source": [
    "lst "
   ]
  },
  {
   "cell_type": "code",
   "execution_count": 50,
   "id": "34c0927a",
   "metadata": {},
   "outputs": [],
   "source": [
    "lst = [1] + lst"
   ]
  },
  {
   "cell_type": "code",
   "execution_count": 51,
   "id": "645b367c",
   "metadata": {},
   "outputs": [
    {
     "data": {
      "text/plain": [
       "[1, 2, 3, 5, 6, 9]"
      ]
     },
     "execution_count": 51,
     "metadata": {},
     "output_type": "execute_result"
    }
   ],
   "source": [
    "lst"
   ]
  },
  {
   "cell_type": "code",
   "execution_count": 52,
   "id": "c995ee01",
   "metadata": {},
   "outputs": [],
   "source": [
    "lst[:0] = [1]"
   ]
  },
  {
   "cell_type": "code",
   "execution_count": 54,
   "id": "f489d960",
   "metadata": {},
   "outputs": [
    {
     "data": {
      "text/plain": [
       "9"
      ]
     },
     "execution_count": 54,
     "metadata": {},
     "output_type": "execute_result"
    }
   ],
   "source": [
    "lst[-1]"
   ]
  },
  {
   "cell_type": "code",
   "execution_count": 55,
   "id": "f9f74a50",
   "metadata": {},
   "outputs": [
    {
     "name": "stdout",
     "output_type": "stream",
     "text": [
      "1\n",
      "2\n",
      "3\n"
     ]
    }
   ],
   "source": [
    "a, b, c = 1, 2, 3\n",
    "print(a)\n",
    "print(b)\n",
    "print(c)"
   ]
  },
  {
   "cell_type": "code",
   "execution_count": 56,
   "id": "990b5967",
   "metadata": {},
   "outputs": [],
   "source": [
    "a = 1\n",
    "b = 1\n",
    "c = 1"
   ]
  },
  {
   "cell_type": "code",
   "execution_count": 57,
   "id": "33a39fc1",
   "metadata": {},
   "outputs": [
    {
     "name": "stdout",
     "output_type": "stream",
     "text": [
      "3 7\n"
     ]
    }
   ],
   "source": [
    "a, b = map(int, input().split())"
   ]
  },
  {
   "cell_type": "code",
   "execution_count": 58,
   "id": "93f18905",
   "metadata": {},
   "outputs": [
    {
     "name": "stdout",
     "output_type": "stream",
     "text": [
      "3\n",
      "7\n"
     ]
    }
   ],
   "source": [
    "print(a)\n",
    "print(b)"
   ]
  },
  {
   "cell_type": "code",
   "execution_count": 59,
   "id": "6c42c98d",
   "metadata": {},
   "outputs": [
    {
     "name": "stdout",
     "output_type": "stream",
     "text": [
      "3 7\n"
     ]
    }
   ],
   "source": [
    "a, b = map(int, input().split())"
   ]
  },
  {
   "cell_type": "code",
   "execution_count": 60,
   "id": "905722fc",
   "metadata": {},
   "outputs": [],
   "source": [
    "a, b = b, a"
   ]
  },
  {
   "cell_type": "code",
   "execution_count": 61,
   "id": "b42ca4e5",
   "metadata": {},
   "outputs": [
    {
     "name": "stdout",
     "output_type": "stream",
     "text": [
      "7 3\n"
     ]
    }
   ],
   "source": [
    "print(a, b)"
   ]
  },
  {
   "cell_type": "code",
   "execution_count": 62,
   "id": "c3718b64",
   "metadata": {},
   "outputs": [],
   "source": [
    "dict_test = { 1 : 2, 2 : 3, 'abc': 7 }"
   ]
  },
  {
   "cell_type": "code",
   "execution_count": 63,
   "id": "b646c37a",
   "metadata": {},
   "outputs": [
    {
     "name": "stdout",
     "output_type": "stream",
     "text": [
      "{1: 2, 2: 3, 'abc': 7}\n"
     ]
    }
   ],
   "source": [
    "print(dict_test)"
   ]
  },
  {
   "cell_type": "code",
   "execution_count": 64,
   "id": "abff5bc0",
   "metadata": {},
   "outputs": [
    {
     "data": {
      "text/plain": [
       "dict_values([2, 3, 7])"
      ]
     },
     "execution_count": 64,
     "metadata": {},
     "output_type": "execute_result"
    }
   ],
   "source": [
    "dict_test.values()"
   ]
  },
  {
   "cell_type": "code",
   "execution_count": 65,
   "id": "d031ccaa",
   "metadata": {},
   "outputs": [
    {
     "data": {
      "text/plain": [
       "dict_keys([1, 2, 'abc'])"
      ]
     },
     "execution_count": 65,
     "metadata": {},
     "output_type": "execute_result"
    }
   ],
   "source": [
    "dict_test.keys()"
   ]
  },
  {
   "cell_type": "code",
   "execution_count": 67,
   "id": "15e897e1",
   "metadata": {},
   "outputs": [
    {
     "data": {
      "text/plain": [
       "Counter({1: 2, 2: 3, 'abc': 7})"
      ]
     },
     "execution_count": 67,
     "metadata": {},
     "output_type": "execute_result"
    }
   ],
   "source": [
    "import collections\n",
    "\n",
    "collections.Counter(dict_test)"
   ]
  },
  {
   "cell_type": "code",
   "execution_count": 68,
   "id": "6dcc5611",
   "metadata": {},
   "outputs": [],
   "source": [
    "st = set([1, 2, 3, 4, 5, 1, 2, 3, 4, 5, 1, 2, 3])"
   ]
  },
  {
   "cell_type": "code",
   "execution_count": 69,
   "id": "d62973f2",
   "metadata": {},
   "outputs": [
    {
     "data": {
      "text/plain": [
       "{1, 2, 3, 4, 5}"
      ]
     },
     "execution_count": 69,
     "metadata": {},
     "output_type": "execute_result"
    }
   ],
   "source": [
    "st"
   ]
  },
  {
   "cell_type": "code",
   "execution_count": 70,
   "id": "2c941226",
   "metadata": {},
   "outputs": [],
   "source": [
    "def isCheck(lst):\n",
    "    return len(lst) == len(set(lst))"
   ]
  }
 ],
 "metadata": {
  "kernelspec": {
   "display_name": "Python 3",
   "language": "python",
   "name": "python3"
  },
  "language_info": {
   "codemirror_mode": {
    "name": "ipython",
    "version": 3
   },
   "file_extension": ".py",
   "mimetype": "text/x-python",
   "name": "python",
   "nbconvert_exporter": "python",
   "pygments_lexer": "ipython3",
   "version": "3.8.8"
  }
 },
 "nbformat": 4,
 "nbformat_minor": 5
}
