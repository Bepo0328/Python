{
 "cells": [
  {
   "cell_type": "markdown",
   "id": "256dac68",
   "metadata": {},
   "source": [
    "## Ch 02 매개변수의 이해와 구조화 문제풀이"
   ]
  },
  {
   "cell_type": "markdown",
   "id": "ec5070b2",
   "metadata": {},
   "source": [
    "### 1920문제\n",
    "- 문제 제목: 수찾기\n",
    "- 문제 유형: set\n",
    "\n",
    "> https://www.acmicpc.net/problem/1920\n",
    "\n",
    "#### 문제\n",
    "- N개의 정수 A[1], A[2], …, A[N]이 주어져 있을 때, 이 안에 X라는 정수가 존재하는지 알아내는 프로그램을 작성하시오.\n",
    "\n",
    "\n",
    "#### 입력\n",
    "- 첫째 줄에 자연수 N(1 ≤ N ≤ 100,000)이 주어진다. 다음 줄에는 N개의 정수 A[1], A[2], …, A[N]이 주어진다. 다음 줄에는 M(1 ≤ M ≤ 100,000)이 주어진다. 다음 줄에는 M개의 수들이 주어지는데, 이 수들이 A안에 존재하는지 알아내면 된다. 모든 정수의 범위는 $-2^31$ 보다 크거나 같고 $2^31$보다 작다.\n",
    "\n",
    "#### 출력\n",
    "- M개의 줄에 답을 출력한다. 존재하면 1을, 존재하지 않으면 0을 출력한다.\n",
    "\n",
    "#### 예제 입력 1 \n",
    "```python\n",
    "5\n",
    "4 1 5 2 3\n",
    "5\n",
    "1 3 7 9 5\n",
    "```\n",
    "##### 예제 출력 1 \n",
    "```python\n",
    "1\n",
    "1\n",
    "0\n",
    "0\n",
    "1\n",
    "```"
   ]
  },
  {
   "cell_type": "markdown",
   "id": "b4332ca6",
   "metadata": {},
   "source": [
    "#### 나의 풀이"
   ]
  },
  {
   "cell_type": "code",
   "execution_count": 1,
   "id": "7e49245f",
   "metadata": {},
   "outputs": [
    {
     "name": "stdout",
     "output_type": "stream",
     "text": [
      "5\n",
      "4 1 5 2 3\n",
      "5\n",
      "1 3 7 9 5\n"
     ]
    }
   ],
   "source": [
    "N = int(input())\n",
    "lst = list(map(int, input().split()))\n",
    "M = int(input())\n",
    "lst2 = list(map(int, input().split()))"
   ]
  },
  {
   "cell_type": "code",
   "execution_count": 4,
   "id": "4ee83201",
   "metadata": {},
   "outputs": [
    {
     "name": "stdout",
     "output_type": "stream",
     "text": [
      "1\n",
      "1\n",
      "0\n",
      "0\n",
      "1\n"
     ]
    }
   ],
   "source": [
    "for i in lst2:\n",
    "    if i in lst:\n",
    "        print(1)\n",
    "    else:\n",
    "        print(0)"
   ]
  },
  {
   "cell_type": "markdown",
   "id": "4feb2fa8",
   "metadata": {},
   "source": [
    "#### 풀이"
   ]
  },
  {
   "cell_type": "code",
   "execution_count": 8,
   "id": "64a19f66",
   "metadata": {},
   "outputs": [
    {
     "name": "stdout",
     "output_type": "stream",
     "text": [
      "5\n",
      "4 1 5 2 3\n",
      "5\n",
      "1 3 7 9 5\n",
      "1\n",
      "1\n",
      "0\n",
      "0\n",
      "1\n"
     ]
    }
   ],
   "source": [
    "N, A = int(input()), {i: 1 for i in map(int, input().split())}\n",
    "M = input()\n",
    "\n",
    "for i in list(map(int, input().split())):\n",
    "    print(A.get(i, 0))\n",
    "    #print(1 if i in A else 0)"
   ]
  },
  {
   "cell_type": "markdown",
   "id": "64bc89be",
   "metadata": {},
   "source": [
    "### 16165문제\n",
    "- 문제 제목: 걸그룹 마스터 준석이\n",
    "- 문제 유형: dict\n",
    "\n",
    "> https://www.acmicpc.net/problem/16165\n",
    "\n",
    "#### 문제\n",
    "- 정우는 소문난 걸그룹 덕후이다. 정우의 친구 준석이도 걸그룹을 좋아하지만 이름을 잘 외우지 못한다는 문제가 있었다. 정우는 친구를 위해 걸그룹 개인과 팀의 이름을 검색하여 외우게 하는 퀴즈 프로그램을 만들고자 한다.\n",
    "\n",
    "\n",
    "#### 입력\n",
    "- 첫 번째 줄에는 총 입력 받을 걸그룹의 수 N(0 < N < 100)과 맞혀야 할 문제의 수 M(0 < M < 100)을 입력받는다.\n",
    "\n",
    "- 두 번째 줄부터는 각 걸그룹마다 팀의 이름, 걸그룹의 인원 수, 멤버의 이름을 한 줄씩 차례대로 입력받는다. 팀과 멤버의 이름은 최대 100글자이며, 모든 글자는 알파벳 소문자이다. 하나의 걸그룹이나 서로 다른 두 걸그룹에 이름이 같은 두 멤버가 있는 경우는 없다.\n",
    "\n",
    "- 그 다음 줄부터는 M개의 퀴즈를 입력받는다. 각각의 퀴즈는 두 줄로 이루어져 있으며, 팀의 이름이나 멤버의 이름이 첫 줄에 주어지고 퀴즈의 종류를 나타내는 0 또는 1이 두 번째 줄에 주어진다. 퀴즈의 종류가 0일 경우 팀의 이름이 주어지며, 1일 경우 멤버의 이름이 주어진다.\n",
    "\n",
    "\n",
    "#### 출력\n",
    "- 첫 번째 줄부터 차례대로 퀴즈에 대한 답을 출력한다. 퀴즈의 종류가 0일 경우 해당 팀에 속한 멤버의 이름을 사전순으로 한 줄에 한 명씩 출력한다. 퀴즈의 종류가 1일 경우 해당 멤버가 속한 팀의 이름을 출력한다.\n",
    "\n",
    "\n",
    "#### 예제 입력 1 \n",
    "```python\n",
    "3 4\n",
    "twice\n",
    "9\n",
    "jihyo\n",
    "dahyeon\n",
    "mina\n",
    "momo\n",
    "chaeyoung\n",
    "jeongyeon\n",
    "tzuyu\n",
    "sana\n",
    "nayeon\n",
    "blackpink\n",
    "4\n",
    "jisu\n",
    "lisa\n",
    "rose\n",
    "jenny\n",
    "redvelvet\n",
    "5\n",
    "wendy\n",
    "irene\n",
    "seulgi\n",
    "yeri\n",
    "joy\n",
    "sana\n",
    "1\n",
    "wendy\n",
    "1\n",
    "twice\n",
    "0\n",
    "rose\n",
    "1\n",
    "```\n",
    "##### 예제 출력 1 \n",
    "```python\n",
    "twice\n",
    "redvelvet\n",
    "chaeyoung\n",
    "dahyeon\n",
    "jeongyeon\n",
    "jihyo\n",
    "mina\n",
    "momo\n",
    "nayeon\n",
    "sana\n",
    "tzuyu\n",
    "blackpink\n",
    "```"
   ]
  },
  {
   "cell_type": "markdown",
   "id": "a51d4a08",
   "metadata": {},
   "source": [
    "#### 나의 풀이"
   ]
  },
  {
   "cell_type": "code",
   "execution_count": 6,
   "id": "1b313b89",
   "metadata": {
    "scrolled": true
   },
   "outputs": [
    {
     "name": "stdout",
     "output_type": "stream",
     "text": [
      "3 4\n",
      "twice\n",
      "4\n",
      "jihyo\n",
      "dahyeon\n",
      "mina\n",
      "momo\n",
      "blackpink\n",
      "4\n",
      "jisu\n",
      "lisa\n",
      "rose\n",
      "jenny\n",
      "redvelvet\n",
      "5\n",
      "wendy\n",
      "irene\n",
      "seulgi\n",
      "yeri\n",
      "joy\n"
     ]
    }
   ],
   "source": [
    "import sys\n",
    "\n",
    "N, M = map(int, input().split())\n",
    "\n",
    "group_list = []\n",
    "group_number = []\n",
    "group_member = dict()\n",
    "\n",
    "for i in range(N):\n",
    "    group_list.append(input())\n",
    "    group_number.append(int(input()))\n",
    "    member = []\n",
    "    for _ in range(group_number[i]):\n",
    "        member.append(input())\n",
    "    group_member[group_list[i]] = member"
   ]
  },
  {
   "cell_type": "code",
   "execution_count": 29,
   "id": "009c2d45",
   "metadata": {
    "scrolled": true
   },
   "outputs": [
    {
     "name": "stdout",
     "output_type": "stream",
     "text": [
      "wendy\n",
      "1\n",
      "redvelvet\n",
      "redvelvet\n",
      "0\n",
      "wendy\n",
      "irene\n",
      "seulgi\n",
      "yeri\n",
      "joy\n"
     ]
    },
    {
     "ename": "KeyboardInterrupt",
     "evalue": "Interrupted by user",
     "output_type": "error",
     "traceback": [
      "\u001b[1;31m---------------------------------------------------------------------------\u001b[0m",
      "\u001b[1;31mKeyboardInterrupt\u001b[0m                         Traceback (most recent call last)",
      "\u001b[1;32m<ipython-input-29-f62d5cc1d134>\u001b[0m in \u001b[0;36m<module>\u001b[1;34m\u001b[0m\n\u001b[0;32m      1\u001b[0m \u001b[1;32mfor\u001b[0m \u001b[0mi\u001b[0m \u001b[1;32min\u001b[0m \u001b[0mrange\u001b[0m\u001b[1;33m(\u001b[0m\u001b[0mM\u001b[0m\u001b[1;33m)\u001b[0m\u001b[1;33m:\u001b[0m\u001b[1;33m\u001b[0m\u001b[1;33m\u001b[0m\u001b[0m\n\u001b[1;32m----> 2\u001b[1;33m     \u001b[0mquestion\u001b[0m \u001b[1;33m=\u001b[0m \u001b[0minput\u001b[0m\u001b[1;33m(\u001b[0m\u001b[1;33m)\u001b[0m\u001b[1;33m\u001b[0m\u001b[1;33m\u001b[0m\u001b[0m\n\u001b[0m\u001b[0;32m      3\u001b[0m     \u001b[0mquestion_kind\u001b[0m \u001b[1;33m=\u001b[0m \u001b[0mint\u001b[0m\u001b[1;33m(\u001b[0m\u001b[0minput\u001b[0m\u001b[1;33m(\u001b[0m\u001b[1;33m)\u001b[0m\u001b[1;33m)\u001b[0m\u001b[1;33m\u001b[0m\u001b[1;33m\u001b[0m\u001b[0m\n\u001b[0;32m      4\u001b[0m \u001b[1;33m\u001b[0m\u001b[0m\n\u001b[0;32m      5\u001b[0m     \u001b[1;32mif\u001b[0m \u001b[0mquestion_kind\u001b[0m \u001b[1;33m==\u001b[0m \u001b[1;36m0\u001b[0m\u001b[1;33m:\u001b[0m\u001b[1;33m\u001b[0m\u001b[1;33m\u001b[0m\u001b[0m\n",
      "\u001b[1;32mC:\\ProgramData\\Anaconda3\\lib\\site-packages\\ipykernel\\kernelbase.py\u001b[0m in \u001b[0;36mraw_input\u001b[1;34m(self, prompt)\u001b[0m\n\u001b[0;32m    858\u001b[0m                 \u001b[1;34m\"raw_input was called, but this frontend does not support input requests.\"\u001b[0m\u001b[1;33m\u001b[0m\u001b[1;33m\u001b[0m\u001b[0m\n\u001b[0;32m    859\u001b[0m             )\n\u001b[1;32m--> 860\u001b[1;33m         return self._input_request(str(prompt),\n\u001b[0m\u001b[0;32m    861\u001b[0m             \u001b[0mself\u001b[0m\u001b[1;33m.\u001b[0m\u001b[0m_parent_ident\u001b[0m\u001b[1;33m,\u001b[0m\u001b[1;33m\u001b[0m\u001b[1;33m\u001b[0m\u001b[0m\n\u001b[0;32m    862\u001b[0m             \u001b[0mself\u001b[0m\u001b[1;33m.\u001b[0m\u001b[0m_parent_header\u001b[0m\u001b[1;33m,\u001b[0m\u001b[1;33m\u001b[0m\u001b[1;33m\u001b[0m\u001b[0m\n",
      "\u001b[1;32mC:\\ProgramData\\Anaconda3\\lib\\site-packages\\ipykernel\\kernelbase.py\u001b[0m in \u001b[0;36m_input_request\u001b[1;34m(self, prompt, ident, parent, password)\u001b[0m\n\u001b[0;32m    902\u001b[0m             \u001b[1;32mexcept\u001b[0m \u001b[0mKeyboardInterrupt\u001b[0m\u001b[1;33m:\u001b[0m\u001b[1;33m\u001b[0m\u001b[1;33m\u001b[0m\u001b[0m\n\u001b[0;32m    903\u001b[0m                 \u001b[1;31m# re-raise KeyboardInterrupt, to truncate traceback\u001b[0m\u001b[1;33m\u001b[0m\u001b[1;33m\u001b[0m\u001b[1;33m\u001b[0m\u001b[0m\n\u001b[1;32m--> 904\u001b[1;33m                 \u001b[1;32mraise\u001b[0m \u001b[0mKeyboardInterrupt\u001b[0m\u001b[1;33m(\u001b[0m\u001b[1;34m\"Interrupted by user\"\u001b[0m\u001b[1;33m)\u001b[0m \u001b[1;32mfrom\u001b[0m \u001b[1;32mNone\u001b[0m\u001b[1;33m\u001b[0m\u001b[1;33m\u001b[0m\u001b[0m\n\u001b[0m\u001b[0;32m    905\u001b[0m             \u001b[1;32mexcept\u001b[0m \u001b[0mException\u001b[0m \u001b[1;32mas\u001b[0m \u001b[0me\u001b[0m\u001b[1;33m:\u001b[0m\u001b[1;33m\u001b[0m\u001b[1;33m\u001b[0m\u001b[0m\n\u001b[0;32m    906\u001b[0m                 \u001b[0mself\u001b[0m\u001b[1;33m.\u001b[0m\u001b[0mlog\u001b[0m\u001b[1;33m.\u001b[0m\u001b[0mwarning\u001b[0m\u001b[1;33m(\u001b[0m\u001b[1;34m\"Invalid Message:\"\u001b[0m\u001b[1;33m,\u001b[0m \u001b[0mexc_info\u001b[0m\u001b[1;33m=\u001b[0m\u001b[1;32mTrue\u001b[0m\u001b[1;33m)\u001b[0m\u001b[1;33m\u001b[0m\u001b[1;33m\u001b[0m\u001b[0m\n",
      "\u001b[1;31mKeyboardInterrupt\u001b[0m: Interrupted by user"
     ]
    }
   ],
   "source": [
    "for i in range(M):\n",
    "    question = input()\n",
    "    question_kind = int(input())\n",
    "    \n",
    "    if question_kind == 0:\n",
    "        for v in group_member[question]:\n",
    "            print(v)\n",
    "    elif question_kind == 1:\n",
    "        for k, v in group_member.items():\n",
    "            for v2 in v:\n",
    "                if v2 == question:\n",
    "                    print(k)\n",
    "    else:\n",
    "        sys.exit(-1)"
   ]
  },
  {
   "cell_type": "markdown",
   "id": "a44e1157",
   "metadata": {},
   "source": [
    "#### 풀이"
   ]
  },
  {
   "cell_type": "code",
   "execution_count": null,
   "id": "d37a042e",
   "metadata": {},
   "outputs": [],
   "source": [
    "N, M = map(int, input().split())\n",
    "\n",
    "team_mem, mem_team = {}, {}\n",
    "\n",
    "for i in range(N):\n",
    "    team_name, mem_num = input(), int(input())\n",
    "    team_mem[team_name] = []\n",
    "    for j in range(mem_num):\n",
    "        name = input()\n",
    "        team_mem[team_name].append(name)\n",
    "        mem_team[name] = team_name\n",
    "        \n",
    "for i in range(M):\n",
    "    name, q = input(), int(input())\n",
    "    if q:\n",
    "        print(mem_team[name])\n",
    "    else:\n",
    "        for mem in sorted(team_mem[name]):\n",
    "            print(mem)"
   ]
  },
  {
   "cell_type": "markdown",
   "id": "3decfd4c",
   "metadata": {},
   "source": [
    "### 17224문제\n",
    "- 문제 제목: APC\n",
    "- 문제 유형: 좀 긴 지문 연습\n",
    "\n",
    "\n",
    "> https://www.acmicpc.net/problem/17224\n",
    "\n",
    "\n",
    "#### 문제\n",
    "- 019년 올해도 어김없이 아주대학교 프로그래밍 경시대회(Ajou Programming Contest, APC)가 열렸다! 올해 새롭게 APC의 총감독을 맡게 된 준표는 대회 출제 과정 중 큰 고민에 빠졌다. APC에 참가하는 참가자들이 너무 다양해 대회 문제 난이도 설정이 너무 어렵기 때문이다.\n",
    "\n",
    "\n",
    "- APC는 프로그래밍 대회에 익숙하지 않은 학생들과 전공생이 아닌 학생들도 대거 참가하기 때문에 모두가 풀거나 도전할 수 있는 난이도 커브를 갖춰야 한다. 또한 '경인지역 6개대학 연합 프로그래밍 경시대회 shake!'에 참가할 학교 대표 10인을 선발하기 위한 대표 선발전으로서의 변별력도 갖추어야 하며, 외부인들이 따로 참가할 수 있는 Open Contest가 동시에 진행되기 때문에 소위 '고인물'들에게 한 시간도 안되어 대회가 정복당하는 일도 막고 싶다. 여기에 APC 출제진인 준표, 만영, 현정, 준서는 문제를 준비하는 데 무척 고생을 했기 때문에 참가자들이 모든 문제를 한번씩은 읽어주었으면 하는 소망도 가지고 있다.\n",
    "\n",
    "\n",
    "- 욕심 그득한 준표는 고민끝에 이 수많은 니즈를 충족시키기 위한 한가지 해결책을 제안했다. 하나의 문제를 제한조건을 통해 쉬운 버전과 어려운 버전으로 나누어 쉬운 버전만 맞더라도 부분점수를 주는 서브태스크 문제로 대회를 구성하는 것이다. 또한 이렇게 만들어진 문제를 쉬운 버전의 난이도순으로 배치하려 한다.\n",
    "\n",
    "\n",
    "- 위와 같이 문제를 준비하면 프로그래밍 대회에 익숙하지 않은 사람은 앞에서부터 따라가면서 도전해볼 수 있어 쉬운 문제를 찾는 데 시간을 쓰지 않을 수 있고, 어려운 버전으로 학교 대표 선발을 위한 변별력을 유지할 수 있으며, 모든 문제가 읽히길 바라는 출제진의 소망도 이룰 수 있을 것이다!\n",
    "\n",
    "\n",
    "<img src=\"https://upload.acmicpc.net/26df1ce0-c71b-4fa8-8954-2f2f503900e9/-/preview/\" />\n",
    "\n",
    "- <그림1> 출제중 평가한 문제들의 난이도 예시 (예제2)\n",
    "\n",
    "\n",
    "- < 아래 이야기는 팩션입니다. >\n",
    "- 현정이는 APC에 한 번이라도 나가보고 싶다는 소망이 있다. 하지만 이 소망은 여태까지 단 한 번도, 그리고 앞으로도 이루어질 리 없기 때문에 현정이가 입버릇처럼 하게 된 말이 있는데...\n",
    "  - 현정 : 아~ 나도 APC 참가만 했으면 상금 받는 건데~\n",
    "  - 준표 : ... 그건 아닌 것 같은데?\n",
    "\n",
    "\n",
    "- 현정이의 근거 없는 자신감이 눈꼴신 준표는 출제 중에 평가한 문제 난이도를 통해 현정이의 예상 점수를 알려주고 현정이가 현실을 받아들일 수 있도록 도와주고자 한다.\n",
    "\n",
    "\n",
    "- 현정이는 L 만큼의 역량을 가지고 있어 L보다 작거나 같은 난이도의 문제를 풀 수 있다. 또한 현정이는 코딩이 느리기 때문에 대회 시간이 부족해 K개보다 많은 문제는 해결할 수 없다. 어떤 문제에 대해 쉬운 버전을 해결한다면 100점을 얻고, 어려운 버전을 해결한다면 여기에 40점을 더 받아 140점을 얻게 된다. 어려운 버전을 해결하면 쉬운 버전도 같이 풀리게 되므로, 한 문제를 해결한 것으로 계산한다.\n",
    "\n",
    "\n",
    "- 현정이가 APC에 참가했다면 최대 몇점을 얻을 수 있었을지 알려주자.\n",
    "\n",
    "\n",
    "#### 입력\n",
    "- 첫 줄에 문제의 개수 N, 현정이의 역량 L, 현정이가 대회중에 풀 수 있는 문제의 최대 개수 K가 주어진다.\n",
    "\n",
    "\n",
    "- 둘째 줄부터 N개의 줄에 걸쳐 1 ~ N번째 문제의 쉬운 버전의 난이도 sub1, 어려운 버전의 난이도 sub2 가 순서대로 주어진다.\n",
    "\n",
    "\n",
    "#### 출력\n",
    "- 현정이가 APC에 참가했다면 얻었을 점수의 최대값을 출력한다.\n",
    "\n",
    "#### 제한\n",
    "- 1 ≤ N ≤ 100\n",
    "- 1 ≤ L ≤ 50\n",
    "- 1 ≤ sub1 ≤ sub2 ≤ 50\n",
    "\n",
    "\n",
    "#### 서브태스크 1 (100점)\n",
    "- K = N\n",
    "\n",
    "\n",
    "#### 서브태스크 2 (40점)\n",
    "- 0 ≤ K ≤ N\n",
    "\n",
    "\n",
    "#### 예제 입력 1 \n",
    "```python\n",
    "4 8 4\n",
    "1 8\n",
    "4 5\n",
    "6 20\n",
    "9 12\n",
    "```\n",
    "##### 예제 출력 1\n",
    "```python\n",
    "380\n",
    "```\n",
    "- 1번, 2번 문제의 어려운 버전을 해결해 2×140 = 280점을, 3번 문제의 쉬운 버전을 해결해 100점을 얻어 총 380점을 얻는다.\n",
    "\n",
    "- 현정이가 4문제를 풀 수 있을 정도로 대회 시간은 충분하지만, 4번 문제는 현정이에겐 너무 어려워서 풀 수 없다.\n",
    "#### 예제 입력 2\n",
    "```python\n",
    "8 7 5\n",
    "1 3\n",
    "2 5\n",
    "3 5\n",
    "4 8\n",
    "5 8\n",
    "6 9\n",
    "6 7\n",
    "7 10\n",
    "```\n",
    "##### 예제 출력 2\n",
    "```python\n",
    "660\n",
    "```\n",
    "#### 예제 입력 3\n",
    "```python\n",
    "8 9 5\n",
    "1 8\n",
    "3 10\n",
    "4 5\n",
    "5 20\n",
    "7 12\n",
    "8 15\n",
    "9 50\n",
    "14 14\n",
    "```\n",
    "##### 예제 출력 3\n",
    "```python\n",
    "580\n",
    "```"
   ]
  },
  {
   "cell_type": "markdown",
   "id": "6b3dd804",
   "metadata": {},
   "source": [
    "#### 나의 풀이"
   ]
  },
  {
   "cell_type": "code",
   "execution_count": 53,
   "id": "c925ed7a",
   "metadata": {},
   "outputs": [
    {
     "name": "stdout",
     "output_type": "stream",
     "text": [
      "8 7 5\n",
      "1 3\n",
      "2 5\n",
      "3 5\n",
      "4 8\n",
      "5 8\n",
      "6 9\n",
      "6 7\n",
      "7 10\n"
     ]
    }
   ],
   "source": [
    "N, L, K = map(int, input().split())\n",
    "\n",
    "array = []\n",
    "\n",
    "for _ in range(N):\n",
    "    sub1, sub2 = map(int, input().split())\n",
    "    array.append((sub1, sub2))"
   ]
  },
  {
   "cell_type": "code",
   "execution_count": 58,
   "id": "cd84f487",
   "metadata": {},
   "outputs": [],
   "source": [
    "result = 0\n",
    "count = 0\n",
    "\n",
    "for i in range(N):\n",
    "    sub1, sub2 = array[i]\n",
    "    if sub1 <= L and sub2 <= L and count < K:\n",
    "        result += 140\n",
    "        count += 1\n",
    "        array[i] = (float(\"inf\"), float(\"inf\"))\n",
    "        \n",
    "for i in range(N):\n",
    "    sub1, sub2 = array[i]\n",
    "    if sub1 <= L and count < K:\n",
    "        result += 100\n",
    "        count += 1\n",
    "        array[i] = (float(\"inf\"), sub2)\n",
    "    elif sub2 <= L and count < K:\n",
    "        result += 40\n",
    "        count += 1\n",
    "        array[i] = (sub1, float(\"inf\"))\n",
    "        \n",
    "print(result)"
   ]
  },
  {
   "cell_type": "markdown",
   "id": "a1ddc69c",
   "metadata": {},
   "source": [
    "#### 풀이"
   ]
  },
  {
   "cell_type": "code",
   "execution_count": 64,
   "id": "a8a4941f",
   "metadata": {},
   "outputs": [
    {
     "name": "stdout",
     "output_type": "stream",
     "text": [
      "8 7 5\n",
      "1 3\n",
      "2 5\n",
      "3 5\n",
      "4 8\n",
      "5 8\n",
      "6 9\n",
      "6 7\n",
      "7 10\n"
     ]
    }
   ],
   "source": [
    "N, L, K = map(int, input().split())\n",
    "\n",
    "easy, hard = 0, 0\n",
    "\n",
    "for i in range(N):\n",
    "    sub1, sub2 = map(int, input().split())\n",
    "    if sub2 <= L:\n",
    "        hard += 1\n",
    "    elif sub1 <= L:\n",
    "        easy += 1"
   ]
  },
  {
   "cell_type": "code",
   "execution_count": 65,
   "id": "d1e3588f",
   "metadata": {},
   "outputs": [
    {
     "name": "stdout",
     "output_type": "stream",
     "text": [
      "660\n"
     ]
    }
   ],
   "source": [
    "# hard 문제\n",
    "ans = min(hard, K) * 140\n",
    "\n",
    "# easy 문제\n",
    "if hard < K:\n",
    "    ans += min(K - hard, easy) * 100\n",
    "\n",
    "print(ans)"
   ]
  },
  {
   "cell_type": "markdown",
   "id": "0ff53174",
   "metadata": {},
   "source": [
    "### 9037문제\n",
    "- 문제 제목: The candy war \n",
    "\n",
    "\n",
    "> https://www.acmicpc.net/problem/9037\n",
    "\n",
    "\n",
    "#### 문제\n",
    "- 알고리즘 유치원 선생님인 영희는 간식시간이 되자 아이들에게 사탕을 나누어 주려고 하였다. 하지만 욕심 많고 제멋대로인 유치원 아이들은 차례대로 받으라는 선생님의 말을 무시한 채 마구잡이로 사탕을 집어 갔고 많은 사탕을 집어 간 아이가 있는가 하면 사탕을 거의 차지하지 못하고 우는 아이도 있었다. \n",
    "\n",
    "\n",
    "- 말로 타일러도 아이들이 말을 듣지 않자 영희는 한 가지 놀이를 제안했다. 일단 모든 아이들이 원으로 둘러 앉는다. 그리고 모든 아이들은 동시에 자기가 가지고 있는 사탕의 절반을 오른쪽 아이에게 준다. 만약 이 결과 홀수개의 사탕을 가지게 된 아이가 있을 경우 선생님이 한 개를 보충해 짝수로 만들어 주기로 했다. 흥미로워 보이는 이 놀이에 아이들은 참여 했고 이 과정을 몇 번 거치자 자연스럽게 모든 아이들이 같은 수의 사탕을 가지게 되어 소란은 종료되었다.\n",
    "\n",
    "\n",
    "- 자기가 가진 사탕의 반을 옆에 오른쪽에 앉은 아이에게 주는 과정과 선생님이 사탕을 보충해 주는 과정을 묶어서 1 순환이라고 할 때 몇 번의 순환을 거치면 모든 아이들이 같은 수의 사탕을 가지게 되는지 계산 해보자. 단, 처음부터 홀수개의 사탕을 가지고 있으면 선생님이 짝수로 보충을 먼저 해주며 이 경우 순환수에 들어가지 않는다. 선생님은 충분한 수의 사탕을 갖고 있다고 가정하자.\n",
    "\n",
    "\n",
    "#### 입력\n",
    "- 입력은 표준입력(standard input)을 통해 받아들인다. 입력의 첫 줄에는 테스트 케이스의 개수 T가 주어진다. 각각의 테스트 케이스의 첫 줄에는 아이의 인원 N (1 ≤ N ≤ 10)이 주어지고 그 다음 줄에는 각 아이들이 초기에 가지고 있는 사탕의 개수 $C_i ( 1 ≤ i ≤ N, 1 ≤ C_i ≤ 30)$가 주어진다. 분배 시 $C_1$의 오른쪽에는 $C_2$가, $C_2$의 오른쪽에는 $C_3$가…… 같은 식으로 앉게 되며 $C_N$의 오른쪽에는 $C_1$이 앉게 된다.\n",
    "\n",
    "\n",
    "#### 출력\n",
    "- 출력은 표준출력(standard output)을 통하여 출력한다. 각 테스트 케이스에 대하여 모든 아이가 같은 개수의 사탕을 가질 때까지 몇 순환이 걸리는지 출력하시오.\n",
    "\n",
    "\n",
    "#### 예제 입력 1 \n",
    "```python\n",
    "4\n",
    "5\n",
    "2 4 7 8 9\n",
    "1\n",
    "9\n",
    "6\n",
    "10 5 13 2 7 8\n",
    "4\n",
    "3 4 4 3\n",
    "```\n",
    "##### 예제 출력 1\n",
    "```python\n",
    "6\n",
    "0\n",
    "4\n",
    "0\n",
    "```"
   ]
  },
  {
   "cell_type": "markdown",
   "id": "272ea579",
   "metadata": {},
   "source": [
    "#### 나의 풀이"
   ]
  },
  {
   "cell_type": "code",
   "execution_count": 124,
   "id": "04afaca2",
   "metadata": {
    "scrolled": true
   },
   "outputs": [
    {
     "name": "stdout",
     "output_type": "stream",
     "text": [
      "1\n",
      "5\n",
      "2 4 7 8 9\n"
     ]
    }
   ],
   "source": [
    "T = int(input())\n",
    "\n",
    "for _ in range(T):\n",
    "    N = int(input())\n",
    "    C = list(map(int, input().split()))"
   ]
  },
  {
   "cell_type": "code",
   "execution_count": 125,
   "id": "4b60fa0e",
   "metadata": {
    "scrolled": false
   },
   "outputs": [
    {
     "name": "stdout",
     "output_type": "stream",
     "text": [
      "[6, 4, 6, 8, 10]\n",
      "[8, 6, 6, 8, 10]\n",
      "[10, 8, 6, 8, 10]\n",
      "[10, 10, 8, 8, 10]\n",
      "[10, 10, 10, 8, 10]\n",
      "[10, 10, 10, 10, 10]\n"
     ]
    }
   ],
   "source": [
    "    count = 0\n",
    "\n",
    "    for i in range(len(C)):\n",
    "        if C[i] % 2 != 0:\n",
    "            C[i] += 1\n",
    "\n",
    "    while sorted(C)[0] != sorted(C)[-1]:\n",
    "        B = []\n",
    "        B.append(C[-1] // 2)\n",
    "        for i in range(len(C)):\n",
    "            if i < len(C) - 1:\n",
    "                B.append(C[i] // 2)\n",
    "            C[i] = C[i] // 2\n",
    "\n",
    "        for i in range(len(C)):\n",
    "            C[i] = C[i] + B[i]\n",
    "            if C[i] % 2 != 0:\n",
    "                C[i] += 1\n",
    "        count += 1\n",
    "    print(count)"
   ]
  },
  {
   "cell_type": "markdown",
   "id": "2fe26226",
   "metadata": {},
   "source": [
    "#### 풀이"
   ]
  },
  {
   "cell_type": "code",
   "execution_count": 130,
   "id": "e9c70b97",
   "metadata": {},
   "outputs": [
    {
     "name": "stdout",
     "output_type": "stream",
     "text": [
      "4\n",
      "5\n",
      "2 4 7 8 9\n",
      "6\n",
      "1\n",
      "9\n",
      "0\n",
      "6\n",
      "10 5 13 2 7 8\n",
      "4\n",
      "4\n",
      "3 4 4 3\n",
      "0\n"
     ]
    }
   ],
   "source": [
    "def check(N, candy):\n",
    "    for i in range(N):\n",
    "        if candy[i] % 2 == 1:\n",
    "            candy[i] += 1\n",
    "    return len(set(candy)) == 1\n",
    "\n",
    "def teacher(N, candy):\n",
    "    tmp_lst = [0 for i in range(N)]\n",
    "    for idx in range(N):\n",
    "        if candy[idx] % 2:\n",
    "            candy[idx] += 1\n",
    "        candy[idx] //= 2\n",
    "        tmp_lst[(idx + 1) % N] = candy[idx]\n",
    "        \n",
    "    for idx in range(N):\n",
    "        candy[idx] += tmp_lst[idx]\n",
    "        \n",
    "    return candy\n",
    "        \n",
    "def process():\n",
    "    N, candy = int(input()), list(map(int, input().split()))\n",
    "    cnt = 0\n",
    "    while not check(N, candy):\n",
    "        cnt += 1\n",
    "        candy = teacher(N, candy)\n",
    "    print(cnt)\n",
    "    \n",
    "for i in range(int(input())):\n",
    "    process()"
   ]
  },
  {
   "cell_type": "markdown",
   "id": "af018ce8",
   "metadata": {},
   "source": [
    "### 16769문제\n",
    "- 문제 제목: Mixing Milk\n",
    "\n",
    "> https://www.acmicpc.net/problem/16769\n",
    "\n",
    "\n",
    "#### 문제\n",
    "- Farming is competitive business -- particularly milk production. Farmer John figures that if he doesn't innovate in his milk production methods, his dairy business could get creamed!\n",
    "\n",
    "\n",
    "- Fortunately, Farmer John has a good idea. His three prize dairy cows Bessie, Elsie, and Mildred each produce milk with a slightly different taste, and he plans to mix these together to get the perfect blend of flavors.\n",
    "\n",
    "\n",
    "- To mix the three different milks, he takes three buckets containing milk from the three cows. The buckets may have different sizes, and may not be completely full. He then pours bucket 1 into bucket 2, then bucket 2 into bucket 3, then bucket 3 into bucket 1, then bucket 1 into bucket 2, and so on in a cyclic fashion, for a total of 100 pour operations (so the 100th pour would be from bucket 1 into bucket 2). When Farmer John pours from bucket $a$ into bucket $b$, he pours as much milk as possible until either bucket $a$ becomes empty or bucket $b$ becomes full.\n",
    "\n",
    "\n",
    "- Please tell Farmer John how much milk will be in each bucket after he finishes all 100 pours.\n",
    "\n",
    "\n",
    "#### 입력\n",
    "- The first line of the input file contains two space-separated integers: the capacity $c_1$ of the first bucket, and the amount of milk $m_1$ in the first bucket. Both $c_1$ and $m_1$ are positive and at most 1 billion, with $c_1 \\geq m_1$. The second and third lines are similar, containing capacities and milk amounts for the second and third buckets.\n",
    "\n",
    "\n",
    "#### 출력\n",
    "- Please print three lines of output, giving the final amount of milk in each bucket, after 100 pour operations.\n",
    "\n",
    "\n",
    "#### 예제 입력 1 \n",
    "```python\n",
    "10 3\n",
    "11 4\n",
    "12 5\n",
    "```\n",
    "##### 예제 출력 1 \n",
    "```python\n",
    "0\n",
    "10\n",
    "2\n",
    "```"
   ]
  },
  {
   "cell_type": "markdown",
   "id": "3ec72f1f",
   "metadata": {},
   "source": [
    "#### 풀이"
   ]
  },
  {
   "cell_type": "code",
   "execution_count": 150,
   "id": "e6becdc1",
   "metadata": {},
   "outputs": [
    {
     "name": "stdout",
     "output_type": "stream",
     "text": [
      "10 3\n",
      "11 4\n",
      "12 5\n"
     ]
    }
   ],
   "source": [
    "C, M = [], []\n",
    "for _ in range(3):\n",
    "    a, b = map(int, input().split())\n",
    "    C.append(a)\n",
    "    M.append(b)"
   ]
  },
  {
   "cell_type": "code",
   "execution_count": 151,
   "id": "76deddc2",
   "metadata": {},
   "outputs": [
    {
     "name": "stdout",
     "output_type": "stream",
     "text": [
      "0\n",
      "10\n",
      "2\n"
     ]
    }
   ],
   "source": [
    "for i in range(100):\n",
    "    idx = i % 3\n",
    "    nxt = (idx + 1) % 3\n",
    "    M[idx], M[nxt] = max(M[idx] - (C[nxt] - M[nxt]), 0), min(C[nxt], M[nxt] + M[idx])\n",
    "\n",
    "for i in M:\n",
    "    print(i)"
   ]
  },
  {
   "cell_type": "markdown",
   "id": "0eafbf92",
   "metadata": {},
   "source": [
    "### 1074문제\n",
    "- 문제 제목: Z\n",
    "\n",
    "> https://www.acmicpc.net/problem/1074\n",
    "\n",
    "\n",
    "#### 문제\n",
    "- 한수는 크기가 $2^N × 2^N$인 2차원 배열을 Z모양으로 탐색하려고 한다. 예를 들어, 2×2배열을 왼쪽 위칸, 오른쪽 위칸, 왼쪽 아래칸, 오른쪽 아래칸 순서대로 방문하면 Z모양이다.\n",
    "\n",
    "\n",
    "<img src=\"https://upload.acmicpc.net/21c73b56-5a91-43aa-b71f-9b74925c0adc/-/preview/\" />\n",
    "\n",
    "\n",
    "- N > 1인 경우, 배열을 크기가 $2^{N-1} × 2^{N-1}$로 4등분 한 후에 재귀적으로 순서대로 방문한다.\n",
    "- 다음 예는 $2^2 × 2^2$ 크기의 배열을 방문한 순서이다.\n",
    "\n",
    "\n",
    "<img src=\"https://upload.acmicpc.net/adc7cfae-e84d-4d5c-af8e-ee011f8fff8f/-/preview/\" />\n",
    "\n",
    "\n",
    "- N이 주어졌을 때, r행 c열을 몇 번째로 방문하는지 출력하는 프로그램을 작성하시오.\n",
    "- 다음은 N=3일 때의 예이다.\n",
    "\n",
    "\n",
    "<img src=\"https://upload.acmicpc.net/d3e84bb7-9424-4764-ad3a-811e7fcbd53f/-/preview/\" />\n",
    "\n",
    "\n",
    "\n",
    "#### 입력\n",
    "- 첫째 줄에 정수 N, r, c가 주어진다.\n",
    "\n",
    "\n",
    "#### 출력\n",
    "- r행 c열을 몇 번째로 방문했는지 출력한다.\n",
    "\n",
    "\n",
    "#### 제한\n",
    "- 1 ≤ N ≤ 15\n",
    "- 0 ≤ r, c < $2^N$\n",
    "\n",
    "\n",
    "#### 예제 입력 1 \n",
    "```python\n",
    "2 3 1\n",
    "```\n",
    "##### 예제 출력 1 \n",
    "```python\n",
    "11\n",
    "```\n",
    "#### 예제 입력 2 \n",
    "```python\n",
    "3 7 7\n",
    "```\n",
    "##### 예제 출력 2\n",
    "```python\n",
    "63\n",
    "```"
   ]
  },
  {
   "cell_type": "markdown",
   "id": "9ebb0082",
   "metadata": {},
   "source": [
    "#### 풀이"
   ]
  },
  {
   "cell_type": "code",
   "execution_count": 163,
   "id": "dd276baa",
   "metadata": {},
   "outputs": [
    {
     "name": "stdout",
     "output_type": "stream",
     "text": [
      "3 7 7\n",
      "1 1 4\n",
      "48 7 7\n",
      "1 1 2\n",
      "12 3 3\n",
      "1 1 1\n",
      "3 1 1\n",
      "63\n"
     ]
    }
   ],
   "source": [
    "N, r, c = map(int, input().split())\n",
    "\n",
    "# Z : 0,0을 기준으로 x, y의 숫자\n",
    "def Z(sz, x, y):\n",
    "    if sz == 1:\n",
    "        return 0\n",
    "    sz //= 2\n",
    "    for i in range(2):\n",
    "        for j in range(2):\n",
    "            if x < sz * (i + 1) and y < sz * (j + 1):\n",
    "                return (i * 2 + j) * sz * sz + Z(sz, x - sz * i , y - sz * j)\n",
    "    \n",
    "print(Z(2 ** N, r, c))"
   ]
  }
 ],
 "metadata": {
  "kernelspec": {
   "display_name": "Python 3",
   "language": "python",
   "name": "python3"
  },
  "language_info": {
   "codemirror_mode": {
    "name": "ipython",
    "version": 3
   },
   "file_extension": ".py",
   "mimetype": "text/x-python",
   "name": "python",
   "nbconvert_exporter": "python",
   "pygments_lexer": "ipython3",
   "version": "3.8.8"
  }
 },
 "nbformat": 4,
 "nbformat_minor": 5
}
