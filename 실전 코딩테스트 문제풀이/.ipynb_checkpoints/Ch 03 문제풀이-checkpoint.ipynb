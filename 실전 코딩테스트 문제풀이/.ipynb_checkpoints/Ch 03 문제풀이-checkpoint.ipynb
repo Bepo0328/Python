{
 "cells": [
  {
   "cell_type": "markdown",
   "id": "3d7acf27",
   "metadata": {},
   "source": [
    "## Ch 03 문제풀이"
   ]
  },
  {
   "cell_type": "markdown",
   "id": "cf66f59e",
   "metadata": {},
   "source": [
    "### 2480문제\n",
    "- 문제 제목: 주사위 세개 \n",
    "\n",
    "> https://www.acmicpc.net/problem/2480\n",
    "\n",
    "\n",
    "#### 문제\n",
    "- 1에서부터 6까지의 눈을 가진 3개의 주사위를 던져서 다음과 같은 규칙에 따라 상금을 받는 게임이 있다. \n",
    "  1. 같은 눈이 3개가 나오면 10,000원+(같은 눈)×1,000원의 상금을 받게 된다. \n",
    "  2. 같은 눈이 2개만 나오는 경우에는 1,000원+(같은 눈)×100원의 상금을 받게 된다. \n",
    "  3. 모두 다른 눈이 나오는 경우에는 (그 중 가장 큰 눈)×100원의 상금을 받게 된다.\n",
    "\n",
    "\n",
    "- 예를 들어, 3개의 눈 3, 3, 6이 주어지면 상금은 1,000+3×100으로 계산되어 1,300원을 받게 된다. 또 3개의 눈이 2, 2, 2로 주어지면 10,000+2×1,000 으로 계산되어 12,000원을 받게 된다. 3개의 눈이 6, 2, 5로 주어지면 그중 가장 큰 값이 6이므로 6×100으로 계산되어 600원을 상금으로 받게 된다.\n",
    "\n",
    "\n",
    "- 3개 주사위의 나온 눈이 주어질 때, 상금을 계산하는 프로그램을 작성 하시오.\n",
    "\n",
    "\n",
    "#### 입력\n",
    "- 첫째 줄에 3개의 눈이 빈칸을 사이에 두고 각각 주어진다. \n",
    "\n",
    "\n",
    "#### 출력\n",
    "- 첫째 줄에 게임의 상금을 출력 한다.\n",
    "\n",
    "\n",
    "#### 예제 입력 1 \n",
    "```python\n",
    "3 3 6\n",
    "```\n",
    "##### 예제 출력 1 \n",
    "```python\n",
    "1300\n",
    "```\n",
    "#### 예제 입력 2\n",
    "```python\n",
    "2 2 2\n",
    "```\n",
    "##### 예제 출력 2\n",
    "```python\n",
    "12000\n",
    "```\n",
    "#### 예제 입력 3 \n",
    "```python\n",
    "6 2 5\n",
    "```\n",
    "##### 예제 출력 3\n",
    "```python\n",
    "600\n",
    "```"
   ]
  },
  {
   "cell_type": "markdown",
   "id": "b23c37b4",
   "metadata": {},
   "source": [
    "#### 나의 풀이"
   ]
  },
  {
   "cell_type": "code",
   "execution_count": 8,
   "id": "93fc1ad1",
   "metadata": {},
   "outputs": [
    {
     "name": "stdout",
     "output_type": "stream",
     "text": [
      "6 2 5\n"
     ]
    }
   ],
   "source": [
    "dice1, dice2, dice3 = map(int, input().split())"
   ]
  },
  {
   "cell_type": "code",
   "execution_count": 9,
   "id": "68bc3aa9",
   "metadata": {},
   "outputs": [
    {
     "name": "stdout",
     "output_type": "stream",
     "text": [
      "600\n"
     ]
    }
   ],
   "source": [
    "money = 0\n",
    "\n",
    "if dice1 == dice2 and dice2 == dice3:\n",
    "    money += (10000 + dice1 * 1000)\n",
    "elif dice1 == dice2:\n",
    "    money += (1000 + dice1 * 100)\n",
    "elif dice2 == dice3:\n",
    "    money += (1000 + dice2 * 100)\n",
    "elif dice1 == dice3:\n",
    "    money += (1000 + dice1 * 100)\n",
    "else:\n",
    "    money += max(dice1, dice2, dice3) * 100\n",
    "    \n",
    "print(money)"
   ]
  },
  {
   "cell_type": "markdown",
   "id": "711024d4",
   "metadata": {},
   "source": [
    "#### 풀이"
   ]
  },
  {
   "cell_type": "code",
   "execution_count": 11,
   "id": "f436ff65",
   "metadata": {},
   "outputs": [
    {
     "name": "stdout",
     "output_type": "stream",
     "text": [
      "3 3 6\n",
      "1300\n"
     ]
    }
   ],
   "source": [
    "lst = sorted(list(map(int, input().split())))\n",
    "\n",
    "if len(set(lst)) == 1:\n",
    "    print(10000 + lst[0]  * 1000)\n",
    "elif len(set(lst)) == 2:\n",
    "    print(1000 + lst[1] * 100)\n",
    "else:\n",
    "    print(lst[2] * 100)"
   ]
  },
  {
   "cell_type": "markdown",
   "id": "54be010c",
   "metadata": {},
   "source": [
    "### 2484문제\n",
    "- 문제 제목: 주사위 네개\n",
    "\n",
    "> https://www.acmicpc.net/problem/2484\n",
    "\n",
    "\n",
    "#### 문제\n",
    "- 1에서부터 6까지의 눈을 가진 4개의 주사위를 던져서 다음과 같은 규칙에 따라 상금을 받는 게임이 있다. \n",
    "  1. 같은 눈이 4개가 나오면 50,000원+(같은 눈)×5,000원의 상금을 받게 된다. \n",
    "  2. 같은 눈이 3개만 나오면 10,000원+(3개가 나온 눈)×1,000원의 상금을 받게 된다. \n",
    "  3. 같은 눈이 2개씩 두 쌍이 나오는 경우에는 2,000원+(2개가 나온 눈)×500원+(또 다른 2개가 나온 눈)×500원의 상금을 받게 된다.\n",
    "  4. 같은 눈이 2개만 나오는 경우에는 1,000원+(같은 눈)×100원의 상금을 받게 된다. \n",
    "  5. 모두 다른 눈이 나오는 경우에는 (그 중 가장 큰 눈)×100원의 상금을 받게 된다.\n",
    "\n",
    "\n",
    "- 예를 들어, 4개의 눈이 3, 3, 3, 3으로 주어지면 50,000+3×5,000으로 계산되어 65,000원의 상금을 받게 된다. 4개의 눈이 3, 3, 6, 3으로 주어지면 상금은 10,000+3×1,000으로 계산되어 13,000원을 받게 된다. 또 4개의 눈이 2, 2, 6, 6으로 주어지면 2,000+2×500+6×500으로 계산되어 6,000원을 받게 된다. 4개의 눈이 6, 2, 1, 6으로 주어지면 1,000+6×100으로 계산되어 1,600원을 받게 된다. 4개의 눈이 6, 2, 1, 5로 주어지면 그 중 가장 큰 값이 6이므로 6×100으로 계산되어 600원을 상금으로 받게 된다.\n",
    "\n",
    "\n",
    "- N(1 ≤ N ≤ 1,000)명이 주사위 게임에 참여하였을 때, 가장 많은 상금을 받은 사람의 상금을 출력하는 프로그램을 작성하시오.\n",
    "\n",
    "\n",
    "#### 입력\n",
    "- 첫째 줄에는 참여하는 사람 수 N이 주어지고 그 다음 줄부터 N개의 줄에 사람들이 주사위를 던진 4개의 눈이 빈칸을 사이에 두고 각각 주어진다.\n",
    "\n",
    "\n",
    "#### 출력\n",
    "- 첫째 줄에 가장 많은 상금을 받은 사람의 상금을 출력한다.\n",
    "\n",
    "\n",
    "#### 예제 입력 1 \n",
    "```python\n",
    "4\n",
    "3 3 3 3\n",
    "3 3 6 3\n",
    "2 2 6 6\n",
    "6 2 1 5\n",
    "```\n",
    "##### 예제 출력 1 \n",
    "```python\n",
    "65000\n",
    "```"
   ]
  },
  {
   "cell_type": "markdown",
   "id": "f05c824f",
   "metadata": {},
   "source": [
    "#### 나의 풀이"
   ]
  },
  {
   "cell_type": "code",
   "execution_count": 36,
   "id": "9b6f1778",
   "metadata": {},
   "outputs": [
    {
     "name": "stdout",
     "output_type": "stream",
     "text": [
      "4\n",
      "3 3 3 3\n",
      "3 3 6 3\n",
      "2 2 6 6\n",
      "6 2 1 5\n",
      "65000\n"
     ]
    }
   ],
   "source": [
    "N = int(input())\n",
    "max_money = 0\n",
    "\n",
    "for _ in range(N):\n",
    "    dice = sorted(list(map(int, input().split())))\n",
    "    money = 0\n",
    "    \n",
    "    if len(set(dice)) == 1:\n",
    "        money += (50000 + dice[0] * 5000)\n",
    "    elif len(set(dice)) == 2:\n",
    "        if dice[1] == dice[2]:\n",
    "            money += (10000 + dice[1] * 1000)\n",
    "        else:\n",
    "            money += (2000 + dice[1] * 500 + dice[2] * 500)\n",
    "    elif len(set(dice)) == 3:\n",
    "        if dice[0] == dice[1]:\n",
    "            money += (1000 + dice[0] * 100)\n",
    "        elif dice[1] == dice[2]:\n",
    "            money += (1000 + dice[1] * 100)\n",
    "        else:\n",
    "            money += (1000 + dice[2] * 100)\n",
    "    else:\n",
    "        money += (dice[3] * 100)\n",
    "    max_money = max(max_money, money)\n",
    "\n",
    "print(max_money)"
   ]
  },
  {
   "cell_type": "markdown",
   "id": "825d1c66",
   "metadata": {},
   "source": [
    "#### 풀이"
   ]
  },
  {
   "cell_type": "code",
   "execution_count": 37,
   "id": "fe0bde44",
   "metadata": {},
   "outputs": [
    {
     "name": "stdout",
     "output_type": "stream",
     "text": [
      "4\n",
      "3 3 3 3\n",
      "3 3 6 3\n",
      "2 2 6 6\n",
      "6 2 1 5\n",
      "65000\n"
     ]
    }
   ],
   "source": [
    "def money():\n",
    "    lst = sorted(list(map(int, input().split())))\n",
    "    if len(set(lst)) == 1:\n",
    "        return lst[0] * 5000 + 50000\n",
    "    elif len(set(lst)) == 2:\n",
    "        if lst[1] == lst[2]:\n",
    "            return lst[1] * 1000 + 10000\n",
    "        else:\n",
    "            return (lst[1] + lst[2]) * 500 + 2000\n",
    "    for i in range(3):\n",
    "        if lst[i] == lst[i + 1]:\n",
    "            return lst[i] * 100 + 1000\n",
    "    return lst[-1] * 100\n",
    "    \n",
    "N = int(input())\n",
    "\n",
    "print(max(money() for i in range(N)))"
   ]
  },
  {
   "cell_type": "markdown",
   "id": "7dc427a6",
   "metadata": {},
   "source": [
    "### 16675문제\n",
    "- 문제 제목: 두 개의 손\n",
    "\n",
    "> https://www.acmicpc.net/problem/16675\n",
    "\n",
    "\n",
    "#### 문제\n",
    "- 민성이와 태경이는 고려대학교에서 알아주는 가위바위보의 최고수들이다. 이들은 기존의 가위바위보에 질린 나머지, 2개의 손을 모두 이용하여 가위바위보를 즐기는 경지에 이르렀다.\n",
    "\n",
    "\n",
    "- 먼저, 둘이 동시에 **“가위, 바위, 보”** 를 외치며 두 개의 손을 각각 가위, 바위, 보 중 하나로 설정하여 공개한다. 그 자리에서 서로 3초간 호흡을 가다듬은 후, 동시에 왼손을 낼지 오른손을 낼지를 결정한다. 민성이와 태경이는 최고수들끼리의 대결이라는 압박감에 의해 가끔 판단력이 흐려질 때가 있어서, 실수로 왼손과 오른손에 같은 동작을 취할 수도 있다.\n",
    "\n",
    "\n",
    "- 당신은 민성이와 태경이의 왼손과 오른손의 상태가 주어졌을 때, 민성이 또는 태경이가 적절히 왼손 또는 오른손을 선택하여 가위바위보에서 무조건 이기는 방법이 있는지 없는지를 알려고 한다.\n",
    "\n",
    "\n",
    "#### 입력\n",
    "- 첫 번째 줄에 차례로 $M_L, M_R, T_L, T_R$이 공백으로 구분되어 주어진다. 차례대로 민성이의 왼손과 오른손, 태경이의 왼손과 오른손의 상태를 나타낸다.\n",
    "\n",
    "\n",
    "- 위 4개의 값들은 $“S”, “R”, “P”$ 중 하나이며, 각각 가위, 바위, 보를 의미한다.\n",
    "\n",
    "\n",
    "#### 출력\n",
    "- 첫 번째 줄에 민성이가 무조건 이길 수 있다면 $“MS”$, 태경이가 무조건 이길 수 있다면 $“TK”$, 누가 이길 지 확답할 수 없다면 $“?”$를 쌍따옴표를 제외하고 출력한다.\n",
    "\n",
    "\n",
    "- 가위바위보에서 가위는 보를 이기고, 바위는 가위를 이기며, 보는 바위를 이긴다. 같은 손동작끼리는 승부가 나지 않는다 (비긴다).\n",
    "\n",
    "\n",
    "#### 예제 입력 1 \n",
    "```python\n",
    "R S P R\n",
    "```\n",
    "##### 예제 출력 1 \n",
    "```python\n",
    "?\n",
    "```\n",
    "#### 예제 입력 2\n",
    "```python\n",
    "R R S S\n",
    "```\n",
    "##### 예제 출력 2\n",
    "```python\n",
    "MS\n",
    "```\n",
    "#### 예제 입력 3 \n",
    "```python\n",
    "P P S R\n",
    "```\n",
    "##### 예제 출력 3\n",
    "```python\n",
    "TK\n",
    "```"
   ]
  },
  {
   "cell_type": "markdown",
   "id": "b44f97c2",
   "metadata": {},
   "source": [
    "#### 나의 풀이"
   ]
  },
  {
   "cell_type": "code",
   "execution_count": 57,
   "id": "e226b2aa",
   "metadata": {},
   "outputs": [
    {
     "name": "stdout",
     "output_type": "stream",
     "text": [
      "R S P R\n"
     ]
    }
   ],
   "source": [
    "M_L, M_R, T_L, T_R = input().split()"
   ]
  },
  {
   "cell_type": "code",
   "execution_count": 58,
   "id": "b3a22eb5",
   "metadata": {},
   "outputs": [],
   "source": [
    "def rockPaperScissors(M_L, M_R, T_L, T_R):\n",
    "    M = [M_L, M_R]\n",
    "    T = [T_L, T_R]\n",
    "    R = ['S', 'R', 'P']\n",
    "\n",
    "    if M_L == M_R:\n",
    "        for i in range(len(R)):\n",
    "            if M_L == R[i]:\n",
    "                if i < 2:\n",
    "                    if T_L == R[i + 1] or T_R == R[i + 1]:\n",
    "                        return \"TK\"\n",
    "                else:\n",
    "                    if T_L == R[0] or T_R == R[0]:\n",
    "                        return \"TK\"\n",
    "    if T_L == T_R:\n",
    "        for i in range(len(R)):\n",
    "            if T_L == R[i]:\n",
    "                if i < 2:\n",
    "                    if M_L == R[i + 1] or M_R == R[i + 1]:\n",
    "                        return \"MS\"\n",
    "                else:\n",
    "                    if M_L == R[0] or M_R == R[0]:\n",
    "                        return \"MS\"\n",
    "\n",
    "    return \"?\""
   ]
  },
  {
   "cell_type": "code",
   "execution_count": 59,
   "id": "f83df3fc",
   "metadata": {},
   "outputs": [
    {
     "name": "stdout",
     "output_type": "stream",
     "text": [
      "?\n"
     ]
    }
   ],
   "source": [
    "print(rockPaperScissors(M_L, M_R, T_L, T_R))"
   ]
  },
  {
   "cell_type": "markdown",
   "id": "e6644650",
   "metadata": {},
   "source": [
    "#### 풀이"
   ]
  },
  {
   "cell_type": "code",
   "execution_count": 75,
   "id": "df18ce48",
   "metadata": {},
   "outputs": [
    {
     "name": "stdout",
     "output_type": "stream",
     "text": [
      "R S P R\n",
      "?\n"
     ]
    }
   ],
   "source": [
    "ML, MR, TL, TR = ('SRP'.index(i) for i in input().split())\n",
    "if ML == MR and (ML + 1) % 3 in [TL, TR]:\n",
    "    print(\"TK\")\n",
    "elif TL == TR and (TL + 1) % 3 in [ML, MR]:\n",
    "    print(\"MS\")\n",
    "else:\n",
    "    print('?')"
   ]
  },
  {
   "cell_type": "markdown",
   "id": "1e3813c6",
   "metadata": {},
   "source": [
    "### 17413문제\n",
    "- 문제 제목: 단어 뒤집기 2\n",
    "\n",
    "> https://www.acmicpc.net/problem/17413\n",
    "\n",
    "\n",
    "#### 문제\n",
    "- 문자열 S가 주어졌을 때, 이 문자열에서 단어만 뒤집으려고 한다.\n",
    "\n",
    "\n",
    "- 먼저, 문자열 S는 아래와과 같은 규칙을 지킨다.\n",
    "  1. 알파벳 소문자('a'-'z'), 숫자('0'-'9'), 공백(' '), 특수 문자('<', '>')로만 이루어져 있다.\n",
    "  2. 문자열의 시작과 끝은 공백이 아니다.\n",
    "  3. '<'와 '>'가 문자열에 있는 경우 번갈아가면서 등장하며, '<'이 먼저 등장한다. 또, 두 문자의 개수는 같다.\n",
    "\n",
    "\n",
    "- 태그는 '<'로 시작해서 '>'로 끝나는 길이가 3 이상인 부분 문자열이고, '<'와 '>' 사이에는 알파벳 소문자와 공백만 있다. 단어는 알파벳 소문자와 숫자로 이루어진 부분 문자열이고, 연속하는 두 단어는 공백 하나로 구분한다. 태그는 단어가 아니며, 태그와 단어 사이에는 공백이 없다.\n",
    "\n",
    "\n",
    "#### 입력\n",
    "- 첫째 줄에 문자열 S가 주어진다. S의 길이는 100,000 이하이다.\n",
    "\n",
    "\n",
    "#### 출력\n",
    "- 첫째 줄에 문자열 S의 단어를 뒤집어서 출력한다.\n",
    "\n",
    "\n",
    "#### 예제 입력 1 \n",
    "```python\n",
    "baekjoon online judge\n",
    "```\n",
    "##### 예제 출력 1 \n",
    "```python\n",
    "noojkeab enilno egduj\n",
    "```\n",
    "#### 예제 입력 2\n",
    "```python\n",
    "<open>tag<close>\n",
    "```\n",
    "##### 예제 출력 2\n",
    "```python\n",
    "<open>gat<close>\n",
    "```\n",
    "#### 예제 입력 3\n",
    "```python\n",
    "<ab cd>ef gh<ij kl>\n",
    "```\n",
    "##### 예제 출력 3\n",
    "```python\n",
    "<ab cd>fe hg<ij kl>\n",
    "```\n",
    "#### 예제 입력 4\n",
    "```python\n",
    "one1 two2 three3 4fourr 5five 6six\n",
    "```\n",
    "##### 예제 출력 4\n",
    "```python\n",
    "1eno 2owt 3eerht rruof4 evif5 xis6\n",
    "```\n",
    "#### 예제 입력 5\n",
    "```python\n",
    "<int><max>2147483647<long long><max>9223372036854775807\n",
    "```\n",
    "##### 예제 출력 5\n",
    "```python\n",
    "<int><max>7463847412<long long><max>7085774586302733229\n",
    "```\n",
    "#### 예제 입력 6\n",
    "```python\n",
    "<problem>17413<is hardest>problem ever<end>\n",
    "```\n",
    "##### 예제 출력 6\n",
    "```python\n",
    "<problem>31471<is hardest>melborp reve<end>\n",
    "```\n",
    "#### 예제 입력 7\n",
    "```python\n",
    "<   space   >space space space<    spa   c e>\n",
    "```\n",
    "##### 예제 출력 7\n",
    "```python\n",
    "<   space   >ecaps ecaps ecaps<    spa   c e>\n",
    "```"
   ]
  },
  {
   "cell_type": "markdown",
   "id": "b351cb81",
   "metadata": {},
   "source": [
    "#### 나의 풀이"
   ]
  },
  {
   "cell_type": "code",
   "execution_count": 167,
   "id": "6baa6718",
   "metadata": {
    "scrolled": true
   },
   "outputs": [
    {
     "name": "stdout",
     "output_type": "stream",
     "text": [
      "baekjoon online judge\n"
     ]
    }
   ],
   "source": [
    "S = list(input())"
   ]
  },
  {
   "cell_type": "code",
   "execution_count": 169,
   "id": "1db5cd69",
   "metadata": {},
   "outputs": [
    {
     "name": "stdout",
     "output_type": "stream",
     "text": [
      "noojkeab enilno egduj"
     ]
    }
   ],
   "source": [
    "pass_str = False\n",
    "change_str = []\n",
    "\n",
    "for idx, s in enumerate(S):\n",
    "    if s == '<':\n",
    "        for j in change_str[::-1]:\n",
    "            print(j, end='')\n",
    "        change_str = []\n",
    "        print(s, end='')\n",
    "        pass_str = True\n",
    "    elif s == '>':\n",
    "        print(s, end='')\n",
    "        pass_str = False\n",
    "    elif pass_str:\n",
    "        print(s, end='')\n",
    "        continue\n",
    "    elif s == ' ':\n",
    "        for i in change_str[::-1]:\n",
    "            print(i, end='')\n",
    "        print(s, end='')\n",
    "        change_str = []\n",
    "    else:\n",
    "        change_str.append(s)\n",
    "            \n",
    "if len(change_str) > 0:\n",
    "    for i in change_str[::-1]:\n",
    "        print(i, end='')"
   ]
  },
  {
   "cell_type": "markdown",
   "id": "3556b506",
   "metadata": {},
   "source": [
    "#### 풀이 1"
   ]
  },
  {
   "cell_type": "code",
   "execution_count": null,
   "id": "d0cebe8f",
   "metadata": {},
   "outputs": [],
   "source": [
    "S, tmp = input(), \"\"\n",
    "\n",
    "ck = False\n",
    "\n",
    "for i in S:\n",
    "    if i == ' ':\n",
    "        if not ck:\n",
    "            print(tmp[::-1], end=\" \")\n",
    "            tmp = \"\"\n",
    "        else:\n",
    "            print(\" \", end=\"\")\n",
    "    elif i == '<':\n",
    "        ck = True\n",
    "        print(tmp[::-1] + \"<\", end=\"\")\n",
    "        tmp = \"\"\n",
    "    elif i == '>':\n",
    "        ck = False\n",
    "        print(\">\", end=\"\")\n",
    "    else:\n",
    "        if ck:\n",
    "            print(i, end=\"\")\n",
    "        else:\n",
    "            tmp += i\n",
    "        \n",
    "print(tmp[::-1], end=\" \")"
   ]
  },
  {
   "cell_type": "markdown",
   "id": "f1ea2ad1",
   "metadata": {},
   "source": [
    "#### 풀이 2"
   ]
  },
  {
   "cell_type": "code",
   "execution_count": 176,
   "id": "c6523473",
   "metadata": {},
   "outputs": [
    {
     "name": "stdout",
     "output_type": "stream",
     "text": [
      "<   space   >space space space<    spa   c e>\n",
      "<   space   >ecaps ecaps ecaps<    spa   c e>\n"
     ]
    }
   ],
   "source": [
    "S = input()\n",
    "\n",
    "tmp, ans, ck = \"\", \"\", False\n",
    "\n",
    "for i in S:\n",
    "    if i == ' ':\n",
    "        if not ck:\n",
    "            ans += tmp[::-1] + \" \"\n",
    "            tmp = \"\"\n",
    "        else: ans += \" \"\n",
    "    elif i == '<':\n",
    "        ck = True\n",
    "        ans += tmp[::-1] + \"<\"\n",
    "        tmp = \"\"\n",
    "    elif i == '>':\n",
    "        ck = False\n",
    "        ans += \">\"\n",
    "    else:\n",
    "        if ck: ans += i\n",
    "        else: tmp += i\n",
    "print(ans + tmp[::-1])"
   ]
  }
 ],
 "metadata": {
  "kernelspec": {
   "display_name": "Python 3",
   "language": "python",
   "name": "python3"
  },
  "language_info": {
   "codemirror_mode": {
    "name": "ipython",
    "version": 3
   },
   "file_extension": ".py",
   "mimetype": "text/x-python",
   "name": "python",
   "nbconvert_exporter": "python",
   "pygments_lexer": "ipython3",
   "version": "3.8.8"
  }
 },
 "nbformat": 4,
 "nbformat_minor": 5
}
