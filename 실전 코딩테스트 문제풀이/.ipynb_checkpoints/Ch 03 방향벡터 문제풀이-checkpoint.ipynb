{
 "cells": [
  {
   "cell_type": "markdown",
   "id": "4c151a19",
   "metadata": {},
   "source": [
    "## Ch 03 방향벡터 문제풀이"
   ]
  },
  {
   "cell_type": "markdown",
   "id": "c9216c51",
   "metadata": {},
   "source": [
    "### 16956문제\n",
    "- 문제 제목: 늑대와 양\n",
    "\n",
    "> https://www.acmicpc.net/problem/16956\n",
    "\n",
    "\n",
    "#### 문제\n",
    "- 크기가 R×C인 목장이 있고, 목장은 1×1 크기의 칸으로 나누어져 있다. 각각의 칸에는 비어있거나, 양 또는 늑대가 있다. 양은 이동하지 않고 위치를 지키고 있고, 늑대는 인접한 칸을 자유롭게 이동할 수 있다. 두 칸이 인접하다는 것은 두 칸이 변을 공유하는 경우이다.\n",
    "- 목장에 울타리를 설치해 늑대가 양이 있는 칸으로 갈 수 없게 하려고 한다. 늑대는 울타리가 있는 칸으로는 이동할 수 없다. 울타리를 설치해보자.\n",
    "\n",
    "#### 입력\n",
    "- 첫째 줄에 목장의 크기 R, C가 주어진다.\n",
    "- 둘째 줄부터 R개의 줄에 목장의 상태가 주어진다. '.'는 빈 칸, 'S'는 양, 'W'는 늑대이다.\n",
    "\n",
    "\n",
    "#### 출력\n",
    "- 늑대가 양이 있는 칸으로 갈 수 없게 할 수 있다면 첫째 줄에 1을 출력하고, 둘째 줄부터 R개의 줄에 목장의 상태를 출력한다. 울타리는 'D'로 출력한다. 울타리를 어떻게 설치해도 늑대가 양이 있는 칸으로 갈 수 있다면 첫째 줄에 0을 출력한다.\n",
    "\n",
    "\n",
    "#### 제한\n",
    "- 1 ≤ R, C ≤ 500\n",
    "\n",
    "\n",
    "#### 예제 입력 1 \n",
    "```python\n",
    "6 6\n",
    "..S...\n",
    "..S.W.\n",
    ".S....\n",
    "..W...\n",
    "...W..\n",
    "......\n",
    "```\n",
    "##### 예제 출력 1 \n",
    "```python\n",
    "1\n",
    "..SD..\n",
    "..SDW.\n",
    ".SD...\n",
    ".DW...\n",
    "DD.W..\n",
    "......\n",
    "```\n",
    "#### 예제 입력 2\n",
    "```python\n",
    "1 2\n",
    "SW\n",
    "```\n",
    "##### 예제 출력 2\n",
    "```python\n",
    "0\n",
    "```\n",
    "#### 예제 입력 3 \n",
    "```python\n",
    "5 5\n",
    ".S...\n",
    "...S.\n",
    "S....\n",
    "...S.\n",
    ".S...\n",
    "```\n",
    "##### 예제 출력 3\n",
    "```python\n",
    "1\n",
    ".S...\n",
    "...S.\n",
    "S.D..\n",
    "...S.\n",
    ".S...\n",
    "```"
   ]
  },
  {
   "cell_type": "markdown",
   "id": "00d27ff8",
   "metadata": {},
   "source": [
    "#### 풀이"
   ]
  },
  {
   "cell_type": "code",
   "execution_count": 8,
   "id": "72fa7f0b",
   "metadata": {},
   "outputs": [
    {
     "name": "stdout",
     "output_type": "stream",
     "text": [
      "1 2\n",
      "SW\n"
     ]
    }
   ],
   "source": [
    "R, C = map(int, input().split())\n",
    "M = [list(input()) for i in range(R)]"
   ]
  },
  {
   "cell_type": "code",
   "execution_count": 16,
   "id": "8cc597a1",
   "metadata": {},
   "outputs": [
    {
     "name": "stdout",
     "output_type": "stream",
     "text": [
      "0\n",
      "SW\n"
     ]
    }
   ],
   "source": [
    "dx, dy = [0, 1, 0, -1], [1, 0, -1, 0]\n",
    "\n",
    "ck = False\n",
    "\n",
    "for i in range(R):\n",
    "    for j in range(C):\n",
    "        if M[i][j] == 'W':\n",
    "            for w in range(4):\n",
    "                ii, jj = i + dx[w], j + dy[w]\n",
    "                if ii < 0 or ii == R or jj < 0 or jj == C:\n",
    "                    continue\n",
    "                if M[ii][jj] == 'S':\n",
    "                    ck = True\n",
    "                    \n",
    "if ck:\n",
    "    print(0)\n",
    "else:\n",
    "    print(1)\n",
    "    for i in range(R):\n",
    "        for j in range(C):\n",
    "            if M[i][j] not in 'SW':\n",
    "                M[i][j] = 'D'\n",
    "                \n",
    "for i in M:\n",
    "    print(''.join(i))"
   ]
  },
  {
   "cell_type": "markdown",
   "id": "ed9e8779",
   "metadata": {},
   "source": [
    "### 14620문제\n",
    "- 문제 제목: 꽃길\n",
    "\n",
    "> https://www.acmicpc.net/problem/14620\n",
    "\n",
    "\n",
    "#### 문제\n",
    "- 2017년 4월 5일 식목일을 맞이한 진아는 나무를 심는 대신 하이테크관 앞 화단에 꽃을 심어 등교할 때 마다 꽃길을 걷고 싶었다.\n",
    "- 진아가 가진 꽃의 씨앗은 꽃을 심고나면 정확히 1년후에 꽃이 피므로 진아는 다음해 식목일 부터 꽃길을 걸을 수 있다.\n",
    "- 하지만 진아에게는 꽃의 씨앗이 세개밖에 없었으므로 세 개의 꽃이 하나도 죽지 않고 1년후에 꽃잎이 만개하길 원한다.\n",
    "- 꽃밭은 N*N의 격자 모양이고 진아는 씨앗을 (1,1)~(N,N)의 지점 중 한곳에 심을 수 있다. 꽃의 씨앗은 그림 (a)처럼 심어지며 1년 후 꽃이 피면 그림 (b)모양이 된다.\n",
    "\n",
    "\n",
    "<img src=\"https://onlinejudgeimages.s3-ap-northeast-1.amazonaws.com/problem/14620/1.png\" />\n",
    "\n",
    "\n",
    "- 꽃을 심을 때는 주의할 점이있다. 어떤 씨앗이 꽃이 핀 뒤 다른 꽃잎(혹은 꽃술)과 닿게 될 경우 두 꽃 모두 죽어버린다. 또 화단 밖으로 꽃잎이 나가게 된다면 그 꽃은 죽어버리고 만다.\n",
    "\n",
    "\n",
    "<img src=\"https://onlinejudgeimages.s3-ap-northeast-1.amazonaws.com/problem/14620/2.png\" />\n",
    "\n",
    "\n",
    "- 그림(c)는 세 꽃이 정상적으로 핀 모양이고 그림(d)는 두 꽃이 죽어버린 모양이다.\n",
    "- 하이테크 앞 화단의 대여 가격은 격자의 한 점마다 다르기 때문에 진아는 서로 다른 세 씨앗을 모두 꽃이 피게하면서 가장 싼 가격에 화단을 대여하고 싶다.\n",
    "- 단 화단을 대여할 때는 꽃잎이 핀 모양을 기준으로 대여를 해야하므로 꽃 하나당 5평의 땅을 대여해야만 한다.\n",
    "- 돈이 많지 않은 진아를 위하여 진아가 꽃을 심기 위해 필요한 최소비용을 구해주자!\n",
    "\n",
    "\n",
    "#### 입력\n",
    "- 입력의 첫째 줄에 화단의 한 변의 길이 N(6≤N≤10)이 들어온다.\n",
    "- 이후 N개의 줄에 N개씩 화단의 지점당 가격(0≤G≤200)이 주어진다.\n",
    "\n",
    "\n",
    "#### 출력\n",
    "- 꽃을 심기 위한 최소 비용을 출력한다.\n",
    "\n",
    "\n",
    "#### 예제 입력 1 \n",
    "```python\n",
    "6\n",
    "1 0 2 3 3 4\n",
    "1 1 1 1 1 1\n",
    "0 0 1 1 1 1\n",
    "3 9 9 0 1 99\n",
    "9 11 3 1 0 3\n",
    "12 3 0 0 0 1\n",
    "```\n",
    "##### 예제 출력 1 \n",
    "```python\n",
    "12\n",
    "```"
   ]
  },
  {
   "cell_type": "markdown",
   "id": "b660d40a",
   "metadata": {},
   "source": [
    "#### 풀이"
   ]
  },
  {
   "cell_type": "code",
   "execution_count": 17,
   "id": "84d9f6e6",
   "metadata": {},
   "outputs": [
    {
     "name": "stdout",
     "output_type": "stream",
     "text": [
      "6\n",
      "1 0 2 3 3 4\n",
      "1 1 1 1 1 1\n",
      "0 0 1 1 1 1\n",
      "3 9 9 0 1 99\n",
      "9 11 3 1 0 3\n",
      "12 3 0 0 0 1\n"
     ]
    }
   ],
   "source": [
    "N = int(input())\n",
    "G = [list(map(int, input().split())) for i in range(N)]"
   ]
  },
  {
   "cell_type": "code",
   "execution_count": 21,
   "id": "1816818f",
   "metadata": {},
   "outputs": [],
   "source": [
    "ans = 10000\n",
    "\n",
    "dx, dy = [0, 0, 0, 1, -1], [0, 1, -1, 0, 0]\n",
    "\n",
    "def ck(lst):\n",
    "    ret = 0\n",
    "    flow = []\n",
    "    for flower in lst:\n",
    "        x = flower // N\n",
    "        y = flower % N\n",
    "        \n",
    "        if x == 0 or x == (N - 1) or y == 0 or y == (N - 1):\n",
    "            return 10000\n",
    "        \n",
    "        for w in range(5):\n",
    "            flow.append((x + dx[w], y + dy[w]))\n",
    "            ret += G[x + dx[w]][y + dy[w]]\n",
    "    if len(set(flow)) != 15:\n",
    "        return 10000\n",
    "    return ret\n",
    "        \n",
    "for i in range(N * N):\n",
    "    for j in range(i + 1, N * N):\n",
    "        for k in range(j + 1, N * N):\n",
    "            ans = min(ans, ck([i, j, k]))\n",
    "            \n",
    "print(ans)"
   ]
  }
 ],
 "metadata": {
  "kernelspec": {
   "display_name": "Python 3",
   "language": "python",
   "name": "python3"
  },
  "language_info": {
   "codemirror_mode": {
    "name": "ipython",
    "version": 3
   },
   "file_extension": ".py",
   "mimetype": "text/x-python",
   "name": "python",
   "nbconvert_exporter": "python",
   "pygments_lexer": "ipython3",
   "version": "3.8.8"
  }
 },
 "nbformat": 4,
 "nbformat_minor": 5
}
