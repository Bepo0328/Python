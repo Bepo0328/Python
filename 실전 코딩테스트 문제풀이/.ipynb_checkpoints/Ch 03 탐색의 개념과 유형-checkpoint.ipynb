{
 "cells": [
  {
   "cell_type": "markdown",
   "id": "d988428f",
   "metadata": {},
   "source": [
    "## 탐색의 개념과 유형\n",
    "- 대부분의 코딩테스는 <span style=\"color:yellow\">BFS/DFS + 재귀</span> 만 잘해도 풀 수 있다.\n",
    "\n",
    "\n",
    "### BFS와 DFS\n",
    "- 이 단어를 모른다면 이전 자료구조 및 알고리즘 강의를 수강하고 오세요\n",
    "\n",
    "\n",
    "### 탐색\n",
    "- 특정 조건을 만족하는 상태를 찾기 위한 일련의 과정\n",
    "\n",
    "\n",
    "- BFS: 너비우선탐색(Queue)\n",
    "- DFS: 깊이우선탐색(Recursion or Stack)\n",
    "\n",
    "\n",
    "### 어떤 유형으로 코딩테스트에 나오나요?\n",
    "1. 구현에 초점\n",
    "  - BFS/DFS, 백트래킹에 수 많은 조건\n",
    "2. 알고리즘 지식\n",
    "  - 알고리즘을 공부한 적이 있다면 이정도는 구현할 줄 알아야지\n",
    "\n",
    "\n",
    "### 1. 구현에 초점\n",
    "- BFS/DFS, 백트래킹에 수 많은 조건\n",
    "  1. 부분 상태 탐색 (위치 이동, 수)\n",
    "    - 상태에 대한 체크 함수\n",
    "  2. 전체 상태 탐색 (전체 Map)\n",
    "    - N차원 배열을 조정하는 방법\n",
    "\n",
    "\n",
    "- 그외\n",
    "  1. Flood Fill\n",
    "  2. 트리 순회\n",
    "\n",
    "\n",
    "### 2. 알고리즘 지식\n",
    "- 알고리즘을 공부한 적이 있다면 이정도는 구현할 줄 알아야지\n",
    "  1. 위상정렬 (Topological Sort)\n",
    "  2. 최소신장트리 (MST)\n",
    "  3. 최단거리\n",
    "\n",
    "\n",
    "#### 핵심은 역시 구현!!"
   ]
  }
 ],
 "metadata": {
  "kernelspec": {
   "display_name": "Python 3",
   "language": "python",
   "name": "python3"
  },
  "language_info": {
   "codemirror_mode": {
    "name": "ipython",
    "version": 3
   },
   "file_extension": ".py",
   "mimetype": "text/x-python",
   "name": "python",
   "nbconvert_exporter": "python",
   "pygments_lexer": "ipython3",
   "version": "3.8.8"
  }
 },
 "nbformat": 4,
 "nbformat_minor": 5
}
