{
 "cells": [
  {
   "cell_type": "markdown",
   "id": "7754106d",
   "metadata": {},
   "source": [
    "#### Ch 04 동적계획법 문제풀이"
   ]
  },
  {
   "cell_type": "markdown",
   "id": "c7a69bd8",
   "metadata": {},
   "source": [
    "### 1932문제\n",
    "- 문제 제목: 정수 삼각형\n",
    "\n",
    "> https://www.acmicpc.net/problem/1932\n",
    "\n",
    "\n",
    "#### 문제\n",
    "<div class=\"alert alert-block alert-warning\">\n",
    "        7<br>\n",
    "      3   8<br>\n",
    "    8   1   0<br>\n",
    "  2   7   4   4<br>\n",
    "4   5   2   6   5\n",
    "</div>\n",
    "- 위 그림은 크기가 5인 정수 삼각형의 한 모습이다.\n",
    "- 맨 위층 7부터 시작해서 아래에 있는 수 중 하나를 선택하여 아래층으로 내려올 때, 이제까지 선택된 수의 합이 최대가 되는 경로를 구하는 프로그램을 작성하라. 아래층에 있는 수는 현재 층에서 선택된 수의 대각선 왼쪽 또는 대각선 오른쪽에 있는 것 중에서만 선택할 수 있다.\n",
    "- 삼각형의 크기는 1 이상 500 이하이다. 삼각형을 이루고 있는 각 수는 모두 정수이며, 범위는 0 이상 9999 이하이다.\n",
    "\n",
    "\n",
    "#### 입력\n",
    "- 첫째 줄에 삼각형의 크기 n(1 ≤ n ≤ 500)이 주어지고, 둘째 줄부터 n+1번째 줄까지 정수 삼각형이 주어진다.\n",
    "\n",
    "\n",
    "#### 출력\n",
    "- 첫째 줄에 합이 최대가 되는 경로에 있는 수의 합을 출력한다.\n",
    "\n",
    "\n",
    "#### 예제 입력 1 \n",
    "```python\n",
    "5\n",
    "7\n",
    "3 8\n",
    "8 1 0\n",
    "2 7 4 4\n",
    "4 5 2 6 5\n",
    "```\n",
    "##### 예제 출력 1 \n",
    "```python\n",
    "30\n",
    "```"
   ]
  },
  {
   "cell_type": "markdown",
   "id": "ca8cb66b",
   "metadata": {},
   "source": [
    "#### 풀이"
   ]
  },
  {
   "cell_type": "code",
   "execution_count": 8,
   "id": "4730cdcb",
   "metadata": {
    "scrolled": true
   },
   "outputs": [
    {
     "name": "stdout",
     "output_type": "stream",
     "text": [
      "5\n",
      "7\n",
      "3 8\n",
      "8 1 0\n",
      "2 7 4 4\n",
      "4 5 2 6 5\n"
     ]
    }
   ],
   "source": [
    "N = int(input())\n",
    "# DP[i][j] : i, j 도착했을 때 최댓값\n",
    "# DP[i][j] = max(DP[i - 1][j - 1], DP[i - 1][j]) + A[i][j]\n",
    "A = [[0 for _ in range(N + 1)] for _ in range(N + 1)]\n",
    "DP = [[0 for _ in range(N + 1)] for _ in range(N + 1)]\n",
    "\n",
    "for i in range(1, N + 1):\n",
    "    tmp = list(map(int, input().split()))\n",
    "    for j in range(1, i + 1):\n",
    "        A[i][j] = tmp[j - 1]"
   ]
  },
  {
   "cell_type": "code",
   "execution_count": 9,
   "id": "11ac8896",
   "metadata": {},
   "outputs": [
    {
     "name": "stdout",
     "output_type": "stream",
     "text": [
      "[0, 0, 0, 0, 0, 0]\n",
      "[0, 7, 0, 0, 0, 0]\n",
      "[0, 3, 8, 0, 0, 0]\n",
      "[0, 8, 1, 0, 0, 0]\n",
      "[0, 2, 7, 4, 4, 0]\n",
      "[0, 4, 5, 2, 6, 5]\n"
     ]
    }
   ],
   "source": [
    "for i in A:\n",
    "    print(i)"
   ]
  },
  {
   "cell_type": "code",
   "execution_count": 10,
   "id": "bfd3b8ff",
   "metadata": {},
   "outputs": [],
   "source": [
    "for i in range(1, N + 1):\n",
    "    for j in range(1, i + 1):\n",
    "        DP[i][j] = max(DP[i - 1][j - 1], DP[i - 1][j]) + A[i][j]"
   ]
  },
  {
   "cell_type": "code",
   "execution_count": 11,
   "id": "14daf887",
   "metadata": {
    "scrolled": true
   },
   "outputs": [
    {
     "name": "stdout",
     "output_type": "stream",
     "text": [
      "[0, 0, 0, 0, 0, 0]\n",
      "[0, 7, 0, 0, 0, 0]\n",
      "[0, 10, 15, 0, 0, 0]\n",
      "[0, 18, 16, 15, 0, 0]\n",
      "[0, 20, 25, 20, 19, 0]\n",
      "[0, 24, 30, 27, 26, 24]\n"
     ]
    }
   ],
   "source": [
    "for i in DP:\n",
    "    print(i)"
   ]
  },
  {
   "cell_type": "code",
   "execution_count": 12,
   "id": "3fe22b7d",
   "metadata": {},
   "outputs": [
    {
     "name": "stdout",
     "output_type": "stream",
     "text": [
      "30\n"
     ]
    }
   ],
   "source": [
    "print(max(DP[-1]))"
   ]
  },
  {
   "cell_type": "markdown",
   "id": "b2f757a5",
   "metadata": {},
   "source": [
    "### 11055문제\n",
    "- 문제 제목: 가장 큰 증가 부분 수열\n",
    "\n",
    "> https://www.acmicpc.net/problem/11055\n",
    "\n",
    "\n",
    "#### 문제\n",
    "- 수열 A가 주어졌을 때, 그 수열의 증가 부분 수열 중에서 합이 가장 큰 것을 구하는 프로그램을 작성하시오.\n",
    "- 예를 들어, 수열 A = {1, 100, 2, 50, 60, 3, 5, 6, 7, 8} 인 경우에 합이 가장 큰 증가 부분 수열은 A = {1, 100, 2, 50, 60, 3, 5, 6, 7, 8} 이고, 합은 113이다.\n",
    "\n",
    "\n",
    "#### 입력\n",
    "- 첫째 줄에 수열 A의 크기 N (1 ≤ N ≤ 1,000)이 주어진다.\n",
    "- 둘째 줄에는 수열 A를 이루고 있는 $A_i$가 주어진다. (1 ≤ $A_i$ ≤ 1,000)\n",
    "\n",
    "\n",
    "#### 출력\n",
    "- 첫째 줄에 수열 A의 합이 가장 큰 증가 부분 수열의 합을 출력한다.\n",
    "\n",
    "\n",
    "#### 예제 입력 1 \n",
    "```python\n",
    "10\n",
    "1 100 2 50 60 3 5 6 7 8\n",
    "```\n",
    "##### 예제 출력 1 \n",
    "```python\n",
    "113\n",
    "```"
   ]
  },
  {
   "cell_type": "markdown",
   "id": "a658cf20",
   "metadata": {},
   "source": [
    "#### 풀이"
   ]
  },
  {
   "cell_type": "code",
   "execution_count": 13,
   "id": "658230df",
   "metadata": {},
   "outputs": [
    {
     "name": "stdout",
     "output_type": "stream",
     "text": [
      "10\n",
      "1 100 2 50 60 3 5 6 7 8\n"
     ]
    }
   ],
   "source": [
    "from copy import deepcopy\n",
    "N, A = int(input()), list(map(int, input().split()))"
   ]
  },
  {
   "cell_type": "code",
   "execution_count": 19,
   "id": "a3ded980",
   "metadata": {},
   "outputs": [
    {
     "name": "stdout",
     "output_type": "stream",
     "text": [
      "113\n"
     ]
    }
   ],
   "source": [
    "# DP[i] : i 까지 왔을 때, 합의 최대\n",
    "DP = deepcopy(A)\n",
    "\n",
    "for i in range(1, N):\n",
    "    for j in range(i):\n",
    "        if A[i] > A[j]:\n",
    "            DP[i] = max(A[i] + DP[j], DP[i])\n",
    "\n",
    "print(max(DP))"
   ]
  },
  {
   "cell_type": "code",
   "execution_count": 20,
   "id": "f5f6f371",
   "metadata": {
    "scrolled": true
   },
   "outputs": [
    {
     "name": "stdout",
     "output_type": "stream",
     "text": [
      "[1, 101, 3, 53, 113, 6, 11, 17, 24, 32]\n"
     ]
    }
   ],
   "source": [
    "print(DP)"
   ]
  },
  {
   "cell_type": "markdown",
   "id": "6278c48d",
   "metadata": {},
   "source": [
    "### 14002문제\n",
    "- 문제 제목: 가장 긴 증가하는 부분 수열 4 \n",
    "\n",
    "> https://www.acmicpc.net/problem/14002\n",
    "\n",
    "\n",
    "#### 문제\n",
    "- 수열 A가 주어졌을 때, 가장 긴 증가하는 부분 수열을 구하는 프로그램을 작성하시오.\n",
    "- 예를 들어, 수열 A = {10, 20, 10, 30, 20, 50} 인 경우에 가장 긴 증가하는 부분 수열은 A = {10, 20, 10, 30, 20, 50} 이고, 길이는 4이다.\n",
    "\n",
    "\n",
    "#### 입력\n",
    "- 첫째 줄에 수열 A의 크기 N (1 ≤ N ≤ 1,000)이 주어진다.\n",
    "- 둘째 줄에는 수열 A를 이루고 있는 $A_i$가 주어진다. (1 ≤ $A_i$ ≤ 1,000)\n",
    "\n",
    "\n",
    "#### 출력\n",
    "- 첫째 줄에 수열 A의 가장 긴 증가하는 부분 수열의 길이를 출력한다.\n",
    "- 둘째 줄에는 가장 긴 증가하는 부분 수열을 출력한다. 그러한 수열이 여러가지인 경우 아무거나 출력한다.\n",
    "\n",
    "\n",
    "#### 예제 입력 1 \n",
    "```python\n",
    "6\n",
    "10 20 10 30 20 50\n",
    "```\n",
    "##### 예제 출력 1 \n",
    "```python\n",
    "4\n",
    "10 20 30 50\n",
    "```"
   ]
  },
  {
   "cell_type": "markdown",
   "id": "4385efbe",
   "metadata": {},
   "source": [
    "#### 풀이"
   ]
  },
  {
   "cell_type": "code",
   "execution_count": 45,
   "id": "1a41cca7",
   "metadata": {},
   "outputs": [
    {
     "name": "stdout",
     "output_type": "stream",
     "text": [
      "10\n",
      "1 100 2 50 60 3 5 6 7 8\n"
     ]
    }
   ],
   "source": [
    "from copy import deepcopy\n",
    "N, A = int(input()), list(map(int, input().split()))"
   ]
  },
  {
   "cell_type": "code",
   "execution_count": 46,
   "id": "adf7ace6",
   "metadata": {},
   "outputs": [
    {
     "name": "stdout",
     "output_type": "stream",
     "text": [
      "4\n",
      "1 2 50 60 "
     ]
    }
   ],
   "source": [
    "# DP[i] : i 까지 왔을 때, 합의 최대\n",
    "DP = deepcopy(A)\n",
    "rev = [i for i in range(N)]\n",
    "result = []\n",
    "idx = 0\n",
    "\n",
    "for i in range(1, N):\n",
    "    for j in range(i):\n",
    "        if A[i] > A[j] and DP[i] < A[i] + DP[j]:\n",
    "            DP[i] = A[i] + DP[j]\n",
    "            rev[i] = j\n",
    "            \n",
    "    if DP[idx] < DP[i]:\n",
    "        idx = i\n",
    "\n",
    "while rev[idx] != idx:\n",
    "    result.append(A[idx])\n",
    "    idx = rev[idx]\n",
    "\n",
    "result.append(A[idx])\n",
    "\n",
    "print(len(result))\n",
    "for i in result[::-1]:\n",
    "    print(i, end=\" \")"
   ]
  },
  {
   "cell_type": "markdown",
   "id": "56469eb7",
   "metadata": {},
   "source": [
    "### 2167문제\n",
    "- 문제 제목: 2차원 배열의 합\n",
    "\n",
    "> https://www.acmicpc.net/problem/2167\n",
    "\n",
    "\n",
    "#### 문제\n",
    "- 2차원 배열이 주어졌을 때 (i, j) 위치부터 (x, y) 위치까지에 저장되어 있는 수들의 합을 구하는 프로그램을 작성하시오. 배열의 (i, j) 위치는 i행 j열을 나타낸다.\n",
    "\n",
    "\n",
    "#### 입력\n",
    "- 첫째 줄에 배열의 크기 N, M(1 ≤ N, M ≤ 300)이 주어진다. 다음 N개의 줄에는 M개의 정수로 배열이 주어진다. 배열에 포함되어 있는 수는 절댓값이 10,000보다 작거나 같은 정수이다. 그 다음 줄에는 합을 구할 부분의 개수 K(1 ≤ K ≤ 10,000)가 주어진다. 다음 K개의 줄에는 네 개의 정수로 i, j, x, y가 주어진다(i ≤ x, j ≤ y).\n",
    "\n",
    "\n",
    "#### 출력\n",
    "- K개의 줄에 순서대로 배열의 합을 출력한다. 배열의 합은 231-1보다 작거나 같다.\n",
    "\n",
    "\n",
    "#### 예제 입력 1 \n",
    "```python\n",
    "2 3\n",
    "1 2 4\n",
    "8 16 32\n",
    "3\n",
    "1 1 2 3\n",
    "1 2 1 2\n",
    "1 3 2 3\n",
    "```\n",
    "##### 예제 출력 1 \n",
    "```python\n",
    "63\n",
    "2\n",
    "36\n",
    "```"
   ]
  },
  {
   "cell_type": "markdown",
   "id": "fb1702d2",
   "metadata": {},
   "source": [
    "#### 풀이"
   ]
  },
  {
   "cell_type": "code",
   "execution_count": 3,
   "id": "439a4088",
   "metadata": {},
   "outputs": [
    {
     "name": "stdout",
     "output_type": "stream",
     "text": [
      "[0, 1, 2, 3, 4, 5, 6, 7, 8, 9]\n",
      "[0, 1, 3, 6, 10, 15, 21, 28, 36, 45]\n"
     ]
    }
   ],
   "source": [
    "A = [i for i in range(10)]\n",
    "\n",
    "print(A)\n",
    "\n",
    "for i in range(1, 10):\n",
    "    A[i] = A[i - 1] + A[i]\n",
    "    \n",
    "print(A)\n",
    "\n",
    "#DP[i] = i 까지 합\n",
    "#i 부터 j까지의 합은 DP[j] - DP[i - 1]"
   ]
  },
  {
   "cell_type": "code",
   "execution_count": 29,
   "id": "f06fdf96",
   "metadata": {
    "scrolled": true
   },
   "outputs": [
    {
     "name": "stdout",
     "output_type": "stream",
     "text": [
      "[0, 1, 3, 6, 10, 15, 21, 28, 36, 45]\n",
      "\n",
      "i:1 j:1 result:1\n",
      "i:1 j:2 result:3\n",
      "i:1 j:3 result:6\n",
      "i:1 j:4 result:10\n",
      "i:1 j:5 result:15\n",
      "i:1 j:6 result:21\n",
      "i:1 j:7 result:28\n",
      "i:1 j:8 result:36\n",
      "i:1 j:9 result:45\n",
      "\n",
      "i:2 j:2 result:2\n",
      "i:2 j:3 result:5\n",
      "i:2 j:4 result:9\n",
      "i:2 j:5 result:14\n",
      "i:2 j:6 result:20\n",
      "i:2 j:7 result:27\n",
      "i:2 j:8 result:35\n",
      "i:2 j:9 result:44\n",
      "\n",
      "i:3 j:3 result:3\n",
      "i:3 j:4 result:7\n",
      "i:3 j:5 result:12\n",
      "i:3 j:6 result:18\n",
      "i:3 j:7 result:25\n",
      "i:3 j:8 result:33\n",
      "i:3 j:9 result:42\n",
      "\n",
      "i:4 j:4 result:4\n",
      "i:4 j:5 result:9\n",
      "i:4 j:6 result:15\n",
      "i:4 j:7 result:22\n",
      "i:4 j:8 result:30\n",
      "i:4 j:9 result:39\n",
      "\n",
      "i:5 j:5 result:5\n",
      "i:5 j:6 result:11\n",
      "i:5 j:7 result:18\n",
      "i:5 j:8 result:26\n",
      "i:5 j:9 result:35\n",
      "\n",
      "i:6 j:6 result:6\n",
      "i:6 j:7 result:13\n",
      "i:6 j:8 result:21\n",
      "i:6 j:9 result:30\n",
      "\n",
      "i:7 j:7 result:7\n",
      "i:7 j:8 result:15\n",
      "i:7 j:9 result:24\n",
      "\n",
      "i:8 j:8 result:8\n",
      "i:8 j:9 result:17\n",
      "\n",
      "i:9 j:9 result:9\n",
      "\n"
     ]
    }
   ],
   "source": [
    "DP = [i for i in range(10)]\n",
    "A = [0 for i in range(10)]\n",
    "\n",
    "for i in range(1, 10):\n",
    "    DP[i] = DP[i - 1] + DP[i]\n",
    "    \n",
    "print(DP)\n",
    "\n",
    "for i in range(10):\n",
    "    for j in range(i, 10):\n",
    "        if i != 0:\n",
    "            print(\"i:{} j:{} result:{}\".format(i, j, DP[j] - DP[i - 1]))\n",
    "    print()"
   ]
  },
  {
   "cell_type": "code",
   "execution_count": 33,
   "id": "77169a71",
   "metadata": {},
   "outputs": [
    {
     "name": "stdout",
     "output_type": "stream",
     "text": [
      "2 3\n",
      "1 2 4\n",
      "8 16 32\n"
     ]
    }
   ],
   "source": [
    "N, M = map(int, input().split())\n",
    "\n",
    "A = [list(map(int, input().split())) for _ in range(N)]\n",
    "DP = [[0 for i in range(M + 1)] for _ in range(N + 1)]"
   ]
  },
  {
   "cell_type": "code",
   "execution_count": 34,
   "id": "e37861fb",
   "metadata": {},
   "outputs": [
    {
     "name": "stdout",
     "output_type": "stream",
     "text": [
      "[[1, 2, 4], [8, 16, 32]]\n",
      "[[0, 0, 0, 0], [0, 0, 0, 0], [0, 0, 0, 0]]\n"
     ]
    }
   ],
   "source": [
    "print(A)\n",
    "print(DP)"
   ]
  },
  {
   "cell_type": "code",
   "execution_count": 38,
   "id": "eb3d8913",
   "metadata": {},
   "outputs": [
    {
     "name": "stdout",
     "output_type": "stream",
     "text": [
      "3\n",
      "1 1 2 3\n",
      "63\n",
      "1 2 1 2\n",
      "2\n",
      "1 3 2 3\n",
      "36\n"
     ]
    }
   ],
   "source": [
    "# DP[i][j] = 1, 1부터 (i, j)까지의 부분합\n",
    "for i in range(1, N + 1):\n",
    "    for j in range(1, M + 1):\n",
    "        DP[i][j] = DP[i - 1][j] + DP[i][j - 1] - DP[i - 1][j - 1] + A[i - 1][j - 1]        \n",
    "        \n",
    "for _ in range(int(input())):\n",
    "    i, j, x, y = map(int, input().split())\n",
    "    print(DP[x][y] - DP[i - 1][y] - DP[x][j - 1] + DP[i - 1][j - 1])"
   ]
  },
  {
   "cell_type": "markdown",
   "id": "2a823ad4",
   "metadata": {},
   "source": [
    "### 1915문제\n",
    "- 문제 제목: 가장 큰 정사각형\n",
    "\n",
    "> https://www.acmicpc.net/problem/1915\n",
    "\n",
    "\n",
    "#### 문제\n",
    "- n×m의 0, 1로 된 배열이 있다. 이 배열에서 1로 된 가장 큰 정사각형의 크기를 구하는 프로그램을 작성하시오.\n",
    "\n",
    "\n",
    "0\t1\t0\t0 <br>\n",
    "0\t1\t1\t1 <br>\n",
    "1\t1\t1\t0 <br>\n",
    "0\t0\t1\t0\n",
    "\n",
    "\n",
    "- 위와 같은 예제에서는 가운데의 2×2 배열이 가장 큰 정사각형이다. \n",
    "\n",
    "\n",
    "#### 입력\n",
    "- 첫째 줄에 n, m(1 ≤ n, m ≤ 1,000)이 주어진다. 다음 n개의 줄에는 m개의 숫자로 배열이 주어진다.\n",
    "\n",
    "\n",
    "#### 출력\n",
    "- 첫째 줄에 가장 큰 정사각형의 넓이를 출력한다.\n",
    "\n",
    "\n",
    "#### 예제 입력 1 \n",
    "```python\n",
    "4 4\n",
    "0100\n",
    "0111\n",
    "1110\n",
    "0010\n",
    "```\n",
    "##### 예제 출력 1 \n",
    "```python\n",
    "4\n",
    "```"
   ]
  },
  {
   "cell_type": "markdown",
   "id": "2365ae8f",
   "metadata": {},
   "source": [
    "#### 풀이"
   ]
  },
  {
   "cell_type": "code",
   "execution_count": 49,
   "id": "2235d2a2",
   "metadata": {},
   "outputs": [
    {
     "name": "stdout",
     "output_type": "stream",
     "text": [
      "4 4\n",
      "0100\n",
      "0111\n",
      "1110\n",
      "0010\n"
     ]
    }
   ],
   "source": [
    "N, M = map(int, input().split())\n",
    "A = [[0 for _ in range(M + 1)] for _ in range(N + 1)]\n",
    "DP = [[0 for _ in range(M + 1)] for _ in range(N + 1)]\n",
    "\n",
    "for i in range(N):\n",
    "    for j, result in enumerate(list(map(int, list(input())))):\n",
    "        A[i + 1][j + 1] = result"
   ]
  },
  {
   "cell_type": "markdown",
   "id": "6fe77b5a",
   "metadata": {},
   "source": [
    "#### 점화식\n",
    "- DP[i][j] = i, j 까지 왔을 때, 가장 큰 정사각형의 한 변의 길이\n",
    "- DP[i][j] = min(DP[i - 1][j], DP[i][j - 1], DP[i - 1][j - 1]) + 1"
   ]
  },
  {
   "cell_type": "code",
   "execution_count": 52,
   "id": "ca8801de",
   "metadata": {},
   "outputs": [
    {
     "name": "stdout",
     "output_type": "stream",
     "text": [
      "4\n"
     ]
    }
   ],
   "source": [
    "for i in range(1, N + 1):\n",
    "    for j in range(1, M + 1):\n",
    "        if A[i][j]:\n",
    "            DP[i][j] = min(DP[i - 1][j], DP[i][j - 1], DP[i - 1][j - 1]) + 1 \n",
    "\n",
    "print(max([max(i) for i in DP]) ** 2)"
   ]
  },
  {
   "cell_type": "markdown",
   "id": "0dec73e0",
   "metadata": {},
   "source": [
    "### 12849문제\n",
    "- 문제 제목: 본대 산책\n",
    "\n",
    "> https://www.acmicpc.net/problem/12849\n",
    "\n",
    "\n",
    "#### 문제\n",
    "- 숭실 대학교 정보 과학관은  캠퍼스의 길 건너편으로 유배를 당했다. 그래서 컴퓨터 학부 학생들은 캠퍼스를 ‘본대’ 라고 부르고 정보 과학관을 ‘정보대’ 라고 부른다. 준영이 또한 컴퓨터 학부 소속 학생이라서 정보 과학관에 박혀있으며 항상 본대를 가고 싶어 한다. 어느 날 준영이는 본대를 산책하기로 결심하였다. 숭실 대학교 캠퍼스 지도는 아래와 같다.\n",
    "\n",
    "\n",
    "<img src=\"https://onlinejudgeimages.s3-ap-northeast-1.amazonaws.com/problem/12849/1.png\" />\n",
    "\n",
    "\n",
    "- (편의 상 문제에서는 위 건물만 등장한다고 가정하자)\n",
    "\n",
    "\n",
    "- 한 건물에서 바로 인접한 다른 건물로 이동 하는 데 1분이 걸린다. 준영이는 산책 도중에 한번도 길이나 건물에 멈춰서 머무르지 않는다. 준영이는 할 일이 많아서 딱 D분만 산책을 할 것이다. (산책을 시작 한 지 D분 일 때, 정보 과학관에 도착해야 한다.) 이때 가능한 경로의 경우의 수를 구해주자.\n",
    "\n",
    "\n",
    "#### 입력\n",
    "- D 가 주어진다 (1 ≤ D ≤ 100,000) \n",
    "\n",
    "\n",
    "#### 출력\n",
    "- 가능한 경로의 수를 1,000,000,007로 나눈 나머지를 출력 한다.\n",
    "\n",
    "\n",
    "#### 예제 입력 1 \n",
    "```python\n",
    "10\n",
    "```\n",
    "##### 예제 출력 1 \n",
    "```python\n",
    "9857\n",
    "```"
   ]
  },
  {
   "cell_type": "markdown",
   "id": "dbd55299",
   "metadata": {},
   "source": [
    "#### 풀이"
   ]
  },
  {
   "cell_type": "markdown",
   "id": "a53102fd",
   "metadata": {},
   "source": [
    "- DP = 0분에 어떤 지점에 도착할 수 있는 상태\n",
    "- 0 : 정보과학관\n",
    "- 1 : 전산관\n",
    "- 2 : 미래관\n",
    "- 3 : 신양관\n",
    "- 4 : 한경직\n",
    "- 5 : 진리관\n",
    "- 6 : 학생회관\n",
    "- 7 : 형남공학관"
   ]
  },
  {
   "cell_type": "code",
   "execution_count": 55,
   "id": "269fb4ed",
   "metadata": {},
   "outputs": [
    {
     "name": "stdout",
     "output_type": "stream",
     "text": [
      "10\n",
      "9857\n",
      "9857\n"
     ]
    }
   ],
   "source": [
    "DP = [1, 0, 0, 0, 0, 0, 0, 0]\n",
    "\n",
    "def nxt(state):\n",
    "    tmp = [0 for _ in range(8)]\n",
    "    tmp[0] = state[1] + state[2]\n",
    "    tmp[1] = state[0] + state[2] + state[3]\n",
    "    tmp[2] = state[0] + state[1] + state[3] + state[4]\n",
    "    tmp[3] = state[1] + state[2] + state[4] + state[5]\n",
    "    tmp[4] = state[2] + state[3] + state[5] + state[7]\n",
    "    tmp[5] = state[3] + state[4] + state[6]\n",
    "    tmp[6] = state[5] + state[7]\n",
    "    tmp[7] = state[4] + state[6]\n",
    "    for i in range(8):\n",
    "        tmp[i] %= 1000000007\n",
    "    return tmp\n",
    "    \n",
    "for i in range(int(input())):\n",
    "    DP = nxt(DP)\n",
    "\n",
    "print(DP[0])"
   ]
  },
  {
   "cell_type": "markdown",
   "id": "f3e3cc23",
   "metadata": {},
   "source": [
    "### 11066문제\n",
    "- 문제 제목: 파일 합치기\n",
    "\n",
    "> https://www.acmicpc.net/problem/11066\n",
    "\n",
    "\n",
    "#### 문제\n",
    "- 소설가인 김대전은 소설을 여러 장(chapter)으로 나누어 쓰는데, 각 장은 각각 다른 파일에 저장하곤 한다. 소설의 모든 장을 쓰고 나서는 각 장이 쓰여진 파일을 합쳐서 최종적으로 소설의 완성본이 들어있는 한 개의 파일을 만든다. 이 과정에서 두 개의 파일을 합쳐서 하나의 임시파일을 만들고, 이 임시파일이나 원래의 파일을 계속 두 개씩 합쳐서 소설의 여러 장들이 연속이 되도록 파일을 합쳐나가고, 최종적으로는 하나의 파일로 합친다. 두 개의 파일을 합칠 때 필요한 비용(시간 등)이 두 파일 크기의 합이라고 가정할 때, 최종적인 한 개의 파일을 완성하는데 필요한 비용의 총 합을 계산하시오.\n",
    "- 예를 들어, C1, C2, C3, C4가 연속적인 네 개의 장을 수록하고 있는 파일이고, 파일 크기가 각각 40, 30, 30, 50 이라고 하자. 이 파일들을 합치는 과정에서, 먼저 C2와 C3를 합쳐서 임시파일 X1을 만든다. 이때 비용 60이 필요하다. 그 다음으로 C1과 X1을 합쳐 임시파일 X2를 만들면 비용 100이 필요하다. 최종적으로 X2와 C4를 합쳐 최종파일을 만들면 비용 150이 필요하다. 따라서, 최종의 한 파일을 만드는데 필요한 비용의 합은 60+100+150=310 이다. 다른 방법으로 파일을 합치면 비용을 줄일 수 있다. 먼저 C1과 C2를 합쳐 임시파일 Y1을 만들고, C3와 C4를 합쳐 임시파일 Y2를 만들고, 최종적으로 Y1과 Y2를 합쳐 최종파일을 만들 수 있다. 이때 필요한 총 비용은 70+80+150=300 이다.\n",
    "- 소설의 각 장들이 수록되어 있는 파일의 크기가 주어졌을 때, 이 파일들을 하나의 파일로 합칠 때 필요한 최소비용을 계산하는 프로그램을 작성하시오.\n",
    "\n",
    "\n",
    "#### 입력\n",
    "- 프로그램은 표준 입력에서 입력 데이터를 받는다. 프로그램의 입력은 T개의 테스트 데이터로 이루어져 있는데, T는 입력의 맨 첫 줄에 주어진다.각 테스트 데이터는 두 개의 행으로 주어지는데, 첫 행에는 소설을 구성하는 장의 수를 나타내는 양의 정수 K (3 ≤ K ≤ 500)가 주어진다. 두 번째 행에는 1장부터 K장까지 수록한 파일의 크기를 나타내는 양의 정수 K개가 주어진다. 파일의 크기는 10,000을 초과하지 않는다.\n",
    "\n",
    "\n",
    "#### 출력\n",
    "- 프로그램은 표준 출력에 출력한다. 각 테스트 데이터마다 정확히 한 행에 출력하는데, 모든 장을 합치는데 필요한 최소비용을 출력한다.\n",
    "\n",
    "\n",
    "#### 예제 입력 1 \n",
    "```python\n",
    "2\n",
    "4\n",
    "40 30 30 50\n",
    "15\n",
    "1 21 3 4 5 35 5 4 3 5 98 21 14 17 32\n",
    "```\n",
    "##### 예제 출력 1 \n",
    "```python\n",
    "300\n",
    "864\n",
    "```"
   ]
  },
  {
   "cell_type": "markdown",
   "id": "21ebaf65",
   "metadata": {},
   "source": [
    "#### 풀이"
   ]
  },
  {
   "cell_type": "markdown",
   "id": "c9c31603",
   "metadata": {},
   "source": [
    "#### 점화식\n",
    "- S[i]는 1번부터 i번까지의 누적합\n",
    "- DP[i][j] : i에서 j까지 합하는대 필요한 최소 비용\n",
    "- DP[i][k] + DP[k + 1][j] + sum(A[i] ~ A[j])"
   ]
  },
  {
   "cell_type": "code",
   "execution_count": 63,
   "id": "6c60def9",
   "metadata": {},
   "outputs": [
    {
     "name": "stdout",
     "output_type": "stream",
     "text": [
      "2\n",
      "4\n",
      "40 30 30 50\n",
      "300\n",
      "15\n",
      "1 21 3 4 5 35 5 4 3 5 98 21 14 17 32\n",
      "58\n"
     ]
    }
   ],
   "source": [
    "def process():\n",
    "    N = int(input())\n",
    "    A = [0 for _ in range(N + 1)]\n",
    "    for i, result in enumerate(list(map(int, input().split()))):\n",
    "        A[i + 1] = result\n",
    "        \n",
    "    S = [0 for _ in range(N + 1)]\n",
    "    for i in range(1, N + 1):\n",
    "        S[i] = S[i - 1] + A[i]\n",
    "\n",
    "    DP = [[0 for i in range(N + 1)] for _ in range(N + 1)]\n",
    "    for i in range(2, N + 1): # 부분파일의 길이\n",
    "        for j in range(1, N + 2 - i): # 시작점\n",
    "            DP[j][j + i - 1] = min([DP[j][j + k] + DP[j + k + 1][j + i - 1] for k in range(i - 1)]) + S[j + i - 1] - S[j - 1]\n",
    "\n",
    "    print(DP[1][N])\n",
    "    \n",
    "for _ in range(int(input())):\n",
    "    process()"
   ]
  }
 ],
 "metadata": {
  "kernelspec": {
   "display_name": "Python 3",
   "language": "python",
   "name": "python3"
  },
  "language_info": {
   "codemirror_mode": {
    "name": "ipython",
    "version": 3
   },
   "file_extension": ".py",
   "mimetype": "text/x-python",
   "name": "python",
   "nbconvert_exporter": "python",
   "pygments_lexer": "ipython3",
   "version": "3.8.8"
  }
 },
 "nbformat": 4,
 "nbformat_minor": 5
}
