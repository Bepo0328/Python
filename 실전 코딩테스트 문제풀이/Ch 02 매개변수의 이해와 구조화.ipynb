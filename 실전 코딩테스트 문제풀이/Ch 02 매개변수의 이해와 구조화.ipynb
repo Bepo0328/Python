{
 "cells": [
  {
   "cell_type": "markdown",
   "id": "1b95239e",
   "metadata": {},
   "source": [
    "## 매개변수의 이해와 구조화\n",
    "- def f(a, b, c):\n",
    "  - 1. 함수의 이름과 역할\n",
    "  - 2. 함수의 매개변수\n",
    "\n",
    "### <span style=\"color:blue\">1. 함수의 이름과 역할</span>\n",
    "- 문법에 틀리지 않은 표현이라면 OK\n",
    "- 단 함수가 많아지거나 코드가 길어질 것 같다면 함수명 확실하게\n",
    "  - Ex) 금액의 합: MoneySum 또는 money_sum 등등(BOJ 16205)\n",
    "- 제일 좋은것은 기능별로 나누기\n",
    "  - (단, 코딩테스트에서 굳이 필요는 없음)\n",
    "- 본인의 스타일을 유지하는 것이 일관된 코드를 만든다.\n",
    "- 반환 값 미리 지정하기\n",
    "\n",
    "### <span style=\"color:blue\">2. 함수의 매개변수</span>\n",
    "- 함수의 매개변수는 매우 중요\n",
    "- 복잡한 내용은 주석으로 함수와 매개변수의 역할을 정리\n",
    "  - # money_sum: 금액의 합, n: 사람수, arr: 금액 배열\n",
    "  - def money_sum(n, arr):\n",
    "- 이는 후에 dp(동적계획법) 배열을 만들때도 마찬가지\n",
    "- 필요한 것과 편한 것 넘기기\n",
    "\n",
    "\n",
    "### 배열의 구조화\n",
    "- List[N][M]\n",
    "  - 1. container의 역할\n",
    "  - 2. container의 분할\n",
    "\n",
    "### <span style=\"color:blue\">1. container의 역할</span>\n",
    "- 자료형에 따른 본인만의 container 설정과 이해\n",
    "  - Tuple: 위치(index)에 따른 의미\n",
    "  - Set: 포함 여부의 의미\n",
    "  - List: index와 원소의 관계\n",
    "  - Dict: key와 value의 관계\n",
    "- 함수와 마찬가지로 적절한 명명 필요\n",
    "\n",
    "### <span style=\"color:blue\">2. container의 분할</span>\n",
    "- container도 적절하게 사용\n",
    "- 의미(내용)에 따른 분배\n",
    "  - 허용 용량 배열과 담긴 내용 배열\n",
    "- 의미는 어렵지만 때로는 함께 썼을 때 장점 존재\n",
    "  - 동시 처리 기능, 코드의 간결성"
   ]
  }
 ],
 "metadata": {
  "kernelspec": {
   "display_name": "Python 3",
   "language": "python",
   "name": "python3"
  },
  "language_info": {
   "codemirror_mode": {
    "name": "ipython",
    "version": 3
   },
   "file_extension": ".py",
   "mimetype": "text/x-python",
   "name": "python",
   "nbconvert_exporter": "python",
   "pygments_lexer": "ipython3",
   "version": "3.8.8"
  }
 },
 "nbformat": 4,
 "nbformat_minor": 5
}
