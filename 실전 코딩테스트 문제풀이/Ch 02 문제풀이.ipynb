{
 "cells": [
  {
   "cell_type": "markdown",
   "id": "a0452078",
   "metadata": {},
   "source": [
    "## Ch 02 문제풀이 A - 행복"
   ]
  },
  {
   "cell_type": "markdown",
   "id": "438aa093",
   "metadata": {},
   "source": [
    "### 15969문제\n",
    "- 문제 제목: 행복\n",
    "- 문제 유형: list min, max 사용하기\n",
    "\n",
    "> https://www.acmicpc.net/problem/15969\n",
    "\n",
    "#### 문제\n",
    "- 코이 초등학교에 새로 부임하신 교장 선생님은 어린 학생들의 행복감과 학생들의 성적 차이 관계를 알아보기로 했다. 그래서 이전 성적을 조사하여 학생 들의 시험 점수 차이 변화를 알아보려고 한다.\n",
    "\n",
    "\n",
    "- 예를 들어서 2016년 학생 8명의 점수가 다음과 같다고 하자.\n",
    "  - 27, 35, 92, 75, 42, 53, 29, 87\n",
    "\n",
    "\n",
    "- 그러면 가장 높은 점수는 92점이고 가장 낮은 점수는 27점이므로 점수의 최대 차이는 65이다. 한편 2017년 학생 8명의 점수가 다음과 같았다.\n",
    "  - 85, 42, 79, 95, 37, 11, 72, 32\n",
    "\n",
    "\n",
    "- 이때 가장 높은 점수는 95점이고 가장 낮은 점수는 11점이므로 점수의 최대 차이는 84이다.\n",
    "\n",
    "\n",
    "- N명 학생들의 점수가 주어졌을 때, 가장 높은 점수와 가장 낮은 점수의 차이를 구하는 프로그램을 작성하시오\n",
    "\n",
    "#### 입력\n",
    "- 표준 입력으로 다음 정보가 주어진다. 첫 번째 줄에는 학생 수 N이 주어진다. 다음 줄에는 N명의 학생 점수가 공백 하나를 사이에 두고 주어진다.\n",
    "\n",
    "#### 출력\n",
    "- 표준 출력으로 가장 높은 점수와 가장 낮은 점수의 차이를 출력한다.\n",
    "\n",
    "#### 제한\n",
    "- 모든 서브태스크에서 2 ≤ N ≤ 1,000이고 입력되는 학생들의 점수는 0 이상 1,000 이하의 정수이다.\n",
    "\n",
    "#### 서브태스크 1 (23점)\n",
    "- 학생 수가 2명인 경우만 존재한다.\n",
    "\n",
    "#### 서브태스크 2 (29점)\n",
    "- 점수가 낮은 점수부터 높은 점수까지 순서대로 주어진다.\n",
    "\n",
    "#### 서브태스크 3 (48점)\n",
    "- 원래의 제약 조건 이외에 아무 제약 조건이 없다.\n",
    "\n",
    "#### 예제 입력 1 \n",
    "```python\n",
    "5\n",
    "27 35 92 75 42\n",
    "```\n",
    "##### 예제 출력 1 \n",
    "```python\n",
    "65\n",
    "```\n",
    "#### 예제 입력 2 \n",
    "```python\n",
    "8\n",
    "85 42 79 95 37 11 72 32\n",
    "```\n",
    "##### 예제 출력 2\n",
    "```python\n",
    "84\n",
    "```"
   ]
  },
  {
   "cell_type": "markdown",
   "id": "3a39b109",
   "metadata": {},
   "source": [
    "#### 나의 풀이"
   ]
  },
  {
   "cell_type": "code",
   "execution_count": 1,
   "id": "99739692",
   "metadata": {},
   "outputs": [
    {
     "name": "stdout",
     "output_type": "stream",
     "text": [
      "5\n",
      "27 35 92 75 420\n",
      "393\n"
     ]
    }
   ],
   "source": [
    "n = int(input())\n",
    "array = list(map(int, input().split()))\n",
    "\n",
    "result = max(array) - min(array)\n",
    "print(result)"
   ]
  },
  {
   "cell_type": "markdown",
   "id": "36608b36",
   "metadata": {},
   "source": [
    "#### 풀이"
   ]
  },
  {
   "cell_type": "code",
   "execution_count": 6,
   "id": "a87b39c2",
   "metadata": {},
   "outputs": [
    {
     "name": "stdout",
     "output_type": "stream",
     "text": [
      "5\n",
      "27 35 92 75 42\n",
      "65\n"
     ]
    }
   ],
   "source": [
    "N, lst = input(), list(map(int, input().split()))\n",
    "\n",
    "mn, mx = 1001, -1\n",
    "\n",
    "for i in lst:\n",
    "    mx = max(mx, i)\n",
    "    mn = min(mn, i)\n",
    "    \n",
    "print(mx - mn)"
   ]
  },
  {
   "cell_type": "code",
   "execution_count": 2,
   "id": "17f74d1a",
   "metadata": {},
   "outputs": [
    {
     "name": "stdout",
     "output_type": "stream",
     "text": [
      "5\n",
      "27 35 92 75 42\n",
      "65\n"
     ]
    }
   ],
   "source": [
    "N, lst = input(), list(map(int, input().split()))\n",
    "\n",
    "print(max(lst) - min(lst))"
   ]
  },
  {
   "cell_type": "markdown",
   "id": "e821a7bb",
   "metadata": {},
   "source": [
    "### 10539문제\n",
    "- 문제 제목: 수빈이와 수열\n",
    "- 문제 유형: 누적합 사용하기\n",
    "\n",
    "> https://www.acmicpc.net/problem/10539\n",
    "\n",
    "#### 문제\n",
    "- 수빈이는 심심해서 수열을 가지고 놀고 있다. 먼저, 정수 수열 A를 쓴다. 그리고 그 아래에 정수 수열 A의 해당 항까지의 평균값을 그 항으로 하는 정수 수열 B를 쓴다. \n",
    "\n",
    "- 예를 들어, 수열 A가 1, 3, 2, 6, 8이라면, 수열 B는 1/1, (1+3)/2, (1+3+2)/3, (1+3+2+6)/4, (1+3+2+6+8)/5, 즉, 1, 2, 2, 3, 4가 된다. \n",
    "\n",
    "- 수열 B가 주어질 때, 수빈이의 규칙에 따른 수열 A는 뭘까?\n",
    "\n",
    "#### 입력\n",
    "- 첫째 줄에는 수열 B의 길이만큼 정수 N(1 ≤ N ≤ 100)이 주어지고, 둘째 줄에는 수열 $B_i$를 이루는 N개의 정수가 주어진다. $(1 ≤ B_i ≤ 10^9)$\n",
    "\n",
    "#### 출력\n",
    "- 첫째 줄에는 수열 A를 이루는 N개의 정수를 출력한다. $(1 ≤ A_i ≤ 10^9)$\n",
    "\n",
    "#### 예제 입력 1 \n",
    "```python\n",
    "1\n",
    "2\n",
    "```\n",
    "##### 예제 출력 1 \n",
    "```python\n",
    "2\n",
    "```\n",
    "#### 예제 입력 2 \n",
    "```python\n",
    "4\n",
    "3 2 3 5\n",
    "```\n",
    "##### 예제 출력 2\n",
    "```python\n",
    "3 1 5 11\n",
    "```\n",
    "#### 예제 입력 3 \n",
    "```python\n",
    "5\n",
    "1 2 2 3 4\n",
    "```\n",
    "##### 예제 출력 3\n",
    "```python\n",
    "1 3 2 6 8\n",
    "```"
   ]
  },
  {
   "cell_type": "markdown",
   "id": "f91410fa",
   "metadata": {},
   "source": [
    "#### 나의 풀이"
   ]
  },
  {
   "cell_type": "code",
   "execution_count": 19,
   "id": "dcb24194",
   "metadata": {},
   "outputs": [
    {
     "name": "stdout",
     "output_type": "stream",
     "text": [
      "4\n",
      "3 2 3 5\n",
      "3 1 5 11 "
     ]
    }
   ],
   "source": [
    "n, b = int(input()), list(map(int, input().split()))\n",
    "a = [0] * n\n",
    "a[0] = b[0]\n",
    "for i in range(1, n):\n",
    "    a[i] = b[i] * (i + 1) - sum(a[:i])\n",
    "    \n",
    "for i in a:\n",
    "    print(i, end=' ')"
   ]
  },
  {
   "cell_type": "markdown",
   "id": "464042a6",
   "metadata": {},
   "source": [
    "#### 풀이"
   ]
  },
  {
   "cell_type": "code",
   "execution_count": 21,
   "id": "25215b74",
   "metadata": {},
   "outputs": [
    {
     "name": "stdout",
     "output_type": "stream",
     "text": [
      "4\n",
      "3 2 3 5\n",
      "3 1 5 11 "
     ]
    }
   ],
   "source": [
    "N, B = int(input()), list(map(int, input().split()))\n",
    "\n",
    "A = [B[0]]\n",
    "\n",
    "for i in range(1, N):\n",
    "    A.append(B[i] * (i + 1) - sum(A))\n",
    "    \n",
    "for i in A:\n",
    "    print(i, end=' ')"
   ]
  },
  {
   "cell_type": "markdown",
   "id": "58b0f5fc",
   "metadata": {},
   "source": [
    "### 17269문제\n",
    "- 문제 제목: 이름궁합테스트\n",
    "- 문제 유형: string 문자열 처리\n",
    "\n",
    "> https://www.acmicpc.net/problem/17269\n",
    "\n",
    "#### 문제\n",
    "- 시윤이는 좋아하는 이성이 생기면 가장 먼저 이름궁합부터 본다. 이름궁합을 보는 방법은 간단하다. 먼저 이름을 알파벳 대문자로 적는다. 각 알파벳 대문자에는 다음과 같이 알파벳을 적는데 필요한 획수가 주어진다. 예를 들어, 두 사람의 이름인 LEESIYUN, MIYAWAKISAKURA 를 같이 표현했을 때 다음과 같이 먼저 주어진 이름부터 한 글자씩 적는다.\n",
    "\n",
    "|알파벳|A|B|C|D|E|F|G|H|I|J|K|L|M|N|O|P|Q|R|S|T|U|V|W|X|Y|Z\n",
    "|--|--|--|--|--|--|--|--|--|--|--|--|--|--|--|--|--|--|--|--|--|--|--|--|--|--|--|\n",
    "|획수|3|2|1|2|4|3|1|3|1|1|3|1|3|2|1|2|2|2|1|2|1|1|1|2|2|1\n",
    "\n",
    "- 두 사람의 이름을 알파벳 대문자로 표현한 뒤, 한 글자씩 번갈아가며 적는다.\n",
    "\n",
    "- 예시 :  L M E I E Y S A I W Y A U K N I S A K U R A\n",
    "\n",
    "- 예시처럼 이름이 남을 경우엔 뒤에 남은 글자인 S A K U R A를 맨 뒤에 적는다. 그러고 나서 알파벳을 대응하는 숫자로 바꾸고 각 숫자와 그 숫자의 오른쪽 숫자와 더한 것을 밑에 적는다. 더한 숫자가 10이 넘을 경우엔 일의 자리 수만 남긴다. 이 과정을 반복하여 숫자가 2개만 남았을 때 남은 숫자가 두 사람의 궁합이 좋을 확률이 된다.\n",
    "\n",
    "- 과정을 자세히 나타내면 다음과 같다.\n",
    "\n",
    "<div class=\"alert alert-block alert-warning\">\n",
    "초기 상태 : 1 3 4 1 4 2 1 3 1 1 2 3 1 3 2 1 1 3 3 1 2 3 <br>\n",
    "한번 수행 :  4 7 5 5 6 3 4 4 2 3 5 4 4 5 3 2 4 6 4 3 5 <br>\n",
    "두번 수행 :   1 2 0 1 9 7 8 6 5 8 9 8 9 8 5 6 0 0 7 8 <br>\n",
    "세번 수행 :    3 2 1 0 6 5 4 1 3 7 7 7 7 3 1 6 0 7 5 <br>\n",
    "... <br>\n",
    "19번 수행 :                  5 7 0 <br>\n",
    "20번 수행 :                   2 7 <br>\n",
    "</div>\n",
    "\n",
    "- 따라서 LEESIYUN와 MIYAWAKISAKURA이 궁합이 좋을 확률이 27%이다.\n",
    "\n",
    "#### 입력\n",
    "- 첫 번째 줄에 이름의 길이 N과 M을 받는다. (2 ≤ N, M ≤ 100)\n",
    "\n",
    "- 다음 줄에 이름 A와 B를 입력받는다. 이름은 반드시 알파벳 대문자만 주어진다.\n",
    "\n",
    "#### 출력\n",
    "- A와 B의 이름궁합이 좋을 확률을 %로 출력한다. 단, 십의 자리가 0일 경우엔 일의 자리만 출력한다.\n",
    "\n",
    "#### 예제 입력 1 \n",
    "```python\n",
    "8 14\n",
    "LEESIYUN MIYAWAKISAKURA\n",
    "```\n",
    "##### 예제 출력 1 \n",
    "```python\n",
    "27%\n",
    "```\n",
    "#### 예제 입력 2\n",
    "```python\n",
    "2 2\n",
    "AB CD\n",
    "```\n",
    "##### 예제 출력 2\n",
    "```python\n",
    "77%\n",
    "```\n",
    "#### 예제 입력 3\n",
    "```python\n",
    "3 2\n",
    "BOJ IN\n",
    "```\n",
    "##### 예제 출력 3\n",
    "```python\n",
    "1%\n",
    "```"
   ]
  },
  {
   "cell_type": "markdown",
   "id": "20ca2c19",
   "metadata": {},
   "source": [
    "#### 나의 풀이"
   ]
  },
  {
   "cell_type": "code",
   "execution_count": 58,
   "id": "7d2739ed",
   "metadata": {},
   "outputs": [
    {
     "name": "stdout",
     "output_type": "stream",
     "text": [
      "3 2\n",
      "BOJ IN\n"
     ]
    }
   ],
   "source": [
    "n, m = map(int, input().split())\n",
    "name1, name2 = input().split()"
   ]
  },
  {
   "cell_type": "code",
   "execution_count": 60,
   "id": "d772f0bb",
   "metadata": {
    "scrolled": true
   },
   "outputs": [
    {
     "name": "stdout",
     "output_type": "stream",
     "text": [
      "1%\n"
     ]
    }
   ],
   "source": [
    "array = []\n",
    "data = { 'A' : 3, 'B' : 2, 'C' : 1, 'D' : 2, 'E' : 4, 'F' : 3, 'G' : 1, 'H' : 3, 'I' : 1, 'J' : 1, 'K' : 3, 'L' : 1, 'M' : 3, 'N' : 2, 'O' : 1, 'P' : 2, 'Q' : 2, 'R' : 2, 'S' : 1, 'T' : 2, 'U' : 1, 'V' : 1, 'W' : 1, 'X' : 2, 'Y' : 2, 'Z' : 1 }\n",
    "\n",
    "for i in range(max(len(name1), len(name2))):\n",
    "    if i < len(name1):\n",
    "        array.append(name1[i])\n",
    "    if i < len(name2):\n",
    "        array.append(name2[i])\n",
    "\n",
    "result = []\n",
    "        \n",
    "for i in range(len(array)):\n",
    "    if array[i] in data:\n",
    "        result.append(data[array[i]])\n",
    "\n",
    "result_len = len(result)\n",
    "for i in range(1, result_len - 1):\n",
    "    result2 = []\n",
    "    for j in range(len(result) - 1):\n",
    "        result2.append((result[j] + result[j + 1]) % 10)\n",
    "    result = result2\n",
    "\n",
    "if result[0] == 0:\n",
    "    print(\"%d%%\" % (result[1]))\n",
    "else:\n",
    "    print(\"%d%d%%\" % (result[0], result[1]))"
   ]
  },
  {
   "cell_type": "markdown",
   "id": "9cc04815",
   "metadata": {},
   "source": [
    "#### 풀이"
   ]
  },
  {
   "cell_type": "code",
   "execution_count": 64,
   "id": "55399658",
   "metadata": {},
   "outputs": [
    {
     "name": "stdout",
     "output_type": "stream",
     "text": [
      "8 14\n",
      "LEESIYUN MIYAWAKISAKURA\n"
     ]
    }
   ],
   "source": [
    "N, M = map(int, input().split())\n",
    "A, B = input().split()\n",
    "\n",
    "alp = [3, 2, 1, 2, 4, 3, 1, 3, 1, 1, 3, 1, 3, 2, 1, 2, 2, 2, 1, 2, 1, 1, 1, 2, 2, 1]"
   ]
  },
  {
   "cell_type": "code",
   "execution_count": 73,
   "id": "650a4046",
   "metadata": {},
   "outputs": [
    {
     "name": "stdout",
     "output_type": "stream",
     "text": [
      "27%\n"
     ]
    }
   ],
   "source": [
    "# 문자열 합치기\n",
    "AB = ''\n",
    "min_len = min(N, M)\n",
    "for i in range(min_len):\n",
    "    AB += A[i] + B[i]\n",
    "    \n",
    "AB += A[min_len:] + B[min_len:]\n",
    "\n",
    "# 문자열을 숫자로 치환\n",
    "lst = [alp[ord(i) - ord('A')] for i in AB]\n",
    "\n",
    "# 숫자 합치기\n",
    "for i in range(N + M - 2):\n",
    "    for j in range(N + M - 1 - i):\n",
    "        lst[j] += lst[j + 1]\n",
    "        \n",
    "print(\"{}%\".format(lst[0] % 10 * 10 + lst[1] % 10))"
   ]
  },
  {
   "cell_type": "markdown",
   "id": "48dec39c",
   "metadata": {},
   "source": [
    "### 17269문제\n",
    "- 문제 제목: 이름궁합테스트\n",
    "- 문제 유형: string 문자열 처리\n",
    "\n",
    "> https://www.acmicpc.net/problem/17269\n",
    "\n",
    "\n",
    "#### 문제\n",
    "- 숭고한 알고리즘 캠프 퀴즈 타임이 시작되었다! PS 기초, 동적 계획법, 파라메트릭 서치, 욱제의 생일, 탐색, 그리디, 최단경로 알고리즘, 구데기컵, 서로소 집합, 최소 신장 트리, 최소 공통 조상, 세그먼트 트리, 코드포스에서 C++로 높은 수준의 난수를 생성하는 방법, 최대 유량, 볼록 껍질, 스타트링크 사무실에 있는 게임용 컴퓨터의 RAM의 총 용량 등등 수많은 주제를 총망라하고 있는 이 미니 대회는 수많은 참가자들의 도전으로 오늘도 빛나고 있고, 제출된 OX표의 개수는 셀 수 없을 정도이다.\n",
    "\n",
    "\n",
    "- 운영진들은 이 OX표들을 채점하고, 점수를 계산해낸 다음, 시상식을 진행하며 화기애애하게 행사를 마무리해야 한다. 숭고한 알고리즘 캠프 퀴즈 타임에서 OX표의 점수는 다음과 같이 계산된다.\n",
    "  - OX표에 N개의 문제들이 있을 때, 1번 문제, 2번 문제, ..., N번 문제 순으로 채점된다.\n",
    "  - 문제는 뒤로 갈수록 어려워지기 때문에, i 번 문제의 기본 점수는 i 점이다.\n",
    "    - 문제를 맞히면 그 문제의 기본 점수(즉 i 번 문제의 경우 i 점)를 획득하며, 틀리면 얻지 못한다.\n",
    "  - 기본 점수와 별개로, '보너스 점수'라는 값이 존재한다. 이는 처음에는 0점이다.\n",
    "    - 문제를 맞히면 그 때의 '보너스 점수'를 획득하고, '보너스 점수'의 값이 1점 증가한다.\n",
    "    - 문제를 틀리면 '보너스 점수'를 얻지 못하고, '보너스 점수'의 값이 0점으로 초기화된다.\n",
    "\n",
    "\n",
    "- 민성이는 얼떨결에 숭고한 알고리즘 캠프 퀴즈 타임의 OX표를 채점해야 하는 업무를 맡게 되었다. 수많은 OX표를 볼 생각에 머리가 지끈거리는 민성이는 프로그램을 세워 이를 자동화하려고 한다. 시상식까지 4시간밖에 남지 않은 민성이를 도와 점수를 계산해주자.\n",
    "\n",
    "\n",
    "#### 입력\n",
    "- 첫 번째 줄에 OX표의 길이인 자연수 N이 주어진다. (1 ≤ N ≤ 10,000)\n",
    "- 두 번째 줄에 OX표를 의미하는 문자열 S가 주어진다. S는 O(알파벳 대문자 O, ASCII 코드 79)와 X(알파벳 대문자 X, ASCII 코드 88)로만 구성되어 있으며, 길이는 N이다.\n",
    "- 문자열 S의 i 번째 글자가 O이면 해당 참가자가 i 번째 문제를 맞혔음을 의미하고, X이면 틀렸음을 의미한다.\n",
    "\n",
    "\n",
    "#### 출력\n",
    "- 첫 번째 줄에 입력으로 들어온 OX표의 점수를 출력한다. \n",
    "\n",
    "\n",
    "#### 예제 입력 1 \n",
    "```python\n",
    "8\n",
    "XOOOXOOX\n",
    "```\n",
    "\n",
    "\n",
    "##### 예제 출력 1 \n",
    "```python\n",
    "26\n",
    "```\n",
    "\n",
    "\n",
    "- 민성이는 다음과 같이 총 26점을 받게 된다.\n",
    "  - 1번 문제를 틀렸으므로 점수를 얻지 못하고 보너스 점수가 0점으로 초기화된다. (총 점수 0점)\n",
    "  - 2번 문제를 맞혔으므로 기본 점수 2점과 보너스 점수 0점을 획득하며, 보너스 점수가 1점으로 증가한다. (총 점수 2점)\n",
    "  - 3번 문제를 맞혔으므로 기본 점수 3점과 보너스 점수 1점을 획득하며, 보너스 점수가 2점으로 증가한다. (총 점수 6점)\n",
    "  - 4번 문제를 맞혔으므로 기본 점수 4점과 보너스 점수 2점을 획득하며, 보너스 점수가 3점으로 증가한다. (총 점수 12점)\n",
    "  - 5번 문제를 틀렸으므로 점수를 얻지 못하고 보너스 점수가 0점으로 초기화된다. (총 점수 12점)\n",
    "  - 6번 문제를 맞혔으므로 기본 점수 6점과 보너스 점수 0점을 획득하며, 보너스 점수가 1점으로 증가한다. (총 점수 18점)\n",
    "  - 7번 문제를 맞혔으므로 기본 점수 7점과 보너스 점수 1점을 획득하며, 보너스 점수가 2점으로 증가한다. (총 점수 26점)\n",
    "  - 8번 문제를 틀렸으므로 점수를 얻지 못하고 보너스 점수가 0점으로 초기화된다. (총 점수 26점)"
   ]
  },
  {
   "cell_type": "markdown",
   "id": "dd163084",
   "metadata": {},
   "source": [
    "#### 나의 풀이"
   ]
  },
  {
   "cell_type": "code",
   "execution_count": 83,
   "id": "97a4f6e9",
   "metadata": {},
   "outputs": [
    {
     "name": "stdout",
     "output_type": "stream",
     "text": [
      "8\n",
      "XOOOXOOX\n"
     ]
    }
   ],
   "source": [
    "n = int(input())\n",
    "s = list(input())"
   ]
  },
  {
   "cell_type": "code",
   "execution_count": 86,
   "id": "094f2bcb",
   "metadata": {},
   "outputs": [
    {
     "name": "stdout",
     "output_type": "stream",
     "text": [
      "26\n"
     ]
    }
   ],
   "source": [
    "result = 0\n",
    "bonus = 0\n",
    "for i in range(n):\n",
    "    if s[i] == 'O':\n",
    "        result += (i + 1 + bonus)\n",
    "        bonus += 1\n",
    "    else:\n",
    "        bonus = 0\n",
    "        \n",
    "print(result)"
   ]
  },
  {
   "cell_type": "markdown",
   "id": "4c0e3a53",
   "metadata": {},
   "source": [
    "#### 풀이"
   ]
  },
  {
   "cell_type": "code",
   "execution_count": 87,
   "id": "09778cf1",
   "metadata": {},
   "outputs": [
    {
     "name": "stdout",
     "output_type": "stream",
     "text": [
      "8\n",
      "XOOOXOOX\n",
      "26\n"
     ]
    }
   ],
   "source": [
    "N, S = input(), input()\n",
    "\n",
    "score, bonus = 0, 0\n",
    "\n",
    "for idx, OX in enumerate(S):\n",
    "    if OX == 'O':\n",
    "        score, bonus = score + idx + 1 + bonus, bonus + 1\n",
    "    else:\n",
    "        bonus = 0\n",
    "        \n",
    "print(score)"
   ]
  }
 ],
 "metadata": {
  "kernelspec": {
   "display_name": "Python 3",
   "language": "python",
   "name": "python3"
  },
  "language_info": {
   "codemirror_mode": {
    "name": "ipython",
    "version": 3
   },
   "file_extension": ".py",
   "mimetype": "text/x-python",
   "name": "python",
   "nbconvert_exporter": "python",
   "pygments_lexer": "ipython3",
   "version": "3.8.8"
  }
 },
 "nbformat": 4,
 "nbformat_minor": 5
}
