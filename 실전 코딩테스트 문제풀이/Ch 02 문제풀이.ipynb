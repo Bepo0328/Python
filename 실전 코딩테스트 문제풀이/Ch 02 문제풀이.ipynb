{
 "cells": [
  {
   "cell_type": "markdown",
   "id": "a3457c20",
   "metadata": {},
   "source": [
    "## Ch 02 문제풀이 A - 행복"
   ]
  },
  {
   "cell_type": "markdown",
   "id": "b1655de8",
   "metadata": {},
   "source": [
    "### 15969문제\n",
    "- 문제 제목: 행복\n",
    "- 문제 유형: list min, max 사용하기\n",
    "\n",
    "> https://www.acmicpc.net/problem/15969\n",
    "\n",
    "#### 문제\n",
    "- 코이 초등학교에 새로 부임하신 교장 선생님은 어린 학생들의 행복감과 학생들의 성적 차이 관계를 알아보기로 했다. 그래서 이전 성적을 조사하여 학생 들의 시험 점수 차이 변화를 알아보려고 한다.\n",
    "\n",
    "\n",
    "- 예를 들어서 2016년 학생 8명의 점수가 다음과 같다고 하자.\n",
    "  - 27, 35, 92, 75, 42, 53, 29, 87\n",
    "\n",
    "\n",
    "- 그러면 가장 높은 점수는 92점이고 가장 낮은 점수는 27점이므로 점수의 최대 차이는 65이다. 한편 2017년 학생 8명의 점수가 다음과 같았다.\n",
    "  - 85, 42, 79, 95, 37, 11, 72, 32\n",
    "\n",
    "\n",
    "- 이때 가장 높은 점수는 95점이고 가장 낮은 점수는 11점이므로 점수의 최대 차이는 84이다.\n",
    "\n",
    "\n",
    "- N명 학생들의 점수가 주어졌을 때, 가장 높은 점수와 가장 낮은 점수의 차이를 구하는 프로그램을 작성하시오\n",
    "\n",
    "#### 입력\n",
    "- 표준 입력으로 다음 정보가 주어진다. 첫 번째 줄에는 학생 수 N이 주어진다. 다음 줄에는 N명의 학생 점수가 공백 하나를 사이에 두고 주어진다.\n",
    "\n",
    "#### 출력\n",
    "- 표준 출력으로 가장 높은 점수와 가장 낮은 점수의 차이를 출력한다.\n",
    "\n",
    "#### 제한\n",
    "- 모든 서브태스크에서 2 ≤ N ≤ 1,000이고 입력되는 학생들의 점수는 0 이상 1,000 이하의 정수이다.\n",
    "\n",
    "#### 서브태스크 1 (23점)\n",
    "- 학생 수가 2명인 경우만 존재한다.\n",
    "\n",
    "#### 서브태스크 2 (29점)\n",
    "- 점수가 낮은 점수부터 높은 점수까지 순서대로 주어진다.\n",
    "\n",
    "#### 서브태스크 3 (48점)\n",
    "- 원래의 제약 조건 이외에 아무 제약 조건이 없다.\n",
    "\n",
    "#### 예제 입력 1 \n",
    "```python\n",
    "5\n",
    "27 35 92 75 42\n",
    "```\n",
    "##### 예제 출력 1 \n",
    "```python\n",
    "65\n",
    "```\n",
    "#### 예제 입력 2 \n",
    "```python\n",
    "8\n",
    "85 42 79 95 37 11 72 32\n",
    "```\n",
    "##### 예제 출력 2\n",
    "```python\n",
    "84\n",
    "```"
   ]
  },
  {
   "cell_type": "markdown",
   "id": "d55e1a4d",
   "metadata": {},
   "source": [
    "#### 나의 풀이"
   ]
  },
  {
   "cell_type": "code",
   "execution_count": 1,
   "id": "0d36c6e3",
   "metadata": {},
   "outputs": [
    {
     "name": "stdout",
     "output_type": "stream",
     "text": [
      "5\n",
      "27 35 92 75 420\n",
      "393\n"
     ]
    }
   ],
   "source": [
    "n = int(input())\n",
    "array = list(map(int, input().split()))\n",
    "\n",
    "result = max(array) - min(array)\n",
    "print(result)"
   ]
  },
  {
   "cell_type": "markdown",
   "id": "3518a31c",
   "metadata": {},
   "source": [
    "#### 풀이"
   ]
  },
  {
   "cell_type": "code",
   "execution_count": 6,
   "id": "d45b9349",
   "metadata": {},
   "outputs": [
    {
     "name": "stdout",
     "output_type": "stream",
     "text": [
      "5\n",
      "27 35 92 75 42\n",
      "65\n"
     ]
    }
   ],
   "source": [
    "N, lst = input(), list(map(int, input().split()))\n",
    "\n",
    "mn, mx = 1001, -1\n",
    "\n",
    "for i in lst:\n",
    "    mx = max(mx, i)\n",
    "    mn = min(mn, i)\n",
    "    \n",
    "print(mx - mn)"
   ]
  },
  {
   "cell_type": "code",
   "execution_count": 2,
   "id": "4afdac46",
   "metadata": {},
   "outputs": [
    {
     "name": "stdout",
     "output_type": "stream",
     "text": [
      "5\n",
      "27 35 92 75 42\n",
      "65\n"
     ]
    }
   ],
   "source": [
    "N, lst = input(), list(map(int, input().split()))\n",
    "\n",
    "print(max(lst) - min(lst))"
   ]
  },
  {
   "cell_type": "markdown",
   "id": "51d0f6b1",
   "metadata": {},
   "source": [
    "### 10539문제\n",
    "- 문제 제목: 수빈이와 수열\n",
    "- 문제 유형: 누적합 사용하기\n",
    "\n",
    "> https://www.acmicpc.net/problem/10539\n",
    "\n",
    "#### 문제\n",
    "- 수빈이는 심심해서 수열을 가지고 놀고 있다. 먼저, 정수 수열 A를 쓴다. 그리고 그 아래에 정수 수열 A의 해당 항까지의 평균값을 그 항으로 하는 정수 수열 B를 쓴다. \n",
    "\n",
    "- 예를 들어, 수열 A가 1, 3, 2, 6, 8이라면, 수열 B는 1/1, (1+3)/2, (1+3+2)/3, (1+3+2+6)/4, (1+3+2+6+8)/5, 즉, 1, 2, 2, 3, 4가 된다. \n",
    "\n",
    "- 수열 B가 주어질 때, 수빈이의 규칙에 따른 수열 A는 뭘까?\n",
    "\n",
    "#### 입력\n",
    "- 첫째 줄에는 수열 B의 길이만큼 정수 N(1 ≤ N ≤ 100)이 주어지고, 둘째 줄에는 수열 $B_i$를 이루는 N개의 정수가 주어진다. $(1 ≤ B_i ≤ 10^9)$\n",
    "\n",
    "#### 출력\n",
    "- 첫째 줄에는 수열 A를 이루는 N개의 정수를 출력한다. $(1 ≤ A_i ≤ 10^9)$\n",
    "\n",
    "#### 예제 입력 1 \n",
    "```python\n",
    "1\n",
    "2\n",
    "```\n",
    "##### 예제 출력 1 \n",
    "```python\n",
    "2\n",
    "```\n",
    "#### 예제 입력 2 \n",
    "```python\n",
    "4\n",
    "3 2 3 5\n",
    "```\n",
    "##### 예제 출력 2\n",
    "```python\n",
    "3 1 5 11\n",
    "```\n",
    "#### 예제 입력 3 \n",
    "```python\n",
    "5\n",
    "1 2 2 3 4\n",
    "```\n",
    "##### 예제 출력 3\n",
    "```python\n",
    "1 3 2 6 8\n",
    "```"
   ]
  },
  {
   "cell_type": "markdown",
   "id": "b2808dbc",
   "metadata": {},
   "source": [
    "#### 나의 풀이"
   ]
  },
  {
   "cell_type": "code",
   "execution_count": 19,
   "id": "5a10783a",
   "metadata": {},
   "outputs": [
    {
     "name": "stdout",
     "output_type": "stream",
     "text": [
      "4\n",
      "3 2 3 5\n",
      "3 1 5 11 "
     ]
    }
   ],
   "source": [
    "n, b = int(input()), list(map(int, input().split()))\n",
    "a = [0] * n\n",
    "a[0] = b[0]\n",
    "for i in range(1, n):\n",
    "    a[i] = b[i] * (i + 1) - sum(a[:i])\n",
    "    \n",
    "for i in a:\n",
    "    print(i, end=' ')"
   ]
  },
  {
   "cell_type": "markdown",
   "id": "0523eb8d",
   "metadata": {},
   "source": [
    "#### 풀이"
   ]
  },
  {
   "cell_type": "code",
   "execution_count": 21,
   "id": "ea79918f",
   "metadata": {},
   "outputs": [
    {
     "name": "stdout",
     "output_type": "stream",
     "text": [
      "4\n",
      "3 2 3 5\n",
      "3 1 5 11 "
     ]
    }
   ],
   "source": [
    "N, B = int(input()), list(map(int, input().split()))\n",
    "\n",
    "A = [B[0]]\n",
    "\n",
    "for i in range(1, N):\n",
    "    A.append(B[i] * (i + 1) - sum(A))\n",
    "    \n",
    "for i in A:\n",
    "    print(i, end=' ')"
   ]
  },
  {
   "cell_type": "code",
   "execution_count": null,
   "id": "60c11a77",
   "metadata": {},
   "outputs": [],
   "source": []
  }
 ],
 "metadata": {
  "kernelspec": {
   "display_name": "Python 3",
   "language": "python",
   "name": "python3"
  },
  "language_info": {
   "codemirror_mode": {
    "name": "ipython",
    "version": 3
   },
   "file_extension": ".py",
   "mimetype": "text/x-python",
   "name": "python",
   "nbconvert_exporter": "python",
   "pygments_lexer": "ipython3",
   "version": "3.8.8"
  }
 },
 "nbformat": 4,
 "nbformat_minor": 5
}
