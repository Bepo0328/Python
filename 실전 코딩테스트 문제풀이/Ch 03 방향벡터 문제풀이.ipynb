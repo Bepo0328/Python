{
 "cells": [
  {
   "cell_type": "markdown",
   "id": "4c151a19",
   "metadata": {},
   "source": [
    "## Ch 03 방향벡터 문제풀이"
   ]
  },
  {
   "cell_type": "markdown",
   "id": "c9216c51",
   "metadata": {},
   "source": [
    "### 2480문제\n",
    "- 문제 제목: 주사위 세개 \n",
    "\n",
    "> https://www.acmicpc.net/problem/2480\n",
    "\n",
    "\n",
    "#### 문제\n",
    "- \n",
    "\n",
    "\n",
    "#### 입력\n",
    "- \n",
    "\n",
    "\n",
    "#### 출력\n",
    "- \n",
    "\n",
    "\n",
    "#### 예제 입력 1 \n",
    "```python\n",
    "\n",
    "```\n",
    "##### 예제 출력 1 \n",
    "```python\n",
    "\n",
    "```"
   ]
  },
  {
   "cell_type": "markdown",
   "id": "9ae221b8",
   "metadata": {},
   "source": [
    "#### 나의 풀이"
   ]
  },
  {
   "cell_type": "markdown",
   "id": "00d27ff8",
   "metadata": {},
   "source": [
    "#### 풀이"
   ]
  },
  {
   "cell_type": "markdown",
   "id": "ed9e8779",
   "metadata": {},
   "source": []
  },
  {
   "cell_type": "markdown",
   "id": "ea42cde5",
   "metadata": {},
   "source": []
  },
  {
   "cell_type": "markdown",
   "id": "b660d40a",
   "metadata": {},
   "source": []
  },
  {
   "cell_type": "markdown",
   "id": "88e27321",
   "metadata": {},
   "source": []
  },
  {
   "cell_type": "markdown",
   "id": "59206eae",
   "metadata": {},
   "source": []
  },
  {
   "cell_type": "markdown",
   "id": "35560911",
   "metadata": {},
   "source": []
  },
  {
   "cell_type": "markdown",
   "id": "d255bfa3",
   "metadata": {},
   "source": []
  },
  {
   "cell_type": "markdown",
   "id": "bad7f64d",
   "metadata": {},
   "source": []
  },
  {
   "cell_type": "markdown",
   "id": "98dc6e4a",
   "metadata": {},
   "source": []
  }
 ],
 "metadata": {
  "kernelspec": {
   "display_name": "Python 3",
   "language": "python",
   "name": "python3"
  },
  "language_info": {
   "codemirror_mode": {
    "name": "ipython",
    "version": 3
   },
   "file_extension": ".py",
   "mimetype": "text/x-python",
   "name": "python",
   "nbconvert_exporter": "python",
   "pygments_lexer": "ipython3",
   "version": "3.8.8"
  }
 },
 "nbformat": 4,
 "nbformat_minor": 5
}
