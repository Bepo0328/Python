{
 "cells": [
  {
   "cell_type": "markdown",
   "id": "9c63c609",
   "metadata": {},
   "source": [
    "## Ch 03 방향벡터\n",
    "\n",
    "\n",
    "### 방향\n",
    "- 대표적인 문제 BFS/DFS\n",
    "- 2/3차원 배열\n",
    "- 5x5맵\n",
    "\n",
    "\n",
    "### 탐색/확인 방향\n",
    "- 상하좌우\n",
    "- 상하좌우, 대각선\n",
    "- 나이트/말\n",
    "\n",
    "\n",
    "### 상하좌우\n",
    "```python\n",
    "if way == 'N':\n",
    "    x -= 1\n",
    "    y += 0\n",
    "elif way == 'S':\n",
    "    x += 1\n",
    "    y += 0\n",
    "elif way == 'E':\n",
    "    x += 0\n",
    "    y += 1\n",
    "else:\n",
    "    x += 0\n",
    "    y -= 1\n",
    "    \n",
    "dx = [-1, 1, 0, 0] # 쓰기 편함\n",
    "dy = [0, 0, 1, -1]\n",
    "\n",
    "dx = [0, -1, 0, 1] # 반시계 방향\n",
    "dy = [1, 0, -1, 0]\n",
    "\n",
    "dx = [0, 1, 0, -1] # 시계 방향\n",
    "dy = [1, 0, -1, 0]\n",
    "\n",
    "dx, dy = [0, -1, 0, 1], [1, 0, -1, 0]\n",
    "\n",
    "x += dx['ENSW'.index(way)]\n",
    "y += dy['ENSW'.index(way)]\n",
    "\n",
    "for i in range(4):\n",
    "    dfs(x + dx[i], y + dy[i])\n",
    "```"
   ]
  }
 ],
 "metadata": {
  "kernelspec": {
   "display_name": "Python 3",
   "language": "python",
   "name": "python3"
  },
  "language_info": {
   "codemirror_mode": {
    "name": "ipython",
    "version": 3
   },
   "file_extension": ".py",
   "mimetype": "text/x-python",
   "name": "python",
   "nbconvert_exporter": "python",
   "pygments_lexer": "ipython3",
   "version": "3.8.8"
  }
 },
 "nbformat": 4,
 "nbformat_minor": 5
}
