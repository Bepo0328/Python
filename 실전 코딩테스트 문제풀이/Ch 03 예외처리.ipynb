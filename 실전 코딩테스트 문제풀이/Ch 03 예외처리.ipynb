{
 "cells": [
  {
   "cell_type": "markdown",
   "id": "0a65a943",
   "metadata": {},
   "source": [
    "## 예외 처리\n",
    "- 조건문과 반복문\n",
    "\n",
    "\n",
    "### 문제가 준 까다로운 <span style=\"color:red\">조건</span>\n",
    "- (이때는 이걸 하고, 이건 이렇게 하지 마세요)\n",
    "\n",
    "\n",
    "### Case by Case (문제 by 문제)\n",
    "1. 논리 연산자/비트 연산자 활용하기\n",
    "2. 상태를 나타내는 자료 활용하기\n",
    "3. 나눠서 진행하기\n",
    "4. 여러 자료구조와 메서드, 함수 활용하기\n",
    "5. 미리 처리한 케이스와 처리할 케이스 정리하기"
   ]
  },
  {
   "cell_type": "code",
   "execution_count": 3,
   "id": "c7e4daf7",
   "metadata": {},
   "outputs": [],
   "source": [
    "a, b = 10, 20\n",
    "\n",
    "if a > b:\n",
    "    if a % 10 == 0:\n",
    "        print(a)\n",
    "        \n",
    "if a > b and a % 10 == 0:\n",
    "    print(a)\n",
    "\n",
    "# and or not"
   ]
  },
  {
   "cell_type": "code",
   "execution_count": 4,
   "id": "09f8216c",
   "metadata": {},
   "outputs": [
    {
     "data": {
      "text/plain": [
       "0"
      ]
     },
     "execution_count": 4,
     "metadata": {},
     "output_type": "execute_result"
    }
   ],
   "source": [
    "1 << 2, 1 & 1\n",
    "1 | 1\n",
    "1 ^ 1"
   ]
  },
  {
   "cell_type": "code",
   "execution_count": 6,
   "id": "ed5c3c6e",
   "metadata": {},
   "outputs": [
    {
     "name": "stdout",
     "output_type": "stream",
     "text": [
      "Prime\n"
     ]
    }
   ],
   "source": [
    "N = 71\n",
    "\n",
    "ck = False\n",
    "\n",
    "for i in range(2, N):\n",
    "    if N % i == 0:\n",
    "        print(\"Not Prime\")\n",
    "        ck = True\n",
    "        break\n",
    "        \n",
    "if not ck:\n",
    "    print(\"Prime\")"
   ]
  },
  {
   "cell_type": "code",
   "execution_count": 7,
   "id": "2ec591b6",
   "metadata": {},
   "outputs": [
    {
     "name": "stdout",
     "output_type": "stream",
     "text": [
      "Not Prime\n",
      "11 if Prime\n",
      "Not Prime\n",
      "13 if Prime\n",
      "Not Prime\n",
      "Not Prime\n",
      "Not Prime\n",
      "17 if Prime\n",
      "Not Prime\n",
      "19 if Prime\n",
      "Not Prime\n",
      "Not Prime\n",
      "Not Prime\n",
      "23 if Prime\n",
      "Not Prime\n",
      "Not Prime\n",
      "Not Prime\n",
      "Not Prime\n",
      "Not Prime\n",
      "29 if Prime\n",
      "Not Prime\n",
      "31 if Prime\n",
      "Not Prime\n",
      "Not Prime\n",
      "Not Prime\n",
      "Not Prime\n",
      "Not Prime\n",
      "37 if Prime\n",
      "Not Prime\n",
      "Not Prime\n",
      "Not Prime\n",
      "41 if Prime\n",
      "Not Prime\n",
      "43 if Prime\n",
      "Not Prime\n",
      "Not Prime\n",
      "Not Prime\n",
      "47 if Prime\n",
      "Not Prime\n",
      "Not Prime\n",
      "Not Prime\n",
      "Not Prime\n",
      "Not Prime\n",
      "53 if Prime\n",
      "Not Prime\n",
      "Not Prime\n",
      "Not Prime\n",
      "Not Prime\n",
      "Not Prime\n",
      "59 if Prime\n",
      "Not Prime\n",
      "61 if Prime\n",
      "Not Prime\n",
      "Not Prime\n",
      "Not Prime\n",
      "Not Prime\n",
      "Not Prime\n",
      "67 if Prime\n",
      "Not Prime\n",
      "Not Prime\n",
      "Not Prime\n",
      "71 if Prime\n",
      "Not Prime\n",
      "73 if Prime\n",
      "Not Prime\n",
      "Not Prime\n",
      "Not Prime\n",
      "Not Prime\n",
      "Not Prime\n",
      "79 if Prime\n",
      "Not Prime\n",
      "Not Prime\n",
      "Not Prime\n",
      "83 if Prime\n",
      "Not Prime\n",
      "Not Prime\n",
      "Not Prime\n",
      "Not Prime\n",
      "Not Prime\n",
      "89 if Prime\n",
      "Not Prime\n",
      "Not Prime\n",
      "Not Prime\n",
      "Not Prime\n",
      "Not Prime\n",
      "Not Prime\n",
      "Not Prime\n",
      "97 if Prime\n",
      "Not Prime\n",
      "Not Prime\n"
     ]
    }
   ],
   "source": [
    "def isPrime(N):\n",
    "    for i in range(2, N):\n",
    "        if N % i == 0:\n",
    "            return False\n",
    "    return True\n",
    "\n",
    "for N in range(10, 100):\n",
    "    if isPrime(N):\n",
    "        print(\"{} if Prime\".format(N))\n",
    "    else:\n",
    "        print(\"Not Prime\")"
   ]
  },
  {
   "cell_type": "code",
   "execution_count": 8,
   "id": "89e1ba9d",
   "metadata": {},
   "outputs": [],
   "source": [
    "def isRange(a, b, N, M):\n",
    "    return 0 <= a < N and 0 <= b < M"
   ]
  },
  {
   "cell_type": "code",
   "execution_count": 17,
   "id": "260660c1",
   "metadata": {},
   "outputs": [],
   "source": [
    "S = \"helleh\""
   ]
  },
  {
   "cell_type": "code",
   "execution_count": 13,
   "id": "691613be",
   "metadata": {},
   "outputs": [
    {
     "name": "stdout",
     "output_type": "stream",
     "text": [
      "Not Palin\n",
      "Not Palin\n",
      "Not Palin\n",
      "Not Palin\n"
     ]
    }
   ],
   "source": [
    "for idx in range(len(S)):\n",
    "    if S[idx] != S[len(S) - idx - 1]:\n",
    "        print(\"Not Palin\")"
   ]
  },
  {
   "cell_type": "code",
   "execution_count": 21,
   "id": "1fa6992a",
   "metadata": {},
   "outputs": [
    {
     "name": "stdout",
     "output_type": "stream",
     "text": [
      "aelleh\n"
     ]
    }
   ],
   "source": [
    "if S == S[::-1]:\n",
    "    print(\"isPalin\")"
   ]
  },
  {
   "cell_type": "code",
   "execution_count": 22,
   "id": "f4a5a0f5",
   "metadata": {},
   "outputs": [],
   "source": [
    "def isUnique(lst):\n",
    "    return len(lst) == len(set(lst))"
   ]
  },
  {
   "cell_type": "code",
   "execution_count": null,
   "id": "082dc2a9",
   "metadata": {},
   "outputs": [],
   "source": [
    "# 1. 예제 케이스\n",
    "# 2. 조건 A처리\n",
    "# 3. 조건 B처리\n",
    "# 4. 조건 AB처리"
   ]
  }
 ],
 "metadata": {
  "kernelspec": {
   "display_name": "Python 3",
   "language": "python",
   "name": "python3"
  },
  "language_info": {
   "codemirror_mode": {
    "name": "ipython",
    "version": 3
   },
   "file_extension": ".py",
   "mimetype": "text/x-python",
   "name": "python",
   "nbconvert_exporter": "python",
   "pygments_lexer": "ipython3",
   "version": "3.8.8"
  }
 },
 "nbformat": 4,
 "nbformat_minor": 5
}
