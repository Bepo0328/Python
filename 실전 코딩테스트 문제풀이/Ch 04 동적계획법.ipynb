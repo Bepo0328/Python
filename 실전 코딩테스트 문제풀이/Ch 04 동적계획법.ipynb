{
 "cells": [
  {
   "cell_type": "markdown",
   "id": "6fc7f3c2",
   "metadata": {},
   "source": [
    "## 동적계획법이란?\n",
    "\n",
    "\n",
    "### 다이나믹 프로그래밍?\n",
    "- 다음 <span style=\"color:red\">상태를 저장</span>하고, 사용하기\n",
    "  - 메모이제이션\n",
    "\n",
    "\n",
    "- 쉬운 난이도부터...\n",
    "- 어려운 난이도까지\n",
    "  - 피보나치, Knapsck...\n",
    "\n",
    "\n",
    "### 푸는 순서\n",
    "1. 상태를 정의한다.\n",
    "2. 점화식을 찾는다(구한다)\n",
    "3. 시간복잡도를 계산한다.\n",
    "4. 코딩한다.\n",
    "\n",
    "\n",
    "1. Top-Down (재귀)\n",
    "2. <span style=\"color:#ccac00\">Bottom-Up (반복문)</span>"
   ]
  }
 ],
 "metadata": {
  "kernelspec": {
   "display_name": "Python 3",
   "language": "python",
   "name": "python3"
  },
  "language_info": {
   "codemirror_mode": {
    "name": "ipython",
    "version": 3
   },
   "file_extension": ".py",
   "mimetype": "text/x-python",
   "name": "python",
   "nbconvert_exporter": "python",
   "pygments_lexer": "ipython3",
   "version": "3.8.8"
  }
 },
 "nbformat": 4,
 "nbformat_minor": 5
}
