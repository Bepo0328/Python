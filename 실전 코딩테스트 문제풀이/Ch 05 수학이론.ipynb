{
 "cells": [
  {
   "cell_type": "markdown",
   "id": "645afb3d",
   "metadata": {},
   "source": [
    "## Ch 05 수학이론"
   ]
  },
  {
   "cell_type": "markdown",
   "id": "6830d671",
   "metadata": {},
   "source": [
    "### 코딩테스트에 나오는 수학\n",
    "코딩테스트에 나오는 수학은 정수론 그리고 기하가 대표적입니다.\n",
    "\n",
    "\n",
    "코딩테스트 내의 기하는 피타고리스 정리를 활용한 점 사이의 거리 등 쉽게 알 수 있는 내용이거나 CCW, 컨벡스헐, 좌표기하 등 내용이 어려워 난이도 격차가 꽤 있는 분야입니다.\n",
    "\n",
    "\n",
    "강의에서는 다음과 같은 주제를 다뤄볼 것 입니다.\n",
    "\n",
    "- gcd/lcm\n",
    "- 소수 체크와 소인수분해\n",
    "- 에라토스테네스의 체 활용\n",
    "- 거듭제곱 연산\n",
    "\n",
    "### GCD와 LCM\n",
    "Greatest Common Divider와 Least Common Multiple은 가장 많이 나오는 유형 중 하나 입니다. 최대공약수/최소공배수를 묻는 문제의 90% 이상은 이 알고리즘을 사용하니 알아둬야 합니다.\n",
    "\n",
    "\n",
    "최소공배수의 경우에는 다음과 같은 식으로 풀 수 있으므로 최대공약수만 알면 됩니다.\n",
    "\n",
    "$LCM(a,b) =$ $\\frac{axb}{GCD(a,b)}$\n",
    "\n",
    "총 3개의 방법을 소개합니다.\n",
    "- 단순 반복문으로 하는 방법\n",
    "- 유클리드 호제법을 이용한 방법\n",
    "- 라이브러리를 사용한 방법\n",
    "\n",
    "유클리드 호제법의 경우는 다음 성질으 활용한 방법입니다.\n",
    "\n",
    "$GCD(a,b) = GCD(b, a\\%b)$"
   ]
  },
  {
   "cell_type": "code",
   "execution_count": 14,
   "id": "2e811664",
   "metadata": {},
   "outputs": [
    {
     "name": "stdout",
     "output_type": "stream",
     "text": [
      "256\n",
      "Wall time: 8.53 s\n",
      "256\n",
      "Wall time: 501 µs\n",
      "256\n",
      "Wall time: 501 µs\n",
      "256\n",
      "Wall time: 0 ns\n"
     ]
    }
   ],
   "source": [
    "# 방법 1 : 단순하게 반복문 사용\n",
    "def gcd_naive(a, b):\n",
    "    for i in range(min(a, b), 0, -1):\n",
    "        if a % i == 0 and b % i == 0: return i\n",
    "        \n",
    "# 방법 2-1 : 유클리드호제법을 이용한 방법\n",
    "def gcd(a, b):\n",
    "    if a % b == 0: return b\n",
    "    return gcd(b, a % b)\n",
    "\n",
    "# 방법 2-2 : 반복문으로 변경\n",
    "def gcd2(a, b):\n",
    "    while a % b != 0: a, b = b, a % b\n",
    "    return b\n",
    "\n",
    "# 방법 3: math의 gcd 사용하기\n",
    "import math\n",
    "math.gcd(1, 2)\n",
    "\n",
    "%time print(gcd_naive(10**8, 2**30))\n",
    "%time print(gcd(10**8, 2**30))\n",
    "%time print(gcd2(10**8, 2**30))\n",
    "%time print(math.gcd(10**8, 2**30))"
   ]
  },
  {
   "cell_type": "code",
   "execution_count": 10,
   "id": "38e91631",
   "metadata": {},
   "outputs": [],
   "source": [
    "# LCM은 gcd를 활용하여 계산하자\n",
    "# 만약 Python이 아닌 다른 언어의 경우 int overflow가 발생할 수 있으니\n",
    "# a / gcd(a, b) * b 순서로 하는 것을 추천합니다.\n",
    "def lcm(a, b):\n",
    "    return a * b / gcd(a, b)"
   ]
  },
  {
   "cell_type": "markdown",
   "id": "cdb64ff2",
   "metadata": {},
   "source": [
    "### 소수 체크와 소인수 분해\n",
    "소수 체크와 소인수 분해도 꽤 많이 나오는 유형입니다. 소수 체크는 반복문으로 진행하면 되고, 소인수분해의 경우는 조금의 트릭으로 진행하면 됩니다.\n",
    "\n",
    "두 알고리즘 모두 시간복잡도 $O(\\sqrt{N})$입니다."
   ]
  },
  {
   "cell_type": "code",
   "execution_count": 19,
   "id": "bbc686f5",
   "metadata": {},
   "outputs": [
    {
     "name": "stdout",
     "output_type": "stream",
     "text": [
      "True\n",
      "False\n",
      "[3, 7]\n",
      "[2, 2, 2, 3]\n"
     ]
    }
   ],
   "source": [
    "# 소수 체크 기본\n",
    "# (prime_check말고 isPrime 등의 관용적인 함수명을 사용)\n",
    "def prime_check(N):\n",
    "    for i in range(2, N):\n",
    "        if N % i == 0: return False\n",
    "        if i * i > N: break\n",
    "    return True\n",
    "\n",
    "# 소인수분해 기본\n",
    "def prime_factorization(N):\n",
    "    p, fac = 2, []\n",
    "    while p ** 2 <= N:\n",
    "        if N % p == 0:\n",
    "            N //= p\n",
    "            fac.append(p)\n",
    "        else:\n",
    "            p += 1\n",
    "    if N > 1: fac.append(N)\n",
    "    return fac\n",
    "\n",
    "print(prime_check(3))\n",
    "print(prime_check(4))\n",
    "print(prime_factorization(21))\n",
    "print(prime_factorization(24))"
   ]
  },
  {
   "cell_type": "markdown",
   "id": "94187ef7",
   "metadata": {},
   "source": [
    "이런 알고리즘이 단 한 번 사용하거나 빠르게 체크할 때는 좋지만 여러 쿼리를 묻는 문제 등의 경우에는 시간복잡도가 꽤 큽니다.\n",
    "\n",
    "\n",
    "이런 문제를 해결하기 위해 소스 리스트를 미리 만드는 방법이 있는데 이것이 **에라토스테네스의 체** 입니다."
   ]
  },
  {
   "cell_type": "code",
   "execution_count": 21,
   "id": "0d30f3f9",
   "metadata": {},
   "outputs": [
    {
     "name": "stdout",
     "output_type": "stream",
     "text": [
      "[2, 3, 5, 7, 11, 13, 17, 19, 23, 29, 31, 37, 41, 43, 47, 53, 59, 61, 67, 71, 73, 79, 83, 89, 97]\n"
     ]
    }
   ],
   "source": [
    "# 에라토스테네스의 체를 활용한 소수 리스트 구하기\n",
    "def era_prime(N):\n",
    "    A, p = [0 for _ in range(N + 1)], []\n",
    "    for i in range(2, N):\n",
    "        if A[i] == 0: p.append(i)\n",
    "        else: continue\n",
    "        for j in range(i ** 2, N, i):\n",
    "            A[j] = 1\n",
    "    return p\n",
    "print(era_prime(100))"
   ]
  },
  {
   "cell_type": "markdown",
   "id": "6ba12ef0",
   "metadata": {},
   "source": [
    "이런 리스트를 만들면 소인수분해도 다음과 같이 할 수 있습니다."
   ]
  },
  {
   "cell_type": "code",
   "execution_count": 36,
   "id": "4240f3d6",
   "metadata": {},
   "outputs": [
    {
     "name": "stdout",
     "output_type": "stream",
     "text": [
      "[2, 2, 2, 5, 5, 5]\n"
     ]
    }
   ],
   "source": [
    "# 소수 리스트가 있는 경우 소인수분해\n",
    "# 소수 리스트의 크기는 sqrt(N)보다 커야함\n",
    "def prime_factorization_2(N, p):\n",
    "    fac = []\n",
    "    for i in p:\n",
    "        if N == 1 or N < i * i: \n",
    "            break\n",
    "        while N % i == 0:\n",
    "            fac.append(i)\n",
    "            N //= i\n",
    "    return fac\n",
    "\n",
    "print(prime_factorization_2(1000, era_prime(100)))"
   ]
  },
  {
   "cell_type": "markdown",
   "id": "378fec3f",
   "metadata": {},
   "source": [
    "이제 각 활용을 살펴보겠습니다.\n",
    "- 소인수의 개수\n",
    "- 소인수의 합\n",
    "- 소인수분해를 위한 또 하나의 트릭"
   ]
  },
  {
   "cell_type": "code",
   "execution_count": 42,
   "id": "2f92b8ab",
   "metadata": {},
   "outputs": [
    {
     "name": "stdout",
     "output_type": "stream",
     "text": [
      "7\n",
      "3\n",
      "2\n",
      "2\n"
     ]
    }
   ],
   "source": [
    "# 활용 1: 소인수의 개수\n",
    "def era_factor_count(N):\n",
    "    A = [0 for _ in range(N + 1)]\n",
    "    for i in range(1, N):\n",
    "        for j in range(i, N, i):\n",
    "            A[j] += 1\n",
    "    return A\n",
    "\n",
    "# 활용 2: 소인수의 합\n",
    "def era_factor_sum(N):\n",
    "    A = [0 for _ in range(N + 1)]\n",
    "    for i in range(2, N):\n",
    "        for j in range(i, N, i):\n",
    "            A[j] += i\n",
    "    return A\n",
    "\n",
    "# 활용 3: 소인수분해 하기\n",
    "def era_factorization(N):\n",
    "    A = [0 for _ in range(N + 1)]\n",
    "    for i in range(2, N):\n",
    "        if A[i]: continue\n",
    "        for j in range(i, N, i):\n",
    "            A[j] = i\n",
    "    return A\n",
    "\n",
    "# 소인수분해하는 방법\n",
    "A = era_factorization(100)\n",
    "N = 84\n",
    "while A[N] != 0:\n",
    "    print(A[N])\n",
    "    N //= A[N]"
   ]
  },
  {
   "cell_type": "markdown",
   "id": "b08d606b",
   "metadata": {},
   "source": [
    "### 빠른 거듭제곱과 모듈러\n",
    "Python에서는 크게 많이 고민할 부분은 아니지만 거듭제곱 연산을 해야할 때가 있습니다. 이런 거듭제곱을 순수하게 반복문으로 진행하는 것이 아니라 효율적인 방법을 살펴봅시다."
   ]
  },
  {
   "cell_type": "code",
   "execution_count": 43,
   "id": "768a7e20",
   "metadata": {},
   "outputs": [
    {
     "name": "stdout",
     "output_type": "stream",
     "text": [
      "Wall time: 0 ns\n",
      "Wall time: 0 ns\n",
      "Wall time: 3.23 s\n"
     ]
    },
    {
     "data": {
      "text/plain": [
       "769346453"
      ]
     },
     "execution_count": 43,
     "metadata": {},
     "output_type": "execute_result"
    }
   ],
   "source": [
    "# C/C++ style\n",
    "def pow_advanced(a, b, mod):\n",
    "    ret = 1\n",
    "    while b > 0:\n",
    "        if b % 2: ret = ret * a % mod\n",
    "        a, b = a * a % mod, b // 2\n",
    "    return ret\n",
    "\n",
    "%time pow_advanced(3, 10000000, 1000000007)\n",
    "%time pow(3, 10000000, 1000000007)\n",
    "%time 3 ** 10000000 % 1000000007"
   ]
  }
 ],
 "metadata": {
  "kernelspec": {
   "display_name": "Python 3",
   "language": "python",
   "name": "python3"
  },
  "language_info": {
   "codemirror_mode": {
    "name": "ipython",
    "version": 3
   },
   "file_extension": ".py",
   "mimetype": "text/x-python",
   "name": "python",
   "nbconvert_exporter": "python",
   "pygments_lexer": "ipython3",
   "version": "3.8.8"
  }
 },
 "nbformat": 4,
 "nbformat_minor": 5
}
