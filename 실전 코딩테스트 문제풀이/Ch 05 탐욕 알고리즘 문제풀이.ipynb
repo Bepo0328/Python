{
 "cells": [
  {
   "cell_type": "markdown",
   "id": "de3925c9",
   "metadata": {},
   "source": [
    "## Ch 05 탐욕 알고리즘 문제풀이"
   ]
  },
  {
   "cell_type": "markdown",
   "id": "6d0bf75c",
   "metadata": {},
   "source": [
    "### 1439문제\n",
    "- 문제 제목: 뒤집기\n",
    "\n",
    "> https://www.acmicpc.net/problem/1439\n",
    "\n",
    "\n",
    "#### 문제\n",
    "- 다솜이는 0과 1로만 이루어진 문자열 S를 가지고 있다. 다솜이는 이 문자열 S에 있는 모든 숫자를 전부 같게 만들려고 한다. 다솜이가 할 수 있는 행동은 S에서 연속된 하나 이상의 숫자를 잡고 모두 뒤집는 것이다. 뒤집는 것은 1을 0으로, 0을 1로 바꾸는 것을 의미한다.\n",
    "- 예를 들어 S=0001100 일 때,\n",
    "  1. 전체를 뒤집으면 1110011이 된다.\n",
    "  2. 4번째 문자부터 5번째 문자까지 뒤집으면 1111111이 되어서 2번 만에 모두 같은 숫자로 만들 수 있다.\n",
    "  \n",
    "  \n",
    "- 하지만, 처음부터 4번째 문자부터 5번째 문자까지 문자를 뒤집으면 한 번에 0000000이 되어서 1번 만에 모두 같은 숫자로 만들 수 있다.\n",
    "- 문자열 S가 주어졌을 때, 다솜이가 해야하는 행동의 최소 횟수를 출력하시오.\n",
    "\n",
    "\n",
    "#### 입력\n",
    "- 첫째 줄에 문자열 S가 주어진다. S의 길이는 100만보다 작다.\n",
    "\n",
    "\n",
    "#### 출력\n",
    "- 첫째 줄에 다솜이가 해야하는 행동의 최소 횟수를 출력한다.\n",
    "\n",
    "\n",
    "#### 예제 입력 1 \n",
    "```python\n",
    "0001100\n",
    "```\n",
    "##### 예제 출력 1 \n",
    "```python\n",
    "1\n",
    "```"
   ]
  },
  {
   "cell_type": "markdown",
   "id": "838c6271",
   "metadata": {},
   "source": [
    "#### 풀이"
   ]
  },
  {
   "cell_type": "code",
   "execution_count": 5,
   "id": "423d9e7a",
   "metadata": {},
   "outputs": [
    {
     "name": "stdout",
     "output_type": "stream",
     "text": [
      "110011\n",
      "1\n"
     ]
    }
   ],
   "source": [
    "S, tot = input(), 0\n",
    "for i in range(1, len(S)):\n",
    "    if S[i] != S[i - 1]:\n",
    "        tot += 1\n",
    "print((tot + 1) // 2)"
   ]
  },
  {
   "cell_type": "markdown",
   "id": "49af5bee",
   "metadata": {},
   "source": [
    "### 16676문제\n",
    "- 문제 제목: 근우의 다이어리 꾸미기\n",
    "\n",
    "> https://www.acmicpc.net/problem/16676\n",
    "\n",
    "\n",
    "#### 문제\n",
    "- 곧 2018년이 끝나고, 2019년이 온다.\n",
    "- 근우는 2019년에는 꼭 다이어리를 쓰기로 했다. 하지만, 처음 써보는 다이어리에 쓸 내용이 없어 고민하던 중 자신의 목표 연봉을 다이어리 앞에 쓰기로 했다.\n",
    "- 다이어리를 쓰는 사람은 알겠지만 예쁜 다이어리의 핵심은 스티커다. 그렇기 때문에 근우는 목표 연봉을 손으로 쓰지 않고, 스티커로 붙이려고 한다. 목표연봉이 100이라면 [1] [0] [0]과 같이 붙이는 것이다. [1]이란 1이 써져있는 스티커로, 다른 숫자에 대해서도 동일한 규칙이 적용된다.\n",
    "- 근우는 자신의 연봉 최댓값이 N임을 안다. 그렇기에 근우는 0부터 N까지의 수를 하나씩 스티커를 통해 모두 표현하고자 한다. 최댓값 N이 10이면 만드는 과정은 다음과 같다.\n",
    "  - 스티커 더미에서 [0] 하나를 가져와 0을 표현한다 ([0]). 이후 사용한 스티커 [0]을 스티커 더미로 되돌린다.\n",
    "  -스티커 더미에서 [1] 하나를 가져와 1을 표현한다 ([1]). 이후 사용한 스티커 [1]을 스티커 더미로 되돌린다.\n",
    "  - 9까지의 마찬가지 방법으로 표현할 수 있다.\n",
    "  - 스티커 더미에서 [0] 하나와 [1] 하나를 가져와 10을 표현한다 ([1][0]). 이후 사용한 스티커 [0]과 [1]을 스티커 더미로 되돌린다.\n",
    "\n",
    "\n",
    "- 그러므로 N = 10 이면 스티커가 [0]부터 [9]까지 1개씩만 있으면 모두 표현할 수 있다.\n",
    "- 필요한 스티커를 사러 고려대 하나스퀘어 유니스토어에 도착한 근우는 고민이 생겼다. 스티커 팩에는 [0]부터 [9]까지 스티커가 한 장씩 밖에 없으면서 생각보다 너무 비싼 것이다!\n",
    "- 그렇기에 근우는 0부터 N까지 모든 수를 하나씩 표현할 수 있게 최소한의 스티커 팩만 사려고 한다.\n",
    "- 근우는 매우 똑똑하지만, 스티커 팩 가격에 충격을 받아 계산할 수 없는 상태가 돼버렸다.\n",
    "- 여러분이 근우의 최대 목표액 N이 주어졌을 때, 근우가 필요한 최소 스티커 팩의 개수를 구해주자.\n",
    "\n",
    "\n",
    "#### 입력\n",
    "- 첫 번째 줄에 근우의 연봉 최댓값을 의미하는 정수 N이 주어진다. (0 ≤ N ≤ 1,000,000,000)\n",
    "\n",
    "\n",
    "#### 출력\n",
    "- 첫 번째 줄에 근우가 0부터 N까지 스티커로 표현하기 위해 구매해야 하는 스티커 팩의 최소 개수를 출력한다.\n",
    "\n",
    "\n",
    "#### 예제 입력 1 \n",
    "```python\n",
    "88\n",
    "```\n",
    "##### 예제 출력 1 \n",
    "```python\n",
    "2\n",
    "```"
   ]
  },
  {
   "cell_type": "markdown",
   "id": "92cc690a",
   "metadata": {},
   "source": [
    "#### 풀이"
   ]
  },
  {
   "cell_type": "code",
   "execution_count": 15,
   "id": "d82952c7",
   "metadata": {},
   "outputs": [
    {
     "name": "stdout",
     "output_type": "stream",
     "text": [
      "111111\n",
      "6\n"
     ]
    }
   ],
   "source": [
    "N = input()\n",
    "S = '1' * len(N)\n",
    "\n",
    "if len(N) == 1:\n",
    "    print(1)\n",
    "elif int(N) >= int(S):\n",
    "    print(len(N))\n",
    "else:\n",
    "    print(len(N) - 1)"
   ]
  },
  {
   "cell_type": "markdown",
   "id": "cfee4388",
   "metadata": {},
   "source": [
    "### 2437문제\n",
    "- 문제 제목: 저울\n",
    "\n",
    "> https://www.acmicpc.net/problem/2437\n",
    "\n",
    "\n",
    "#### 문제\n",
    "- 하나의 양팔 저울을 이용하여 물건의 무게를 측정하려고 한다. 이 저울의 양 팔의 끝에는 물건이나 추를 올려놓는 접시가 달려 있고, 양팔의 길이는 같다. 또한, 저울의 한쪽에는 저울추들만 놓을 수 있고, 다른 쪽에는 무게를 측정하려는 물건만 올려놓을 수 있다.\n",
    "\n",
    "\n",
    "<img src=\"https://upload.acmicpc.net/7d2a2428-a1b0-47f5-9f53-fecd714d1b1b/-/preview/\" />\n",
    "\n",
    "\n",
    "- 무게가 양의 정수인 N개의 저울추가 주어질 때, 이 추들을 사용하여 측정할 수 없는 양의 정수 무게 중 최솟값을 구하는 프로그램을 작성하시오.\n",
    "- 예를 들어, 무게가 각각 3, 1, 6, 2, 7, 30, 1인 7개의 저울추가 주어졌을 때, 이 추들로 측정할 수 없는 양의 정수 무게 중 최솟값은 21이다. \n",
    "\n",
    "\n",
    "#### 입력\n",
    "- 첫 째 줄에는 저울추의 개수를 나타내는 양의 정수 N이 주어진다. N은 1 이상 1,000 이하이다. 둘째 줄에는 저울추의 무게를 나타내는 N개의 양의 정수가 빈칸을 사이에 두고 주어진다. 각 추의 무게는 1이상 1,000,000 이하이다.\n",
    "\n",
    "\n",
    "#### 출력\n",
    "- 첫째 줄에 주어진 추들로 측정할 수 없는 양의 정수 무게 중 최솟값을 출력한다.\n",
    "\n",
    "\n",
    "#### 예제 입력 1 \n",
    "```python\n",
    "7\n",
    "3 1 6 2 7 30 1\n",
    "```\n",
    "##### 예제 출력 1 \n",
    "```python\n",
    "21\n",
    "```"
   ]
  },
  {
   "cell_type": "markdown",
   "id": "9d896b19",
   "metadata": {},
   "source": [
    "#### 풀이"
   ]
  },
  {
   "cell_type": "markdown",
   "id": "593ea3a5",
   "metadata": {},
   "source": [
    "- 1 1 2 3 6 7 30\n",
    "\n",
    "\n",
    "- 1 : 1\n",
    "- 2 : 2\n",
    "- 3 : 3\n",
    "- 4 : 1 + 3\n",
    "- 5 : 2 + 3\n",
    "- 6 : 6\n",
    "- 7 : 7\n",
    "- 8 : 1 + 7\n",
    "- 13 : 6 + 7\n",
    "\n",
    "\n",
    "- S >= N + 1"
   ]
  },
  {
   "cell_type": "code",
   "execution_count": 22,
   "id": "ce516e17",
   "metadata": {},
   "outputs": [
    {
     "name": "stdout",
     "output_type": "stream",
     "text": [
      "7\n",
      "3 1 6 2 7 30 1\n",
      "21\n"
     ]
    }
   ],
   "source": [
    "N, A = int(input()), sorted(list(map(int, input().split())))\n",
    "\n",
    "ans = 0\n",
    "\n",
    "for i in A:\n",
    "    if i <= ans + 1:\n",
    "        ans += i\n",
    "    else:\n",
    "        break\n",
    "\n",
    "print(ans + 1)"
   ]
  },
  {
   "cell_type": "markdown",
   "id": "d3541878",
   "metadata": {},
   "source": [
    "### 1080문제\n",
    "- 문제 제목: 행렬\n",
    "\n",
    "> https://www.acmicpc.net/problem/1080\n",
    "\n",
    "\n",
    "#### 문제\n",
    "- 0과 1로만 이루어진 행렬 A와 행렬 B가 있다. 이때, 행렬 A를 행렬 B로 바꾸는데 필요한 연산의 횟수의 최솟값을 구하는 프로그램을 작성하시오.\n",
    "- 행렬을 변환하는 연산은 어떤 3×3크기의 부분 행렬에 있는 모든 원소를 뒤집는 것이다. (0 → 1, 1 → 0)\n",
    "\n",
    "\n",
    "#### 입력\n",
    "- 첫째 줄에 행렬의 크기 N M이 주어진다. N과 M은 50보다 작거나 같은 자연수이다. 둘째 줄부터 N개의 줄에는 행렬 A가 주어지고, 그 다음줄부터 N개의 줄에는 행렬 B가 주어진다.\n",
    "\n",
    "\n",
    "#### 출력\n",
    "- 첫째 줄에 문제의 정답을 출력한다. 만약 A를 B로 바꿀 수 없다면 -1을 출력한다.\n",
    "\n",
    "\n",
    "#### 예제 입력 1 \n",
    "```python\n",
    "3 4\n",
    "0000\n",
    "0010\n",
    "0000\n",
    "1001\n",
    "1011\n",
    "1001\n",
    "```\n",
    "##### 예제 출력 1 \n",
    "```python\n",
    "2\n",
    "```"
   ]
  },
  {
   "cell_type": "markdown",
   "id": "85d800b7",
   "metadata": {},
   "source": [
    "#### 풀이"
   ]
  },
  {
   "cell_type": "code",
   "execution_count": 26,
   "id": "94ce77b8",
   "metadata": {},
   "outputs": [
    {
     "name": "stdout",
     "output_type": "stream",
     "text": [
      "3 4\n",
      "0000\n",
      "0010\n",
      "0000\n",
      "1001\n",
      "1011\n",
      "1001\n"
     ]
    }
   ],
   "source": [
    "N, M = map(int, input().split())\n",
    "A = [list(map(int, list(input()))) for _ in range(N)]\n",
    "B = [list(map(int, list(input()))) for _ in range(N)]"
   ]
  },
  {
   "cell_type": "code",
   "execution_count": 27,
   "id": "7fc960a4",
   "metadata": {},
   "outputs": [
    {
     "name": "stdout",
     "output_type": "stream",
     "text": [
      "2\n"
     ]
    }
   ],
   "source": [
    "def flip(x, y, A):\n",
    "    for i in range(3):\n",
    "        for j in range(3):\n",
    "            A[x + i][y + j] ^= 1\n",
    "        \n",
    "ans = 0\n",
    "\n",
    "for i in range(N - 2):\n",
    "    for j in range(M - 2):\n",
    "        if A[i][j] != B[i][j]:\n",
    "            flip(i, j, A)\n",
    "            ans += 1\n",
    "            \n",
    "if A != B:\n",
    "    print(-1)\n",
    "else:\n",
    "    print(ans)"
   ]
  },
  {
   "cell_type": "markdown",
   "id": "fd0f2507",
   "metadata": {},
   "source": [
    "### 2014문제\n",
    "- 문제 제목: 소수의 곱\n",
    "\n",
    "> https://www.acmicpc.net/problem/2014\n",
    "\n",
    "\n",
    "#### 문제\n",
    "- K개의 소수가 있다. 이때, 이 소수들 중에서 몇 개를 곱해서 얻게 되는 수들이 있을 것이다. 소수들을 선택할 때에는 같은 수를 선택해도 되며, 주어지는 소수 자체도 포함시키자.\n",
    "- 예를 들어 세 소수가 2, 5, 7이었다면, 이러한 곱들을 오름차순으로 나타내 보면, 2, 4, 5, 7, 8, 10, 14, 16, 20, 25, 28, 32, 35, 등이 된다.\n",
    "- K개의 소수가 주어졌을 때, 이러한 소수의 곱들 중에서 N번째 수를 구해 보자. 단 정답은 $2^31$보다 작은 자연수이다.\n",
    "\n",
    "\n",
    "#### 입력\n",
    "- 첫째 줄에 K(1 ≤ K ≤ 100), N(1 ≤ N ≤ 100,000)이 주어진다. 다음 줄에는 K개의 소수가 오름차순으로 주어진다. 같은 소수가 여러 번 주어지는 경우는 없으며, 주어지는 소수는 모두 541보다 작거나 같은 자연수이다.\n",
    "\n",
    "\n",
    "#### 출력\n",
    "- 첫째 줄에 문제에서 설명한 대로 소수의 곱을 나열했을 때, N번째 오는 것을 출력한다.\n",
    "\n",
    "\n",
    "#### 예제 입력 1 \n",
    "```python\n",
    "4 19\n",
    "2 3 5 7\n",
    "```\n",
    "##### 예제 출력 1 \n",
    "```python\n",
    "27\n",
    "```"
   ]
  },
  {
   "cell_type": "markdown",
   "id": "f0feb86b",
   "metadata": {},
   "source": [
    "#### 풀이"
   ]
  },
  {
   "cell_type": "code",
   "execution_count": 28,
   "id": "6aab4273",
   "metadata": {},
   "outputs": [
    {
     "name": "stdout",
     "output_type": "stream",
     "text": [
      "4 19\n",
      "2 3 5 7\n",
      "27\n"
     ]
    }
   ],
   "source": [
    "import heapq\n",
    "from copy import deepcopy\n",
    "\n",
    "K, N = map(int, input().split())\n",
    "p_list = list(map(int, input().split()))\n",
    "lst, ck = deepcopy(p_list), set()\n",
    "\n",
    "heapq.heapify(lst)\n",
    "ith = 0\n",
    "\n",
    "while ith < N:\n",
    "    mn = heapq.heappop(lst)\n",
    "    if mn in ck:\n",
    "        continue\n",
    "    ith += 1\n",
    "    ck.add(mn)\n",
    "    for i in p_list:\n",
    "        heapq.heappush(lst, mn * i)\n",
    "\n",
    "print(mn)"
   ]
  }
 ],
 "metadata": {
  "kernelspec": {
   "display_name": "Python 3",
   "language": "python",
   "name": "python3"
  },
  "language_info": {
   "codemirror_mode": {
    "name": "ipython",
    "version": 3
   },
   "file_extension": ".py",
   "mimetype": "text/x-python",
   "name": "python",
   "nbconvert_exporter": "python",
   "pygments_lexer": "ipython3",
   "version": "3.8.8"
  }
 },
 "nbformat": 4,
 "nbformat_minor": 5
}
