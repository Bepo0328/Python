{
 "cells": [
  {
   "cell_type": "markdown",
   "id": "e24bcc47",
   "metadata": {},
   "source": [
    "## 기본 정렬 알고리즘"
   ]
  },
  {
   "cell_type": "markdown",
   "id": "b46a9d33",
   "metadata": {},
   "source": [
    "### 2750문제\n",
    "- 문제 제목: 수 정렬하기\n",
    "- 문제 난이도: 하(Easy)\n",
    "- 문제 유형: 정렬\n",
    "- 추천 풀이 시간: 15분\n",
    "\n",
    "> https://www.acmicpc.net/problem/2750"
   ]
  },
  {
   "cell_type": "markdown",
   "id": "e605eaac",
   "metadata": {},
   "source": [
    "#### 문제\n",
    "- N개의 수가 주어졌을 때, 이를 오름차순으로 정렬하는 프로그램을 작성하시오."
   ]
  },
  {
   "cell_type": "markdown",
   "id": "3c85bff9",
   "metadata": {},
   "source": [
    "#### 입력\n",
    "- 첫째 줄에 수의 개수 N(1 ≤ N ≤ 1,000)이 주어진다. 둘째 줄부터 N개의 줄에는 수 주어진다. 이 수는 절댓값이 1,000보다 작거나 같은 정수이다. 수는 중복되지 않는다."
   ]
  },
  {
   "cell_type": "markdown",
   "id": "22cae783",
   "metadata": {},
   "source": [
    "#### 출력\n",
    "- 첫째 줄부터 N개의 줄에 오름차순으로 정렬한 결과를 한 줄에 하나씩 출력한다."
   ]
  },
  {
   "cell_type": "markdown",
   "id": "7d2573dc",
   "metadata": {},
   "source": [
    "#### 예제 입력 1 \n",
    "```python\n",
    "5\n",
    "5\n",
    "2\n",
    "3\n",
    "4\n",
    "1\n",
    "```\n",
    "##### 예제 출력 1 \n",
    "```python\n",
    "1\n",
    "2\n",
    "3\n",
    "4\n",
    "5\n",
    "```"
   ]
  },
  {
   "cell_type": "markdown",
   "id": "8f3a6da1",
   "metadata": {},
   "source": [
    "#### 나의 풀이"
   ]
  },
  {
   "cell_type": "code",
   "execution_count": 3,
   "id": "33b04c88",
   "metadata": {},
   "outputs": [
    {
     "name": "stdout",
     "output_type": "stream",
     "text": [
      "5\n",
      "5\n",
      "2\n",
      "3\n",
      "4\n",
      "1\n",
      "1\n",
      "2\n",
      "3\n",
      "4\n",
      "5\n"
     ]
    }
   ],
   "source": [
    "n = int(input())\n",
    "\n",
    "data = set()\n",
    "for _ in range(n):\n",
    "    data.append(input())\n",
    "    \n",
    "print('\\n'.join(sorted(data)))"
   ]
  },
  {
   "cell_type": "code",
   "execution_count": 31,
   "id": "84e6fcdb",
   "metadata": {
    "scrolled": true
   },
   "outputs": [
    {
     "name": "stdout",
     "output_type": "stream",
     "text": [
      "5\n",
      "5\n",
      "4\n",
      "2\n",
      "3\n",
      "1\n",
      "1\n",
      "2\n",
      "3\n",
      "4\n",
      "5\n"
     ]
    }
   ],
   "source": [
    "def quick_sort(data):\n",
    "    if len(data) <= 1:\n",
    "        return data\n",
    "    else:\n",
    "        pivot = data[0]\n",
    "        left = list()\n",
    "        right = list()\n",
    "        \n",
    "        for index in range(1, len(data)):\n",
    "            if pivot < data[index]:\n",
    "                right.append(data[index])\n",
    "            else:\n",
    "                left.append(data[index])\n",
    "                \n",
    "        return quick_sort(left) + [pivot] + quick_sort(right)\n",
    "    \n",
    "n = int(input())\n",
    "\n",
    "data = list()\n",
    "for _ in range(n):\n",
    "    data.append(input())\n",
    "    \n",
    "data = quick_sort(data)\n",
    "\n",
    "for index in data:\n",
    "    print(index)"
   ]
  },
  {
   "cell_type": "markdown",
   "id": "ebc29f24",
   "metadata": {},
   "source": [
    "#### 풀이"
   ]
  },
  {
   "cell_type": "code",
   "execution_count": 28,
   "id": "9682760e",
   "metadata": {},
   "outputs": [
    {
     "name": "stdout",
     "output_type": "stream",
     "text": [
      "5\n",
      "5\n",
      "3\n",
      "4\n",
      "2\n",
      "1\n",
      "1\n",
      "2\n",
      "3\n",
      "4\n",
      "5\n"
     ]
    }
   ],
   "source": [
    "n = int(input())\n",
    "array = list()\n",
    "\n",
    "for _ in range(n):\n",
    "    array.append(int(input()))\n",
    "    \n",
    "for i in range(n):\n",
    "    min_index = i\n",
    "    for j in range(i + 1, n):\n",
    "        if array[min_index] > array[j]:\n",
    "            min_index = j\n",
    "    array[i], array[min_index] = array[min_index], array[i]\n",
    "    \n",
    "for i in array:\n",
    "    print(i)"
   ]
  },
  {
   "cell_type": "code",
   "execution_count": 29,
   "id": "31752cbb",
   "metadata": {
    "scrolled": true
   },
   "outputs": [
    {
     "name": "stdout",
     "output_type": "stream",
     "text": [
      "5\n",
      "5\n",
      "2\n",
      "4\n",
      "3\n",
      "1\n",
      "1\n",
      "2\n",
      "3\n",
      "4\n",
      "5\n"
     ]
    }
   ],
   "source": [
    "n = int(input())\n",
    "array = list()\n",
    "\n",
    "for _ in range(n):\n",
    "    array.append(int(input()))\n",
    "    \n",
    "array.sort()\n",
    "\n",
    "for i in array:\n",
    "    print(i)"
   ]
  },
  {
   "cell_type": "markdown",
   "id": "384caf2c",
   "metadata": {},
   "source": [
    "### 1427문제\n",
    "- 문제 제목: 소트인사이드\n",
    "- 문제 난이도: 하(Easy)\n",
    "- 문제 유형: 정렬, 배열\n",
    "- 추천 풀이 시간: 25분\n",
    "\n",
    "> https://www.acmicpc.net/problem/1427"
   ]
  },
  {
   "cell_type": "markdown",
   "id": "fd5c4f56",
   "metadata": {},
   "source": [
    "#### 문제\n",
    "- 배열을 정렬하는 것은 쉽다. 수가 주어지면, 그 수의 각 자리수를 내림차순으로 정렬해보자."
   ]
  },
  {
   "cell_type": "markdown",
   "id": "7f11f739",
   "metadata": {},
   "source": [
    "#### 입력\n",
    "- 첫째 줄에 정렬하고자하는 수 N이 주어진다. N은 1,000,000,000보다 작거나 같은 자연수이다."
   ]
  },
  {
   "cell_type": "markdown",
   "id": "2b7df151",
   "metadata": {},
   "source": [
    "#### 출력\n",
    "- 첫째 줄에 자리수를 내림차순으로 정렬한 수를 출력한다."
   ]
  },
  {
   "cell_type": "markdown",
   "id": "b212710b",
   "metadata": {},
   "source": [
    "#### 예제 입력 1 \n",
    "```python\n",
    "2143\n",
    "```\n",
    "#### 예제 출력 1 \n",
    "```python\n",
    "4321\n",
    "```"
   ]
  },
  {
   "cell_type": "markdown",
   "id": "27d5de9b",
   "metadata": {},
   "source": [
    "#### 나의 풀이"
   ]
  },
  {
   "cell_type": "code",
   "execution_count": 45,
   "id": "fa6d1edc",
   "metadata": {},
   "outputs": [
    {
     "name": "stdout",
     "output_type": "stream",
     "text": [
      "2143\n",
      "4321\n"
     ]
    }
   ],
   "source": [
    "n = list(input())\n",
    "\n",
    "n.sort(reverse=True)\n",
    "\n",
    "print(''.join(n))"
   ]
  },
  {
   "cell_type": "markdown",
   "id": "bf52adcd",
   "metadata": {},
   "source": [
    "#### 풀이"
   ]
  },
  {
   "cell_type": "code",
   "execution_count": 46,
   "id": "c3e9e030",
   "metadata": {},
   "outputs": [
    {
     "name": "stdout",
     "output_type": "stream",
     "text": [
      "2143\n",
      "4321"
     ]
    }
   ],
   "source": [
    "array = input()\n",
    "\n",
    "for i in range(9, - 1, - 1):\n",
    "    for j in array:\n",
    "        if int(j) == i:\n",
    "            print(i, end='')"
   ]
  }
 ],
 "metadata": {
  "kernelspec": {
   "display_name": "Python 3",
   "language": "python",
   "name": "python3"
  },
  "language_info": {
   "codemirror_mode": {
    "name": "ipython",
    "version": 3
   },
   "file_extension": ".py",
   "mimetype": "text/x-python",
   "name": "python",
   "nbconvert_exporter": "python",
   "pygments_lexer": "ipython3",
   "version": "3.8.8"
  }
 },
 "nbformat": 4,
 "nbformat_minor": 5
}
