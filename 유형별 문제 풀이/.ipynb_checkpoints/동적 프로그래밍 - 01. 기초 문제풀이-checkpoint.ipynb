{
 "cells": [
  {
   "cell_type": "markdown",
   "id": "5fad6ef7",
   "metadata": {},
   "source": [
    "## 동적 프로그래밍"
   ]
  },
  {
   "cell_type": "markdown",
   "id": "0266f7ad",
   "metadata": {},
   "source": [
    "### 1904문제\n",
    "- 문제 제목: 01타일\n",
    "- 문제 난이도: 하(Easy)\n",
    "- 문제 유형: 동적 프로그래밍\n",
    "- 추천 풀이 시간: 20분\n",
    "\n",
    "> https://www.acmicpc.net/problem/1904\n",
    "\n",
    "#### 문제\n",
    "- 지원이에게 2진 수열을 가르쳐 주기 위해, 지원이 아버지는 그에게 타일들을 선물해주셨다. 그리고 이 각각의 타일들은 0 또는 1이 쓰여 있는 낱장의 타일들이다.\n",
    "\n",
    "- 어느 날 짓궂은 동주가 지원이의 공부를 방해하기 위해 0이 쓰여진 낱장의 타일들을 붙여서 한 쌍으로 이루어진 00 타일들을 만들었다. 결국 현재 1 하나만으로 이루어진 타일 또는 0타일을 두 개 붙인 한 쌍의 00타일들만이 남게 되었다.\n",
    "\n",
    "- 그러므로 지원이는 타일로 더 이상 크기가 N인 모든 2진 수열을 만들 수 없게 되었다. 예를 들어, N=1일 때 1만 만들 수 있고, N=2일 때는 00, 11을 만들 수 있다. (01, 10은 만들 수 없게 되었다.) 또한 N=4일 때는 0011, 0000, 1001, 1100, 1111 등 총 5개의 2진 수열을 만들 수 있다.\n",
    "\n",
    "- 우리의 목표는 N이 주어졌을 때 지원이가 만들 수 있는 모든 가짓수를 세는 것이다. 단 타일들은 무한히 많은 것으로 가정하자.\n",
    "\n",
    "#### 입력\n",
    "- 첫 번째 줄에 자연수 N이 주어진다. (1 ≤ N ≤ 1,000,000)\n",
    "\n",
    "#### 출력\n",
    "- 첫 번째 줄에 지원이가 만들 수 있는 길이가 N인 모든 2진 수열의 개수를 15746으로 나눈 나머지를 출력한다.\n",
    "\n",
    "#### 예제 입력 1 \n",
    "```python\n",
    "4\n",
    "```\n",
    "##### 예제 출력 1 \n",
    "```python\n",
    "5\n",
    "```"
   ]
  },
  {
   "cell_type": "markdown",
   "id": "8dca7d70",
   "metadata": {},
   "source": [
    "#### 풀이 \n",
    "- 사용할 수 있는 타일의 종류는 2개 입니다.\n",
    "- 두 가지 종류의 타일을 이용하여, N 길이의 수열을 만드는 모든 경우의 수를 구해야 합니다.\n",
    "- 가장 전형적인 동적 프로그래밍 문제입니다.\n",
    "- N이 최대 1,000,000이므로 시간 복잡도 $O(N)$으로 해결해야 합니다."
   ]
  },
  {
   "cell_type": "code",
   "execution_count": 1,
   "id": "b4b514b1",
   "metadata": {},
   "outputs": [
    {
     "name": "stdout",
     "output_type": "stream",
     "text": [
      "4\n",
      "5\n"
     ]
    }
   ],
   "source": [
    "n = int(input())\n",
    "\n",
    "dp = [0] * 1000001\n",
    "dp[1] = 1\n",
    "dp[2] = 2\n",
    "\n",
    "for i in range(3, n + 1):\n",
    "    dp[i] = (dp[i - 2] + dp[i - 1]) % 15746\n",
    "    \n",
    "print(dp[n])"
   ]
  },
  {
   "cell_type": "markdown",
   "id": "14faffaa",
   "metadata": {},
   "source": [
    "### 12865문제\n",
    "- 문제 제목: 평범한 배낭\n",
    "- 문제 난이도: 하(Easy)\n",
    "- 문제 유형: 동적 프로그래밍\n",
    "- 추천 풀이 시간: 30분\n",
    "\n",
    "> https://www.acmicpc.net/problem/12865\n",
    "\n",
    "#### 문제\n",
    "- 이 문제는 아주 평범한 배낭에 관한 문제이다.\n",
    "\n",
    "- 한 달 후면 국가의 부름을 받게 되는 준서는 여행을 가려고 한다. 세상과의 단절을 슬퍼하며 최대한 즐기기 위한 여행이기 때문에, 가지고 다닐 배낭 또한 최대한 가치 있게 싸려고 한다.\n",
    "\n",
    "- 준서가 여행에 필요하다고 생각하는 N개의 물건이 있다. 각 물건은 무게 W와 가치 V를 가지는데, 해당 물건을 배낭에 넣어서 가면 준서가 V만큼 즐길 수 있다. 아직 행군을 해본 적이 없는 준서는 최대 K만큼의 무게만을 넣을 수 있는 배낭만 들고 다닐 수 있다. 준서가 최대한 즐거운 여행을 하기 위해 배낭에 넣을 수 있는 물건들의 가치의 최댓값을 알려주자.\n",
    "\n",
    "#### 입력\n",
    "- 첫 줄에 물품의 수 N(1 ≤ N ≤ 100)과 준서가 버틸 수 있는 무게 K(1 ≤ K ≤ 100,000)가 주어진다. 두 번째 줄부터 N개의 줄에 거쳐 각 물건의 무게 W(1 ≤ W ≤ 100,000)와 해당 물건의 가치 V(0 ≤ V ≤ 1,000)가 주어진다.\n",
    "\n",
    "- 입력으로 주어지는 모든 수는 정수이다.\n",
    "\n",
    "#### 출력\n",
    "- 한 줄에 배낭에 넣을 수 있는 물건들의 가치합의 최댓값을 출력한다.\n",
    "\n",
    "#### 예제 입력 1 \n",
    "```python\n",
    "4 7\n",
    "6 13\n",
    "4 8\n",
    "3 6\n",
    "5 12\n",
    "```\n",
    "##### 예제 출력 1 \n",
    "```python\n",
    "14\n",
    "```"
   ]
  },
  {
   "cell_type": "markdown",
   "id": "d7e80f8e",
   "metadata": {},
   "source": [
    "#### 풀이 \n",
    "- 배낭 문제(Knapsack Problem)으로도 알려져 있는, 전형적인 동적 프로그래밍 문제입니다.\n",
    "- 물품의 수가 N, 배낭에 담을 수 있는 무게가 K입니다.\n",
    "- 동적 프로그래밍을 이용하여 시간 복잡도 $O(NK)$로 문제를 해결할 수 있습니다."
   ]
  },
  {
   "cell_type": "code",
   "execution_count": 3,
   "id": "1aa247d9",
   "metadata": {},
   "outputs": [
    {
     "name": "stdout",
     "output_type": "stream",
     "text": [
      "4 7\n",
      "6 13\n",
      "4 8\n",
      "3 6\n",
      "5 12\n",
      "14\n"
     ]
    }
   ],
   "source": [
    "n, k = map(int, input().split())\n",
    "dp = [[0] * (k + 1) for _ in range(n + 1)]\n",
    "\n",
    "for i in range(1, n + 1):\n",
    "    weight, value = map(int, input().split())\n",
    "    for j in range(1, k + 1):\n",
    "        if j < weight:\n",
    "            dp[i][j] = dp[i - 1][j]\n",
    "        else:\n",
    "            dp[i][j] = max(dp[i - 1][j], dp[i - 1][j - weight] + value)\n",
    "            \n",
    "print(dp[n][k])"
   ]
  },
  {
   "cell_type": "markdown",
   "id": "22cb8bec",
   "metadata": {},
   "source": [
    "### 11053문제\n",
    "- 문제 제목: 가장 긴 증가하는 부분 수열 \n",
    "- 문제 난이도: 하(Easy)\n",
    "- 문제 유형: 동적 프로그래밍, LIS\n",
    "- 추천 풀이 시간: 30분\n",
    "\n",
    "> https://www.acmicpc.net/problem/11053\n",
    "\n",
    "#### 문제\n",
    "- 수열 A가 주어졌을 때, 가장 긴 증가하는 부분 수열을 구하는 프로그램을 작성하시오.\n",
    "\n",
    "- 예를 들어, 수열 A = {10, 20, 10, 30, 20, 50} 인 경우에 가장 긴 증가하는 부분 수열은 A = {10, 20, 10, 30, 20, 50} 이고, 길이는 4이다.\n",
    "\n",
    "#### 입력\n",
    "- 첫째 줄에 수열 A의 크기 N (1 ≤ N ≤ 1,000)이 주어진다.\n",
    "\n",
    "- 둘째 줄에는 수열 A를 이루고 있는 Ai가 주어진다. (1 ≤ Ai ≤ 1,000)\n",
    "\n",
    "#### 출력\n",
    "- 첫째 줄에 수열 A의 가장 긴 증가하는 부분 수열의 길이를 출력한다.\n",
    "\n",
    "#### 예제 입력 1 \n",
    "```python\n",
    "6\n",
    "10 20 10 30 20 50\n",
    "```\n",
    "##### 예제 출력 1 \n",
    "```python\n",
    "4\n",
    "```"
   ]
  },
  {
   "cell_type": "markdown",
   "id": "8de1c13e",
   "metadata": {},
   "source": [
    "#### 풀이 \n",
    "- 가장 긴 증가하는 부분 수열(LIS)문제는, 전형적인 동적 프로그래밍 문제입니다.\n",
    "- 수열의 크기가 N일때, 기본적인 동적 프로그래밍 알고리즘으로 $O(N^2)$로 해결할 수 있습니다."
   ]
  },
  {
   "cell_type": "code",
   "execution_count": 6,
   "id": "d269ed3c",
   "metadata": {},
   "outputs": [
    {
     "name": "stdout",
     "output_type": "stream",
     "text": [
      "6\n",
      "10 20 10 30 20 50\n",
      "4\n"
     ]
    }
   ],
   "source": [
    "n = int(input())\n",
    "array = list(map(int, input().split()))\n",
    "dp = [1] * n\n",
    "\n",
    "for i in range(1, n):\n",
    "    for j in range(0, i):\n",
    "        if array[j] < array[i]:\n",
    "            dp[i] = max(dp[i], dp[j] + 1)\n",
    "            \n",
    "print(max(dp))"
   ]
  }
 ],
 "metadata": {
  "kernelspec": {
   "display_name": "Python 3",
   "language": "python",
   "name": "python3"
  },
  "language_info": {
   "codemirror_mode": {
    "name": "ipython",
    "version": 3
   },
   "file_extension": ".py",
   "mimetype": "text/x-python",
   "name": "python",
   "nbconvert_exporter": "python",
   "pygments_lexer": "ipython3",
   "version": "3.8.8"
  }
 },
 "nbformat": 4,
 "nbformat_minor": 5
}
