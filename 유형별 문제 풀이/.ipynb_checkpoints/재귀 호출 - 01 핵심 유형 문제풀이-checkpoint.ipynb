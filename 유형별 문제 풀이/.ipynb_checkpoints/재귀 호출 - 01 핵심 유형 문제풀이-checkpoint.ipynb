{
 "cells": [
  {
   "cell_type": "markdown",
   "id": "a14b49fd",
   "metadata": {},
   "source": [
    "## 재귀 호출"
   ]
  },
  {
   "cell_type": "markdown",
   "id": "cfc7bdd7",
   "metadata": {},
   "source": [
    "### 2747문제\n",
    "- 문제 제목: 피보나치 수\n",
    "- 문제 난이도: 하(Easy)\n",
    "- 문제 유형: 재귀 함수\n",
    "- 추천 풀이 시간: 15분\n",
    "\n",
    "> https://www.acmicpc.net/problem/2747"
   ]
  },
  {
   "cell_type": "markdown",
   "id": "421e5dba",
   "metadata": {},
   "source": [
    "#### 문제\n",
    "- 피보나치 수는 0과 1로 시작한다. 0번째 피보나치 수는 0이고, 1번째 피보나치 수는 1이다. 그 다음 2번째 부터는 바로 앞 두 피보나치 수의 합이 된다.\n",
    "- 이를 식으로 써보면 Fn = Fn-1 + Fn-2 (n ≥ 2)가 된다.\n",
    "- n=17일때 까지 피보나치 수를 써보면 다음과 같다.\n",
    "- 0, 1, 1, 2, 3, 5, 8, 13, 21, 34, 55, 89, 144, 233, 377, 610, 987, 1597\n",
    "- n이 주어졌을 때, n번째 피보나치 수를 구하는 프로그램을 작성하시오."
   ]
  },
  {
   "cell_type": "markdown",
   "id": "e05656bf",
   "metadata": {},
   "source": [
    "#### 입력\n",
    "- 첫째 줄에 n이 주어진다. n은 45보다 작거나 같은 자연수이다."
   ]
  },
  {
   "cell_type": "markdown",
   "id": "f700eeda",
   "metadata": {},
   "source": [
    "#### 출력\n",
    "- 첫째 줄에 n번째 피보나치 수를 출력한다."
   ]
  },
  {
   "cell_type": "markdown",
   "id": "b67c3485",
   "metadata": {},
   "source": [
    "#### 예제 입력 1 \n",
    "```python\n",
    "10\n",
    "```\n",
    "##### 예제 출력 1 \n",
    "```python\n",
    "55\n",
    "```"
   ]
  },
  {
   "cell_type": "markdown",
   "id": "2d7066ff",
   "metadata": {},
   "source": [
    "#### 나의 풀이"
   ]
  },
  {
   "cell_type": "code",
   "execution_count": 12,
   "id": "8793e2b6",
   "metadata": {},
   "outputs": [
    {
     "name": "stdout",
     "output_type": "stream",
     "text": [
      "10\n",
      "55\n"
     ]
    }
   ],
   "source": [
    "def fibonacci(num):\n",
    "    if num <= 0:\n",
    "        return 0\n",
    "    elif num == 1:\n",
    "        return 1\n",
    "    else:\n",
    "        return fibonacci(num - 1) + fibonacci(num - 2)\n",
    "    \n",
    "n = int(input())\n",
    "print(fibonacci(n))"
   ]
  },
  {
   "cell_type": "code",
   "execution_count": 18,
   "id": "6425ffc2",
   "metadata": {},
   "outputs": [
    {
     "name": "stdout",
     "output_type": "stream",
     "text": [
      "10\n",
      "55\n"
     ]
    }
   ],
   "source": [
    "def fibonacci(num):\n",
    "    result = [0, 1]\n",
    "    for i in range(2, num + 1):\n",
    "        result.append(result[i - 1] + result[i - 2])\n",
    "    return result\n",
    "    \n",
    "n = int(input())\n",
    "result = fibonacci(n)\n",
    "print(result[n])"
   ]
  },
  {
   "cell_type": "markdown",
   "id": "c5600acc",
   "metadata": {},
   "source": [
    "#### 풀이"
   ]
  },
  {
   "cell_type": "code",
   "execution_count": null,
   "id": "07048286",
   "metadata": {},
   "outputs": [],
   "source": [
    "def fibonacci(n):\n",
    "    if n == 0:\n",
    "        return 0\n",
    "    if n == 1:\n",
    "        return 1\n",
    "    return fibonacci(n - 1) + fibonacci(n - 2)\n",
    "\n",
    "print(fibonacci(int(input())))"
   ]
  },
  {
   "cell_type": "code",
   "execution_count": 19,
   "id": "19471ca2",
   "metadata": {},
   "outputs": [
    {
     "name": "stdout",
     "output_type": "stream",
     "text": [
      "10\n",
      "55\n"
     ]
    }
   ],
   "source": [
    "n = int(input())\n",
    "\n",
    "a, b = 0, 1\n",
    "\n",
    "while n > 0:\n",
    "    a, b = b, a + b\n",
    "    n -= 1\n",
    "    \n",
    "print(a)"
   ]
  },
  {
   "cell_type": "markdown",
   "id": "36b262a1",
   "metadata": {},
   "source": [
    "### 1074문제\n",
    "- 문제 제목: Z\n",
    "- 문제 난이도: 중(Medium)\n",
    "- 문제 유형: 재귀 함수\n",
    "- 추천 풀이 시간: 40분\n",
    "\n",
    "> https://www.acmicpc.net/problem/1074"
   ]
  },
  {
   "cell_type": "markdown",
   "id": "ec9b8eeb",
   "metadata": {},
   "source": [
    "#### 문제\n",
    "- 한수는 크기가 $ 2^N × 2^N $인 2차원 배열을 Z모양으로 탐색하려고 한다. 예를 들어, 2×2배열을 왼쪽 위칸, 오른쪽 위칸, 왼쪽 아래칸, 오른쪽 아래칸 순서대로 방문하면 Z모양이다.\n",
    "<img src=\"https://upload.acmicpc.net/21c73b56-5a91-43aa-b71f-9b74925c0adc/-/preview/\" height=\"100px\" width=\"100px\" />\n",
    "- N > 1인 경우, 배열을 크기가 $ 2^{N-1} × 2^{N-1} $로 4등분 한 후에 재귀적으로 순서대로 방문한다.\n",
    "- 다음 예는 $ 2^2 × 2^2 $ 크기의 배열을 방문한 순서이다.\n",
    "<img src=\"https://upload.acmicpc.net/adc7cfae-e84d-4d5c-af8e-ee011f8fff8f/-/preview/\" height=\"200px\" width=\"200px\" />\n",
    "- N이 주어졌을 때, r행 c열을 몇 번째로 방문하는지 출력하는 프로그램을 작성하시오.\n",
    "- 다음은 N=3일 때의 예이다.\n",
    "<img src=\"https://upload.acmicpc.net/d3e84bb7-9424-4764-ad3a-811e7fcbd53f/-/preview/\" height=\"400px\" width=\"400px\" />"
   ]
  },
  {
   "cell_type": "markdown",
   "id": "f7f75f2e",
   "metadata": {},
   "source": [
    "#### 입력\n",
    "- 첫째 줄에 정수 N, r, c가 주어진다."
   ]
  },
  {
   "cell_type": "markdown",
   "id": "e5ebc347",
   "metadata": {},
   "source": [
    "#### 출력\n",
    "- r행 c열을 몇 번째로 방문했는지 출력한다."
   ]
  },
  {
   "cell_type": "markdown",
   "id": "9c89b5ad",
   "metadata": {},
   "source": [
    "#### 제한\n",
    "- 1 ≤ N ≤ 15\n",
    "- 0 ≤ r, c < 2N"
   ]
  },
  {
   "cell_type": "markdown",
   "id": "792e5af6",
   "metadata": {},
   "source": [
    "#### 예제 입력 1 \n",
    "```python2 3 1\n",
    "2 3 1\n",
    "```\n",
    "##### 예제 출력 1 \n",
    "```python\n",
    "11\n",
    "```"
   ]
  },
  {
   "cell_type": "markdown",
   "id": "5bbbf2a0",
   "metadata": {},
   "source": [
    "#### 예제 입력 2\n",
    "```python\n",
    "3 7 7\n",
    "```\n",
    "##### 예제 출력 2\n",
    "```python\n",
    "63\n",
    "```"
   ]
  },
  {
   "cell_type": "markdown",
   "id": "6e28ac4f",
   "metadata": {},
   "source": [
    "#### BAEK JOON 실제 답 (아래는 시간초과가 뜸)"
   ]
  },
  {
   "cell_type": "code",
   "execution_count": 55,
   "id": "81ab07c5",
   "metadata": {},
   "outputs": [
    {
     "ename": "ValueError",
     "evalue": "not enough values to unpack (expected 3, got 0)",
     "output_type": "error",
     "traceback": [
      "\u001b[1;31m---------------------------------------------------------------------------\u001b[0m",
      "\u001b[1;31mValueError\u001b[0m                                Traceback (most recent call last)",
      "\u001b[1;32m<ipython-input-55-a06ec101ef38>\u001b[0m in \u001b[0;36m<module>\u001b[1;34m\u001b[0m\n\u001b[0;32m     33\u001b[0m \u001b[1;32mif\u001b[0m \u001b[0m__name__\u001b[0m \u001b[1;33m==\u001b[0m \u001b[1;34m\"__main__\"\u001b[0m\u001b[1;33m:\u001b[0m\u001b[1;33m\u001b[0m\u001b[1;33m\u001b[0m\u001b[0m\n\u001b[0;32m     34\u001b[0m     \u001b[0mresult\u001b[0m \u001b[1;33m=\u001b[0m \u001b[1;36m0\u001b[0m\u001b[1;33m\u001b[0m\u001b[1;33m\u001b[0m\u001b[0m\n\u001b[1;32m---> 35\u001b[1;33m     \u001b[0mN\u001b[0m\u001b[1;33m,\u001b[0m \u001b[0mX\u001b[0m\u001b[1;33m,\u001b[0m \u001b[0mY\u001b[0m \u001b[1;33m=\u001b[0m \u001b[0mmap\u001b[0m\u001b[1;33m(\u001b[0m\u001b[0mint\u001b[0m\u001b[1;33m,\u001b[0m \u001b[0msys\u001b[0m\u001b[1;33m.\u001b[0m\u001b[0mstdin\u001b[0m\u001b[1;33m.\u001b[0m\u001b[0mreadline\u001b[0m\u001b[1;33m(\u001b[0m\u001b[1;33m)\u001b[0m\u001b[1;33m.\u001b[0m\u001b[0msplit\u001b[0m\u001b[1;33m(\u001b[0m\u001b[1;33m)\u001b[0m\u001b[1;33m)\u001b[0m\u001b[1;33m\u001b[0m\u001b[1;33m\u001b[0m\u001b[0m\n\u001b[0m\u001b[0;32m     36\u001b[0m     \u001b[0msolve\u001b[0m\u001b[1;33m(\u001b[0m\u001b[1;36m2\u001b[0m \u001b[1;33m**\u001b[0m \u001b[0mN\u001b[0m\u001b[1;33m,\u001b[0m \u001b[1;36m0\u001b[0m\u001b[1;33m,\u001b[0m \u001b[1;36m0\u001b[0m\u001b[1;33m)\u001b[0m\u001b[1;33m\u001b[0m\u001b[1;33m\u001b[0m\u001b[0m\n",
      "\u001b[1;31mValueError\u001b[0m: not enough values to unpack (expected 3, got 0)"
     ]
    }
   ],
   "source": [
    "import sys\n",
    "\n",
    "def solve(n, x, y):\n",
    "    global result\n",
    "    if n == 2:\n",
    "        if x == X and y == Y:\n",
    "            print(result)\n",
    "            sys.exit(0)\n",
    "        if x == X and y + 1 == Y:\n",
    "            print(result + 1)\n",
    "            sys.exit(0)\n",
    "        if x + 1== X and y == Y:\n",
    "            print(result + 2)\n",
    "            sys.exit(0)\n",
    "        if x + 1== X and y + 1 == Y:\n",
    "            print(result + 3)\n",
    "            sys.exit(0)\n",
    "        result += 4\n",
    "    else:\n",
    "        if X < x + n // 2 and Y < y + n // 2:\n",
    "            solve(n // 2, x, y)\n",
    "        result += (n // 2) ** 2\n",
    "        if X < x + n // 2 and Y < y + n // 2 * 2:\n",
    "            solve(n // 2, x, y + n / 2)\n",
    "        result += (n // 2) ** 2\n",
    "        if X < x + n // 2 * 2 and Y < y + n // 2:\n",
    "            solve(n // 2, x + n / 2, y)\n",
    "        result += (n // 2) ** 2\n",
    "        if X < x + n // 2 * 2 and Y < y + n // 2 * 2:\n",
    "            solve(n // 2, x + n // 2, y + n // 2)\n",
    "        result += (n // 2) ** 2\n",
    "    \n",
    "if __name__ == \"__main__\":\n",
    "    result = 0\n",
    "    N, X, Y = map(int, sys.stdin.readline().split())\n",
    "    solve(2 ** N, 0, 0)"
   ]
  },
  {
   "cell_type": "markdown",
   "id": "3261f3e0",
   "metadata": {},
   "source": [
    "#### 풀이"
   ]
  },
  {
   "cell_type": "code",
   "execution_count": 26,
   "id": "b21b72c7",
   "metadata": {},
   "outputs": [],
   "source": [
    "def solve(n, x, y):\n",
    "    global result\n",
    "    \n",
    "    if n == 2:\n",
    "        if x == X and y == Y:\n",
    "            print(result)\n",
    "            return\n",
    "        result += 1\n",
    "        if x == X and y + 1 == Y:\n",
    "            print(result)\n",
    "            return\n",
    "        result += 1\n",
    "        if x + 1== X and y == Y:\n",
    "            print(result)\n",
    "            return\n",
    "        result += 1\n",
    "        if x + 1== X and y + 1 == Y:\n",
    "            print(result)\n",
    "            return\n",
    "        result += 1\n",
    "        return\n",
    "    solve(n / 2, x, y)\n",
    "    solve(n / 2, x, y + n / 2)\n",
    "    solve(n / 2, x + n / 2, y)\n",
    "    solve(n / 2, x + n / 2, y + n / 2)"
   ]
  },
  {
   "cell_type": "code",
   "execution_count": 29,
   "id": "90e6220f",
   "metadata": {},
   "outputs": [
    {
     "name": "stdout",
     "output_type": "stream",
     "text": [
      "3 7 7\n",
      "63\n"
     ]
    }
   ],
   "source": [
    "result = 0\n",
    "N, X, Y = map(int, input().split(' '))\n",
    "solve(2 ** N, 0, 0)"
   ]
  },
  {
   "cell_type": "markdown",
   "id": "2093bd2a",
   "metadata": {},
   "source": [
    "### 7490문제\n",
    "- 문제 제목: 0 만들기\n",
    "- 문제 난이도: 중(Medium)\n",
    "- 문제 유형: 재귀 함수\n",
    "- 추천 풀이 시간: 40분\n",
    "\n",
    "> https://www.acmicpc.net/problem/7490"
   ]
  },
  {
   "cell_type": "markdown",
   "id": "82930893",
   "metadata": {},
   "source": [
    "#### 문제\n",
    "- 1부터 N까지의 수를 오름차순으로 쓴 수열 1 2 3 ... N을 생각하자.\n",
    "- 그리고 '+'나 '-', 또는 ' '(공백)을 숫자 사이에 삽입하자(+는 더하기, -는 빼기, 공백은 숫자를 이어 붙이는 것을 뜻한다). 이렇게 만든 수식의 값을 계산하고 그 결과가 0이 될 수 있는지를 살피자.\n",
    "- N이 주어졌을 때 수식의 결과가 0이 되는 모든 수식을 찾는 프로그램을 작성하라."
   ]
  },
  {
   "cell_type": "markdown",
   "id": "6d6923df",
   "metadata": {},
   "source": [
    "#### 입력\n",
    "- 첫 번째 줄에 테스트 케이스의 개수가 주어진다(<10).\n",
    "- 각 테스트 케이스엔 자연수 N이 주어진다(3 <= N <= 9)."
   ]
  },
  {
   "cell_type": "markdown",
   "id": "f436d828",
   "metadata": {},
   "source": [
    "#### 출력\n",
    "- 각 테스트 케이스에 대해 ASCII 순서에 따라 결과가 0이 되는 모든 수식을 출력한다. 각 테스트 케이스의 결과는 한 줄을 띄워 구분한다."
   ]
  },
  {
   "cell_type": "markdown",
   "id": "ed67a418",
   "metadata": {},
   "source": [
    "#### 예제 입력 1 \n",
    "```python\n",
    "2\n",
    "3\n",
    "7\n",
    "```\n",
    "##### 예제 출력 1 \n",
    "```python\n",
    "1+2-3\n",
    "\n",
    "1+2-3+4-5-6+7\n",
    "1+2-3-4+5+6-7\n",
    "1-2 3+4+5+6+7\n",
    "1-2 3-4 5+6 7\n",
    "1-2+3+4-5+6-7\n",
    "1-2-3-4-5+6+7\n",
    "```"
   ]
  },
  {
   "cell_type": "markdown",
   "id": "bab65fa4",
   "metadata": {},
   "source": [
    "#### 풀이"
   ]
  },
  {
   "cell_type": "code",
   "execution_count": 60,
   "id": "33cc4848",
   "metadata": {},
   "outputs": [],
   "source": [
    "import copy\n",
    "\n",
    "def recursive(array, n):\n",
    "    if len(array) == n:\n",
    "        operators_list.append(copy.deepcopy(array))\n",
    "        return\n",
    "    array.append(' ')\n",
    "    recursive(array, n)\n",
    "    array.pop()\n",
    "    \n",
    "    array.append('+')\n",
    "    recursive(array, n)\n",
    "    array.pop()\n",
    "    \n",
    "    array.append('-')\n",
    "    recursive(array, n)\n",
    "    array.pop()"
   ]
  },
  {
   "cell_type": "code",
   "execution_count": 66,
   "id": "2a5d76b3",
   "metadata": {},
   "outputs": [
    {
     "name": "stdout",
     "output_type": "stream",
     "text": [
      "2\n",
      "3\n",
      "1+2-3\n",
      "\n",
      "7\n",
      "1+2-3+4-5-6+7\n",
      "1+2-3-4+5+6-7\n",
      "1-2 3+4+5+6+7\n",
      "1-2 3-4 5+6 7\n",
      "1-2+3+4-5+6-7\n",
      "1-2-3-4-5+6+7\n",
      "\n"
     ]
    }
   ],
   "source": [
    "test_case = int(input())\n",
    "\n",
    "for _ in range(test_case):\n",
    "    n = int(input())\n",
    "    operators_list = []\n",
    "    recursive([], n - 1)\n",
    "\n",
    "    integers = [i for i in range(1, n + 1)]\n",
    "    \n",
    "    for operators in operators_list:\n",
    "        string = \"\"\n",
    "        for i in range(n - 1):\n",
    "            string += str(integers[i]) + operators[i]\n",
    "        string += str(integers[-1])\n",
    "\n",
    "        if eval(string.replace(\" \",\"\")) == 0:\n",
    "            print(string)\n",
    "\n",
    "    print()"
   ]
  }
 ],
 "metadata": {
  "kernelspec": {
   "display_name": "Python 3",
   "language": "python",
   "name": "python3"
  },
  "language_info": {
   "codemirror_mode": {
    "name": "ipython",
    "version": 3
   },
   "file_extension": ".py",
   "mimetype": "text/x-python",
   "name": "python",
   "nbconvert_exporter": "python",
   "pygments_lexer": "ipython3",
   "version": "3.8.8"
  }
 },
 "nbformat": 4,
 "nbformat_minor": 5
}
