{
 "cells": [
  {
   "cell_type": "markdown",
   "id": "3474063a",
   "metadata": {},
   "source": [
    "## 탐욕 알고리즘"
   ]
  },
  {
   "cell_type": "markdown",
   "id": "72eb032f",
   "metadata": {},
   "source": [
    "### 5585문제\n",
    "- 문제 제목: 거스름돈\n",
    "- 문제 난이도: 하(Easy)\n",
    "- 문제 유형: 그리디\n",
    "- 추천 풀이 시간: 10분\n",
    "\n",
    "> https://www.acmicpc.net/problem/5585\n",
    "\n",
    "#### 문제\n",
    "- 타로는 자주 JOI잡화점에서 물건을 산다. JOI잡화점에는 잔돈으로 500엔, 100엔, 50엔, 10엔, 5엔, 1엔이 충분히 있고, 언제나 거스름돈 개수가 가장 적게 잔돈을 준다. 타로가 JOI잡화점에서 물건을 사고 카운터에서 1000엔 지폐를 한장 냈을 때, 받을 잔돈에 포함된 잔돈의 개수를 구하는 프로그램을 작성하시오.\n",
    "\n",
    "#### 입력\n",
    "- 입력은 한줄로 이루어져있고, 타로가 지불할 돈(1 이상 1000미만의 정수) 1개가 쓰여져있다.\n",
    "\n",
    "#### 출력\n",
    "- 제출할 출력 파일은 1행으로만 되어 있다. 잔돈에 포함된 매수를 출력하시오.\n",
    "\n",
    "#### 예제 입력 1 \n",
    "```python\n",
    "380\n",
    "```\n",
    "##### 예제 출력 1 \n",
    "```python\n",
    "4\n",
    "```\n",
    "#### 예제 입력 2\n",
    "```python\n",
    "1\n",
    "```\n",
    "##### 예제 출력 2\n",
    "```python\n",
    "15\n",
    "```"
   ]
  },
  {
   "cell_type": "markdown",
   "id": "fa95faa5",
   "metadata": {},
   "source": [
    "##### 풀이\n",
    "- 거스름돈의 최소 개수를 계산해야 합니다.\n",
    "- 가장 기초적인 탐욕 알고리즘 문제의 유형입니다.\n",
    "- 단순히 '큰 화폐 단위' 순서대로 잔돈을 거슬러 주면 최적의 해를 얻을 수 있습니다."
   ]
  },
  {
   "cell_type": "code",
   "execution_count": 5,
   "id": "ffa0a081",
   "metadata": {},
   "outputs": [
    {
     "name": "stdout",
     "output_type": "stream",
     "text": [
      "1\n",
      "15\n"
     ]
    }
   ],
   "source": [
    "changes = 1000 - int(input())\n",
    "count = 0\n",
    "\n",
    "for i in [500, 100, 50, 10, 5, 1]:\n",
    "    count += changes // i\n",
    "    changes %= i\n",
    "    \n",
    "print(count)"
   ]
  },
  {
   "cell_type": "markdown",
   "id": "d2f77b55",
   "metadata": {},
   "source": [
    "### 1439문제\n",
    "- 문제 제목: 뒤집기\n",
    "- 문제 난이도: 하(Easy)\n",
    "- 문제 유형: 그리디\n",
    "- 추천 풀이 시간: 20분\n",
    "\n",
    "> https://www.acmicpc.net/problem/1439\n",
    "\n",
    "#### 문제\n",
    "- 다솜이는 0과 1로만 이루어진 문자열 S를 가지고 있다. 다솜이는 이 문자열 S에 있는 모든 숫자를 전부 같게 만들려고 한다. 다솜이가 할 수 있는 행동은 S에서 연속된 하나 이상의 숫자를 잡고 모두 뒤집는 것이다. 뒤집는 것은 1을 0으로, 0을 1로 바꾸는 것을 의미한다.\n",
    "\n",
    "- 예를 들어 S=0001100 일 때,\n",
    "  1. 전체를 뒤집으면 1110011이 된다.\n",
    "  2. 4번째 문자부터 5번째 문자까지 뒤집으면 1111111이 되어서 2번 만에 모두 같은 숫자로 만들 수 있다.\n",
    "  \n",
    "- 하지만, 처음부터 4번째 문자부터 5번째 문자까지 문자를 뒤집으면 한 번에 0000000이 되어서 1번 만에 모두 같은 숫자로 만들 수 있다.\n",
    "\n",
    "- 문자열 S가 주어졌을 때, 다솜이가 해야하는 행동의 최소 횟수를 출력하시오.\n",
    "\n",
    "#### 입력\n",
    "- 첫째 줄에 문자열 S가 주어진다. S의 길이는 100만보다 작다.\n",
    "\n",
    "#### 출력\n",
    "- 첫째 줄에 다솜이가 해야하는 행동의 최소 횟수를 출력한다.\n",
    "\n",
    "#### 예제 입력 1 \n",
    "```python\n",
    "0001100\n",
    "```\n",
    "##### 예제 출력 1 \n",
    "```python\n",
    "1\n",
    "```"
   ]
  },
  {
   "cell_type": "markdown",
   "id": "690dd2f2",
   "metadata": {},
   "source": [
    "##### 풀이\n",
    "- 문자열에 있는 숫자를 모두 0 혹은 모두 1로 만들어야 합니다.\n",
    "- 다음의 두 가지 경우를 모두 계산하면 됩니다.\n",
    "- 문자열 S의 길이는 100만 이하이므로, 시간 복잡도는 $O(N)$에 해결해야 합니다."
   ]
  },
  {
   "cell_type": "code",
   "execution_count": 15,
   "id": "3385338f",
   "metadata": {
    "scrolled": false
   },
   "outputs": [
    {
     "name": "stdout",
     "output_type": "stream",
     "text": [
      "11010110001\n",
      "3\n"
     ]
    }
   ],
   "source": [
    "data = input()\n",
    "count0 = 0\n",
    "count1 = 0\n",
    "\n",
    "if data[0] == '1':\n",
    "    count0 += 1\n",
    "else:\n",
    "    count1 += 1\n",
    "    \n",
    "for i in range(len(data) - 1):\n",
    "    if data[i] != data[i + 1]:\n",
    "        if data[i + 1] == '1':\n",
    "            count0 += 1\n",
    "        else:\n",
    "            count1 += 1\n",
    "            \n",
    "print(min(count0, count1))"
   ]
  },
  {
   "cell_type": "markdown",
   "id": "bdc38885",
   "metadata": {},
   "source": [
    "### 2012문제\n",
    "- 문제 제목: 등수 매기기\n",
    "- 문제 난이도: 하(Easy)\n",
    "- 문제 유형: 그리디\n",
    "- 추천 풀이 시간: 20분\n",
    "\n",
    "> https://www.acmicpc.net/problem/2012\n",
    "\n",
    "#### 문제\n",
    "- 2007년 KOI에 N명의 학생들이 참가하였다. 경시일 전날인 예비소집일에, 모든 학생들은 자신이 N명 중에서 몇 등을 할 것인지 예상 등수를 적어서 제출하도록 하였다.\n",
    "\n",
    "- KOI 담당조교로 참가한 김진영 조교는 실수로 모든 학생의 프로그램을 날려 버렸다. 1등부터 N등까지 동석차 없이 등수를 매겨야 하는 김 조교는, 어쩔 수 없이 각 사람이 제출한 예상 등수를 바탕으로 임의로 등수를 매기기로 했다.\n",
    "\n",
    "- 자신의 등수를 A등으로 예상하였는데 실제 등수가 B등이 될 경우, 이 사람의 불만도는 A와 B의 차이 (|A - B|)로 수치화할 수 있다. 당신은 N명의 사람들의 불만도의 총 합을 최소로 하면서, 학생들의 등수를 매기려고 한다.\n",
    "\n",
    "- 각 사람의 예상 등수가 주어졌을 때, 김 조교를 도와 이러한 불만도의 합을 최소로 하는 프로그램을 작성하시오.\n",
    "\n",
    "#### 입력\n",
    "- 첫째 줄에 자연수 N이 주어진다. (1 ≤ N ≤ 500,000) 둘째 줄부터 N개의 줄에 걸쳐 각 사람의 예상 등수가 순서대로 주어진다. 예상 등수는 500,000 이하의 자연수이다.\n",
    "\n",
    "#### 출력\n",
    "- 첫째 줄에 불만도의 합을 최소로 할 때, 그 불만도를 출력한다.\n",
    "\n",
    "#### 예제 입력 1 \n",
    "```python\n",
    "5\n",
    "1\n",
    "5\n",
    "3\n",
    "1\n",
    "2\n",
    "```\n",
    "##### 예제 출력 1 \n",
    "```python\n",
    "3\n",
    "```"
   ]
  },
  {
   "cell_type": "markdown",
   "id": "1feaaa34",
   "metadata": {},
   "source": [
    "##### 풀이\n",
    "- 예상된 등수와 실제 등수의 차이를 최소화해야 합니다.\n",
    "- 이를 위해서, 예상된 등수를 오름차순으로 정렬하면 됩니다."
   ]
  },
  {
   "cell_type": "code",
   "execution_count": 17,
   "id": "60f4fa6f",
   "metadata": {},
   "outputs": [
    {
     "name": "stdout",
     "output_type": "stream",
     "text": [
      "5\n",
      "1\n",
      "5\n",
      "3\n",
      "1\n",
      "2\n",
      "3\n"
     ]
    }
   ],
   "source": [
    "n = int(input())\n",
    "array = []\n",
    "\n",
    "for _ in range(n):\n",
    "    array.append(int(input()))\n",
    "    \n",
    "array.sort()\n",
    "\n",
    "result = 0\n",
    "for i in range(1, len(array) + 1):\n",
    "    result += abs(i - array[i - 1])\n",
    "    \n",
    "print(result)"
   ]
  },
  {
   "cell_type": "markdown",
   "id": "1fd3de1e",
   "metadata": {},
   "source": [
    "### 1092문제\n",
    "- 문제 제목: 배\n",
    "- 문제 난이도: 중(Medium)\n",
    "- 문제 유형: 그리디\n",
    "- 추천 풀이 시간: 35분\n",
    "\n",
    "> https://www.acmicpc.net/problem/1092\n",
    "\n",
    "#### 문제\n",
    "- 지민이는 항구에서 일한다. 그리고 화물을 배에 실어야 한다. 모든 화물은 박스에 안에 넣어져 있다. 항구에는 크레인이 N대 있고, 1분에 박스를 하나씩 배에 실을 수 있다. 모든 크레인은 동시에 움직인다.\n",
    "\n",
    "- 각 크레인은 무게 제한이 있다. 이 무게 제한보다 무거운 박스는 크레인으로 움직일 수 없다. 모든 박스를 배로 옮기는데 드는 시간의 최솟값을 구하는 프로그램을 작성하시오.\n",
    "\n",
    "#### 입력\n",
    "- 첫째 줄에 N이 주어진다. N은 50보다 작거나 같은 자연수이다. 둘째 줄에는 각 크레인의 무게 제한이 주어진다. 이 값은 1,000,000보다 작거나 같다. 셋째 줄에는 박스의 수 M이 주어진다. M은 10,000보다 작거나 같은 자연수이다. 넷째 줄에는 각 박스의 무게가 주어진다. 이 값도 1,000,000보다 작거나 같은 자연수이다.\n",
    "\n",
    "#### 출력\n",
    "- 첫째 줄에 모든 박스를 배로 옮기는데 드는 시간의 최솟값을 출력한다. 만약 모든 박스를 배로 옮길 수 없으면 -1을 출력한다.\n",
    "\n",
    "#### 예제 입력 1 \n",
    "```python\n",
    "3\n",
    "6 8 9\n",
    "5\n",
    "2 5 2 4 7\n",
    "```\n",
    "##### 예제 출력 1 \n",
    "```python\n",
    "2\n",
    "```"
   ]
  },
  {
   "cell_type": "markdown",
   "id": "3c1c7f54",
   "metadata": {},
   "source": [
    "##### 풀이\n",
    "- 모든 박스를 배로 옮기는데 드는 시간의 최소값을 계산해야 합니다.\n",
    "- 매 분마다, 모든 크레인에 대하여 옮길 수 있는 박스를 선택하여 옮기도록 합니다.\n",
    "- 박스를 무게 기준으로 내림차순 정렬한 뒤에, 무거운 것부터 옮기도록 하면 됩니다.\n",
    "- 시간 복잡도 $O(NM)$에 문제를 해결할 수 있습니다."
   ]
  },
  {
   "cell_type": "code",
   "execution_count": 18,
   "id": "ed076970",
   "metadata": {},
   "outputs": [
    {
     "name": "stdout",
     "output_type": "stream",
     "text": [
      "3\n",
      "6 8 9\n",
      "5\n",
      "2 5 2 4 7\n",
      "2\n"
     ]
    }
   ],
   "source": [
    "import sys\n",
    "\n",
    "n = int(input())\n",
    "cranes = list(map(int, input().split()))\n",
    "    \n",
    "m = int(input())\n",
    "boxes = list(map(int, input().split()))\n",
    "\n",
    "\n",
    "if max(cranes) < max(boxes):\n",
    "    print(-1)\n",
    "    sys.exit()\n",
    "    \n",
    "positions = [0] * n\n",
    "checked = [False] * m\n",
    "\n",
    "cranes.sort(reverse=True)\n",
    "boxes.sort(reverse=True)\n",
    "\n",
    "result = 0\n",
    "count = 0\n",
    "\n",
    "while True:\n",
    "    if count == len(boxes):\n",
    "        break\n",
    "    for i in range(n):\n",
    "        while positions[i] < len(boxes):\n",
    "            if not checked[positions[i]] and cranes[i] >= boxes[positions[i]]:\n",
    "                checked[positions[i]] = True\n",
    "                positions[i] += 1\n",
    "                count += 1\n",
    "                break\n",
    "            positions[i] += 1\n",
    "    result += 1\n",
    "\n",
    "print(result)"
   ]
  },
  {
   "cell_type": "code",
   "execution_count": null,
   "id": "42eaed37",
   "metadata": {},
   "outputs": [],
   "source": []
  }
 ],
 "metadata": {
  "kernelspec": {
   "display_name": "Python 3",
   "language": "python",
   "name": "python3"
  },
  "language_info": {
   "codemirror_mode": {
    "name": "ipython",
    "version": 3
   },
   "file_extension": ".py",
   "mimetype": "text/x-python",
   "name": "python",
   "nbconvert_exporter": "python",
   "pygments_lexer": "ipython3",
   "version": "3.8.8"
  }
 },
 "nbformat": 4,
 "nbformat_minor": 5
}
