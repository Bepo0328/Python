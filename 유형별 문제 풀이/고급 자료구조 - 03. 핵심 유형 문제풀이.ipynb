{
 "cells": [
  {
   "cell_type": "markdown",
   "id": "ec801800",
   "metadata": {},
   "source": [
    "## 고급 자료구조"
   ]
  },
  {
   "cell_type": "markdown",
   "id": "af32797e",
   "metadata": {},
   "source": [
    "### 10930문제\n",
    "- 문제 제목: SHA-256\n",
    "- 문제 난이도: 하(Easy)\n",
    "- 문제 유형: 해시, 구현\n",
    "- 추천 풀이 시간: 15분\n",
    "\n",
    "> https://www.acmicpc.net/problem/10930"
   ]
  },
  {
   "cell_type": "markdown",
   "id": "abe05ee9",
   "metadata": {},
   "source": [
    "#### 문제\n",
    "- 문자열 S가 주어졌을 때, SHA-256 해시값을 구하는 프로그램을 작성하시오."
   ]
  },
  {
   "cell_type": "markdown",
   "id": "06cfed03",
   "metadata": {},
   "source": [
    "#### 입력\n",
    "- 첫째 줄에 문자열 S가 주어진다. S는 알파벳 대문자와 소문자, 그리고 숫자로만 이루어져 있으며, 길이는 최대 50이다."
   ]
  },
  {
   "cell_type": "markdown",
   "id": "c1d7946d",
   "metadata": {},
   "source": [
    "#### 출력\n",
    "- 첫째 줄에 S의 SHA-256 해시값을 출력한다."
   ]
  },
  {
   "cell_type": "markdown",
   "id": "1372b5d3",
   "metadata": {},
   "source": [
    "#### 예제 입력 1 \n",
    "```python\n",
    "Baekjoon\n",
    "```\n",
    "#### 예제 출력 1 \n",
    "```python\n",
    "9944e1862efbb2a4e2486392dc6701896416b251eccdecb8332deb7f4cf2a857\n",
    "```"
   ]
  },
  {
   "cell_type": "markdown",
   "id": "6adbdddc",
   "metadata": {},
   "source": [
    "#### 풀이"
   ]
  },
  {
   "cell_type": "code",
   "execution_count": 1,
   "id": "34b29483",
   "metadata": {},
   "outputs": [
    {
     "name": "stdout",
     "output_type": "stream",
     "text": [
      "Baekjoon\n",
      "9944e1862efbb2a4e2486392dc6701896416b251eccdecb8332deb7f4cf2a857\n"
     ]
    }
   ],
   "source": [
    "import hashlib\n",
    "\n",
    "input_data = input()\n",
    "encoded_data = input_data.encode()\n",
    "result = hashlib.sha256(encoded_data).hexdigest()\n",
    "print(result)"
   ]
  },
  {
   "cell_type": "markdown",
   "id": "098481bf",
   "metadata": {},
   "source": [
    "#### 1920문제\n",
    "- 문제 제목: 수 찾기\n",
    "- 문제 난이도: 하(Easy)\n",
    "- 문제 유형: 해시, 배열, 구현\n",
    "- 추천 풀이 시간: 20분\n",
    "\n",
    "> https://www.acmicpc.net/problem/1920"
   ]
  },
  {
   "cell_type": "markdown",
   "id": "b8807baa",
   "metadata": {},
   "source": [
    "#### 문제\n",
    "- N개의 정수 A[1], A[2], …, A[N]이 주어져 있을 때, 이 안에 X라는 정수가 존재하는지 알아내는 프로그램을 작성하시오."
   ]
  },
  {
   "cell_type": "markdown",
   "id": "e53b3b06",
   "metadata": {},
   "source": [
    "#### 입력\n",
    "- 첫째 줄에 자연수 N(1 ≤ N ≤ 100,000)이 주어진다. 다음 줄에는 N개의 정수 A[1], A[2], …, A[N]이 주어진다. 다음 줄에는 M(1 ≤ M ≤ 100,000)이 주어진다. 다음 줄에는 M개의 수들이 주어지는데, 이 수들이 A안에 존재하는지 알아내면 된다. 모든 정수의 범위는 -231 보다 크거나 같고 231보다 작다."
   ]
  },
  {
   "cell_type": "markdown",
   "id": "6024eebd",
   "metadata": {},
   "source": [
    "#### 출력\n",
    "- M개의 줄에 답을 출력한다. 존재하면 1을, 존재하지 않으면 0을 출력한다."
   ]
  },
  {
   "cell_type": "markdown",
   "id": "b7c4930c",
   "metadata": {},
   "source": [
    "#### 예제 입력 1 \n",
    "```python\n",
    "5\n",
    "4 1 5 2 3\n",
    "5\n",
    "1 3 7 9 5\n",
    "```\n",
    "#### 예제 출력 1 \n",
    "```python\n",
    "1\n",
    "1\n",
    "0\n",
    "0\n",
    "1\n",
    "```"
   ]
  },
  {
   "cell_type": "markdown",
   "id": "f358111f",
   "metadata": {},
   "source": [
    "#### 나의 풀이"
   ]
  },
  {
   "cell_type": "code",
   "execution_count": 4,
   "id": "366ad668",
   "metadata": {},
   "outputs": [
    {
     "name": "stdout",
     "output_type": "stream",
     "text": [
      "5\n",
      "4 1 5 2 3\n",
      "5\n",
      "1 3 7 9 5\n",
      "1\n",
      "1\n",
      "0\n",
      "0\n",
      "1\n"
     ]
    }
   ],
   "source": [
    "n = int(input())\n",
    "data1 = list(map(int, input().split(' ')))\n",
    "    \n",
    "m = int(input())\n",
    "data2 = list(map(int, input().split(' ')))\n",
    "\n",
    "result = ['0' for i in range(m)]\n",
    "for index1 in range(n):\n",
    "    for index2 in range(m):\n",
    "        if data2[index1] == data1[index2]:\n",
    "            result[index1] = '1'\n",
    "            break\n",
    "        else:\n",
    "            result[index1] = '0'\n",
    "            \n",
    "print('\\n'.join(result))"
   ]
  },
  {
   "cell_type": "markdown",
   "id": "d108ee77",
   "metadata": {},
   "source": [
    "#### 풀이"
   ]
  },
  {
   "cell_type": "code",
   "execution_count": 6,
   "id": "c1ecb2e2",
   "metadata": {},
   "outputs": [
    {
     "name": "stdout",
     "output_type": "stream",
     "text": [
      "5\n",
      "4 1 5 2 3\n",
      "5\n",
      "1 3 7 9 5\n",
      "1\n",
      "1\n",
      "0\n",
      "0\n",
      "1\n"
     ]
    }
   ],
   "source": [
    "n = int(input())\n",
    "array = set(map(int, input().split()))\n",
    "m = int(input())\n",
    "x = list(map(int, input().split()))\n",
    "\n",
    "for i in x:\n",
    "    if i not in array:\n",
    "        print('0')\n",
    "    else:\n",
    "        print('1')"
   ]
  },
  {
   "cell_type": "markdown",
   "id": "4e3a668d",
   "metadata": {},
   "source": [
    "#### 4195문제\n",
    "- 문제 제목: 친구 네트워크\n",
    "- 문제 난이도: 중(Medium)\n",
    "- 문제 유형: 해시, 집합, 그래프\n",
    "- 추천 풀이 시간: 50분\n",
    "\n",
    "> https://www.acmicpc.net/problem/4195"
   ]
  },
  {
   "cell_type": "markdown",
   "id": "f9949726",
   "metadata": {},
   "source": [
    "#### 문제\n",
    "- 민혁이는 소셜 네트워크 사이트에서 친구를 만드는 것을 좋아하는 친구이다. 우표를 모으는 취미가 있듯이, 민혁이는 소셜 네트워크 사이트에서 친구를 모으는 것이 취미이다.\n",
    "- 어떤 사이트의 친구 관계가 생긴 순서대로 주어졌을 때, 두 사람의 친구 네트워크에 몇 명이 있는지 구하는 프로그램을 작성하시오.\n",
    "- 친구 네트워크란 친구 관계만으로 이동할 수 있는 사이를 말한다."
   ]
  },
  {
   "cell_type": "markdown",
   "id": "fb5c7c0e",
   "metadata": {},
   "source": [
    "#### 입력\n",
    "- 첫째 줄에 테스트 케이스의 개수가 주어진다. 각 테스트 케이스의 첫째 줄에는 친구 관계의 수 F가 주어지며, 이 값은 100,000을 넘지 않는다. 다음 F개의 줄에는 친구 관계가 생긴 순서대로 주어진다. 친구 관계는 두 사용자의 아이디로 이루어져 있으며, 알파벳 대문자 또는 소문자로만 이루어진 길이 20 이하의 문자열이다."
   ]
  },
  {
   "cell_type": "markdown",
   "id": "d27e89b2",
   "metadata": {},
   "source": [
    "#### 출력\n",
    "- 친구 관계가 생길 때마다, 두 사람의 친구 네트워크에 몇 명이 있는지 구하는 프로그램을 작성하시오."
   ]
  },
  {
   "cell_type": "markdown",
   "id": "0ce898a7",
   "metadata": {},
   "source": [
    "#### 예제 입력 1 \n",
    "```python\n",
    "2\n",
    "3\n",
    "Fred Barney\n",
    "Barney Betty\n",
    "Betty Wilma\n",
    "3\n",
    "Fred Barney\n",
    "Betty Wilma\n",
    "Barney Betty\n",
    "```\n",
    "#### 예제 출력 1 \n",
    "```python\n",
    "2\n",
    "3\n",
    "4\n",
    "2\n",
    "2\n",
    "4\n",
    "```"
   ]
  },
  {
   "cell_type": "markdown",
   "id": "132ccf32",
   "metadata": {},
   "source": [
    "#### 풀이"
   ]
  },
  {
   "cell_type": "code",
   "execution_count": 3,
   "id": "6ab32eda",
   "metadata": {},
   "outputs": [
    {
     "name": "stdout",
     "output_type": "stream",
     "text": [
      "1\n",
      "3\n",
      "Fred Barney\n",
      "{'Fred': 'Fred', 'Barney': 'Fred'}\n",
      "{'Fred': 2, 'Barney': 1}\n",
      "2\n",
      "Betty Wilma\n",
      "{'Fred': 'Fred', 'Barney': 'Fred', 'Betty': 'Betty', 'Wilma': 'Betty'}\n",
      "{'Fred': 2, 'Barney': 1, 'Betty': 2, 'Wilma': 1}\n",
      "2\n",
      "Barney Betty\n",
      "{'Fred': 'Fred', 'Barney': 'Fred', 'Betty': 'Fred', 'Wilma': 'Betty'}\n",
      "{'Fred': 4, 'Barney': 1, 'Betty': 2, 'Wilma': 1}\n",
      "4\n"
     ]
    }
   ],
   "source": [
    "def find(x):\n",
    "    if x == parent[x]:\n",
    "        return x\n",
    "    else:\n",
    "        p = find(parent[x])\n",
    "        parent[x] = p\n",
    "        return parent[x]\n",
    "\n",
    "def union(x, y):\n",
    "    x = find(x)\n",
    "    y = find(y)\n",
    "    \n",
    "    if x != y:\n",
    "        parent[y] = x\n",
    "        number[x] += number[y]\n",
    "        \n",
    "test_case = int(input())\n",
    "\n",
    "for _ in range(test_case):\n",
    "    parent = dict()\n",
    "    number = dict()\n",
    "    \n",
    "    f = int(input())\n",
    "    \n",
    "    for _ in range(f):\n",
    "        x, y = input().split(' ')\n",
    "        \n",
    "        if x not in parent:\n",
    "            parent[x] = x\n",
    "            number[x] = 1\n",
    "            \n",
    "        if y not in parent:\n",
    "            parent[y] = y\n",
    "            number[y] = 1\n",
    "            \n",
    "        union(x, y)\n",
    "        \n",
    "        print(parent)\n",
    "        print(number)\n",
    "        print(number[find(x)])"
   ]
  }
 ],
 "metadata": {
  "kernelspec": {
   "display_name": "Python 3",
   "language": "python",
   "name": "python3"
  },
  "language_info": {
   "codemirror_mode": {
    "name": "ipython",
    "version": 3
   },
   "file_extension": ".py",
   "mimetype": "text/x-python",
   "name": "python",
   "nbconvert_exporter": "python",
   "pygments_lexer": "ipython3",
   "version": "3.8.8"
  }
 },
 "nbformat": 4,
 "nbformat_minor": 5
}
