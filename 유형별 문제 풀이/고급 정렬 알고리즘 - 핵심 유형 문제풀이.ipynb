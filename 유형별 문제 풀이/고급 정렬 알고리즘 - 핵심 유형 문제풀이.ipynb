{
 "cells": [
  {
   "cell_type": "markdown",
   "id": "237e795a",
   "metadata": {},
   "source": [
    "## 고급 정렬 알고리즘"
   ]
  },
  {
   "cell_type": "markdown",
   "id": "612b0ad2",
   "metadata": {},
   "source": [
    "### 2751문제\n",
    "- 문제 제목: 수 정렬하기 2\n",
    "- 문제 난이도: 하(Easy)\n",
    "- 문제 유형: 정렬\n",
    "- 추천 풀이 시간: 20분\n",
    "\n",
    "> https://www.acmicpc.net/problem/2751"
   ]
  },
  {
   "cell_type": "markdown",
   "id": "add46e87",
   "metadata": {},
   "source": [
    "#### 문제\n",
    "- N개의 수가 주어졌을 때, 이를 오름차순으로 정렬하는 프로그램을 작성하시오."
   ]
  },
  {
   "cell_type": "markdown",
   "id": "bf6c2223",
   "metadata": {},
   "source": [
    "#### 입력\n",
    "- 첫째 줄에 수의 개수 N(1 ≤ N ≤ 1,000,000)이 주어진다. 둘째 줄부터 N개의 줄에는 수가 주어진다. 이 수는 절댓값이 1,000,000보다 작거나 같은 정수이다. 수는 중복되지 않는다."
   ]
  },
  {
   "cell_type": "markdown",
   "id": "2292ef8c",
   "metadata": {},
   "source": [
    "#### 출력\n",
    "- 첫째 줄부터 N개의 줄에 오름차순으로 정렬한 결과를 한 줄에 하나씩 출력한다."
   ]
  },
  {
   "cell_type": "markdown",
   "id": "8977ac93",
   "metadata": {},
   "source": [
    "#### 예제 입력 1 \n",
    "```python\n",
    "5\n",
    "5\n",
    "4\n",
    "3\n",
    "2\n",
    "1\n",
    "```\n",
    "##### 예제 출력 1 \n",
    "```python\n",
    "1\n",
    "2\n",
    "3\n",
    "4\n",
    "5\n",
    "```"
   ]
  },
  {
   "cell_type": "markdown",
   "id": "6d215432",
   "metadata": {},
   "source": [
    "#### 나의 풀이"
   ]
  },
  {
   "cell_type": "code",
   "execution_count": 5,
   "id": "36e67fc4",
   "metadata": {},
   "outputs": [],
   "source": [
    "def quick_sort(data):\n",
    "    if len(data) < 1:\n",
    "        return data\n",
    "    else:\n",
    "        pivot = data[0]\n",
    "        right = []\n",
    "        left = []\n",
    "        for index in range(1, len(data)):\n",
    "            if data[index] < data[0]:\n",
    "                left.append(data[index])\n",
    "            else:\n",
    "                right.append(data[index])\n",
    "        return quick_sort(left) + [pivot] + quick_sort(right)"
   ]
  },
  {
   "cell_type": "code",
   "execution_count": 7,
   "id": "81541f91",
   "metadata": {},
   "outputs": [
    {
     "name": "stdout",
     "output_type": "stream",
     "text": [
      "5\n",
      "15\n",
      "249\n",
      "54\n",
      "44\n",
      "1\n"
     ]
    }
   ],
   "source": [
    "n = int(input())\n",
    "data = []\n",
    "\n",
    "for i in range(n):\n",
    "    data.append(int(input()))"
   ]
  },
  {
   "cell_type": "code",
   "execution_count": 8,
   "id": "08d32e24",
   "metadata": {},
   "outputs": [
    {
     "data": {
      "text/plain": [
       "[1, 15, 44, 54, 249]"
      ]
     },
     "execution_count": 8,
     "metadata": {},
     "output_type": "execute_result"
    }
   ],
   "source": [
    "quick_sort(data)"
   ]
  },
  {
   "cell_type": "markdown",
   "id": "7edb1686",
   "metadata": {},
   "source": [
    "#### 풀이 (병합 정렬, 기본 정렬 라이브러리)"
   ]
  },
  {
   "cell_type": "code",
   "execution_count": 12,
   "id": "ecb84ca8",
   "metadata": {},
   "outputs": [],
   "source": [
    "def merge_sort(array):\n",
    "    if len(array) <= 1:\n",
    "        return array\n",
    "    \n",
    "    mid = len(array) // 2\n",
    "    left = merge_sort(array[:mid])\n",
    "    right = merge_sort(array[mid:])\n",
    "    \n",
    "    i, j, k = 0, 0, 0\n",
    "    while i < len(left) and j < len(right):\n",
    "        if left[i] < right[j]:\n",
    "            array[k] = left[i]\n",
    "            i += 1\n",
    "        else:\n",
    "            array[k] = right[j]\n",
    "            j += 1\n",
    "        k += 1\n",
    "    \n",
    "    if i == len(left):\n",
    "        while j < len(right):\n",
    "            array[k] = right[j]\n",
    "            j += 1\n",
    "            k += 1\n",
    "    elif j == len(right):\n",
    "        while i < len(left):\n",
    "            array[k] = left[i]\n",
    "            i += 1\n",
    "            k += 1\n",
    "    return array    "
   ]
  },
  {
   "cell_type": "code",
   "execution_count": 13,
   "id": "93e0b3ac",
   "metadata": {
    "scrolled": true
   },
   "outputs": [
    {
     "name": "stdout",
     "output_type": "stream",
     "text": [
      "5\n",
      "1\n",
      "549\n",
      "57\n",
      "4\n",
      "59\n",
      "1\n",
      "4\n",
      "57\n",
      "59\n",
      "549\n"
     ]
    }
   ],
   "source": [
    "n = int(input())\n",
    "array = []\n",
    "\n",
    "for _ in range(n):\n",
    "    array.append(int(input()))\n",
    "    \n",
    "array = merge_sort(array)\n",
    "\n",
    "for data in array:\n",
    "    print(data)"
   ]
  },
  {
   "cell_type": "code",
   "execution_count": 14,
   "id": "055eea30",
   "metadata": {
    "scrolled": true
   },
   "outputs": [
    {
     "name": "stdout",
     "output_type": "stream",
     "text": [
      "5\n",
      "159\n",
      "54\n",
      "4\n",
      "6\n",
      "87\n",
      "4\n",
      "6\n",
      "54\n",
      "87\n",
      "159\n"
     ]
    }
   ],
   "source": [
    "n = int(input())\n",
    "array = []\n",
    "\n",
    "for _ in range(n):\n",
    "    array.append(int(input()))\n",
    "    \n",
    "array = sorted(array)\n",
    "\n",
    "for data in array:\n",
    "    print(data)"
   ]
  },
  {
   "cell_type": "markdown",
   "id": "b291c875",
   "metadata": {},
   "source": [
    "### 11004문제\n",
    "- 문제 제목: K 번째 수\n",
    "- 문제 난이도: 중(Medium)\n",
    "- 문제 유형: 정렬\n",
    "- 추천 풀이 시간: 25분\n",
    "\n",
    "> https://www.acmicpc.net/problem/11004"
   ]
  },
  {
   "cell_type": "markdown",
   "id": "ad6353f1",
   "metadata": {},
   "source": [
    "#### 문제\n",
    "- 수 N개 A1, A2, ..., AN이 주어진다. A를 오름차순 정렬했을 때, 앞에서부터 K번째 있는 수를 구하는 프로그램을 작성하시오."
   ]
  },
  {
   "cell_type": "markdown",
   "id": "9827661a",
   "metadata": {},
   "source": [
    "#### 입력\n",
    "- 첫째 줄에 N(1 ≤ N ≤ 5,000,000)과 K (1 ≤ K ≤ N)이 주어진다.\n",
    "- 둘째에는 A1, A2, ..., AN이 주어진다. (-109 ≤ Ai ≤ 109)"
   ]
  },
  {
   "cell_type": "markdown",
   "id": "029d8971",
   "metadata": {},
   "source": [
    "#### 출력\n",
    "- A를 정렬했을 때, 앞에서부터 K번째 있는 수를 출력한다."
   ]
  },
  {
   "cell_type": "markdown",
   "id": "0b9769d5",
   "metadata": {},
   "source": [
    "#### 예제 입력 1 \n",
    "```python\n",
    "5 2\n",
    "4 1 2 3 5\n",
    "```\n",
    "##### 예제 출력 1 \n",
    "```python\n",
    "2\n",
    "```"
   ]
  },
  {
   "cell_type": "markdown",
   "id": "7bb0ca89",
   "metadata": {},
   "source": [
    "#### 나의 풀이"
   ]
  },
  {
   "cell_type": "code",
   "execution_count": 27,
   "id": "93e07c9d",
   "metadata": {},
   "outputs": [
    {
     "name": "stdout",
     "output_type": "stream",
     "text": [
      "5 2\n",
      "4 1 2 3 5\n",
      "2\n"
     ]
    }
   ],
   "source": [
    "n, k = map(int, input().split(' '))\n",
    "data = input().split(' ')\n",
    "\n",
    "data = sorted(data)\n",
    "\n",
    "print(data[k - 1])"
   ]
  },
  {
   "cell_type": "markdown",
   "id": "134abdad",
   "metadata": {},
   "source": [
    "#### 풀이"
   ]
  },
  {
   "cell_type": "code",
   "execution_count": null,
   "id": "2cf63284",
   "metadata": {},
   "outputs": [],
   "source": [
    "def merge_sort(array):\n",
    "    if len(array) <= 1:\n",
    "        return array\n",
    "    \n",
    "    mid = len(array) // 2\n",
    "    left = merge_sort(array[:mid])\n",
    "    right = merge_sort(array[mid:])\n",
    "    \n",
    "    i, j, k = 0, 0, 0\n",
    "    while i < len(left) and j < len(right):\n",
    "        if left[i] < right[j]:\n",
    "            array[k] = left[i]\n",
    "            i += 1\n",
    "        else:\n",
    "            array[k] = right[j]\n",
    "            j += 1\n",
    "        k += 1\n",
    "    \n",
    "    if i == len(left):\n",
    "        while j < len(right):\n",
    "            array[k] = right[j]\n",
    "            j += 1\n",
    "            k += 1\n",
    "    elif j == len(right):\n",
    "        while i < len(left):\n",
    "            array[k] = left[i]\n",
    "            i += 1\n",
    "            k += 1\n",
    "    return array    "
   ]
  },
  {
   "cell_type": "code",
   "execution_count": 28,
   "id": "1e103327",
   "metadata": {},
   "outputs": [
    {
     "name": "stdout",
     "output_type": "stream",
     "text": [
      "5 2\n",
      "4 1 2 3 5\n",
      "2\n"
     ]
    }
   ],
   "source": [
    "n, k = map(int, input().split())\n",
    "array = list(map(int, input().split()))\n",
    "\n",
    "array = merge_sort(array)\n",
    "\n",
    "print(array[k - 1])"
   ]
  },
  {
   "cell_type": "code",
   "execution_count": 29,
   "id": "9335a305",
   "metadata": {},
   "outputs": [
    {
     "name": "stdout",
     "output_type": "stream",
     "text": [
      "5 2\n",
      "4 1 2 3 5\n",
      "2\n"
     ]
    }
   ],
   "source": [
    "n, k = map(int, input().split())\n",
    "array = list(map(int, input().split()))\n",
    "\n",
    "array = sorted(array)\n",
    "\n",
    "print(array[k - 1])"
   ]
  }
 ],
 "metadata": {
  "kernelspec": {
   "display_name": "Python 3",
   "language": "python",
   "name": "python3"
  },
  "language_info": {
   "codemirror_mode": {
    "name": "ipython",
    "version": 3
   },
   "file_extension": ".py",
   "mimetype": "text/x-python",
   "name": "python",
   "nbconvert_exporter": "python",
   "pygments_lexer": "ipython3",
   "version": "3.8.8"
  }
 },
 "nbformat": 4,
 "nbformat_minor": 5
}
