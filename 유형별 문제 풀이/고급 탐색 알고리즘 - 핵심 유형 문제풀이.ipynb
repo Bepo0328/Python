{
 "cells": [
  {
   "cell_type": "markdown",
   "id": "f7bb4738",
   "metadata": {},
   "source": [
    "## 고급 탐색 알고리즘"
   ]
  },
  {
   "cell_type": "markdown",
   "id": "eee84bc2",
   "metadata": {},
   "source": [
    "### 1927문제\n",
    "- 문제 제목: 최소 힙\n",
    "- 문제 난이도: 하(Easy)\n",
    "- 문제 유형: 힙, 자료구조\n",
    "- 추천 풀이 시간: 20분\n",
    "\n",
    "> https://www.acmicpc.net/problem/1927\n",
    "\n",
    "#### 문제\n",
    "- 널리 잘 알려진 자료구조 중 최소 힙이 있다. 최소 힙을 이용하여 다음과 같은 연산을 지원하는 프로그램을 작성하시오.\n",
    "  1. 배열에 자연수 x를 넣는다.\n",
    "  2. 배열에서 가장 작은 값을 출력하고, 그 값을 배열에서 제거한다.\n",
    "  \n",
    "- 프로그램은 처음에 비어있는 배열에서 시작하게 된다.\n",
    "  \n",
    "#### 입력\n",
    "- 첫째 줄에 연산의 개수 N(1 ≤ N ≤ 100,000)이 주어진다. 다음 N개의 줄에는 연산에 대한 정보를 나타내는 정수 x가 주어진다. 만약 x가 자연수라면 배열에 x라는 값을 넣는(추가하는) 연산이고, x가 0이라면 배열에서 가장 작은 값을 출력하고 그 값을 배열에서 제거하는 경우이다. x는 $2^{31}$보다 작은 자연수 또는 0이고, 음의 정수는 입력으로 주어지지 않는다.\n",
    "\n",
    "#### 출력\n",
    "- 입력에서 0이 주어진 횟수만큼 답을 출력한다. 만약 배열이 비어 있는 경우인데 가장 작은 값을 출력하라고 한 경우에는 0을 출력하면 된다.\n",
    "\n",
    "#### 예제 입력 1 \n",
    "```python\n",
    "9\n",
    "0\n",
    "12345678\n",
    "1\n",
    "2\n",
    "0\n",
    "0\n",
    "0\n",
    "0\n",
    "32\n",
    "```\n",
    "##### 예제 출력 1 \n",
    "```python\n",
    "0\n",
    "1\n",
    "2\n",
    "12345678\n",
    "0\n",
    "```"
   ]
  },
  {
   "cell_type": "markdown",
   "id": "d9918eee",
   "metadata": {},
   "source": [
    "#### 풀이\n",
    "- 최소 힙의 기본적인 기능을 구현합니다.\n",
    "- 파이썬에서 heapq라이브러리를 이용하면 힙을 구현할 수 있습니다."
   ]
  },
  {
   "cell_type": "code",
   "execution_count": 7,
   "id": "60468361",
   "metadata": {},
   "outputs": [
    {
     "name": "stdout",
     "output_type": "stream",
     "text": [
      "9\n",
      "0\n",
      "0\n",
      "12345678\n",
      "1\n",
      "2\n",
      "0\n",
      "1\n",
      "0\n",
      "2\n",
      "0\n",
      "12345678\n",
      "0\n",
      "0\n",
      "0\n",
      "0\n"
     ]
    }
   ],
   "source": [
    "import heapq\n",
    "\n",
    "n = int(input())\n",
    "heap = []\n",
    "result = []\n",
    "\n",
    "for _ in range(n):\n",
    "    data = int(input())\n",
    "    if data == 0:\n",
    "        if heap:\n",
    "            result.append(heapq.heappop(heap))\n",
    "        else:\n",
    "            result.append(0)\n",
    "    else:\n",
    "        heapq.heappush(heap, data)\n",
    "        \n",
    "for data in result:\n",
    "    print(data)"
   ]
  },
  {
   "cell_type": "markdown",
   "id": "9126454f",
   "metadata": {},
   "source": [
    "### 1715문제\n",
    "- 문제 제목: 카드 정렬하기\n",
    "- 문제 난이도: 하(Easy)\n",
    "- 문제 유형: 힙, 자료구조, 그리디\n",
    "- 추천 풀이 시간: 20분\n",
    "\n",
    "> https://www.acmicpc.net/problem/1715\n",
    "\n",
    "#### 문제\n",
    "- 정렬된 두 묶음의 숫자 카드가 있다고 하자. 각 묶음의 카드의 수를 A, B라 하면 보통 두 묶음을 합쳐서 하나로 만드는 데에는 A+B 번의 비교를 해야 한다. 이를테면, 20장의 숫자 카드 묶음과 30장의 숫자 카드 묶음을 합치려면 50번의 비교가 필요하다.\n",
    "\n",
    "- 매우 많은 숫자 카드 묶음이 책상 위에 놓여 있다. 이들을 두 묶음씩 골라 서로 합쳐나간다면, 고르는 순서에 따라서 비교 횟수가 매우 달라진다. 예를 들어 10장, 20장, 40장의 묶음이 있다면 10장과 20장을 합친 뒤, 합친 30장 묶음과 40장을 합친다면 (10 + 20) + (30 + 40) = 100번의 비교가 필요하다. 그러나 10장과 40장을 합친 뒤, 합친 50장 묶음과 20장을 합친다면 (10 + 40) + (50 + 20) = 120 번의 비교가 필요하므로 덜 효율적인 방법이다.\n",
    "\n",
    "- N개의 숫자 카드 묶음의 각각의 크기가 주어질 때, 최소한 몇 번의 비교가 필요한지를 구하는 프로그램을 작성하시오.\n",
    "  \n",
    "#### 입력\n",
    "- 첫째 줄에 N이 주어진다. (1 ≤ N ≤ 100,000) 이어서 N개의 줄에 걸쳐 숫자 카드 묶음의 각각의 크기가 주어진다. 숫자 카드 묶음의 크기는 1,000보다 작거나 같은 양의 정수이다.\n",
    "\n",
    "#### 출력\n",
    "- 첫째 줄에 최소 비교 횟수를 출력한다.\n",
    "\n",
    "#### 예제 입력 1 \n",
    "```python\n",
    "3\n",
    "10\n",
    "20\n",
    "40\n",
    "```\n",
    "##### 예제 출력 1 \n",
    "```python\n",
    "100\n",
    "```"
   ]
  },
  {
   "cell_type": "markdown",
   "id": "0a168aa4",
   "metadata": {},
   "source": [
    "#### 나의 풀이"
   ]
  },
  {
   "cell_type": "code",
   "execution_count": null,
   "id": "43ac2b5f",
   "metadata": {},
   "outputs": [],
   "source": [
    "import heapq\n",
    "\n",
    "n = int(input())\n",
    "heap = []\n",
    "result = 0\n",
    "\n",
    "for _ in range(n):\n",
    "    data = int(input())\n",
    "    heapq.heappush(heap, data)\n",
    "    \n",
    "for i in range(len(heap) - 1):\n",
    "    x = heapq.heappop(heap)\n",
    "    y = heapq.heappop(heap)\n",
    "    heapq.heappush(heap, (x + y))\n",
    "    result += (x + y)\n",
    "    \n",
    "print(result)"
   ]
  },
  {
   "cell_type": "markdown",
   "id": "ea18bf33",
   "metadata": {},
   "source": [
    "#### 풀이\n",
    "- 가장 크기가 작은 숫자 카드 묶음들을 먼저 합쳤을 때, 비교 횟수가 가장 적습니다."
   ]
  },
  {
   "cell_type": "code",
   "execution_count": 19,
   "id": "cf453bca",
   "metadata": {},
   "outputs": [
    {
     "name": "stdout",
     "output_type": "stream",
     "text": [
      "3\n",
      "10\n",
      "20\n",
      "40\n",
      "100\n"
     ]
    }
   ],
   "source": [
    "import heapq\n",
    "\n",
    "n = int(input())\n",
    "heap = []\n",
    "\n",
    "for _ in range(n):\n",
    "    data = int(input())\n",
    "    heapq.heappush(heap, data)\n",
    "    \n",
    "result = 0\n",
    "while len(heap) != 1:\n",
    "    one = heapq.heappop(heap)\n",
    "    two = heapq.heappop(heap)\n",
    "    sum_value = one + two\n",
    "    result += sum_value\n",
    "    heapq.heappush(heap, sum_value)\n",
    "    \n",
    "print(result)"
   ]
  },
  {
   "cell_type": "markdown",
   "id": "4ad1b302",
   "metadata": {},
   "source": [
    "### 1766문제\n",
    "- 문제 제목: 문제집\n",
    "- 문제 난이도: 중(Medium)\n",
    "- 문제 유형: 힙, 위상 정렬\n",
    "- 추천 풀이 시간: 40분\n",
    "\n",
    "> https://www.acmicpc.net/problem/1766\n",
    "\n",
    "#### 문제\n",
    "- 민오는 1번부터 N번까지 총 N개의 문제로 되어 있는 문제집을 풀려고 한다. 문제는 난이도 순서로 출제되어 있다. 즉 1번 문제가 가장 쉬운 문제이고 N번 문제가 가장 어려운 문제가 된다.\n",
    "\n",
    "- 어떤 문제부터 풀까 고민하면서 문제를 훑어보던 민오는, 몇몇 문제들 사이에는 '먼저 푸는 것이 좋은 문제'가 있다는 것을 알게 되었다. 예를 들어 1번 문제를 풀고 나면 4번 문제가 쉽게 풀린다거나 하는 식이다. 민오는 다음의 세 가지 조건에 따라 문제를 풀 순서를 정하기로 하였다.\n",
    "  1. N개의 문제는 모두 풀어야 한다.\n",
    "  2. 먼저 푸는 것이 좋은 문제가 있는 문제는, 먼저 푸는 것이 좋은 문제를 반드시 먼저 풀어야 한다.\n",
    "  3. 가능하면 쉬운 문제부터 풀어야 한다.\n",
    "\n",
    "- 예를 들어서 네 개의 문제가 있다고 하자. 4번 문제는 2번 문제보다 먼저 푸는 것이 좋고, 3번 문제는 1번 문제보다 먼저 푸는 것이 좋다고 하자. 만일 4-3-2-1의 순서로 문제를 풀게 되면 조건 1과 조건 2를 만족한다. 하지만 조건 3을 만족하지 않는다. 4보다 3을 충분히 먼저 풀 수 있기 때문이다. 따라서 조건 3을 만족하는 문제를 풀 순서는 3-1-4-2가 된다.\n",
    "\n",
    "- 문제의 개수와 먼저 푸는 것이 좋은 문제에 대한 정보가 주어졌을 때, 주어진 조건을 만족하면서 민오가 풀 문제의 순서를 결정해 주는 프로그램을 작성하시오.\n",
    "  \n",
    "#### 입력\n",
    "- 첫째 줄에 문제의 수 N(1 ≤ N ≤ 32,000)과 먼저 푸는 것이 좋은 문제에 대한 정보의 개수 M(1 ≤ M ≤ 100,000)이 주어진다. 둘째 줄부터 M개의 줄에 걸쳐 두 정수의 순서쌍 A,B가 빈칸을 사이에 두고 주어진다. 이는 A번 문제는 B번 문제보다 먼저 푸는 것이 좋다는 의미이다.\n",
    "\n",
    "- 항상 문제를 모두 풀 수 있는 경우만 입력으로 주어진다.\n",
    "\n",
    "#### 출력\n",
    "- 첫째 줄에 문제 번호를 나타내는 1 이상 N 이하의 정수들을 민오가 풀어야 하는 순서대로 빈칸을 사이에 두고 출력한다.\n",
    "\n",
    "#### 예제 입력 1 \n",
    "```python\n",
    "4 2\n",
    "4 2\n",
    "3 1\n",
    "```\n",
    "##### 예제 출력 1 \n",
    "```python\n",
    "3 1 4 2\n",
    "```"
   ]
  },
  {
   "cell_type": "markdown",
   "id": "11833159",
   "metadata": {},
   "source": [
    "#### 풀이\n",
    "- 본 문제는 전형적인 위상 정렬 문제입니다.\n",
    "- 위상 정렬은 순서가 정해져 있는 작업을 차례로 수행해야 할 때, 순서를 결정해 주는 알고리즘 입니다.\n",
    "- 위상 정렬의 시간 복잡도는 $O(V + E)$로 문제를 해결할 수 있습니다."
   ]
  },
  {
   "cell_type": "code",
   "execution_count": 20,
   "id": "5711ae8a",
   "metadata": {},
   "outputs": [
    {
     "name": "stdout",
     "output_type": "stream",
     "text": [
      "4 2\n",
      "4 2\n",
      "3 1\n",
      "3 1 4 2 "
     ]
    }
   ],
   "source": [
    "import heapq\n",
    "\n",
    "n, m = map(int, input().split())\n",
    "array = [[] for i in range(n + 1)]\n",
    "indegree = [0] * (n + 1)\n",
    "\n",
    "heap = []\n",
    "result = []\n",
    "\n",
    "for _ in range(m):\n",
    "    x, y = map(int, input().split())\n",
    "    array[x].append(y)\n",
    "    indegree[y] += 1\n",
    "    \n",
    "for i in range(1, n + 1):\n",
    "    if indegree[i] == 0:\n",
    "        heapq.heappush(heap, i)\n",
    "        \n",
    "while heap:\n",
    "    data = heapq.heappop(heap)\n",
    "    result.append(data)\n",
    "    for y in array[data]:\n",
    "        indegree[y] -= 1\n",
    "        if indegree[y] == 0:\n",
    "            heapq.heappush(heap, y)\n",
    "            \n",
    "for i in result:\n",
    "    print(i, end=' ')"
   ]
  }
 ],
 "metadata": {
  "kernelspec": {
   "display_name": "Python 3",
   "language": "python",
   "name": "python3"
  },
  "language_info": {
   "codemirror_mode": {
    "name": "ipython",
    "version": 3
   },
   "file_extension": ".py",
   "mimetype": "text/x-python",
   "name": "python",
   "nbconvert_exporter": "python",
   "pygments_lexer": "ipython3",
   "version": "3.8.8"
  }
 },
 "nbformat": 4,
 "nbformat_minor": 5
}
