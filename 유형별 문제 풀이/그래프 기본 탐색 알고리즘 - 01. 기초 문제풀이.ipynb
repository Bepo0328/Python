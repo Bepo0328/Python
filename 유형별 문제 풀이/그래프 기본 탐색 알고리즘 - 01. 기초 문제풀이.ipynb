{
 "cells": [
  {
   "cell_type": "markdown",
   "id": "219978de",
   "metadata": {},
   "source": [
    "## 그래프 기본 탐색 알고리즘"
   ]
  },
  {
   "cell_type": "markdown",
   "id": "d3b573e2",
   "metadata": {},
   "source": [
    "### 1260문제\n",
    "- 문제 제목: DFS와 BFS\n",
    "- 문제 난이도: 하(Easy)\n",
    "- 문제 유형: DFS, BFS\n",
    "- 추천 풀이 시간: 30분\n",
    "\n",
    "> https://www.acmicpc.net/problem/1260\n",
    "\n",
    "#### 문제\n",
    "- 그래프를 DFS로 탐색한 결과와 BFS로 탐색한 결과를 출력하는 프로그램을 작성하시오. 단, 방문할 수 있는 정점이 여러 개인 경우에는 정점 번호가 작은 것을 먼저 방문하고, 더 이상 방문할 수 있는 점이 없는 경우 종료한다. 정점 번호는 1번부터 N번까지이다.\n",
    "\n",
    "#### 입력\n",
    "- 첫째 줄에 정점의 개수 N(1 ≤ N ≤ 1,000), 간선의 개수 M(1 ≤ M ≤ 10,000), 탐색을 시작할 정점의 번호 V가 주어진다. 다음 M개의 줄에는 간선이 연결하는 두 정점의 번호가 주어진다. 어떤 두 정점 사이에 여러 개의 간선이 있을 수 있다. 입력으로 주어지는 간선은 양방향이다.\n",
    "\n",
    "#### 출력\n",
    "- 첫째 줄에 DFS를 수행한 결과를, 그 다음 줄에는 BFS를 수행한 결과를 출력한다. V부터 방문된 점을 순서대로 출력하면 된다.\n",
    "\n",
    "#### 예제 입력 1 \n",
    "```python\n",
    "4 5 1\n",
    "1 2\n",
    "1 3\n",
    "1 4\n",
    "2 4\n",
    "3 4\n",
    "```\n",
    "##### 예제 출력 1 \n",
    "```python\n",
    "1 2 4 3\n",
    "1 2 3 4\n",
    "```\n",
    "#### 예제 입력 2\n",
    "```python\n",
    "5 5 3\n",
    "5 4\n",
    "5 2\n",
    "1 2\n",
    "3 4\n",
    "3 1\n",
    "```\n",
    "##### 예제 출력 2\n",
    "```python\n",
    "3 1 2 5 4\n",
    "3 1 4 2 5\n",
    "```\n",
    "#### 예제 입력 3\n",
    "```python\n",
    "1000 1 1000\n",
    "999 1000\n",
    "```\n",
    "##### 예제 출력 3\n",
    "```python\n",
    "1000 999\n",
    "1000 999\n",
    "```"
   ]
  },
  {
   "cell_type": "markdown",
   "id": "489efa6a",
   "metadata": {},
   "source": [
    "#### 풀이\n",
    "- 기본적인 형태의 그래프를 단순히 DFS와 BFS로 탐색합니다.\n",
    "- 이 문제에서는 <U>'정점 번호가 작은 것'</U>을 먼저 방문해야 합니다.\n",
    "- 모든 노드와 간선을 차례대로 조회하여 $O(N+M)$의 시간 복잡도로 문제를 해결해야 합니다.\n",
    "- 국내 코딩 테스트 합격을 위해서 <U>이 문제를 매우 빠르게 풀 수 있도록 숙달</U>할 필요가 있습니다.\n",
    "- 큐(Queue)구현을 위해 collections 라이브러리의 **deque**를 사용합니다."
   ]
  },
  {
   "cell_type": "code",
   "execution_count": 16,
   "id": "d7108615",
   "metadata": {},
   "outputs": [
    {
     "name": "stdout",
     "output_type": "stream",
     "text": [
      "15 14 1\n",
      "1 2\n",
      "1 3\n",
      "1 4\n",
      "2 5\n",
      "2 6\n",
      "3 7\n",
      "3 8\n",
      "3 9\n",
      "4 10\n",
      "4 11\n",
      "4 12\n",
      "6 13\n",
      "9 14\n",
      "9 15\n",
      "125613378914154101112\n",
      "123456789101112131415"
     ]
    }
   ],
   "source": [
    "from collections import deque\n",
    "\n",
    "def dfs(v):\n",
    "    print(v, end=' ')\n",
    "    visited[v] = True\n",
    "    for e in adj[v]:\n",
    "        if not visited[e]:\n",
    "            dfs(e)\n",
    "            \n",
    "def bfs(v):\n",
    "    q = deque([v])\n",
    "    while q:\n",
    "        v = q.popleft()\n",
    "        if not visited[v]:\n",
    "            visited[v] = True\n",
    "            print(v, end=' ')\n",
    "            for e in adj[v]:\n",
    "                if not visited[e]:\n",
    "                    q.append(e)\n",
    "                    \n",
    "n, m, v = map(int, input().split())\n",
    "adj = [[] for _ in range(n + 1)]\n",
    "\n",
    "for _ in range(m):\n",
    "    x, y = map(int, input().split())\n",
    "    adj[x].append(y)\n",
    "    adj[y].append(x)\n",
    "\n",
    "for e in adj:\n",
    "    e.sort()\n",
    "\n",
    "visited = [False] * (n + 1)\n",
    "dfs(v)\n",
    "print()\n",
    "visited = [False] * (n + 1)\n",
    "bfs(v)"
   ]
  },
  {
   "cell_type": "markdown",
   "id": "3f3d51b9",
   "metadata": {},
   "source": [
    "### 1697문제\n",
    "- 문제 제목:숨바꼭질\n",
    "- 문제 난이도: 하(Easy)\n",
    "- 문제 유형: BFS\n",
    "- 추천 풀이 시간: 30분\n",
    "\n",
    "> https://www.acmicpc.net/problem/1697\n",
    "\n",
    "#### 문제\n",
    "- 수빈이는 동생과 숨바꼭질을 하고 있다. 수빈이는 현재 점 N(0 ≤ N ≤ 100,000)에 있고, 동생은 점 K(0 ≤ K ≤ 100,000)에 있다. 수빈이는 걷거나 순간이동을 할 수 있다. 만약, 수빈이의 위치가 X일 때 걷는다면 1초 후에 X-1 또는 X+1로 이동하게 된다. 순간이동을 하는 경우에는 1초 후에 2*X의 위치로 이동하게 된다.\n",
    "\n",
    "- 수빈이와 동생의 위치가 주어졌을 때, 수빈이가 동생을 찾을 수 있는 가장 빠른 시간이 몇 초 후인지 구하는 프로그램을 작성하시오.\n",
    "\n",
    "#### 입력\n",
    "- 첫 번째 줄에 수빈이가 있는 위치 N과 동생이 있는 위치 K가 주어진다. N과 K는 정수이다.\n",
    "\n",
    "#### 출력\n",
    "- 수빈이가 동생을 찾는 가장 빠른 시간을 출력한다.\n",
    "\n",
    "#### 예제 입력 1 \n",
    "```python\n",
    "5 17\n",
    "```\n",
    "##### 예제 출력 1 \n",
    "```python\n",
    "4\n",
    "```"
   ]
  },
  {
   "cell_type": "markdown",
   "id": "2f490dc1",
   "metadata": {},
   "source": [
    "#### 풀이\n",
    "- 특정 위치까지 이동하는 최단 시간을 계산해야 하는 문제입니다.\n",
    "- 이동 시간이 모두 1초로 동일하므로, 간단히 BFS를 이용하여 해결할 수 있습니다.\n",
    "- 큐(Queue) 구현을 위해 Collections 라이브러리 **deque**를 사용합니다."
   ]
  },
  {
   "cell_type": "code",
   "execution_count": 21,
   "id": "7bf5b9f7",
   "metadata": {},
   "outputs": [
    {
     "name": "stdout",
     "output_type": "stream",
     "text": [
      "5 12\n",
      "2\n"
     ]
    }
   ],
   "source": [
    "from collections import deque\n",
    "\n",
    "MAX = 100001\n",
    "n, k = map(int, input().split())\n",
    "array = [0] * MAX\n",
    "\n",
    "def bfs():\n",
    "    q = deque([n])\n",
    "    while q:\n",
    "        now_pos = q.popleft()\n",
    "        if now_pos == k:\n",
    "            return array[now_pos]\n",
    "        for next_pos in (now_pos -1, now_pos + 1, now_pos * 2):\n",
    "            if 0 <= next_pos < MAX and not array[next_pos]:\n",
    "                array[next_pos] = array[now_pos] + 1\n",
    "                q.append(next_pos)\n",
    "\n",
    "print(bfs())"
   ]
  }
 ],
 "metadata": {
  "kernelspec": {
   "display_name": "Python 3",
   "language": "python",
   "name": "python3"
  },
  "language_info": {
   "codemirror_mode": {
    "name": "ipython",
    "version": 3
   },
   "file_extension": ".py",
   "mimetype": "text/x-python",
   "name": "python",
   "nbconvert_exporter": "python",
   "pygments_lexer": "ipython3",
   "version": "3.8.8"
  }
 },
 "nbformat": 4,
 "nbformat_minor": 5
}
