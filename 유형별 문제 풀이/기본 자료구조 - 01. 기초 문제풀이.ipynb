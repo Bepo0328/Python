{
 "cells": [
  {
   "cell_type": "markdown",
   "id": "a02cef90",
   "metadata": {},
   "source": [
    "## 기본 자료구조"
   ]
  },
  {
   "cell_type": "markdown",
   "id": "5d565a08",
   "metadata": {},
   "source": [
    "### 2920문제\n",
    "- 문제 제목: 음계\n",
    "- 문제 난이도: 하(Easy)\n",
    "- 문제 유형: 배열, 구현\n",
    "- 추천 풀이 시간: 15분 (MAX 30분)\n",
    "\n",
    "> https://www.acmicpc.net/problem/2920"
   ]
  },
  {
   "cell_type": "markdown",
   "id": "e3515ef1",
   "metadata": {},
   "source": [
    "#### 나의 풀이"
   ]
  },
  {
   "cell_type": "code",
   "execution_count": 33,
   "id": "5f2e8d1a",
   "metadata": {},
   "outputs": [],
   "source": [
    "def cmajor(*data):\n",
    "    data = list(data)\n",
    "    ascending = [1, 2, 3, 4, 5, 6, 7, 8]\n",
    "    descending = [8, 7, 6, 5, 4, 3, 2, 1]\n",
    "    \n",
    "    if data == ascending:\n",
    "        print('ascending')\n",
    "        \n",
    "    elif data == descending:\n",
    "        print('descending')\n",
    "        \n",
    "    else:\n",
    "        print('mixed')"
   ]
  },
  {
   "cell_type": "code",
   "execution_count": 34,
   "id": "d976c55e",
   "metadata": {},
   "outputs": [
    {
     "name": "stdout",
     "output_type": "stream",
     "text": [
      "ascending\n",
      "descending\n",
      "mixed\n"
     ]
    }
   ],
   "source": [
    "cmajor(1, 2, 3, 4, 5, 6, 7, 8)\n",
    "cmajor(8, 7, 6, 5, 4, 3, 2, 1)\n",
    "cmajor(8, 1, 7, 2, 6, 3, 5, 4)"
   ]
  },
  {
   "cell_type": "markdown",
   "id": "2f27f8de",
   "metadata": {},
   "source": [
    "#### 풀이"
   ]
  },
  {
   "cell_type": "code",
   "execution_count": 35,
   "id": "689cb34e",
   "metadata": {},
   "outputs": [],
   "source": [
    "def cmajor(*data):\n",
    "    data = list(data)\n",
    "    \n",
    "    ascending = True\n",
    "    descending = True\n",
    "    \n",
    "    for index in range(1, 8):\n",
    "        if data[index] > data[index - 1]:\n",
    "            descending = False\n",
    "        elif data[index] < data[index - 1]:\n",
    "            ascending = False\n",
    "    \n",
    "    if ascending:\n",
    "        print('ascending')\n",
    "    elif descending:\n",
    "        print('descending')\n",
    "    else:\n",
    "        print('mixed')"
   ]
  },
  {
   "cell_type": "code",
   "execution_count": 36,
   "id": "c4f0e217",
   "metadata": {},
   "outputs": [
    {
     "name": "stdout",
     "output_type": "stream",
     "text": [
      "ascending\n",
      "descending\n",
      "mixed\n"
     ]
    }
   ],
   "source": [
    "cmajor(1, 2, 3, 4, 5, 6, 7, 8)\n",
    "cmajor(8, 7, 6, 5, 4, 3, 2, 1)\n",
    "cmajor(8, 1, 7, 2, 6, 3, 5, 4)"
   ]
  },
  {
   "cell_type": "markdown",
   "id": "7ed4840d",
   "metadata": {},
   "source": [
    "### 2798문제\n",
    "- 문제 제목: 블랙잭\n",
    "- 문제 난이도: 하(Easy)\n",
    "- 문제 유형: 배열, 완전 탐색\n",
    "- 추천 풀이 시간: 20분 (MAX 40분)\n",
    "\n",
    "> https://www.acmicpc.net/problem/2798"
   ]
  },
  {
   "cell_type": "markdown",
   "id": "b057a0dd",
   "metadata": {},
   "source": [
    "#### 나의 풀이"
   ]
  },
  {
   "cell_type": "code",
   "execution_count": 53,
   "id": "26d4ce42",
   "metadata": {
    "scrolled": true
   },
   "outputs": [
    {
     "name": "stdout",
     "output_type": "stream",
     "text": [
      "10 500\n",
      "93 181 245 214 315 36 185 138 216 295\n"
     ]
    }
   ],
   "source": [
    "n, m = map(int, input().split(' '))\n",
    "data = list(map(int, input().split(' ')))"
   ]
  },
  {
   "cell_type": "code",
   "execution_count": 57,
   "id": "618d652b",
   "metadata": {},
   "outputs": [
    {
     "name": "stdout",
     "output_type": "stream",
     "text": [
      "497\n"
     ]
    }
   ],
   "source": [
    "total_max = 0\n",
    "\n",
    "for index1 in range(0, n): \n",
    "    for index2 in range(index1 + 1, n):\n",
    "        for index3 in range(index2 + 1, n):\n",
    "            max_sum = data[index1] + data[index2] + data[index3]\n",
    "            if max_sum >= total_max and max_sum <= m:\n",
    "                total_max = max_sum\n",
    "print(total_max)"
   ]
  },
  {
   "cell_type": "markdown",
   "id": "607fd6b2",
   "metadata": {},
   "source": [
    "#### 풀이\n",
    "- 모든 경우의 수는 $\\frac {n(n-1)(n-2)}{n!} $\n",
    "- c(5, 3) = 10"
   ]
  },
  {
   "cell_type": "code",
   "execution_count": 1,
   "id": "635140cf",
   "metadata": {},
   "outputs": [
    {
     "name": "stdout",
     "output_type": "stream",
     "text": [
      "5 21\n",
      "5 6 7 8 9\n",
      "21\n"
     ]
    }
   ],
   "source": [
    "n, m = list(map(int, input().split(' ')))\n",
    "data = list(map(int, input().split(' ')))\n",
    "\n",
    "result = 0\n",
    "length = len(data)\n",
    "\n",
    "count = 0\n",
    "for i in range(0, length):\n",
    "    for j in range(i, length):\n",
    "        for k in range(j, length):\n",
    "            sum_value = data[i] + data[j] + data[k]\n",
    "            if sum_value <= m:\n",
    "                result = max(result, sum_value)\n",
    "print(result)"
   ]
  }
 ],
 "metadata": {
  "kernelspec": {
   "display_name": "Python 3",
   "language": "python",
   "name": "python3"
  },
  "language_info": {
   "codemirror_mode": {
    "name": "ipython",
    "version": 3
   },
   "file_extension": ".py",
   "mimetype": "text/x-python",
   "name": "python",
   "nbconvert_exporter": "python",
   "pygments_lexer": "ipython3",
   "version": "3.8.8"
  }
 },
 "nbformat": 4,
 "nbformat_minor": 5
}
