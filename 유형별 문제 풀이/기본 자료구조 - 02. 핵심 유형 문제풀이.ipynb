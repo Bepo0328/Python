{
 "cells": [
  {
   "cell_type": "markdown",
   "id": "ef179560",
   "metadata": {},
   "source": [
    "## 기본 자료구조"
   ]
  },
  {
   "cell_type": "markdown",
   "id": "688c1d40",
   "metadata": {},
   "source": [
    "### 1874문제\n",
    "- 문제 제목: 스택 수열\n",
    "- 문제 난이도: 하(Easy)\n",
    "- 문제 유형: 스택, 그리디\n",
    "- 추천 풀이 시간: 30분\n",
    "\n",
    "> https://www.acmicpc.net/problem/1874"
   ]
  },
  {
   "cell_type": "markdown",
   "id": "112b100f",
   "metadata": {},
   "source": [
    "#### 문제\n",
    "- 스택 (stack)은 기본적인 자료구조 중 하나로, 컴퓨터 프로그램을 작성할 때 자주 이용되는 개념이다. 스택은 자료를 넣는 (push) 입구와 자료를 뽑는 (pop) 입구가 같아 제일 나중에 들어간 자료가 제일 먼저 나오는 (LIFO, Last in First out) 특성을 가지고 있다.\n",
    "\n",
    "- 1부터 n까지의 수를 스택에 넣었다가 뽑아 늘어놓음으로써, 하나의 수열을 만들 수 있다. 이때, 스택에 push하는 순서는 반드시 오름차순을 지키도록 한다고 하자. 임의의 수열이 주어졌을 때 스택을 이용해 그 수열을 만들 수 있는지 없는지, 있다면 어떤 순서로 push와 pop 연산을 수행해야 하는지를 알아낼 수 있다. 이를 계산하는 프로그램을 작성하라."
   ]
  },
  {
   "cell_type": "markdown",
   "id": "3aa44d70",
   "metadata": {},
   "source": [
    "#### 입력\n",
    "- 첫 줄에 n (1 ≤ n ≤ 100,000)이 주어진다. 둘째 줄부터 n개의 줄에는 수열을 이루는 1이상 n이하의 정수가 하나씩 순서대로 주어진다. 물론 같은 정수가 두 번 나오는 일은 없다."
   ]
  },
  {
   "cell_type": "markdown",
   "id": "82bfeb95",
   "metadata": {},
   "source": [
    "#### 출력\n",
    "- 입력된 수열을 만들기 위해 필요한 연산을 한 줄에 한 개씩 출력한다. push연산은 +로, pop 연산은 -로 표현하도록 한다. 불가능한 경우 NO를 출력한다."
   ]
  },
  {
   "cell_type": "markdown",
   "id": "e6915285",
   "metadata": {},
   "source": [
    "#### 예제 입력 1 \n",
    "```python\n",
    "8\n",
    "4\n",
    "3\n",
    "6\n",
    "8\n",
    "7\n",
    "5\n",
    "2\n",
    "1\n",
    "```\n",
    "#### 예제 출력 1 \n",
    "```python\n",
    "+\n",
    "+\n",
    "+\n",
    "+\n",
    "-\n",
    "-\n",
    "+\n",
    "+\n",
    "-\n",
    "+\n",
    "+\n",
    "-\n",
    "-\n",
    "-\n",
    "-\n",
    "-\n",
    "```"
   ]
  },
  {
   "cell_type": "markdown",
   "id": "906c5a35",
   "metadata": {},
   "source": [
    "#### 예제 입력 2 \n",
    "```python\n",
    "5\n",
    "1\n",
    "2\n",
    "5\n",
    "3\n",
    "4\n",
    "```\n",
    "#### 예제 출력 2 \n",
    "```python\n",
    "NO\n",
    "```"
   ]
  },
  {
   "cell_type": "markdown",
   "id": "be34b5bf",
   "metadata": {},
   "source": [
    "#### 풀이"
   ]
  },
  {
   "cell_type": "code",
   "execution_count": 1,
   "id": "e5e9ffcf",
   "metadata": {
    "scrolled": true
   },
   "outputs": [
    {
     "name": "stdout",
     "output_type": "stream",
     "text": [
      "8\n",
      "4\n",
      "3\n",
      "6\n",
      "8\n",
      "7\n",
      "5\n",
      "2\n",
      "1\n",
      "+\n",
      "+\n",
      "+\n",
      "+\n",
      "-\n",
      "-\n",
      "+\n",
      "+\n",
      "-\n",
      "+\n",
      "+\n",
      "-\n",
      "-\n",
      "-\n",
      "-\n",
      "-\n"
     ]
    }
   ],
   "source": [
    "n = int(input())\n",
    "\n",
    "count = 1\n",
    "stack = []\n",
    "result = []\n",
    "\n",
    "for i in range(1, n + 1): # 데이터의 개수 만큼 반복\n",
    "    data = int(input())\n",
    "    \n",
    "    while count <= data: # 입력 받은 데이터에 도달 할때 까지 삽입\n",
    "        stack.append(count)\n",
    "        count += 1\n",
    "        result.append('+')\n",
    "    \n",
    "    if stack[-1] == data: # 스택의 최상위 원소가 데이터와 같을 때 출력\n",
    "        stack.pop()\n",
    "        result.append('-')\n",
    "    else: # 불가능한 경우\n",
    "        print('NO')\n",
    "        exit(0)\n",
    "        \n",
    "print('\\n'.join(result)) # 가능한 경우"
   ]
  },
  {
   "cell_type": "markdown",
   "id": "b85e595d",
   "metadata": {},
   "source": [
    "### 1966문제\n",
    "- 문제 제목: 프린터 큐\n",
    "- 문제 난이도: 하(Easy)\n",
    "- 문제 유형: 큐, 구현, 그리디\n",
    "- 추천 풀이 시간: 25분\n",
    "\n",
    "> https://www.acmicpc.net/problem/1966"
   ]
  },
  {
   "cell_type": "markdown",
   "id": "039472e8",
   "metadata": {},
   "source": [
    "#### 문제\n",
    "- 여러분도 알다시피 여러분의 프린터 기기는 여러분이 인쇄하고자 하는 문서를 인쇄 명령을 받은 ‘순서대로’, 즉 먼저 요청된 것을 먼저 인쇄한다. 여러 개의 문서가 쌓인다면 Queue 자료구조에 쌓여서 FIFO - First In First Out - 에 따라 인쇄가 되게 된다. 하지만 상근이는 새로운 프린터기 내부 소프트웨어를 개발하였는데, 이 프린터기는 다음과 같은 조건에 따라 인쇄를 하게 된다.\n",
    "  1. 현재 Queue의 가장 앞에 있는 문서의 ‘중요도’를 확인한다.\n",
    "  2. 나머지 문서들 중 현재 문서보다 중요도가 높은 문서가 하나라도 있다면, 이 문서를 인쇄하지 않고 Queue의 가장 뒤에 재배치 한다. 그렇지 않다면 바로 인쇄를 한다.\n",
    "- 예를 들어 Queue에 4개의 문서(A B C D)가 있고, 중요도가 2 1 4 3 라면 C를 인쇄하고, 다음으로 D를 인쇄하고 A, B를 인쇄하게 된다.\n",
    "- 여러분이 할 일은, 현재 Queue에 있는 문서의 수와 중요도가 주어졌을 때, 어떤 한 문서가 몇 번째로 인쇄되는지 알아내는 것이다. 예를 들어 위의 예에서 C문서는 1번째로, A문서는 3번째로 인쇄되게 된다."
   ]
  },
  {
   "cell_type": "markdown",
   "id": "89fd633c",
   "metadata": {},
   "source": [
    "#### 입력\n",
    "- 첫 줄에 테스트케이스의 수가 주어진다. 각 테스트케이스는 두 줄로 이루어져 있다.\n",
    "- 테스트케이스의 첫 번째 줄에는 문서의 개수 N(1 ≤ N ≤ 100)과, 몇 번째로 인쇄되었는지 궁금한 문서가 현재 Queue에서 몇 번째에 놓여 있는지를 나타내는 정수 M(0 ≤ M < N)이 주어진다. 이때 맨 왼쪽은 0번째라고 하자. 두 번째 줄에는 N개 문서의 중요도가 차례대로 주어진다. 중요도는 1 이상 9 이하의 정수이고, 중요도가 같은 문서가 여러 개 있을 수도 있다."
   ]
  },
  {
   "cell_type": "markdown",
   "id": "151f8119",
   "metadata": {},
   "source": [
    "#### 출력\n",
    "- 각 테스트 케이스에 대해 문서가 몇 번째로 인쇄되는지 출력한다."
   ]
  },
  {
   "cell_type": "markdown",
   "id": "7c0b9526",
   "metadata": {},
   "source": [
    "#### 예제 입력 1 \n",
    "```python\n",
    "3\n",
    "1 0\n",
    "5\n",
    "4 2\n",
    "1 2 3 4\n",
    "6 0\n",
    "1 1 9 1 1 1\n",
    "```\n",
    "#### 예제 출력 1 \n",
    "```python\n",
    "1\n",
    "2\n",
    "5\n",
    "```"
   ]
  },
  {
   "cell_type": "markdown",
   "id": "19d2d15d",
   "metadata": {},
   "source": [
    "#### 풀이"
   ]
  },
  {
   "cell_type": "code",
   "execution_count": 7,
   "id": "3508547b",
   "metadata": {
    "scrolled": true
   },
   "outputs": [
    {
     "name": "stdout",
     "output_type": "stream",
     "text": [
      "3\n",
      "1 0\n",
      "5\n",
      "(5, 0)\n",
      "5\n",
      "4 2\n",
      "1 2 3 4\n",
      "(4, 3)\n",
      "4\n",
      "(4, 3)\n",
      "4\n",
      "(4, 3)\n",
      "4\n",
      "(4, 3)\n",
      "4\n",
      "(3, 2)\n",
      "3\n",
      "(3, 2)\n",
      "3\n",
      "(3, 2)\n",
      "3\n",
      "6 0\n",
      "1 1 9 1 1 1\n",
      "(9, 2)\n",
      "9\n",
      "(9, 2)\n",
      "9\n",
      "(9, 2)\n",
      "9\n",
      "(1, 3)\n",
      "1\n",
      "(1, 4)\n",
      "1\n",
      "(1, 5)\n",
      "1\n",
      "(1, 0)\n",
      "1\n"
     ]
    }
   ],
   "source": [
    "test_case = int(input())\n",
    "\n",
    "for _ in range(test_case):\n",
    "    n, m = list(map(int, input().split(' ')))\n",
    "    queue = list(map(int, input().split(' ')))\n",
    "    queue = [(i, idx) for idx, i in enumerate(queue)]\n",
    "    \n",
    "    count = 0\n",
    "    while True:\n",
    "        if queue[0][0] == max(queue, key=lambda x: x[0])[0]:\n",
    "            count += 1\n",
    "            if queue[0][1] == m:\n",
    "                print(count)\n",
    "                break\n",
    "            else:\n",
    "                queue.pop(0)\n",
    "        else:\n",
    "            queue.append(queue.pop(0))"
   ]
  },
  {
   "cell_type": "markdown",
   "id": "3cb78204",
   "metadata": {},
   "source": [
    "### 5397문제\n",
    "- 문제 제목: 키로거\n",
    "- 문제 난이도: 중(Medium)\n",
    "- 문제 유형: 스택, 구현, 그리디\n",
    "- 추천 풀이 시간: 40분\n",
    "\n",
    "> https://www.acmicpc.net/problem/5397"
   ]
  },
  {
   "cell_type": "markdown",
   "id": "37707466",
   "metadata": {},
   "source": [
    "#### 문제\n",
    "- 창영이는 강산이의 비밀번호를 훔치기 위해서 강산이가 사용하는 컴퓨터에 키로거를 설치했다. 며칠을 기다린 끝에 창영이는 강산이가 비밀번호 창에 입력하는 글자를 얻어냈다.\n",
    "- 키로거는 사용자가 키보드를 누른 명령을 모두 기록한다. 따라서, 강산이가 비밀번호를 입력할 때, 화살표나 백스페이스를 입력해도 정확한 비밀번호를 알아낼 수 있다. \n",
    "- 강산이가 비밀번호 창에서 입력한 키가 주어졌을 때, 강산이의 비밀번호를 알아내는 프로그램을 작성하시오. 강산이는 키보드로 입력한 키는 알파벳 대문자, 소문자, 숫자, 백스페이스, 화살표이다."
   ]
  },
  {
   "cell_type": "markdown",
   "id": "3126981d",
   "metadata": {},
   "source": [
    "#### 입력\n",
    "- 첫째 줄에 테스트 케이스의 개수가 주어진다. 각 테스트 케이스는 한줄로 이루어져 있고, 강산이가 입력한 순서대로 길이가 L인 문자열이 주어진다. (1 ≤ L ≤ 1,000,000) 강산이가 백스페이스를 입력했다면, '-'가 주어진다. 이때 커서의 바로 앞에 글자가 존재한다면, 그 글자를 지운다. 화살표의 입력은 '<'와 '>'로 주어진다. 이때는 커서의 위치를 움직일 수 있다면, 왼쪽 또는 오른쪽으로 1만큼 움직인다. 나머지 문자는 비밀번호의 일부이다. 물론, 나중에 백스페이스를 통해서 지울 수는 있다. 만약 커서의 위치가 줄의 마지막이 아니라면, 커서 및 커서 오른쪽에 있는 모든 문자는 오른쪽으로 한 칸 이동한다."
   ]
  },
  {
   "cell_type": "markdown",
   "id": "d4d5bae4",
   "metadata": {},
   "source": [
    "#### 출력\n",
    "- 각 테스트 케이스에 대해서, 강산이의 비밀번호를 출력한다. 비밀번호의 길이는 항상 0보다 크다."
   ]
  },
  {
   "cell_type": "markdown",
   "id": "f2122636",
   "metadata": {},
   "source": [
    "#### 예제 입력 1 \n",
    "```python\n",
    "2\n",
    "<<BP<A>>Cd-\n",
    "ThIsIsS3Cr3t\n",
    "``` \n",
    "#### 예제 출력 1 \n",
    "```python\n",
    "BAPC\n",
    "ThIsIsS3Cr3t\n",
    "```"
   ]
  },
  {
   "cell_type": "markdown",
   "id": "fe399d0c",
   "metadata": {},
   "source": [
    "#### 풀이"
   ]
  },
  {
   "cell_type": "code",
   "execution_count": 12,
   "id": "a87ad1be",
   "metadata": {},
   "outputs": [
    {
     "name": "stdout",
     "output_type": "stream",
     "text": [
      "1\n",
      "ThIsIsS3Cr3t\n",
      "ThIsIsS3Cr3t\n"
     ]
    }
   ],
   "source": [
    "test_case = int(input())\n",
    "\n",
    "for _ in range(test_case):\n",
    "    left_stack = []\n",
    "    right_stack = []\n",
    "    data = input()\n",
    "    \n",
    "    for i in data:\n",
    "        if i == '-':\n",
    "            if left_stack:\n",
    "                left_stack.pop()\n",
    "        elif i == '<':\n",
    "            if left_stack:\n",
    "                right_stack.append(left_stack.pop())\n",
    "        elif i == '>':\n",
    "            if right_stack:\n",
    "                left_stack.append(right_stack.pop())\n",
    "        else:\n",
    "            left_stack.append(i)\n",
    "            \n",
    "    left_stack.extend(reversed(right_stack))\n",
    "    print(''.join(left_stack))"
   ]
  }
 ],
 "metadata": {
  "kernelspec": {
   "display_name": "Python 3",
   "language": "python",
   "name": "python3"
  },
  "language_info": {
   "codemirror_mode": {
    "name": "ipython",
    "version": 3
   },
   "file_extension": ".py",
   "mimetype": "text/x-python",
   "name": "python",
   "nbconvert_exporter": "python",
   "pygments_lexer": "ipython3",
   "version": "3.8.8"
  }
 },
 "nbformat": 4,
 "nbformat_minor": 5
}
