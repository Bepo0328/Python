{
 "cells": [
  {
   "cell_type": "markdown",
   "id": "a34837fa",
   "metadata": {},
   "source": [
    "## 기본 정렬 알고리즘"
   ]
  },
  {
   "cell_type": "markdown",
   "id": "6838afcc",
   "metadata": {},
   "source": [
    "### 10814문제\n",
    "- 문제 제목: 나이순 정렬\n",
    "- 문제 난이도: 하(Easy)\n",
    "- 문제 유형: 정렬\n",
    "- 추천 풀이 시간: 15분\n",
    "\n",
    "> https://www.acmicpc.net/problem/10814"
   ]
  },
  {
   "cell_type": "markdown",
   "id": "b38d1e83",
   "metadata": {},
   "source": [
    "#### 문제\n",
    "- 온라인 저지에 가입한 사람들의 나이와 이름이 가입한 순서대로 주어진다. 이때, 회원들을 나이가 증가하는 순으로, 나이가 같으면 먼저 가입한 사람이 앞에 오는 순서로 정렬하는 프로그램을 작성하시오."
   ]
  },
  {
   "cell_type": "markdown",
   "id": "50397a7a",
   "metadata": {},
   "source": [
    "#### 입력\n",
    "- 첫째 줄에 온라인 저지 회원의 수 N이 주어진다. (1 ≤ N ≤ 100,000)\n",
    "- 둘째 줄부터 N개의 줄에는 각 회원의 나이와 이름이 공백으로 구분되어 주어진다. 나이는 1보다 크거나 같으며, 200보다 작거나 같은 정수이고, 이름은 알파벳 대소문자로 이루어져 있고, 길이가 100보다 작거나 같은 문자열이다. 입력은 가입한 순서로 주어진다."
   ]
  },
  {
   "cell_type": "markdown",
   "id": "0c8362a1",
   "metadata": {},
   "source": [
    "#### 출력\n",
    "- 첫째 줄부터 총 N개의 줄에 걸쳐 온라인 저지 회원을 나이 순, 나이가 같으면 가입한 순으로 한 줄에 한 명씩 나이와 이름을 공백으로 구분해 출력한다."
   ]
  },
  {
   "cell_type": "markdown",
   "id": "8c09e109",
   "metadata": {},
   "source": [
    "#### 예제 입력 1 \n",
    "```python\n",
    "3\n",
    "21 Junkyu\n",
    "21 Dohyun\n",
    "20 Sunyoung\n",
    "```\n",
    "#### 예제 출력 1 \n",
    "```python\n",
    "20 Sunyoung\n",
    "21 Junkyu\n",
    "21 Dohyun\n",
    "```"
   ]
  },
  {
   "cell_type": "markdown",
   "id": "8123b919",
   "metadata": {},
   "source": [
    "#### 나의 풀이"
   ]
  },
  {
   "cell_type": "code",
   "execution_count": 9,
   "id": "bb5c00be",
   "metadata": {},
   "outputs": [
    {
     "name": "stdout",
     "output_type": "stream",
     "text": [
      "3\n",
      "21 Junkyu\n",
      "21 Dohyun\n",
      "20 Sunyoung\n"
     ]
    }
   ],
   "source": [
    "n = int(input())\n",
    "\n",
    "data = []\n",
    "for index in range(n):\n",
    "    age, name = input().split()\n",
    "    data.append((age, index, name))"
   ]
  },
  {
   "cell_type": "code",
   "execution_count": 18,
   "id": "2465960c",
   "metadata": {},
   "outputs": [
    {
     "name": "stdout",
     "output_type": "stream",
     "text": [
      "20 Sunyoung\n",
      "21 Junkyu\n",
      "21 Dohyun\n"
     ]
    }
   ],
   "source": [
    "data.sort()\n",
    "\n",
    "for index in range(len(data)):\n",
    "    print(data[index][0], data[index][2])"
   ]
  },
  {
   "cell_type": "code",
   "execution_count": 22,
   "id": "6040a662",
   "metadata": {},
   "outputs": [
    {
     "name": "stdout",
     "output_type": "stream",
     "text": [
      "3\n",
      "21 Junkyu\n",
      "21 Dohyun\n",
      "20 Sunyoung\n",
      "20 Sunyoung\n",
      "21 Junkyu\n",
      "21 Dohyun\n"
     ]
    }
   ],
   "source": [
    "n = int(input())\n",
    "\n",
    "data = []\n",
    "for index in range(n):\n",
    "    age, name = input().split()\n",
    "    data.append((int(age), name))\n",
    "    \n",
    "data = sorted(data, key=lambda x:x[0])\n",
    "\n",
    "for i in data:\n",
    "    print(i[0], i[1])"
   ]
  },
  {
   "cell_type": "markdown",
   "id": "914d31e6",
   "metadata": {},
   "source": [
    "#### 풀이"
   ]
  },
  {
   "cell_type": "code",
   "execution_count": 17,
   "id": "68053733",
   "metadata": {},
   "outputs": [
    {
     "name": "stdout",
     "output_type": "stream",
     "text": [
      "3\n",
      "21 Junkyu\n",
      "21 Dohyun\n",
      "20 Sunyoung\n",
      "20 Sunyoung\n",
      "21 Junkyu\n",
      "21 Dohyun\n"
     ]
    }
   ],
   "source": [
    "n = int(input())\n",
    "\n",
    "array = []\n",
    "\n",
    "for _ in range(n):\n",
    "    input_data = input().split(' ')\n",
    "    array.append((int(input_data[0]), input_data[1]))\n",
    "    \n",
    "array = sorted(array, key=lambda x: x[0])\n",
    "\n",
    "for i in array:\n",
    "    print(i[0], i[1])"
   ]
  },
  {
   "cell_type": "markdown",
   "id": "cc62844b",
   "metadata": {},
   "source": [
    "### 11650문제\n",
    "- 문제 제목: 좌표 정렬하기\n",
    "- 문제 난이도: 하(Easy)\n",
    "- 문제 유형: 정렬\n",
    "- 추천 풀이 시간: 15분\n",
    "\n",
    "> https://www.acmicpc.net/problem/11650"
   ]
  },
  {
   "cell_type": "markdown",
   "id": "13e5568d",
   "metadata": {},
   "source": [
    "#### 문제\n",
    "- 2차원 평면 위의 점 N개가 주어진다. 좌표를 x좌표가 증가하는 순으로, x좌표가 같으면 y좌표가 증가하는 순서로 정렬한 다음 출력하는 프로그램을 작성하시오."
   ]
  },
  {
   "cell_type": "markdown",
   "id": "0424a927",
   "metadata": {},
   "source": [
    "#### 입력\n",
    "- 첫째 줄에 점의 개수 N (1 ≤ N ≤ 100,000)이 주어진다. 둘째 줄부터 N개의 줄에는 i번점의 위치 xi와 yi가 주어진다. (-100,000 ≤ xi, yi ≤ 100,000) 좌표는 항상 정수이고, 위치가 같은 두 점은 없다."
   ]
  },
  {
   "cell_type": "markdown",
   "id": "8feadf7c",
   "metadata": {},
   "source": [
    "#### 출력\n",
    "- 첫째 줄부터 N개의 줄에 점을 정렬한 결과를 출력한다."
   ]
  },
  {
   "cell_type": "markdown",
   "id": "ce97128f",
   "metadata": {},
   "source": [
    "#### 예제 입력 1 \n",
    "```python\n",
    "5\n",
    "3 4\n",
    "1 1\n",
    "1 -1\n",
    "2 2\n",
    "3 3\n",
    "```\n",
    "#### 예제 출력 1 \n",
    "```python\n",
    "1 -1\n",
    "1 1\n",
    "2 2\n",
    "3 3\n",
    "3 4\n",
    "```"
   ]
  },
  {
   "cell_type": "markdown",
   "id": "c9671df6",
   "metadata": {},
   "source": [
    "#### 나의 풀이"
   ]
  },
  {
   "cell_type": "code",
   "execution_count": 39,
   "id": "7308d659",
   "metadata": {},
   "outputs": [
    {
     "name": "stdout",
     "output_type": "stream",
     "text": [
      "5\n",
      "3 4\n",
      "1 1\n",
      "1 -1\n",
      "2 2\n",
      "3 3\n"
     ]
    }
   ],
   "source": [
    "n = int(input())\n",
    "\n",
    "data = []\n",
    "\n",
    "for _ in range(n):\n",
    "    input_data = list(map(int, input().split()))\n",
    "    data.append(input_data)"
   ]
  },
  {
   "cell_type": "code",
   "execution_count": 42,
   "id": "3ca78bd0",
   "metadata": {},
   "outputs": [
    {
     "name": "stdout",
     "output_type": "stream",
     "text": [
      "1 -1\n",
      "1 1\n",
      "2 2\n",
      "3 3\n",
      "3 4\n"
     ]
    }
   ],
   "source": [
    "data.sort()\n",
    "\n",
    "for i in data:\n",
    "    print(i[0], i[1])"
   ]
  },
  {
   "cell_type": "markdown",
   "id": "8ed845cb",
   "metadata": {},
   "source": [
    "#### 풀이"
   ]
  },
  {
   "cell_type": "code",
   "execution_count": 43,
   "id": "e9eed8db",
   "metadata": {},
   "outputs": [
    {
     "name": "stdout",
     "output_type": "stream",
     "text": [
      "5\n",
      "3 4\n",
      "1 1\n",
      "1 -1\n",
      "2 2\n",
      "3 3\n",
      "1 -1\n",
      "1 1\n",
      "2 2\n",
      "3 3\n",
      "3 4\n"
     ]
    }
   ],
   "source": [
    "n = int(input())\n",
    "\n",
    "array = []\n",
    "\n",
    "for _ in range(n):\n",
    "    x, y = map(int, input().split(' '))\n",
    "    array.append((x, y))\n",
    "    \n",
    "array = sorted(array)\n",
    "\n",
    "for i in array:\n",
    "    print(i[0], i[1])"
   ]
  },
  {
   "cell_type": "markdown",
   "id": "adcf0efa",
   "metadata": {},
   "source": [
    "### 10989문제\n",
    "- 문제 제목: 수 정렬하기 3\n",
    "- 문제 난이도: 하(Easy)\n",
    "- 문제 유형: 정렬\n",
    "- 추천 풀이 시간: 20분\n",
    "\n",
    "> https://www.acmicpc.net/problem/10989"
   ]
  },
  {
   "cell_type": "markdown",
   "id": "24438156",
   "metadata": {},
   "source": [
    "#### 문제\n",
    "- N개의 수가 주어졌을 때, 이를 오름차순으로 정렬하는 프로그램을 작성하시오."
   ]
  },
  {
   "cell_type": "markdown",
   "id": "c3a97977",
   "metadata": {},
   "source": [
    "#### 입력\n",
    "- 첫째 줄에 수의 개수 N(1 ≤ N ≤ 10,000,000)이 주어진다. 둘째 줄부터 N개의 줄에는 수가 주어진다. 이 수는 10,000보다 작거나 같은 자연수이다."
   ]
  },
  {
   "cell_type": "markdown",
   "id": "3ebe2c09",
   "metadata": {},
   "source": [
    "#### 출력\n",
    "- 첫째 줄부터 N개의 줄에 오름차순으로 정렬한 결과를 한 줄에 하나씩 출력한다."
   ]
  },
  {
   "cell_type": "markdown",
   "id": "bcc33943",
   "metadata": {},
   "source": [
    "#### 예제 입력 1 \n",
    "```python\n",
    "10\n",
    "5\n",
    "2\n",
    "3\n",
    "1\n",
    "4\n",
    "2\n",
    "3\n",
    "5\n",
    "1\n",
    "7\n",
    "```\n",
    "#### 예제 출력 1 \n",
    "```python\n",
    "1\n",
    "1\n",
    "2\n",
    "2\n",
    "3\n",
    "3\n",
    "4\n",
    "5\n",
    "5\n",
    "7\n",
    "```"
   ]
  },
  {
   "cell_type": "markdown",
   "id": "9aff444b",
   "metadata": {},
   "source": [
    "#### 나의 풀이"
   ]
  },
  {
   "cell_type": "code",
   "execution_count": 44,
   "id": "f9414d96",
   "metadata": {},
   "outputs": [
    {
     "name": "stdout",
     "output_type": "stream",
     "text": [
      "10\n",
      "5\n",
      "2\n",
      "3\n",
      "1\n",
      "4\n",
      "2\n",
      "3\n",
      "5\n",
      "1\n",
      "7\n"
     ]
    }
   ],
   "source": [
    "n = int(input())\n",
    "\n",
    "data = []\n",
    "for _ in range(n):\n",
    "    data.append(int(input()))"
   ]
  },
  {
   "cell_type": "code",
   "execution_count": 45,
   "id": "bb4010bd",
   "metadata": {},
   "outputs": [
    {
     "name": "stdout",
     "output_type": "stream",
     "text": [
      "1\n",
      "1\n",
      "2\n",
      "2\n",
      "3\n",
      "3\n",
      "4\n",
      "5\n",
      "5\n",
      "7\n"
     ]
    }
   ],
   "source": [
    "data.sort()\n",
    "\n",
    "for i in data:\n",
    "    print(i)"
   ]
  },
  {
   "cell_type": "markdown",
   "id": "3c8e3cc8",
   "metadata": {},
   "source": [
    "#### 풀이"
   ]
  },
  {
   "cell_type": "code",
   "execution_count": null,
   "id": "bba48d47",
   "metadata": {},
   "outputs": [],
   "source": [
    "#계수 정렬 알고리즘(Counting Sort)\n",
    "import sys\n",
    "\n",
    "n = int(sys.stdin.readline())\n",
    "array = [0] * 10001\n",
    "\n",
    "for i in range(n):\n",
    "    data = int(sys.stdin.readline())\n",
    "    array[data] += 1\n",
    "\n",
    "for i in range(10001):\n",
    "    if array[i] != 0:\n",
    "        for j in range(array[i]):\n",
    "            print(i)"
   ]
  }
 ],
 "metadata": {
  "kernelspec": {
   "display_name": "Python 3",
   "language": "python",
   "name": "python3"
  },
  "language_info": {
   "codemirror_mode": {
    "name": "ipython",
    "version": 3
   },
   "file_extension": ".py",
   "mimetype": "text/x-python",
   "name": "python",
   "nbconvert_exporter": "python",
   "pygments_lexer": "ipython3",
   "version": "3.8.8"
  }
 },
 "nbformat": 4,
 "nbformat_minor": 5
}
