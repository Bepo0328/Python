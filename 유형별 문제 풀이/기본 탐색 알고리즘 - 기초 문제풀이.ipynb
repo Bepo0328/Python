{
 "cells": [
  {
   "cell_type": "markdown",
   "id": "ed703316",
   "metadata": {},
   "source": [
    "## 기본 탐색 알고리즘"
   ]
  },
  {
   "cell_type": "markdown",
   "id": "8dd42123",
   "metadata": {},
   "source": [
    "### 1543문제\n",
    "- 문제 제목: 문서 검색\n",
    "- 문제 난이도: 하(Easy)\n",
    "- 문제 유형: 탐색\n",
    "- 추천 풀이 시간: 20분\n",
    "\n",
    "> https://www.acmicpc.net/problem/1543"
   ]
  },
  {
   "cell_type": "markdown",
   "id": "ca81bb40",
   "metadata": {},
   "source": [
    "#### 문제\n",
    "- 세준이는 영어로만 이루어진 어떤 문서를 검색하는 함수를 만들려고 한다. 이 함수는 어떤 단어가 총 몇 번 등장하는지 세려고 한다. 그러나, 세준이의 함수는 중복되어 세는 것은 빼고 세야 한다. 예를 들어, 문서가 abababa이고, 그리고 찾으려는 단어가 ababa라면, 세준이의 이 함수는 이 단어를 0번부터 찾을 수 있고, 2번부터도 찾을 수 있다. 그러나 동시에 셀 수는 없다.\n",
    "\n",
    "- 세준이는 문서와 검색하려는 단어가 주어졌을 때, 그 단어가 최대 몇 번 중복되지 않게 등장하는지 구하는 프로그램을 작성하시오."
   ]
  },
  {
   "cell_type": "markdown",
   "id": "93b5fa08",
   "metadata": {},
   "source": [
    "#### 입력\n",
    "- 첫째 줄에 문서가 주어진다. 문서의 길이는 최대 2500이다. 둘째 줄에 검색하고 싶은 단어가 주어진다. 이 길이는 최대 50이다. 문서와 단어는 알파벳 소문자와 공백으로 이루어져 있다."
   ]
  },
  {
   "cell_type": "markdown",
   "id": "efaabcbe",
   "metadata": {},
   "source": [
    "#### 출력\n",
    "- 첫째 줄에 중복되지 않게 최대 몇 번 등장하는지 출력한다."
   ]
  },
  {
   "cell_type": "markdown",
   "id": "8fb5c098",
   "metadata": {},
   "source": [
    "#### 예제 입력 1 \n",
    "```python\n",
    "ababababa\n",
    "aba\n",
    "```\n",
    "##### 예제 출력 1 \n",
    "```python\n",
    "2\n",
    "```"
   ]
  },
  {
   "cell_type": "markdown",
   "id": "c5840730",
   "metadata": {},
   "source": [
    "#### 예제 입력 2\n",
    "```python\n",
    "a a a a a\n",
    "a a\n",
    "```\n",
    "##### 예제 출력 2\n",
    "```python\n",
    "2\n",
    "```"
   ]
  },
  {
   "cell_type": "markdown",
   "id": "20877063",
   "metadata": {},
   "source": [
    "#### 나의 풀이"
   ]
  },
  {
   "cell_type": "code",
   "execution_count": 4,
   "id": "c4d17d5e",
   "metadata": {
    "scrolled": true
   },
   "outputs": [
    {
     "name": "stdout",
     "output_type": "stream",
     "text": [
      "ababababa\n",
      "aba\n"
     ]
    },
    {
     "ename": "IndexError",
     "evalue": "list index out of range",
     "output_type": "error",
     "traceback": [
      "\u001b[1;31m---------------------------------------------------------------------------\u001b[0m",
      "\u001b[1;31mIndexError\u001b[0m                                Traceback (most recent call last)",
      "\u001b[1;32m<ipython-input-4-cca98ecd1f12>\u001b[0m in \u001b[0;36m<module>\u001b[1;34m\u001b[0m\n\u001b[0;32m      6\u001b[0m \u001b[1;33m\u001b[0m\u001b[0m\n\u001b[0;32m      7\u001b[0m \u001b[1;32mfor\u001b[0m \u001b[0m_\u001b[0m \u001b[1;32min\u001b[0m \u001b[0mrange\u001b[0m\u001b[1;33m(\u001b[0m\u001b[0mlen\u001b[0m\u001b[1;33m(\u001b[0m\u001b[0mdata\u001b[0m\u001b[1;33m)\u001b[0m\u001b[1;33m)\u001b[0m\u001b[1;33m:\u001b[0m\u001b[1;33m\u001b[0m\u001b[1;33m\u001b[0m\u001b[0m\n\u001b[1;32m----> 8\u001b[1;33m     \u001b[1;32mif\u001b[0m \u001b[0mdata\u001b[0m\u001b[1;33m[\u001b[0m\u001b[0mi\u001b[0m\u001b[1;33m]\u001b[0m \u001b[1;33m==\u001b[0m \u001b[0mfind\u001b[0m\u001b[1;33m[\u001b[0m\u001b[1;36m0\u001b[0m\u001b[1;33m]\u001b[0m\u001b[1;33m:\u001b[0m\u001b[1;33m\u001b[0m\u001b[1;33m\u001b[0m\u001b[0m\n\u001b[0m\u001b[0;32m      9\u001b[0m         \u001b[1;32mif\u001b[0m \u001b[0mdata\u001b[0m\u001b[1;33m[\u001b[0m\u001b[0mi\u001b[0m\u001b[1;33m:\u001b[0m\u001b[0mi\u001b[0m \u001b[1;33m+\u001b[0m \u001b[0mlen\u001b[0m\u001b[1;33m(\u001b[0m\u001b[0mfind\u001b[0m\u001b[1;33m)\u001b[0m\u001b[1;33m]\u001b[0m \u001b[1;33m==\u001b[0m \u001b[0mfind\u001b[0m\u001b[1;33m:\u001b[0m\u001b[1;33m\u001b[0m\u001b[1;33m\u001b[0m\u001b[0m\n\u001b[0;32m     10\u001b[0m             \u001b[0mi\u001b[0m \u001b[1;33m=\u001b[0m \u001b[0mi\u001b[0m \u001b[1;33m+\u001b[0m \u001b[0mlen\u001b[0m\u001b[1;33m(\u001b[0m\u001b[0mfind\u001b[0m\u001b[1;33m)\u001b[0m\u001b[1;33m\u001b[0m\u001b[1;33m\u001b[0m\u001b[0m\n",
      "\u001b[1;31mIndexError\u001b[0m: list index out of range"
     ]
    }
   ],
   "source": [
    "data = list(input())\n",
    "find = list(input())\n",
    "\n",
    "count = 0\n",
    "i = 0\n",
    "\n",
    "while i < len(data):\n",
    "    if data[i] == find[0]:\n",
    "        if data[i:i + len(find)] == find:\n",
    "            i = i + len(find)\n",
    "            count += 1\n",
    "    i += 1\n",
    "\n",
    "print(count)"
   ]
  },
  {
   "cell_type": "markdown",
   "id": "b62070c0",
   "metadata": {},
   "source": [
    "#### 풀이\n",
    "- 문서의 길이는 최대 2,500이고 단어의 길이는 최대 50입니다.\n",
    "- 단순히 모든 경우의 수를 계산하여 문제를 해결할 수 있습니다.\n",
    "- 시간 복잡도 $O(NM)$의 알고리즘으로 해결할 수 있습니다."
   ]
  },
  {
   "cell_type": "code",
   "execution_count": 5,
   "id": "7391353d",
   "metadata": {},
   "outputs": [
    {
     "name": "stdout",
     "output_type": "stream",
     "text": [
      "ababababa\n",
      "aba\n",
      "2\n"
     ]
    }
   ],
   "source": [
    "document = input()\n",
    "word = input()\n",
    "\n",
    "index = 0\n",
    "result = 0\n",
    "\n",
    "while len(document) - index >= len(word):\n",
    "    if document[index:index + len(word)] == word:\n",
    "        result += 1\n",
    "        index += len(word)\n",
    "    else:\n",
    "        index += 1\n",
    "        \n",
    "print(result)"
   ]
  },
  {
   "cell_type": "markdown",
   "id": "dceff0e5",
   "metadata": {},
   "source": [
    "### 1568문제\n",
    "- 문제 제목: 새\n",
    "- 문제 난이도: 하(Easy)\n",
    "- 문제 유형: 탐색\n",
    "- 추천 풀이 시간: 20분\n",
    "\n",
    "> https://www.acmicpc.net/problem/1568"
   ]
  },
  {
   "cell_type": "markdown",
   "id": "f55d7a15",
   "metadata": {},
   "source": [
    "#### 문제\n",
    "- N마리의 새가 나무에 앉아있고, 자연수를 배우기 원한다. 새들은 1부터 모든 자연수를 오름차순으로 노래한다. 어떤 숫자 K를 노래할 때, K마리의 새가 나무에서 하늘을 향해 날아간다. 만약, 현재 나무에 앉아있는 새의 수가 지금 불러야 하는 수 보다 작을 때는, 1부터 게임을 다시 시작한다.\n",
    "\n",
    "- 나무에 앉아 있는 새의 수 N이 주어질 때, 하나의 수를 노래하는데 1초가 걸린다고 하면, 모든 새가 날아가기까지 총 몇 초가 걸리는지 출력하는 프로그램을 작성하시오."
   ]
  },
  {
   "cell_type": "markdown",
   "id": "16b995ee",
   "metadata": {},
   "source": [
    "#### 입력\n",
    "- 첫째 줄에 새의 수 N이 주어진다. 이 값은 $10^9$보다 작거나 같다."
   ]
  },
  {
   "cell_type": "markdown",
   "id": "28cac37c",
   "metadata": {},
   "source": [
    "#### 출력\n",
    "- 첫째 줄에 정답을 출력한다."
   ]
  },
  {
   "cell_type": "markdown",
   "id": "56c44171",
   "metadata": {},
   "source": [
    "#### 예제 입력 1 \n",
    "```python\n",
    "14\n",
    "```\n",
    "##### 예제 출력 1 \n",
    "```python\n",
    "7\n",
    "```"
   ]
  },
  {
   "cell_type": "markdown",
   "id": "e0467cf1",
   "metadata": {},
   "source": [
    "#### 풀이\n",
    "- N이 최대 1,000,000,000입니다.\n",
    "- K가 반복적으로 증가하므로, 날아가는 새의 마리 수는 빠르게 증가합니다.\n",
    "- 따라서 문제에서 요구하는 대로 단순히 구현하여 정답 처리를 받을 수 있습니다."
   ]
  },
  {
   "cell_type": "code",
   "execution_count": null,
   "id": "9ad7cce7",
   "metadata": {},
   "outputs": [],
   "source": [
    "n = int(input())\n",
    "result = 0\n",
    "k = 1\n",
    "\n",
    "while n != 0:\n",
    "    if k > n:\n",
    "        k = 1\n",
    "    n -= k\n",
    "    k += 1\n",
    "    result += 1\n",
    "    \n",
    "print(result)"
   ]
  },
  {
   "cell_type": "markdown",
   "id": "89ab3637",
   "metadata": {},
   "source": [
    "### 1302문제\n",
    "- 문제 제목: 베스트셀러\n",
    "- 문제 난이도: 하(Easy)\n",
    "- 문제 유형: 탐색\n",
    "- 추천 풀이 시간: 20분\n",
    "\n",
    "> https://www.acmicpc.net/problem/1302"
   ]
  },
  {
   "cell_type": "markdown",
   "id": "eb15bc54",
   "metadata": {},
   "source": [
    "#### 문제\n",
    "- 김형택은 탑문고의 직원이다. 김형택은 계산대에서 계산을 하는 직원이다. 김형택은 그날 근무가 끝난 후에, 오늘 판매한 책의 제목을 보면서 가장 많이 팔린 책의 제목을 칠판에 써놓는 일도 같이 하고 있다.\n",
    "\n",
    "- 오늘 하루 동안 팔린 책의 제목이 입력으로 들어왔을 때, 가장 많이 팔린 책의 제목을 출력하는 프로그램을 작성하시오."
   ]
  },
  {
   "cell_type": "markdown",
   "id": "3fe169f7",
   "metadata": {},
   "source": [
    "#### 입력\n",
    "- 첫째 줄에 오늘 하루 동안 팔린 책의 개수 N이 주어진다. 이 값은 1,000보다 작거나 같은 자연수이다. 둘째부터 N개의 줄에 책의 제목이 입력으로 들어온다. 책의 제목의 길이는 50보다 작거나 같고, 알파벳 소문자로만 이루어져 있다."
   ]
  },
  {
   "cell_type": "markdown",
   "id": "68672acf",
   "metadata": {},
   "source": [
    "#### 출력\n",
    "- 첫째 줄에 가장 많이 팔린 책의 제목을 출력한다. 만약 가장 많이 팔린 책이 여러 개일 경우에는 사전 순으로 가장 앞서는 제목을 출력한다."
   ]
  },
  {
   "cell_type": "markdown",
   "id": "8655702d",
   "metadata": {},
   "source": [
    "#### 예제 입력 1 \n",
    "```python\n",
    "5\n",
    "top\n",
    "top\n",
    "top\n",
    "top\n",
    "kimtop\n",
    "```\n",
    "##### 예제 출력 1 \n",
    "```python\n",
    "top\n",
    "```"
   ]
  },
  {
   "cell_type": "markdown",
   "id": "b0f79e14",
   "metadata": {},
   "source": [
    "#### 나의 풀이"
   ]
  },
  {
   "cell_type": "code",
   "execution_count": null,
   "id": "2aba930e",
   "metadata": {},
   "outputs": [],
   "source": [
    "n = int(input())\n",
    "data = []\n",
    "max_index = 0\n",
    "\n",
    "for _ in range(n):\n",
    "    data.append(input())\n",
    "    \n",
    "data.sort()\n",
    "for index in range(len(data)):\n",
    "    if data.count(data[max_index]) < data.count(data[index]):\n",
    "        max_index = index\n",
    "\n",
    "print(data[max_index])"
   ]
  },
  {
   "cell_type": "markdown",
   "id": "0007b8e7",
   "metadata": {},
   "source": [
    "#### 풀이\n",
    "- 본 문제는 가장 많이 등장한 문자열을 출력하는 문제와 동일합니다.\n",
    "- 등장 횟수를 계산할 때는 파이썬의 Dictionary 자료형을 이용하면 효과적입니다."
   ]
  },
  {
   "cell_type": "code",
   "execution_count": 13,
   "id": "93968e02",
   "metadata": {},
   "outputs": [
    {
     "name": "stdout",
     "output_type": "stream",
     "text": [
      "6\n",
      "top\n",
      "top\n",
      "mix\n",
      "moa\n",
      "oa\n",
      "mix\n",
      "mix\n"
     ]
    }
   ],
   "source": [
    "n = int(input())\n",
    "\n",
    "books = {}\n",
    "\n",
    "for _ in range(n):\n",
    "    book = input()\n",
    "    if book not in books:\n",
    "        books[book] = 1\n",
    "    else:\n",
    "        books[book] += 1\n",
    "\n",
    "target = max(books.values())\n",
    "array = []\n",
    "\n",
    "for book, number in books.items():\n",
    "    if number == target:\n",
    "        array.append(book)\n",
    "        \n",
    "print(sorted(array)[0])"
   ]
  },
  {
   "cell_type": "markdown",
   "id": "e385803c",
   "metadata": {},
   "source": [
    "### 1668문제\n",
    "- 문제 제목: 트로피 진열 \n",
    "- 문제 난이도: 하(Easy)\n",
    "- 문제 유형: 탐색\n",
    "- 추천 풀이 시간: 20분\n",
    "\n",
    "> https://www.acmicpc.net/problem/1668"
   ]
  },
  {
   "cell_type": "markdown",
   "id": "14bfda39",
   "metadata": {},
   "source": [
    "#### 문제\n",
    "- 민식이는 “오민식”이라는 팀이름으로 수없이 많은 로봇대회를 우승했다. 따라서 민식이의 집에는 트로피가 많다. 민식이는 트로피를 어떤 선반 위에 올려놨다. 이 선반은 민식이의 방문을 열고 들어가자마자 선반의 왼쪽이 보인다. 다른말로 하자면, 뒤의 트로피가 앞의 트로피에 가려져 있다는 말이다.\n",
    "\n",
    "- 안타깝게도, 높이가 큰 트로피가 높이가 작은 트로피의 왼쪽에 있다면, 높이가 작은 트로피는 큰 트로피에 가려서 보이지 않게 된다. 트로피는 자기의 앞에 (보는 사람의 관점에서) 자기보다 높이가 작은 트로피가 있을 때만 보이게 된다. 민식이는 선반을 180도 회전시켜서 트로피가 보이는 개수를 변하게 할 수도 있다.\n",
    "\n",
    "- 선반위에 올려져 있는 트로피의 높이가 주어졌을 때, 왼쪽에서 봤을 때 보이는 개수와, 오른쪽에서 봤을 때 보이는 개수를 출력하는 프로그램을 작성하시오."
   ]
  },
  {
   "cell_type": "markdown",
   "id": "3ae09bfb",
   "metadata": {},
   "source": [
    "#### 입력\n",
    "- 첫째 줄에 트로피의 개수 N (1 ≤ N ≤ 50)이 주어진다. 둘째 줄부터 N개의 줄에 왼쪽의 트로피부터 차례대로 높이가 주어진다. 트로피의 높이는 100보다 작거나 같은 자연수이다."
   ]
  },
  {
   "cell_type": "markdown",
   "id": "f1c555b3",
   "metadata": {},
   "source": [
    "#### 출력\n",
    "- 첫째 줄에 왼쪽에서 봤을 때 보이는 개수, 둘째 줄에 오른쪽에서 봤을 때 보이는 개수를 출력한다."
   ]
  },
  {
   "cell_type": "markdown",
   "id": "cfdab313",
   "metadata": {},
   "source": [
    "#### 예제 입력 1 \n",
    "```python\n",
    "5\n",
    "1\n",
    "2\n",
    "3\n",
    "4\n",
    "5\n",
    "```\n",
    "##### 예제 출력 1 \n",
    "```python\n",
    "5\n",
    "1\n",
    "```"
   ]
  },
  {
   "cell_type": "markdown",
   "id": "0337c91c",
   "metadata": {},
   "source": [
    "#### 나의 풀이"
   ]
  },
  {
   "cell_type": "code",
   "execution_count": null,
   "id": "782d5216",
   "metadata": {},
   "outputs": [],
   "source": [
    "n = int(input())\n",
    "data = []\n",
    "\n",
    "for _ in range(n):\n",
    "    data.append(int(input()))\n",
    "    \n",
    "left_count = 0\n",
    "right_count = 0\n",
    "left_max = 0\n",
    "right_max = 0\n",
    "\n",
    "for index in range(len(data)):\n",
    "    if left_max < data[index]:\n",
    "        left_max = data[index]\n",
    "        left_count += 1\n",
    "    if right_max < data[len(data) - index - 1]:\n",
    "        right_max = data[len(data) - index - 1]\n",
    "        right_count += 1\n",
    "\n",
    "print(left_count)  \n",
    "print(right_count)"
   ]
  },
  {
   "cell_type": "markdown",
   "id": "8475999b",
   "metadata": {},
   "source": [
    "#### 풀이\n",
    "- 선반 위에 올려져 있는 트로피들에 대하여 왼쪽에서, 오른쪽에서 봤을 때 보이는 트로피의 수를 각각 구합니다.\n",
    "- 트로피의 개수 N이 최대 50이므로 단순히 구현하면 됩니다."
   ]
  },
  {
   "cell_type": "code",
   "execution_count": 25,
   "id": "433e3b19",
   "metadata": {},
   "outputs": [
    {
     "name": "stdout",
     "output_type": "stream",
     "text": [
      "7\n",
      "3\n",
      "4\n",
      "6\n",
      "4\n",
      "3\n",
      "7\n",
      "2\n",
      "4\n",
      "2\n"
     ]
    }
   ],
   "source": [
    "def ascending(array):\n",
    "    now = array[0]\n",
    "    result = 1\n",
    "    \n",
    "    for i in range(1, len(array)):\n",
    "        if now < array[i]:\n",
    "            result += 1\n",
    "            now = array[i]\n",
    "    return result\n",
    "\n",
    "n = int(input())\n",
    "array = []\n",
    "\n",
    "for _ in range(n):\n",
    "    array.append(int(input()))\n",
    "    \n",
    "print(ascending(array))\n",
    "array.reverse()\n",
    "print(ascending(array))"
   ]
  },
  {
   "cell_type": "markdown",
   "id": "ca41d622",
   "metadata": {},
   "source": [
    "### 1236문제\n",
    "- 문제 제목: 성 지키기\n",
    "- 문제 난이도: 하(Easy)\n",
    "- 문제 유형: 탐색\n",
    "- 추천 풀이 시간: 20분\n",
    "\n",
    "> https://www.acmicpc.net/problem/1236"
   ]
  },
  {
   "cell_type": "markdown",
   "id": "46d3caa7",
   "metadata": {},
   "source": [
    "#### 문제\n",
    "- 영식이는 직사각형 모양의 성을 가지고 있다. 성의 1층은 몇 명의 경비원에 의해서 보호되고 있다. 영식이는 모든 행과 모든 열에 한 명 이상의 경비원이 있으면 좋겠다고 생각했다.\n",
    "\n",
    "- 성의 크기와 경비원이 어디있는지 주어졌을 때, 몇 명의 경비원을 최소로 추가해야 영식이를 만족시키는지 구하는 프로그램을 작성하시오."
   ]
  },
  {
   "cell_type": "markdown",
   "id": "b48efd60",
   "metadata": {},
   "source": [
    "#### 입력\n",
    "- 첫째 줄에 성의 세로 크기 N과 가로 크기 M이 주어진다. N과 M은 50보다 작거나 같은 자연수이다. 둘째 줄부터 N개의 줄에는 성의 상태가 주어진다. 성의 상태는 .은 빈칸, X는 경비원이 있는 칸이다."
   ]
  },
  {
   "cell_type": "markdown",
   "id": "3b377a75",
   "metadata": {},
   "source": [
    "#### 출력\n",
    "- 첫째 줄에 추가해야 하는 경비원의 최솟값을 출력한다."
   ]
  },
  {
   "cell_type": "markdown",
   "id": "45ab1749",
   "metadata": {},
   "source": [
    "#### 예제 입력 1 \n",
    "```python\n",
    "4 4\n",
    "....\n",
    "....\n",
    "....\n",
    "....\n",
    "```\n",
    "##### 예제 출력 1 \n",
    "```python\n",
    "4\n",
    "```"
   ]
  },
  {
   "cell_type": "markdown",
   "id": "badfbebe",
   "metadata": {},
   "source": [
    "#### 예제 입력 2\n",
    "```python\n",
    "3 5\n",
    "XX...\n",
    ".XX..\n",
    "...XX\n",
    "```\n",
    "##### 예제 출력 2\n",
    "```python\n",
    "0\n",
    "```"
   ]
  },
  {
   "cell_type": "markdown",
   "id": "f9a56c66",
   "metadata": {},
   "source": [
    "#### 풀이\n",
    "- 모든 행과 모든 열에 한 명 이상의 경비원이 있어야 합니다.\n",
    "- 행 기준 열 기준으로 필요한 경비원의 수를 각각 계산하여 더 큰 수를 출력합니다."
   ]
  },
  {
   "cell_type": "code",
   "execution_count": 42,
   "id": "88e4e799",
   "metadata": {},
   "outputs": [
    {
     "name": "stdout",
     "output_type": "stream",
     "text": [
      "3 5\n",
      "XX...\n",
      ".XX..\n",
      "...XX\n",
      "0\n"
     ]
    }
   ],
   "source": [
    "n, m = map(int, input().split())\n",
    "array = []\n",
    "\n",
    "for _ in range(n):\n",
    "    array.append(input())\n",
    "    \n",
    "row = [0] * n\n",
    "column = [0] * m\n",
    "\n",
    "for i in range(n):\n",
    "    for j in range(m):\n",
    "        if array[i][j] == 'X':\n",
    "            row[i] = 1\n",
    "            column[j] = 1\n",
    "\n",
    "row_count = 0\n",
    "for i in range(n):\n",
    "    if row[i] == 0:\n",
    "        row_count += 1\n",
    "        \n",
    "column_count = 0\n",
    "for j in range(m):\n",
    "    if column[j] == 0:\n",
    "        column_count += 1\n",
    "\n",
    "print(max(row_count, column_count))"
   ]
  }
 ],
 "metadata": {
  "kernelspec": {
   "display_name": "Python 3",
   "language": "python",
   "name": "python3"
  }
 },
 "nbformat": 4,
 "nbformat_minor": 5
}
