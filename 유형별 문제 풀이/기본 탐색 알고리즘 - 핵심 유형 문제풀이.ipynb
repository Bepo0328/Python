{
 "cells": [
  {
   "cell_type": "markdown",
   "id": "cd421502",
   "metadata": {},
   "source": [
    "## 기본 탐색 알고리즘"
   ]
  },
  {
   "cell_type": "markdown",
   "id": "c9599eeb",
   "metadata": {},
   "source": [
    "### 2110문제\n",
    "- 문제 제목: 공유기 설치\n",
    "- 문제 난이도: 중(Medium)\n",
    "- 문제 유형: 이진 탐색\n",
    "- 추천 풀이 시간: 40분\n",
    "\n",
    "> https://www.acmicpc.net/problem/2110\n",
    "\n",
    "#### 문제\n",
    "- 도현이의 집 N개가 수직선 위에 있다. 각각의 집의 좌표는 x1, ..., xN이고, 집 여러개가 같은 좌표를 가지는 일은 없다.\n",
    "\n",
    "- 도현이는 언제 어디서나 와이파이를 즐기기 위해서 집에 공유기 C개를 설치하려고 한다. 최대한 많은 곳에서 와이파이를 사용하려고 하기 때문에, 한 집에는 공유기를 하나만 설치할 수 있고, 가장 인접한 두 공유기 사이의 거리를 가능한 크게 하여 설치하려고 한다.\n",
    "\n",
    "- C개의 공유기를 N개의 집에 적당히 설치해서, 가장 인접한 두 공유기 사이의 거리를 최대로 하는 프로그램을 작성하시오.\n",
    "\n",
    "#### 입력\n",
    "- 첫째 줄에 집의 개수 N (2 ≤ N ≤ 200,000)과 공유기의 개수 C (2 ≤ C ≤ N)이 하나 이상의 빈 칸을 사이에 두고 주어진다. 둘째 줄부터 N개의 줄에는 집의 좌표를 나타내는 xi (0 ≤ xi ≤ 1,000,000,000)가 한 줄에 하나씩 주어진다.\n",
    "\n",
    "#### 출력\n",
    "- 첫째 줄에 가장 인접한 두 공유기 사이의 최대 거리를 출력한다.\n",
    "\n",
    "#### 예제 입력 1 \n",
    "```python\n",
    "5 3\n",
    "1\n",
    "2\n",
    "8\n",
    "4\n",
    "9\n",
    "```\n",
    "##### 예제 출력 1 \n",
    "```python\n",
    "3\n",
    "```"
   ]
  },
  {
   "cell_type": "markdown",
   "id": "26d0f124",
   "metadata": {},
   "source": [
    "#### 풀이\n",
    "- 집의 개수 N은 최대 200,000이며, 집의 좌표 X는 최대 1,000,000,000입니다.\n",
    "- 이진 탐색을 이용하여 $O(N*logX)$에 문제를 해결할 수 있습니다.\n",
    "- 가장 인접한 두 공유기 사이의 최대 Gap을 이진 탐색으로 찾습니다."
   ]
  },
  {
   "cell_type": "code",
   "execution_count": 1,
   "id": "0853fd94",
   "metadata": {},
   "outputs": [
    {
     "name": "stdout",
     "output_type": "stream",
     "text": [
      "5 3\n",
      "1\n",
      "2\n",
      "8\n",
      "4\n",
      "9\n"
     ]
    }
   ],
   "source": [
    "n, c = list(map(int, input().split(' ')))\n",
    "\n",
    "array = []\n",
    "for _ in range(n):\n",
    "    array.append(int(input()))\n",
    "    \n",
    "array = sorted(array)"
   ]
  },
  {
   "cell_type": "code",
   "execution_count": 3,
   "id": "d4d3ecdc",
   "metadata": {},
   "outputs": [
    {
     "name": "stdout",
     "output_type": "stream",
     "text": [
      "3\n"
     ]
    }
   ],
   "source": [
    "start = 1\n",
    "end = array[-1] - array[0]\n",
    "result = 0\n",
    "\n",
    "while start <= end:\n",
    "    mid = (start + end) // 2 # mid는 Gap을 의미합니다.\n",
    "    value = array[0]\n",
    "    count = 1\n",
    "    \n",
    "    for i in range(1, len(array)):\n",
    "        if array[i] >= value + mid:\n",
    "            value = array[i]\n",
    "            count += 1\n",
    "            \n",
    "    if count >= c: # c개 이상의 공유기를 설치할 수 있는 경우\n",
    "        start = mid + 1\n",
    "        result = mid\n",
    "    else: # c개 이상의 공유기를 설치할 수 없는 경우\n",
    "        end = mid - 1\n",
    "        \n",
    "print(result)"
   ]
  },
  {
   "cell_type": "markdown",
   "id": "7e1cae1e",
   "metadata": {},
   "source": [
    "### 1939문제\n",
    "- 문제 제목: 중량제한\n",
    "- 문제 난이도: 중상(Hard)\n",
    "- 문제 유형: 이진 탐색\n",
    "- 추천 풀이 시간: 1시간\n",
    "\n",
    "> https://www.acmicpc.net/problem/1939\n",
    "\n",
    "#### 문제\n",
    "- N(2 ≤ N ≤ 10,000)개의 섬으로 이루어진 나라가 있다. 이들 중 몇 개의 섬 사이에는 다리가 설치되어 있어서 차들이 다닐 수 있다.\n",
    "\n",
    "- 영식 중공업에서는 두 개의 섬에 공장을 세워 두고 물품을 생산하는 일을 하고 있다. 물품을 생산하다 보면 공장에서 다른 공장으로 생산 중이던 물품을 수송해야 할 일이 생기곤 한다. 그런데 각각의 다리마다 중량제한이 있기 때문에 무턱대고 물품을 옮길 순 없다. 만약 중량제한을 초과하는 양의 물품이 다리를 지나게 되면 다리가 무너지게 된다.\n",
    "\n",
    "- 한 번의 이동에서 옮길 수 있는 물품들의 중량의 최댓값을 구하는 프로그램을 작성하시오.\n",
    "\n",
    "#### 입력\n",
    "- 첫째 줄에 N, M(1 ≤ M ≤ 100,000)이 주어진다. 다음 M개의 줄에는 다리에 대한 정보를 나타내는 세 정수 A, B(1 ≤ A, B ≤ N), C(1 ≤ C ≤ 1,000,000,000)가 주어진다. 이는 A번 섬과 B번 섬 사이에 중량제한이 C인 다리가 존재한다는 의미이다. 서로 같은 두 섬 사이에 여러 개의 다리가 있을 수도 있으며, 모든 다리는 양방향이다. 마지막 줄에는 공장이 위치해 있는 섬의 번호를 나타내는 서로 다른 두 정수가 주어진다. 공장이 있는 두 섬을 연결하는 경로는 항상 존재하는 데이터만 입력으로 주어진다.\n",
    "\n",
    "#### 출력\n",
    "- 첫째 줄에 답을 출력한다.\n",
    "\n",
    "#### 예제 입력 1 \n",
    "```python\n",
    "3 3\n",
    "1 2 2\n",
    "3 1 3\n",
    "2 3 2\n",
    "1 3\n",
    "```\n",
    "##### 예제 출력 1 \n",
    "```python\n",
    "3\n",
    "```"
   ]
  },
  {
   "cell_type": "markdown",
   "id": "82974c76",
   "metadata": {},
   "source": [
    "#### 풀이\n",
    "- 다리의 개수 M은 최대 100,000이며, 중량 제한 C는 최대 1,000,000,000입니다.\n",
    "- 이진 탐색을 이용하여 $O(M * logC)$에 문제를 해결할 수 있습니다.\n",
    "- 한 번의 이동에서 옮길 수 있는 물품들의 중량의 최대값을 이진 탐색으로 찾습니다."
   ]
  },
  {
   "cell_type": "code",
   "execution_count": 14,
   "id": "d13915b3",
   "metadata": {},
   "outputs": [
    {
     "name": "stdout",
     "output_type": "stream",
     "text": [
      "3 3\n",
      "1 2 2\n",
      "3 1 3\n",
      "2 3 2\n",
      "1 3\n",
      "deque([1])\n",
      "deque([2, 3])\n",
      "deque([3])\n",
      "deque([1])\n",
      "deque([3])\n",
      "3\n"
     ]
    }
   ],
   "source": [
    "from collections import deque\n",
    "\n",
    "n, m = map(int, input().split())\n",
    "adj = [[] for _ in range(n + 1)]\n",
    "\n",
    "def bfs(c):\n",
    "    queue = deque([start_node])\n",
    "    visited = [False] * (n + 1)\n",
    "    visited[start_node] = True\n",
    "    while queue:\n",
    "        x = queue.popleft()\n",
    "        for y, weight in adj[x]:\n",
    "            if not visited[y] and weight >= c:\n",
    "                visited[y] = True\n",
    "                queue.append(y)\n",
    "    return visited[end_node]\n",
    "\n",
    "start = 1000000000\n",
    "end = 1\n",
    "\n",
    "for _ in range(m):\n",
    "    x, y, weight = map(int, input().split())\n",
    "    adj[x].append((y, weight))\n",
    "    adj[y].append((x, weight))\n",
    "    start = min(start, weight)\n",
    "    end = max(end, weight)\n",
    "    \n",
    "start_node, end_node = map(int, input().split())\n",
    "    \n",
    "result = start\n",
    "while start <= end:\n",
    "    mid = (start + end) // 2\n",
    "    if bfs(mid):\n",
    "        result = mid\n",
    "        start = mid + 1\n",
    "    else:\n",
    "        end = mid - 1\n",
    "        \n",
    "print(result)"
   ]
  },
  {
   "cell_type": "code",
   "execution_count": 11,
   "id": "1b3c2314",
   "metadata": {},
   "outputs": [
    {
     "name": "stdout",
     "output_type": "stream",
     "text": [
      "[[], [(2, 2), (3, 3)], [(1, 2), (3, 2)], [(1, 3), (2, 2)]]\n"
     ]
    }
   ],
   "source": [
    "print(adj)"
   ]
  },
  {
   "cell_type": "code",
   "execution_count": null,
   "id": "6a5d9383",
   "metadata": {},
   "outputs": [],
   "source": []
  }
 ],
 "metadata": {
  "kernelspec": {
   "display_name": "Python 3",
   "language": "python",
   "name": "python3"
  },
  "language_info": {
   "codemirror_mode": {
    "name": "ipython",
    "version": 3
   },
   "file_extension": ".py",
   "mimetype": "text/x-python",
   "name": "python",
   "nbconvert_exporter": "python",
   "pygments_lexer": "ipython3",
   "version": "3.8.8"
  }
 },
 "nbformat": 4,
 "nbformat_minor": 5
}
