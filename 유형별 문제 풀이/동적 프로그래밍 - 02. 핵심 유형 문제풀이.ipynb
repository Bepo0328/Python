{
 "cells": [
  {
   "cell_type": "markdown",
   "id": "886290e2",
   "metadata": {},
   "source": [
    "## 동적 프로그래밍"
   ]
  },
  {
   "cell_type": "markdown",
   "id": "ea52c928",
   "metadata": {},
   "source": [
    "### 9251문제\n",
    "- 문제 제목: LCS\n",
    "- 문제 난이도: 하(Easy)\n",
    "- 문제 유형: 동적 프로그래밍, LCS\n",
    "- 추천 풀이 시간: 30분\n",
    "\n",
    "> https://www.acmicpc.net/problem/9251\n",
    "\n",
    "#### 문제\n",
    "- LCS(Longest Common Subsequence, 최장 공통 부분 수열)문제는 두 수열이 주어졌을 때, 모두의 부분 수열이 되는 수열 중 가장 긴 것을 찾는 문제이다.\n",
    "\n",
    "- 예를 들어, ACAYKP와 CAPCAK의 LCS는 ACAK가 된다.\n",
    "\n",
    "#### 입력\n",
    "- 첫째 줄과 둘째 줄에 두 문자열이 주어진다. 문자열은 알파벳 대문자로만 이루어져 있으며, 최대 1000글자로 이루어져 있다.\n",
    "\n",
    "#### 출력\n",
    "- 첫째 줄에 입력으로 주어진 두 문자열의 LCS의 길이를 출력한다.\n",
    "\n",
    "#### 예제 입력 1 \n",
    "```python\n",
    "ACAYKP\n",
    "CAPCAK\n",
    "```\n",
    "##### 예제 출력 1 \n",
    "```python\n",
    "4\n",
    "```"
   ]
  },
  {
   "cell_type": "markdown",
   "id": "760d14ac",
   "metadata": {},
   "source": [
    "####  풀이\n",
    "- 두 수열이 주어졌을 때, 두 수열 모두의 부분 수열이 되는 수열 중 가장 긴 것을 찾아야 합니다.\n",
    "- 가장 긴 공통 부분 수열(LCS)문제로 알려진 대표적인 동적 프로그래밍 문제입니다.\n",
    "- 두 수열의 길이가 N미만일 때, 시간 복잡도는 $O(N^2)$ 으로 문제를 해결할 수 있습니다."
   ]
  },
  {
   "cell_type": "code",
   "execution_count": 2,
   "id": "b0ede6d1",
   "metadata": {},
   "outputs": [
    {
     "name": "stdout",
     "output_type": "stream",
     "text": [
      "ACAYKP\n",
      "CAPCAK\n",
      "4\n"
     ]
    }
   ],
   "source": [
    "x = input()\n",
    "y = input()\n",
    "\n",
    "dp = [[0] * (len(y) + 1) for _ in range(len(x) + 1)]\n",
    "\n",
    "for i in range(1, len(x) + 1):\n",
    "    for j in range(1, len(y) + 1):\n",
    "        if x[i - 1] == y[j - 1]:\n",
    "            dp[i][j] = dp[i - 1][j - 1] + 1\n",
    "        else:\n",
    "            dp[i][j] = max(dp[i][j - 1], dp[i - 1][j])\n",
    "\n",
    "print(dp[len(x)][len(y)])"
   ]
  },
  {
   "cell_type": "markdown",
   "id": "1c1c469d",
   "metadata": {},
   "source": [
    "### 1495문제\n",
    "- 문제 제목: 기타리스트\n",
    "- 문제 난이도: 중(Medium)\n",
    "- 문제 유형: 동적 프로그래밍\n",
    "- 추천 풀이 시간: 40분\n",
    "\n",
    "> https://www.acmicpc.net/problem/1495\n",
    "\n",
    "#### 문제\n",
    "- Day Of Mourning의 기타리스트 강토는 다가오는 공연에서 연주할 N개의 곡을 연주하고 있다. 지금까지 공연과는 다른 공연을 보여주기 위해서 이번 공연에서는 매번 곡이 시작하기 전에 볼륨을 바꾸고 연주하려고 한다.\n",
    "\n",
    "- 먼저, 공연이 시작하기 전에 각각의 곡이 시작하기 전에 바꿀 수 있는 볼륨의 리스트를 만들었다. 이 리스트를 V라고 했을 때, V[i]는 i번째 곡을 연주하기 전에 바꿀 수 있는 볼륨을 의미한다. 항상 리스트에 적힌 차이로만 볼륨을 바꿀 수 있다. 즉, 현재 볼륨이 P이고 지금 i번째 곡을 연주하기 전이라면, i번 곡은 P+V[i]나 P-V[i] 로 연주해야 한다. 하지만, 0보다 작은 값으로 볼륨을 바꾸거나, M보다 큰 값으로 볼륨을 바꿀 수 없다.\n",
    "\n",
    "- 곡의 개수 N과 시작 볼륨 S, 그리고 M이 주어졌을 때, 마지막 곡을 연주할 수 있는 볼륨 중 최댓값을 구하는 프로그램을 작성하시오. 모든 곡은 리스트에 적힌 순서대로 연주해야 한다.\n",
    "\n",
    "#### 입력\n",
    "- 첫째 줄에 N, S, M이 주어진다. (1 ≤ N ≤ 100, 1 ≤ M ≤ 1000, 0 ≤ S ≤ M) 둘째 줄에는 각 곡이 시작하기 전에 줄 수 있는 볼륨의 차이가 주어진다. 이 값은 1보다 크거나 같고, M보다 작거나 같다.\n",
    "\n",
    "#### 출력\n",
    "- 첫째 줄에 가능한 마지막 곡의 볼륨 중 최댓값을 출력한다. 만약 마지막 곡을 연주할 수 없다면 (중간에 볼륨 조절을 할 수 없다면) -1을 출력한다.\n",
    "\n",
    "#### 예제 입력 1 \n",
    "```python\n",
    "3 5 10\n",
    "5 3 7\n",
    "```\n",
    "##### 예제 출력 1 \n",
    "```python\n",
    "10\n",
    "```"
   ]
  },
  {
   "cell_type": "markdown",
   "id": "0c6cf79b",
   "metadata": {},
   "source": [
    "####  풀이\n",
    "- 차례대로 곡을 연주한다는 점에서, 동적 프로그래밍으로 해결할 수 있는 문제입니다.\n",
    "- 곡의 개수가 N, 볼륨의 최대값은 M입니다.\n",
    "- 동적 프로그래밍을 이용하여 시간 복잡도 $O(NM)$으로 해결할 수 있습니다."
   ]
  },
  {
   "cell_type": "code",
   "execution_count": 7,
   "id": "3a24ee59",
   "metadata": {},
   "outputs": [
    {
     "name": "stdout",
     "output_type": "stream",
     "text": [
      "3 5 10\n",
      "5 3 7\n",
      "10\n"
     ]
    }
   ],
   "source": [
    "n, s, m = map(int, input().split())\n",
    "array = list(map(int, input().split()))\n",
    "\n",
    "dp = [[0] * (m + 1) for _ in range(n + 1)]\n",
    "dp[0][s] = 1\n",
    "\n",
    "for i in range(1, n + 1):\n",
    "    for j in range(m + 1):\n",
    "        if dp[i - 1][j] == 0:\n",
    "            continue\n",
    "        if j - array[i - 1] >= 0:\n",
    "            dp[i][j - array[i - 1]] = 1\n",
    "        if j + array[i - 1] <= m:\n",
    "            dp[i][j + array[i - 1]] = 1\n",
    "        \n",
    "result = -1\n",
    "for i in range(m, -1, -1):\n",
    "    if dp[n][i] == 1:\n",
    "        result = i\n",
    "        break\n",
    "\n",
    "print(result)"
   ]
  },
  {
   "cell_type": "markdown",
   "id": "72cfb585",
   "metadata": {},
   "source": [
    "### 2655문제\n",
    "- 문제 제목: 가장 높은 탑 쌓기\n",
    "- 문제 난이도: 상(Hard)\n",
    "- 문제 유형: 동적 프로그래밍, LIS\n",
    "- 추천 풀이 시간: 50분\n",
    "\n",
    "> https://www.acmicpc.net/problem/2655\n",
    "\n",
    "#### 문제\n",
    "- 밑면이 정사각형인 직육면체 벽돌들을 사용하여 탑을 쌓고자 한다. 탑은 벽돌을 한 개씩 아래에서 위로 쌓으면서 만들어 간다. 아래의 조건을 만족하면서 가장 높은 탑을 쌓을 수 있는 프로그램을 작성하시오.\n",
    "  1. 벽돌은 회전시킬 수 없다. 즉, 옆면을 밑면으로 사용할 수 없다.\n",
    "  2. 밑면의 넓이가 같은 벽돌은 없으며, 또한 무게가 같은 벽돌도 없다.\n",
    "  3. 벽돌들의 높이는 같을 수도 있다.\n",
    "  4. 탑을 쌓을 때 밑면이 좁은 벽돌 위에 밑면이 넓은 벽돌은 놓을 수 없다.\n",
    "  5. 무게가 무거운 벽돌을 무게가 가벼운 벽돌 위에 놓을 수 없다.\n",
    "\n",
    "#### 입력\n",
    "- 첫째 줄에는 입력될 벽돌의 수가 주어진다. 입력으로 주어지는 벽돌의 수는 최대 100개이다. 둘째 줄부터는 각 줄에 한 개의 벽돌에 관한 정보인 벽돌 밑면의 넓이, 벽돌의 높이 그리고 무게가 차례대로 양의 정수로 주어진다. 각 벽돌은 입력되는 순서대로 1부터 연속적인 번호를 가진다. 벽돌의 넓이, 높이 무게는 10,000보다 작거나 같은 자연수이다.\n",
    "\n",
    "#### 출력\n",
    "- 탑을 쌓을 때 사용된 벽돌의 수를 빈칸없이 출력하고, 두 번째 줄부터는 탑의 가장 위 벽돌부터 가장 아래 벽돌까지 차례로 한 줄에 하나씩 벽돌 번호를 빈칸없이 출력한다.\n",
    "\n",
    "#### 예제 입력 1 \n",
    "```python\n",
    "5\n",
    "25 3 4\n",
    "4 4 6\n",
    "9 2 3\n",
    "16 2 5\n",
    "1 5 2\n",
    "```\n",
    "##### 예제 출력 1 \n",
    "```python\n",
    "3\n",
    "5\n",
    "3\n",
    "1\n",
    "```"
   ]
  },
  {
   "cell_type": "markdown",
   "id": "d908a6cc",
   "metadata": {},
   "source": [
    "####  풀이\n",
    "- 가장 긴 증가하는 부분 수열(LIS)문제의 심화 변형 문제입니다.\n",
    "- 벽돌의 수가 N개일 때, 시간 복잡도 $O(N^2)$으로 해결할 수 있습니다.\n",
    "- 벽돌의 번호를 출력해야 한다는 점에서, 계산된 테이블을 역추적할 수 있어야 합니다."
   ]
  },
  {
   "cell_type": "code",
   "execution_count": 8,
   "id": "9bae465b",
   "metadata": {},
   "outputs": [
    {
     "name": "stdout",
     "output_type": "stream",
     "text": [
      "5\n",
      "25 3 4\n",
      "4 4 6\n",
      "9 2 3\n",
      "16 2 5\n",
      "1 5 2\n",
      "3\n",
      "5\n",
      "3\n",
      "1\n"
     ]
    },
    {
     "data": {
      "text/plain": [
       "[None, None, None]"
      ]
     },
     "execution_count": 8,
     "metadata": {},
     "output_type": "execute_result"
    }
   ],
   "source": [
    "n = int(input())\n",
    "array =[]\n",
    "\n",
    "array.append((0, 0, 0, 0))\n",
    "for i in range(1, n + 1):\n",
    "    area, height, weight = map(int, input().split())\n",
    "    array.append((i, area, height, weight))\n",
    "    \n",
    "array.sort(key=lambda data: data[3])\n",
    "\n",
    "dp = [0] * (n + 1)\n",
    "\n",
    "for i in range(1, n + 1):\n",
    "    for j in range(0, i):\n",
    "        if array[i][1] > array[j][1]:\n",
    "            dp[i] = max(dp[i], dp[j] + array[i][2])\n",
    "            \n",
    "max_value = max(dp)\n",
    "index = n\n",
    "result = []\n",
    "\n",
    "while index != 0:\n",
    "    if max_value == dp[index]:\n",
    "        result.append(array[index][0])\n",
    "        max_value -= array[index][2]\n",
    "    index -= 1\n",
    "    \n",
    "result.reverse()\n",
    "print(len(result))\n",
    "[print(i) for i in result]"
   ]
  }
 ],
 "metadata": {
  "kernelspec": {
   "display_name": "Python 3",
   "language": "python",
   "name": "python3"
  },
  "language_info": {
   "codemirror_mode": {
    "name": "ipython",
    "version": 3
   },
   "file_extension": ".py",
   "mimetype": "text/x-python",
   "name": "python",
   "nbconvert_exporter": "python",
   "pygments_lexer": "ipython3",
   "version": "3.8.8"
  }
 },
 "nbformat": 4,
 "nbformat_minor": 5
}
