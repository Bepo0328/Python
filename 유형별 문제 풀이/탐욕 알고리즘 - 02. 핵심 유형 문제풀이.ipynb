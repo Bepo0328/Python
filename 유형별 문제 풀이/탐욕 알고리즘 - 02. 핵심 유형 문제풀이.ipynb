{
 "cells": [
  {
   "cell_type": "markdown",
   "id": "3cf4a162",
   "metadata": {},
   "source": [
    "## 탐욕 알고리즘"
   ]
  },
  {
   "cell_type": "markdown",
   "id": "633b6f33",
   "metadata": {},
   "source": [
    "### 2212문제\n",
    "- 문제 제목: 센서\n",
    "- 문제 난이도: 하(Easy)\n",
    "- 문제 유형: 그리디\n",
    "- 추천 풀이 시간: 30분\n",
    "\n",
    "> https://www.acmicpc.net/problem/2212\n",
    "\n",
    "#### 문제\n",
    "- 한국도로공사는 고속도로의 유비쿼터스화를 위해 고속도로 위에 N개의 센서를 설치하였다. 문제는 이 센서들이 수집한 자료들을 모으고 분석할 몇 개의 집중국을 세우는 일인데, 예산상의 문제로, 고속도로 위에 최대 K개의 집중국을 세울 수 있다고 한다.\n",
    "\n",
    "- 각 집중국은 센서의 수신 가능 영역을 조절할 수 있다. 집중국의 수신 가능 영역은 고속도로 상에서 연결된 구간으로 나타나게 된다. N개의 센서가 적어도 하나의 집중국과는 통신이 가능해야 하며, 집중국의 유지비 문제로 인해 각 집중국의 수신 가능 영역의 길이의 합을 최소화해야 한다.\n",
    "\n",
    "- 편의를 위해 고속도로는 평면상의 직선이라고 가정하고, 센서들은 이 직선 위의 한 기점인 원점으로부터의 정수 거리의 위치에 놓여 있다고 하자. 따라서, 각 센서의 좌표는 정수 하나로 표현된다. 이 상황에서 각 집중국의 수신 가능영역의 거리의 합의 최솟값을 구하는 프로그램을 작성하시오. 단, 집중국의 수신 가능영역의 길이는 0 이상이며 모든 센서의 좌표가 다를 필요는 없다.\n",
    "\n",
    "#### 입력\n",
    "- 첫째 줄에 센서의 개수 N(1 ≤ N ≤ 10,000), 둘째 줄에 집중국의 개수 K(1 ≤ K ≤ 1000)가 주어진다. 셋째 줄에는 N개의 센서의 좌표가 한 개의 정수로 N개 주어진다. 각 좌표 사이에는 빈 칸이 하나 있으며, 좌표의 절댓값은 1,000,000 이하이다.\n",
    "\n",
    "#### 출력\n",
    "- 첫째 줄에 문제에서 설명한 최대 K개의 집중국의 수신 가능 영역의 길이의 합의 최솟값을 출력한다.\n",
    "\n",
    "#### 예제 입력 1 \n",
    "```python\n",
    "6\n",
    "2\n",
    "1 6 9 3 6 7\n",
    "```\n",
    "##### 예제 출력 1 \n",
    "```python\n",
    "5\n",
    "```"
   ]
  },
  {
   "cell_type": "markdown",
   "id": "7d55e6d8",
   "metadata": {},
   "source": [
    "##### 풀이\n",
    "- 최대 K개의 집중국을 설치해야 합니다.\n",
    "- 집중국들의 수신 가능 영역의 길이의 합을 최소화하는 것이 목표입니다.\n",
    "- 사실상 정렬만 수행하면 되므로 $O(NlogN)$으로 문제를 해결할 수 있습니다."
   ]
  },
  {
   "cell_type": "code",
   "execution_count": 4,
   "id": "0ec95718",
   "metadata": {},
   "outputs": [
    {
     "name": "stdout",
     "output_type": "stream",
     "text": [
      "6\n",
      "2\n",
      "1 6 9 3 6 7\n",
      "5\n"
     ]
    }
   ],
   "source": [
    "import sys\n",
    "\n",
    "n = int(input())\n",
    "k = int(input())\n",
    "\n",
    "# 집중국의 개수가 N 이상일 때\n",
    "if k >= n:\n",
    "    print(0) # 각 센서의 위치에 설치하면 되므로 정답은 0\n",
    "    sys.exit()\n",
    "\n",
    "# 모든 센서의 위치를 입력 받아 오름차순 정렬\n",
    "array = list(map(int, input().split()))\n",
    "array.sort()\n",
    "\n",
    "# 각 센서 간의 거리를 계산하여 내림차순 정렬\n",
    "distances = []\n",
    "for i in range(1, n):\n",
    "    distances.append(array[i] - array[i - 1])\n",
    "distances.sort(reverse=True)\n",
    "\n",
    "# 가장 긴 거리부터 하나씩 제거\n",
    "for i in range(k - 1):\n",
    "    distances[i] = 0\n",
    "print(sum(distances))"
   ]
  },
  {
   "cell_type": "markdown",
   "id": "accc36b5",
   "metadata": {},
   "source": [
    "### 1461문제\n",
    "- 문제 제목: 도서관\n",
    "- 문제 난이도: 중(Medium)\n",
    "- 문제 유형: 그리디\n",
    "- 추천 풀이 시간: 40분\n",
    "\n",
    "> https://www.acmicpc.net/problem/1461\n",
    "\n",
    "#### 문제\n",
    "- 세준이는 도서관에서 일한다. 도서관의 개방시간이 끝나서 세준이는 사람들이 마구 놓은 책을 다시 가져다 놓아야 한다. 세준이는 현재 0에 있고, 사람들이 마구 놓은 책도 전부 0에 있다. 각 책들의 원래 위치가 주어질 때, 책을 모두 제자리에 놔둘 때 드는 최소 걸음 수를 계산하는 프로그램을 작성하시오. 세준이는 한 걸음에 좌표 1칸씩 가며, 책의 원래 위치는 정수 좌표이다. 책을 모두 제자리에 놔둔 후에는 다시 0으로 돌아올 필요는 없다. 그리고 세준이는 한 번에 최대 M권의 책을 들 수 있다.\n",
    "\n",
    "#### 입력\n",
    "- 첫째 줄에 책의 개수 N과, 세준이가 한 번에 들 수 있는 책의 개수 M이 주어진다. 둘째 줄에는 책의 위치가 주어진다. N은 10,000보다 작거나 같은 자연수이고, M은 10,000보다 작거나 같다. 책의 위치는 0이 아니며, 그 절댓값이 10,000보다 작거나 같다.\n",
    "\n",
    "#### 출력\n",
    "- 첫째 줄에 정답을 출력한다.\n",
    "\n",
    "#### 예제 입력 1 \n",
    "```python\n",
    "7 2\n",
    "-37 2 -6 -39 -29 11 -28\n",
    "```\n",
    "##### 예제 출력 1 \n",
    "```python\n",
    "131\n",
    "```"
   ]
  },
  {
   "cell_type": "markdown",
   "id": "0b175fb2",
   "metadata": {},
   "source": [
    "##### 풀이\n",
    "- 일직선상의 각 책들을 원래의 위치에 놓아야 합니다.\n",
    "- <U>0보다 큰 책</U>들과 <U>0보다 작은 책</U>들을 나누어서 처리합니다.\n",
    "- 두 개의 우선순위 큐를 이용하여 문제를 효과적으로 해결할 수 있습니다.\n",
    "- 마지막 책을 놓을 때는 다시 0으로 돌아올 필요가 없으므로, 가장 먼 책을 마지막으로 놓습니다."
   ]
  },
  {
   "cell_type": "code",
   "execution_count": 9,
   "id": "13f502c4",
   "metadata": {},
   "outputs": [
    {
     "name": "stdout",
     "output_type": "stream",
     "text": [
      "7 2\n",
      "-37 2 -6 -39 -29 11 -28\n",
      "131\n"
     ]
    }
   ],
   "source": [
    "import heapq\n",
    "\n",
    "n, m = map(int, input().split())\n",
    "array = list(map(int, input().split()))\n",
    "positive = []\n",
    "negative = []\n",
    "\n",
    "# 가장 거리가 먼 책까지의 거리\n",
    "largest = max(max(array), -min(array))\n",
    "\n",
    "# 최대 힙(Max heap)을 위해 원소를 음수로 구성\n",
    "for i in array:\n",
    "    # 책의 위치가 양수인 경우\n",
    "    if i > 0:\n",
    "        heapq.heappush(positive, -i)\n",
    "    # 책의 위치가 음수인 경우\n",
    "    else:\n",
    "        heapq.heappush(negative, i)\n",
    "        \n",
    "result = 0\n",
    "\n",
    "while positive:\n",
    "    # 한 번에 m개씩 옮길 수 있으므로 m개씩 빼내기\n",
    "    result += heapq.heappop(positive)\n",
    "    for _ in range(m - 1):\n",
    "        if positive:\n",
    "            heapq.heappop(positive)\n",
    "    \n",
    "while negative:\n",
    "    # 한 번에 m개씩 옮길 수 있으므로 m개씩 빼내기\n",
    "    result += heapq.heappop(negative)\n",
    "    for _ in range(m - 1):\n",
    "        if negative:\n",
    "            heapq.heappop(negative)\n",
    "            \n",
    "# 일반적으로 왕복 거리를 계산하지만, 가장 먼 곳은 편도로 계산\n",
    "print(-result  * 2 - largest)"
   ]
  },
  {
   "cell_type": "markdown",
   "id": "73befcf2",
   "metadata": {},
   "source": [
    "### 1781문제\n",
    "- 문제 제목: 컵라면\n",
    "- 문제 난이도: 중(Medium)\n",
    "- 문제 유형: 그리디\n",
    "- 추천 풀이 시간: 30분\n",
    "\n",
    "> https://www.acmicpc.net/problem/1781\n",
    "\n",
    "#### 문제\n",
    "- 상욱 조교는 동호에게 N개의 문제를 주고서, 각각의 문제를 풀었을 때 컵라면을 몇 개 줄 것인지 제시 하였다. 하지만 동호의 찌를듯한 자신감에 소심한 상욱 조교는 각각의 문제에 대해 데드라인을 정하였다.\n",
    "\n",
    "|문제 번호|1|2|3|4|5|6|7|\n",
    "|---|---|---|---|---|---|---|---|\n",
    "|데드라인|1|1|3|3|2|2|6|\n",
    "|컵라면 수|6|7|2|1|4|5|1|\n",
    "\n",
    "- 위와 같은 상황에서 동호가 2, 6, 3, 1, 7, 5, 4 순으로 숙제를 한다면 2, 6, 3, 7번 문제를 시간 내에 풀어 총 15개의 컵라면을 받을 수 있다.\n",
    "\n",
    "- 문제는 동호가 받을 수 있는 최대 컵라면 수를 구하는 것이다. 위의 예에서는 15가 최대이다.\n",
    "\n",
    "- 문제를 푸는데는 단위 시간 1이 걸리며, 각 문제의 데드라인은 N이하의 자연수이다. 또, 각 문제를 풀 때 받을 수 있는 컵라면 수와 최대로 받을 수 있는 컵라면 수는 모두 231보다 작거나 같은 자연수이다.\n",
    "\n",
    "#### 입력\n",
    "- 첫 줄에 숙제의 개수 N (1 ≤ N ≤ 200,000)이 들어온다. 다음 줄부터 N+1번째 줄까지 i+1번째 줄에 i번째 문제에 대한 데드라인과 풀면 받을 수 있는 컵라면 수가 공백으로 구분되어 입력된다.\n",
    "\n",
    "#### 출력\n",
    "- 첫 줄에 동호가 받을 수 있는 최대 컵라면 수를 출력한다.\n",
    "\n",
    "#### 예제 입력 1 \n",
    "```python\n",
    "7\n",
    "1 6\n",
    "1 7\n",
    "3 2\n",
    "3 1\n",
    "2 4\n",
    "2 5\n",
    "6 1\n",
    "```\n",
    "##### 예제 출력 1 \n",
    "```python\n",
    "15\n",
    "```"
   ]
  },
  {
   "cell_type": "markdown",
   "id": "d8d73092",
   "metadata": {},
   "source": [
    "##### 풀이\n",
    "- 데드라인을 초과하는 문제는 풀 수 없다는 점을 기억해야 합니다.\n",
    "- 데이터의 개수(N)는 최대 200,000입니다.\n",
    "- 정렬 및 우선순위 큐를 이용하여 $O(NlogN)$의 시간에 해결할 수 있습니다."
   ]
  },
  {
   "cell_type": "code",
   "execution_count": 10,
   "id": "29f6ae0c",
   "metadata": {},
   "outputs": [
    {
     "name": "stdout",
     "output_type": "stream",
     "text": [
      "7\n",
      "1 6\n",
      "1 7\n",
      "3 2\n",
      "3 1\n",
      "2 4\n",
      "2 5\n",
      "6 1\n",
      "15\n"
     ]
    }
   ],
   "source": [
    "import heapq\n",
    "\n",
    "n = int(input())\n",
    "array = []\n",
    "q = []\n",
    "\n",
    "# 문제 정보를 입력 받은 이후에, 데드라인을 기준으로 정렬\n",
    "for i in range(n):\n",
    "    a, b = map(int, input().split())\n",
    "    array.append((a, b))\n",
    "\n",
    "array.sort()\n",
    "\n",
    "for i in array:\n",
    "    a = i[0]\n",
    "    heapq.heappush(q, i[1])\n",
    "    # 데드라인을 초과하는 경우에는 최소 원소를 제거\n",
    "    if a < len(q):\n",
    "        heapq.heappop(q)\n",
    "        \n",
    "print(sum(q))"
   ]
  }
 ],
 "metadata": {
  "kernelspec": {
   "display_name": "Python 3",
   "language": "python",
   "name": "python3"
  },
  "language_info": {
   "codemirror_mode": {
    "name": "ipython",
    "version": 3
   },
   "file_extension": ".py",
   "mimetype": "text/x-python",
   "name": "python",
   "nbconvert_exporter": "python",
   "pygments_lexer": "ipython3",
   "version": "3.8.8"
  }
 },
 "nbformat": 4,
 "nbformat_minor": 5
}
